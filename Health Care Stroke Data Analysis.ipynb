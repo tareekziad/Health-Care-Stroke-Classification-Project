{
 "cells": [
  {
   "cell_type": "markdown",
   "id": "d13a4bd5",
   "metadata": {},
   "source": [
    "# `Health Care Stroke Data Analysis`"
   ]
  },
  {
   "cell_type": "markdown",
   "id": "e45ed067",
   "metadata": {},
   "source": [
    "## `About Dataset`"
   ]
  },
  {
   "cell_type": "markdown",
   "id": "f80fadfa",
   "metadata": {},
   "source": [
    "## `Context`\n",
    "* 11 clinical features for predicting stroke events.\n",
    "* According to the World Health Organization (WHO) stroke is the 2nd leading cause of death globally, responsible for approximately 11% of total deaths.\n",
    "This dataset is used to predict whether a patient is likely to get stroke based on the input parameters like gender, age, various diseases, and smoking status. Each row in the data provides relavant information about the patient."
   ]
  },
  {
   "cell_type": "markdown",
   "id": "5190929f",
   "metadata": {},
   "source": [
    "## `Attribute Information`"
   ]
  },
  {
   "cell_type": "markdown",
   "id": "3093c6e0",
   "metadata": {},
   "source": [
    "* 1) id: unique identifier\n",
    "* 2) gender: \"Male\", \"Female\" or \"Other\"\n",
    "* 3) age: age of the patient\n",
    "* 4) hypertension: \"NO\" if the patient doesn't have hypertension, \"Yes\" if the patient has hypertension\n",
    "* 5) heart_disease: \"NO\" if the patient doesn't have any heart diseases, \"Yes\" if the patient has a heart disease\n",
    "* 6) ever_married: \"No\" or \"Yes\"\n",
    "* 7) work_type: \"children\", \"Govt_jov\", \"Never_worked\", \"Private\" or \"Self-employed\"\n",
    "* 8) Residence_type: \"Rural\" or \"Urban\"\n",
    "* 9) avg_glucose_level: average glucose level in blood\n",
    "* 10) bmi: body mass index\n",
    "* 11) smoking_status: \"formerly smoked\", \"never smoked\", \"smokes\" or \"Unknown\"*\n",
    "* 12) stroke: \"Yes\" if the patient had a stroke or \"NO\" if not"
   ]
  },
  {
   "cell_type": "markdown",
   "id": "b993e4f8",
   "metadata": {},
   "source": [
    "## `Objectives` \n",
    "* 1- Data Understanding \n",
    "* 2- Univariate Analysis \n",
    "* 3- BiVariate Analysis"
   ]
  },
  {
   "cell_type": "markdown",
   "id": "0aec11c4",
   "metadata": {},
   "source": [
    "### Import Some Helper Library"
   ]
  },
  {
   "cell_type": "code",
   "execution_count": 1,
   "id": "ba312a58",
   "metadata": {},
   "outputs": [],
   "source": [
    "import pandas as pd \n",
    "import numpy as np \n",
    "import matplotlib.pyplot as plt \n",
    "import seaborn as sns\n",
    "import warnings\n",
    "warnings.filterwarnings('ignore')"
   ]
  },
  {
   "cell_type": "code",
   "execution_count": 2,
   "id": "7f76b507",
   "metadata": {},
   "outputs": [],
   "source": [
    "%matplotlib inline \n",
    "sns.set_theme(context = 'paper' , style = 'whitegrid' , palette = 'Dark2' , font_scale=1.1 \n",
    "              , rc = {'figure.figsize' : (10 , 4)})"
   ]
  },
  {
   "cell_type": "markdown",
   "id": "08d9d82f",
   "metadata": {},
   "source": [
    "## `Data Understanding` "
   ]
  },
  {
   "cell_type": "markdown",
   "id": "ef67abbb",
   "metadata": {},
   "source": [
    "### Read Data Set"
   ]
  },
  {
   "cell_type": "code",
   "execution_count": 3,
   "id": "edbbee62",
   "metadata": {},
   "outputs": [],
   "source": [
    "df = pd.read_csv('healthcare-dataset-stroke-data.csv')"
   ]
  },
  {
   "cell_type": "markdown",
   "id": "c5af9138",
   "metadata": {},
   "source": [
    "### Data OverView "
   ]
  },
  {
   "cell_type": "code",
   "execution_count": 4,
   "id": "03eae88c",
   "metadata": {},
   "outputs": [
    {
     "data": {
      "text/html": [
       "<div>\n",
       "<style scoped>\n",
       "    .dataframe tbody tr th:only-of-type {\n",
       "        vertical-align: middle;\n",
       "    }\n",
       "\n",
       "    .dataframe tbody tr th {\n",
       "        vertical-align: top;\n",
       "    }\n",
       "\n",
       "    .dataframe thead th {\n",
       "        text-align: right;\n",
       "    }\n",
       "</style>\n",
       "<table border=\"1\" class=\"dataframe\">\n",
       "  <thead>\n",
       "    <tr style=\"text-align: right;\">\n",
       "      <th></th>\n",
       "      <th>id</th>\n",
       "      <th>gender</th>\n",
       "      <th>age</th>\n",
       "      <th>hypertension</th>\n",
       "      <th>heart_disease</th>\n",
       "      <th>ever_married</th>\n",
       "      <th>work_type</th>\n",
       "      <th>Residence_type</th>\n",
       "      <th>avg_glucose_level</th>\n",
       "      <th>bmi</th>\n",
       "      <th>smoking_status</th>\n",
       "      <th>stroke</th>\n",
       "    </tr>\n",
       "  </thead>\n",
       "  <tbody>\n",
       "    <tr>\n",
       "      <th>0</th>\n",
       "      <td>9046</td>\n",
       "      <td>Male</td>\n",
       "      <td>67.0</td>\n",
       "      <td>NO</td>\n",
       "      <td>YES</td>\n",
       "      <td>Yes</td>\n",
       "      <td>Private</td>\n",
       "      <td>Urban</td>\n",
       "      <td>228.69</td>\n",
       "      <td>36,6</td>\n",
       "      <td>formerly smoked</td>\n",
       "      <td>YES</td>\n",
       "    </tr>\n",
       "    <tr>\n",
       "      <th>1</th>\n",
       "      <td>51676</td>\n",
       "      <td>Female</td>\n",
       "      <td>61.0</td>\n",
       "      <td>NO</td>\n",
       "      <td>NO</td>\n",
       "      <td>Yes</td>\n",
       "      <td>Self-employed</td>\n",
       "      <td>Rural</td>\n",
       "      <td>202.21</td>\n",
       "      <td>NaN</td>\n",
       "      <td>never smoked</td>\n",
       "      <td>YES</td>\n",
       "    </tr>\n",
       "    <tr>\n",
       "      <th>2</th>\n",
       "      <td>31112</td>\n",
       "      <td>Male</td>\n",
       "      <td>80.0</td>\n",
       "      <td>NO</td>\n",
       "      <td>YES</td>\n",
       "      <td>Yes</td>\n",
       "      <td>Private</td>\n",
       "      <td>Rural</td>\n",
       "      <td>105.92</td>\n",
       "      <td>32,5</td>\n",
       "      <td>never smoked</td>\n",
       "      <td>YES</td>\n",
       "    </tr>\n",
       "    <tr>\n",
       "      <th>3</th>\n",
       "      <td>60182</td>\n",
       "      <td>Female</td>\n",
       "      <td>49.0</td>\n",
       "      <td>NO</td>\n",
       "      <td>NO</td>\n",
       "      <td>Yes</td>\n",
       "      <td>Private</td>\n",
       "      <td>Urban</td>\n",
       "      <td>171.23</td>\n",
       "      <td>34,4</td>\n",
       "      <td>smokes</td>\n",
       "      <td>YES</td>\n",
       "    </tr>\n",
       "    <tr>\n",
       "      <th>4</th>\n",
       "      <td>1665</td>\n",
       "      <td>Female</td>\n",
       "      <td>79.0</td>\n",
       "      <td>YES</td>\n",
       "      <td>NO</td>\n",
       "      <td>Yes</td>\n",
       "      <td>Self-employed</td>\n",
       "      <td>Rural</td>\n",
       "      <td>174.12</td>\n",
       "      <td>24,0</td>\n",
       "      <td>never smoked</td>\n",
       "      <td>YES</td>\n",
       "    </tr>\n",
       "  </tbody>\n",
       "</table>\n",
       "</div>"
      ],
      "text/plain": [
       "      id  gender   age hypertension heart_disease ever_married      work_type  \\\n",
       "0   9046    Male  67.0           NO           YES          Yes        Private   \n",
       "1  51676  Female  61.0           NO            NO          Yes  Self-employed   \n",
       "2  31112    Male  80.0           NO           YES          Yes        Private   \n",
       "3  60182  Female  49.0           NO            NO          Yes        Private   \n",
       "4   1665  Female  79.0          YES            NO          Yes  Self-employed   \n",
       "\n",
       "  Residence_type  avg_glucose_level   bmi   smoking_status stroke  \n",
       "0          Urban             228.69  36,6  formerly smoked    YES  \n",
       "1          Rural             202.21   NaN     never smoked    YES  \n",
       "2          Rural             105.92  32,5     never smoked    YES  \n",
       "3          Urban             171.23  34,4           smokes    YES  \n",
       "4          Rural             174.12  24,0     never smoked    YES  "
      ]
     },
     "execution_count": 4,
     "metadata": {},
     "output_type": "execute_result"
    }
   ],
   "source": [
    "df.head()"
   ]
  },
  {
   "cell_type": "code",
   "execution_count": 5,
   "id": "5b0699a7",
   "metadata": {},
   "outputs": [
    {
     "data": {
      "text/html": [
       "<div>\n",
       "<style scoped>\n",
       "    .dataframe tbody tr th:only-of-type {\n",
       "        vertical-align: middle;\n",
       "    }\n",
       "\n",
       "    .dataframe tbody tr th {\n",
       "        vertical-align: top;\n",
       "    }\n",
       "\n",
       "    .dataframe thead th {\n",
       "        text-align: right;\n",
       "    }\n",
       "</style>\n",
       "<table border=\"1\" class=\"dataframe\">\n",
       "  <thead>\n",
       "    <tr style=\"text-align: right;\">\n",
       "      <th></th>\n",
       "      <th>id</th>\n",
       "      <th>gender</th>\n",
       "      <th>age</th>\n",
       "      <th>hypertension</th>\n",
       "      <th>heart_disease</th>\n",
       "      <th>ever_married</th>\n",
       "      <th>work_type</th>\n",
       "      <th>Residence_type</th>\n",
       "      <th>avg_glucose_level</th>\n",
       "      <th>bmi</th>\n",
       "      <th>smoking_status</th>\n",
       "      <th>stroke</th>\n",
       "    </tr>\n",
       "  </thead>\n",
       "  <tbody>\n",
       "    <tr>\n",
       "      <th>5105</th>\n",
       "      <td>18234</td>\n",
       "      <td>Female</td>\n",
       "      <td>80.0</td>\n",
       "      <td>YES</td>\n",
       "      <td>NO</td>\n",
       "      <td>Yes</td>\n",
       "      <td>Private</td>\n",
       "      <td>Urban</td>\n",
       "      <td>83.75</td>\n",
       "      <td>NaN</td>\n",
       "      <td>never smoked</td>\n",
       "      <td>NO</td>\n",
       "    </tr>\n",
       "    <tr>\n",
       "      <th>5106</th>\n",
       "      <td>44873</td>\n",
       "      <td>Female</td>\n",
       "      <td>81.0</td>\n",
       "      <td>NO</td>\n",
       "      <td>NO</td>\n",
       "      <td>Yes</td>\n",
       "      <td>Self-employed</td>\n",
       "      <td>Urban</td>\n",
       "      <td>125.20</td>\n",
       "      <td>40,0</td>\n",
       "      <td>never smoked</td>\n",
       "      <td>NO</td>\n",
       "    </tr>\n",
       "    <tr>\n",
       "      <th>5107</th>\n",
       "      <td>19723</td>\n",
       "      <td>Female</td>\n",
       "      <td>35.0</td>\n",
       "      <td>NO</td>\n",
       "      <td>NO</td>\n",
       "      <td>Yes</td>\n",
       "      <td>Self-employed</td>\n",
       "      <td>Rural</td>\n",
       "      <td>82.99</td>\n",
       "      <td>30,6</td>\n",
       "      <td>never smoked</td>\n",
       "      <td>NO</td>\n",
       "    </tr>\n",
       "    <tr>\n",
       "      <th>5108</th>\n",
       "      <td>37544</td>\n",
       "      <td>Male</td>\n",
       "      <td>51.0</td>\n",
       "      <td>NO</td>\n",
       "      <td>NO</td>\n",
       "      <td>Yes</td>\n",
       "      <td>Private</td>\n",
       "      <td>Rural</td>\n",
       "      <td>166.29</td>\n",
       "      <td>25,6</td>\n",
       "      <td>formerly smoked</td>\n",
       "      <td>NO</td>\n",
       "    </tr>\n",
       "    <tr>\n",
       "      <th>5109</th>\n",
       "      <td>44679</td>\n",
       "      <td>Female</td>\n",
       "      <td>44.0</td>\n",
       "      <td>NO</td>\n",
       "      <td>NO</td>\n",
       "      <td>Yes</td>\n",
       "      <td>Govt_job</td>\n",
       "      <td>Urban</td>\n",
       "      <td>85.28</td>\n",
       "      <td>26,2</td>\n",
       "      <td>Unknown</td>\n",
       "      <td>NO</td>\n",
       "    </tr>\n",
       "  </tbody>\n",
       "</table>\n",
       "</div>"
      ],
      "text/plain": [
       "         id  gender   age hypertension heart_disease ever_married  \\\n",
       "5105  18234  Female  80.0          YES            NO          Yes   \n",
       "5106  44873  Female  81.0           NO            NO          Yes   \n",
       "5107  19723  Female  35.0           NO            NO          Yes   \n",
       "5108  37544    Male  51.0           NO            NO          Yes   \n",
       "5109  44679  Female  44.0           NO            NO          Yes   \n",
       "\n",
       "          work_type Residence_type  avg_glucose_level   bmi   smoking_status  \\\n",
       "5105        Private          Urban              83.75   NaN     never smoked   \n",
       "5106  Self-employed          Urban             125.20  40,0     never smoked   \n",
       "5107  Self-employed          Rural              82.99  30,6     never smoked   \n",
       "5108        Private          Rural             166.29  25,6  formerly smoked   \n",
       "5109       Govt_job          Urban              85.28  26,2          Unknown   \n",
       "\n",
       "     stroke  \n",
       "5105     NO  \n",
       "5106     NO  \n",
       "5107     NO  \n",
       "5108     NO  \n",
       "5109     NO  "
      ]
     },
     "execution_count": 5,
     "metadata": {},
     "output_type": "execute_result"
    }
   ],
   "source": [
    "df.tail()"
   ]
  },
  {
   "cell_type": "markdown",
   "id": "574bff72",
   "metadata": {},
   "source": [
    "### Data Information "
   ]
  },
  {
   "cell_type": "code",
   "execution_count": 6,
   "id": "a540cbca",
   "metadata": {
    "scrolled": false
   },
   "outputs": [
    {
     "name": "stdout",
     "output_type": "stream",
     "text": [
      "<class 'pandas.core.frame.DataFrame'>\n",
      "RangeIndex: 5110 entries, 0 to 5109\n",
      "Data columns (total 12 columns):\n",
      " #   Column             Non-Null Count  Dtype  \n",
      "---  ------             --------------  -----  \n",
      " 0   id                 5110 non-null   int64  \n",
      " 1   gender             5110 non-null   object \n",
      " 2   age                5110 non-null   float64\n",
      " 3   hypertension       5110 non-null   object \n",
      " 4   heart_disease      5110 non-null   object \n",
      " 5   ever_married       5110 non-null   object \n",
      " 6   work_type          5110 non-null   object \n",
      " 7   Residence_type     5110 non-null   object \n",
      " 8   avg_glucose_level  5110 non-null   float64\n",
      " 9   bmi                4909 non-null   object \n",
      " 10  smoking_status     5110 non-null   object \n",
      " 11  stroke             5110 non-null   object \n",
      "dtypes: float64(2), int64(1), object(9)\n",
      "memory usage: 479.2+ KB\n"
     ]
    }
   ],
   "source": [
    "df.info()"
   ]
  },
  {
   "cell_type": "markdown",
   "id": "a213ce65",
   "metadata": {},
   "source": [
    "* Data with 5110 entries, 0 to 5109\n",
    "* Data with 12 columns Feature \n",
    "* Data with float64(2), int64(1), object(9) columns \n",
    "* bmi column with Missing records about 3 % \n",
    "* bmi column with wrong data type string should be float "
   ]
  },
  {
   "cell_type": "markdown",
   "id": "cabc078a",
   "metadata": {},
   "source": [
    "### Check Missing  & Duplicated Records "
   ]
  },
  {
   "cell_type": "code",
   "execution_count": 7,
   "id": "e0424f5f",
   "metadata": {},
   "outputs": [
    {
     "data": {
      "text/plain": [
       "id                   0.000000\n",
       "gender               0.000000\n",
       "age                  0.000000\n",
       "hypertension         0.000000\n",
       "heart_disease        0.000000\n",
       "ever_married         0.000000\n",
       "work_type            0.000000\n",
       "Residence_type       0.000000\n",
       "avg_glucose_level    0.000000\n",
       "bmi                  3.933464\n",
       "smoking_status       0.000000\n",
       "stroke               0.000000\n",
       "dtype: float64"
      ]
     },
     "execution_count": 7,
     "metadata": {},
     "output_type": "execute_result"
    }
   ],
   "source": [
    "df.isnull().mean()*100 "
   ]
  },
  {
   "cell_type": "code",
   "execution_count": 8,
   "id": "3075b78b",
   "metadata": {},
   "outputs": [
    {
     "data": {
      "text/plain": [
       "<AxesSubplot:>"
      ]
     },
     "execution_count": 8,
     "metadata": {},
     "output_type": "execute_result"
    },
    {
     "data": {
      "image/png": "[encoded data removed]",
      "text/plain": [
       "<Figure size 720x288 with 2 Axes>"
      ]
     },
     "metadata": {},
     "output_type": "display_data"
    }
   ],
   "source": [
    "sns.heatmap(df.isnull()) # small ratio of Missing records "
   ]
  },
  {
   "cell_type": "code",
   "execution_count": 9,
   "id": "3b415aef",
   "metadata": {},
   "outputs": [],
   "source": [
    "df.drop(['id'] , axis = 1 , inplace = True )"
   ]
  },
  {
   "cell_type": "code",
   "execution_count": 10,
   "id": "110d5a92",
   "metadata": {},
   "outputs": [
    {
     "data": {
      "text/plain": [
       "0"
      ]
     },
     "execution_count": 10,
     "metadata": {},
     "output_type": "execute_result"
    }
   ],
   "source": [
    "df.duplicated().sum()"
   ]
  },
  {
   "cell_type": "markdown",
   "id": "c3610c75",
   "metadata": {},
   "source": [
    "* Small Ratio of Missing and `No` Duplicated Records "
   ]
  },
  {
   "cell_type": "markdown",
   "id": "65b025eb",
   "metadata": {},
   "source": [
    "## `Univariate Analysis (EDA)`"
   ]
  },
  {
   "cell_type": "markdown",
   "id": "f12930b0",
   "metadata": {},
   "source": [
    "###### gender feature "
   ]
  },
  {
   "cell_type": "code",
   "execution_count": 11,
   "id": "dc8485cb",
   "metadata": {},
   "outputs": [
    {
     "data": {
      "text/plain": [
       "array(['Male', 'Female', 'Other'], dtype=object)"
      ]
     },
     "execution_count": 11,
     "metadata": {},
     "output_type": "execute_result"
    }
   ],
   "source": [
    "df['gender'].unique()"
   ]
  },
  {
   "cell_type": "code",
   "execution_count": 12,
   "id": "620deb00",
   "metadata": {},
   "outputs": [
    {
     "data": {
      "text/html": [
       "<div>\n",
       "<style scoped>\n",
       "    .dataframe tbody tr th:only-of-type {\n",
       "        vertical-align: middle;\n",
       "    }\n",
       "\n",
       "    .dataframe tbody tr th {\n",
       "        vertical-align: top;\n",
       "    }\n",
       "\n",
       "    .dataframe thead th {\n",
       "        text-align: right;\n",
       "    }\n",
       "</style>\n",
       "<table border=\"1\" class=\"dataframe\">\n",
       "  <thead>\n",
       "    <tr style=\"text-align: right;\">\n",
       "      <th></th>\n",
       "      <th>gender</th>\n",
       "      <th>age</th>\n",
       "      <th>hypertension</th>\n",
       "      <th>heart_disease</th>\n",
       "      <th>ever_married</th>\n",
       "      <th>work_type</th>\n",
       "      <th>Residence_type</th>\n",
       "      <th>avg_glucose_level</th>\n",
       "      <th>bmi</th>\n",
       "      <th>smoking_status</th>\n",
       "      <th>stroke</th>\n",
       "    </tr>\n",
       "  </thead>\n",
       "  <tbody>\n",
       "    <tr>\n",
       "      <th>3116</th>\n",
       "      <td>Other</td>\n",
       "      <td>26.0</td>\n",
       "      <td>NO</td>\n",
       "      <td>NO</td>\n",
       "      <td>No</td>\n",
       "      <td>Private</td>\n",
       "      <td>Rural</td>\n",
       "      <td>143.33</td>\n",
       "      <td>22,4</td>\n",
       "      <td>formerly smoked</td>\n",
       "      <td>NO</td>\n",
       "    </tr>\n",
       "  </tbody>\n",
       "</table>\n",
       "</div>"
      ],
      "text/plain": [
       "     gender   age hypertension heart_disease ever_married work_type  \\\n",
       "3116  Other  26.0           NO            NO           No   Private   \n",
       "\n",
       "     Residence_type  avg_glucose_level   bmi   smoking_status stroke  \n",
       "3116          Rural             143.33  22,4  formerly smoked     NO  "
      ]
     },
     "execution_count": 12,
     "metadata": {},
     "output_type": "execute_result"
    }
   ],
   "source": [
    "df[df['gender'] == 'Other'] # one row has other gender convert it Female "
   ]
  },
  {
   "cell_type": "code",
   "execution_count": 13,
   "id": "f772490b",
   "metadata": {},
   "outputs": [],
   "source": [
    "df['gender'] = df['gender'].apply(lambda x : 'Female' if x == 'Other' else x )"
   ]
  },
  {
   "cell_type": "code",
   "execution_count": 14,
   "id": "f64dd965",
   "metadata": {},
   "outputs": [
    {
     "data": {
      "text/html": [
       "<div>\n",
       "<style scoped>\n",
       "    .dataframe tbody tr th:only-of-type {\n",
       "        vertical-align: middle;\n",
       "    }\n",
       "\n",
       "    .dataframe tbody tr th {\n",
       "        vertical-align: top;\n",
       "    }\n",
       "\n",
       "    .dataframe thead th {\n",
       "        text-align: right;\n",
       "    }\n",
       "</style>\n",
       "<table border=\"1\" class=\"dataframe\">\n",
       "  <thead>\n",
       "    <tr style=\"text-align: right;\">\n",
       "      <th></th>\n",
       "      <th>gender</th>\n",
       "    </tr>\n",
       "  </thead>\n",
       "  <tbody>\n",
       "    <tr>\n",
       "      <th>Female</th>\n",
       "      <td>2995</td>\n",
       "    </tr>\n",
       "    <tr>\n",
       "      <th>Male</th>\n",
       "      <td>2115</td>\n",
       "    </tr>\n",
       "  </tbody>\n",
       "</table>\n",
       "</div>"
      ],
      "text/plain": [
       "        gender\n",
       "Female    2995\n",
       "Male      2115"
      ]
     },
     "execution_count": 14,
     "metadata": {},
     "output_type": "execute_result"
    }
   ],
   "source": [
    "df['gender'].value_counts().to_frame()"
   ]
  },
  {
   "cell_type": "code",
   "execution_count": 15,
   "id": "985f024d",
   "metadata": {},
   "outputs": [
    {
     "data": {
      "text/plain": [
       "<AxesSubplot:ylabel='gender'>"
      ]
     },
     "execution_count": 15,
     "metadata": {},
     "output_type": "execute_result"
    },
    {
     "data": {
      "image/png": "[encoded data removed]",
      "text/plain": [
       "<Figure size 720x288 with 1 Axes>"
      ]
     },
     "metadata": {},
     "output_type": "display_data"
    }
   ],
   "source": [
    "colors = ['red', 'yellow']\n",
    "explode = (0.05, 0.05)\n",
    "df['gender'].value_counts().to_frame().plot(kind = 'pie' , y='gender' , autopct='%1.0f%%' ,\n",
    "                                            colors=colors, explode=explode)"
   ]
  },
  {
   "cell_type": "markdown",
   "id": "fbbf3b42",
   "metadata": {},
   "source": [
    "* Female is the majority "
   ]
  },
  {
   "cell_type": "markdown",
   "id": "ee1041b8",
   "metadata": {},
   "source": [
    "###### Age Feature "
   ]
  },
  {
   "cell_type": "code",
   "execution_count": 16,
   "id": "464e674b",
   "metadata": {},
   "outputs": [
    {
     "data": {
      "text/html": [
       "<div>\n",
       "<style scoped>\n",
       "    .dataframe tbody tr th:only-of-type {\n",
       "        vertical-align: middle;\n",
       "    }\n",
       "\n",
       "    .dataframe tbody tr th {\n",
       "        vertical-align: top;\n",
       "    }\n",
       "\n",
       "    .dataframe thead th {\n",
       "        text-align: right;\n",
       "    }\n",
       "</style>\n",
       "<table border=\"1\" class=\"dataframe\">\n",
       "  <thead>\n",
       "    <tr style=\"text-align: right;\">\n",
       "      <th></th>\n",
       "      <th>age</th>\n",
       "    </tr>\n",
       "  </thead>\n",
       "  <tbody>\n",
       "    <tr>\n",
       "      <th>count</th>\n",
       "      <td>5110.000000</td>\n",
       "    </tr>\n",
       "    <tr>\n",
       "      <th>mean</th>\n",
       "      <td>43.226614</td>\n",
       "    </tr>\n",
       "    <tr>\n",
       "      <th>std</th>\n",
       "      <td>22.612647</td>\n",
       "    </tr>\n",
       "    <tr>\n",
       "      <th>min</th>\n",
       "      <td>0.080000</td>\n",
       "    </tr>\n",
       "    <tr>\n",
       "      <th>25%</th>\n",
       "      <td>25.000000</td>\n",
       "    </tr>\n",
       "    <tr>\n",
       "      <th>50%</th>\n",
       "      <td>45.000000</td>\n",
       "    </tr>\n",
       "    <tr>\n",
       "      <th>75%</th>\n",
       "      <td>61.000000</td>\n",
       "    </tr>\n",
       "    <tr>\n",
       "      <th>max</th>\n",
       "      <td>82.000000</td>\n",
       "    </tr>\n",
       "  </tbody>\n",
       "</table>\n",
       "</div>"
      ],
      "text/plain": [
       "               age\n",
       "count  5110.000000\n",
       "mean     43.226614\n",
       "std      22.612647\n",
       "min       0.080000\n",
       "25%      25.000000\n",
       "50%      45.000000\n",
       "75%      61.000000\n",
       "max      82.000000"
      ]
     },
     "execution_count": 16,
     "metadata": {},
     "output_type": "execute_result"
    }
   ],
   "source": [
    "df['age'].describe().to_frame()"
   ]
  },
  {
   "cell_type": "code",
   "execution_count": 17,
   "id": "7f7a33dc",
   "metadata": {},
   "outputs": [
    {
     "data": {
      "text/html": [
       "<div>\n",
       "<style scoped>\n",
       "    .dataframe tbody tr th:only-of-type {\n",
       "        vertical-align: middle;\n",
       "    }\n",
       "\n",
       "    .dataframe tbody tr th {\n",
       "        vertical-align: top;\n",
       "    }\n",
       "\n",
       "    .dataframe thead th {\n",
       "        text-align: right;\n",
       "    }\n",
       "</style>\n",
       "<table border=\"1\" class=\"dataframe\">\n",
       "  <thead>\n",
       "    <tr style=\"text-align: right;\">\n",
       "      <th></th>\n",
       "      <th>gender</th>\n",
       "      <th>age</th>\n",
       "      <th>hypertension</th>\n",
       "      <th>heart_disease</th>\n",
       "      <th>ever_married</th>\n",
       "      <th>work_type</th>\n",
       "      <th>Residence_type</th>\n",
       "      <th>avg_glucose_level</th>\n",
       "      <th>bmi</th>\n",
       "      <th>smoking_status</th>\n",
       "      <th>stroke</th>\n",
       "    </tr>\n",
       "  </thead>\n",
       "  <tbody>\n",
       "    <tr>\n",
       "      <th>363</th>\n",
       "      <td>Female</td>\n",
       "      <td>0.64</td>\n",
       "      <td>NO</td>\n",
       "      <td>NO</td>\n",
       "      <td>No</td>\n",
       "      <td>children</td>\n",
       "      <td>Urban</td>\n",
       "      <td>83.82</td>\n",
       "      <td>24,9</td>\n",
       "      <td>Unknown</td>\n",
       "      <td>NO</td>\n",
       "    </tr>\n",
       "    <tr>\n",
       "      <th>376</th>\n",
       "      <td>Female</td>\n",
       "      <td>0.88</td>\n",
       "      <td>NO</td>\n",
       "      <td>NO</td>\n",
       "      <td>No</td>\n",
       "      <td>children</td>\n",
       "      <td>Rural</td>\n",
       "      <td>88.11</td>\n",
       "      <td>15,5</td>\n",
       "      <td>Unknown</td>\n",
       "      <td>NO</td>\n",
       "    </tr>\n",
       "    <tr>\n",
       "      <th>564</th>\n",
       "      <td>Female</td>\n",
       "      <td>0.32</td>\n",
       "      <td>NO</td>\n",
       "      <td>NO</td>\n",
       "      <td>No</td>\n",
       "      <td>children</td>\n",
       "      <td>Rural</td>\n",
       "      <td>73.71</td>\n",
       "      <td>16,2</td>\n",
       "      <td>Unknown</td>\n",
       "      <td>NO</td>\n",
       "    </tr>\n",
       "    <tr>\n",
       "      <th>982</th>\n",
       "      <td>Male</td>\n",
       "      <td>0.88</td>\n",
       "      <td>NO</td>\n",
       "      <td>NO</td>\n",
       "      <td>No</td>\n",
       "      <td>children</td>\n",
       "      <td>Rural</td>\n",
       "      <td>157.57</td>\n",
       "      <td>19,2</td>\n",
       "      <td>Unknown</td>\n",
       "      <td>NO</td>\n",
       "    </tr>\n",
       "    <tr>\n",
       "      <th>996</th>\n",
       "      <td>Male</td>\n",
       "      <td>0.24</td>\n",
       "      <td>NO</td>\n",
       "      <td>NO</td>\n",
       "      <td>No</td>\n",
       "      <td>children</td>\n",
       "      <td>Rural</td>\n",
       "      <td>118.87</td>\n",
       "      <td>16,3</td>\n",
       "      <td>Unknown</td>\n",
       "      <td>NO</td>\n",
       "    </tr>\n",
       "    <tr>\n",
       "      <th>1093</th>\n",
       "      <td>Female</td>\n",
       "      <td>0.32</td>\n",
       "      <td>NO</td>\n",
       "      <td>NO</td>\n",
       "      <td>No</td>\n",
       "      <td>children</td>\n",
       "      <td>Rural</td>\n",
       "      <td>55.86</td>\n",
       "      <td>16,0</td>\n",
       "      <td>Unknown</td>\n",
       "      <td>NO</td>\n",
       "    </tr>\n",
       "    <tr>\n",
       "      <th>1206</th>\n",
       "      <td>Female</td>\n",
       "      <td>0.72</td>\n",
       "      <td>NO</td>\n",
       "      <td>NO</td>\n",
       "      <td>No</td>\n",
       "      <td>children</td>\n",
       "      <td>Urban</td>\n",
       "      <td>66.36</td>\n",
       "      <td>23,0</td>\n",
       "      <td>Unknown</td>\n",
       "      <td>NO</td>\n",
       "    </tr>\n",
       "    <tr>\n",
       "      <th>1317</th>\n",
       "      <td>Male</td>\n",
       "      <td>0.80</td>\n",
       "      <td>NO</td>\n",
       "      <td>NO</td>\n",
       "      <td>No</td>\n",
       "      <td>children</td>\n",
       "      <td>Rural</td>\n",
       "      <td>98.67</td>\n",
       "      <td>17,5</td>\n",
       "      <td>Unknown</td>\n",
       "      <td>NO</td>\n",
       "    </tr>\n",
       "    <tr>\n",
       "      <th>1600</th>\n",
       "      <td>Male</td>\n",
       "      <td>0.40</td>\n",
       "      <td>NO</td>\n",
       "      <td>NO</td>\n",
       "      <td>No</td>\n",
       "      <td>children</td>\n",
       "      <td>Urban</td>\n",
       "      <td>109.56</td>\n",
       "      <td>14,3</td>\n",
       "      <td>Unknown</td>\n",
       "      <td>NO</td>\n",
       "    </tr>\n",
       "    <tr>\n",
       "      <th>1614</th>\n",
       "      <td>Female</td>\n",
       "      <td>0.08</td>\n",
       "      <td>NO</td>\n",
       "      <td>NO</td>\n",
       "      <td>No</td>\n",
       "      <td>children</td>\n",
       "      <td>Urban</td>\n",
       "      <td>139.67</td>\n",
       "      <td>14,1</td>\n",
       "      <td>Unknown</td>\n",
       "      <td>NO</td>\n",
       "    </tr>\n",
       "    <tr>\n",
       "      <th>1808</th>\n",
       "      <td>Female</td>\n",
       "      <td>0.64</td>\n",
       "      <td>NO</td>\n",
       "      <td>NO</td>\n",
       "      <td>No</td>\n",
       "      <td>children</td>\n",
       "      <td>Urban</td>\n",
       "      <td>62.27</td>\n",
       "      <td>17,3</td>\n",
       "      <td>Unknown</td>\n",
       "      <td>NO</td>\n",
       "    </tr>\n",
       "    <tr>\n",
       "      <th>1975</th>\n",
       "      <td>Male</td>\n",
       "      <td>0.56</td>\n",
       "      <td>NO</td>\n",
       "      <td>NO</td>\n",
       "      <td>No</td>\n",
       "      <td>children</td>\n",
       "      <td>Rural</td>\n",
       "      <td>111.77</td>\n",
       "      <td>21,1</td>\n",
       "      <td>Unknown</td>\n",
       "      <td>NO</td>\n",
       "    </tr>\n",
       "    <tr>\n",
       "      <th>1999</th>\n",
       "      <td>Male</td>\n",
       "      <td>0.24</td>\n",
       "      <td>NO</td>\n",
       "      <td>NO</td>\n",
       "      <td>No</td>\n",
       "      <td>children</td>\n",
       "      <td>Rural</td>\n",
       "      <td>146.97</td>\n",
       "      <td>18,5</td>\n",
       "      <td>Unknown</td>\n",
       "      <td>NO</td>\n",
       "    </tr>\n",
       "    <tr>\n",
       "      <th>2008</th>\n",
       "      <td>Male</td>\n",
       "      <td>0.56</td>\n",
       "      <td>NO</td>\n",
       "      <td>NO</td>\n",
       "      <td>No</td>\n",
       "      <td>children</td>\n",
       "      <td>Rural</td>\n",
       "      <td>57.02</td>\n",
       "      <td>20,7</td>\n",
       "      <td>Unknown</td>\n",
       "      <td>NO</td>\n",
       "    </tr>\n",
       "    <tr>\n",
       "      <th>2012</th>\n",
       "      <td>Male</td>\n",
       "      <td>0.64</td>\n",
       "      <td>NO</td>\n",
       "      <td>NO</td>\n",
       "      <td>No</td>\n",
       "      <td>children</td>\n",
       "      <td>Rural</td>\n",
       "      <td>86.74</td>\n",
       "      <td>16,2</td>\n",
       "      <td>Unknown</td>\n",
       "      <td>NO</td>\n",
       "    </tr>\n",
       "    <tr>\n",
       "      <th>2030</th>\n",
       "      <td>Male</td>\n",
       "      <td>0.48</td>\n",
       "      <td>NO</td>\n",
       "      <td>NO</td>\n",
       "      <td>No</td>\n",
       "      <td>children</td>\n",
       "      <td>Urban</td>\n",
       "      <td>73.02</td>\n",
       "      <td>NaN</td>\n",
       "      <td>Unknown</td>\n",
       "      <td>NO</td>\n",
       "    </tr>\n",
       "    <tr>\n",
       "      <th>2358</th>\n",
       "      <td>Male</td>\n",
       "      <td>0.88</td>\n",
       "      <td>NO</td>\n",
       "      <td>NO</td>\n",
       "      <td>No</td>\n",
       "      <td>children</td>\n",
       "      <td>Urban</td>\n",
       "      <td>112.19</td>\n",
       "      <td>18,9</td>\n",
       "      <td>Unknown</td>\n",
       "      <td>NO</td>\n",
       "    </tr>\n",
       "    <tr>\n",
       "      <th>2481</th>\n",
       "      <td>Male</td>\n",
       "      <td>0.88</td>\n",
       "      <td>NO</td>\n",
       "      <td>NO</td>\n",
       "      <td>No</td>\n",
       "      <td>children</td>\n",
       "      <td>Urban</td>\n",
       "      <td>90.62</td>\n",
       "      <td>22,4</td>\n",
       "      <td>Unknown</td>\n",
       "      <td>NO</td>\n",
       "    </tr>\n",
       "    <tr>\n",
       "      <th>2490</th>\n",
       "      <td>Male</td>\n",
       "      <td>0.88</td>\n",
       "      <td>NO</td>\n",
       "      <td>NO</td>\n",
       "      <td>No</td>\n",
       "      <td>children</td>\n",
       "      <td>Urban</td>\n",
       "      <td>85.38</td>\n",
       "      <td>23,4</td>\n",
       "      <td>Unknown</td>\n",
       "      <td>NO</td>\n",
       "    </tr>\n",
       "    <tr>\n",
       "      <th>2579</th>\n",
       "      <td>Male</td>\n",
       "      <td>0.32</td>\n",
       "      <td>NO</td>\n",
       "      <td>NO</td>\n",
       "      <td>No</td>\n",
       "      <td>children</td>\n",
       "      <td>Urban</td>\n",
       "      <td>127.78</td>\n",
       "      <td>20,8</td>\n",
       "      <td>Unknown</td>\n",
       "      <td>NO</td>\n",
       "    </tr>\n",
       "    <tr>\n",
       "      <th>2630</th>\n",
       "      <td>Female</td>\n",
       "      <td>0.80</td>\n",
       "      <td>NO</td>\n",
       "      <td>NO</td>\n",
       "      <td>No</td>\n",
       "      <td>children</td>\n",
       "      <td>Urban</td>\n",
       "      <td>106.59</td>\n",
       "      <td>15,5</td>\n",
       "      <td>Unknown</td>\n",
       "      <td>NO</td>\n",
       "    </tr>\n",
       "    <tr>\n",
       "      <th>2801</th>\n",
       "      <td>Male</td>\n",
       "      <td>0.80</td>\n",
       "      <td>NO</td>\n",
       "      <td>NO</td>\n",
       "      <td>No</td>\n",
       "      <td>children</td>\n",
       "      <td>Urban</td>\n",
       "      <td>75.22</td>\n",
       "      <td>33,1</td>\n",
       "      <td>Unknown</td>\n",
       "      <td>NO</td>\n",
       "    </tr>\n",
       "    <tr>\n",
       "      <th>2875</th>\n",
       "      <td>Male</td>\n",
       "      <td>0.64</td>\n",
       "      <td>NO</td>\n",
       "      <td>NO</td>\n",
       "      <td>No</td>\n",
       "      <td>children</td>\n",
       "      <td>Urban</td>\n",
       "      <td>60.40</td>\n",
       "      <td>17,3</td>\n",
       "      <td>Unknown</td>\n",
       "      <td>NO</td>\n",
       "    </tr>\n",
       "    <tr>\n",
       "      <th>2898</th>\n",
       "      <td>Male</td>\n",
       "      <td>0.24</td>\n",
       "      <td>NO</td>\n",
       "      <td>NO</td>\n",
       "      <td>No</td>\n",
       "      <td>children</td>\n",
       "      <td>Urban</td>\n",
       "      <td>58.35</td>\n",
       "      <td>18,6</td>\n",
       "      <td>Unknown</td>\n",
       "      <td>NO</td>\n",
       "    </tr>\n",
       "    <tr>\n",
       "      <th>3251</th>\n",
       "      <td>Male</td>\n",
       "      <td>0.56</td>\n",
       "      <td>NO</td>\n",
       "      <td>NO</td>\n",
       "      <td>No</td>\n",
       "      <td>children</td>\n",
       "      <td>Rural</td>\n",
       "      <td>127.23</td>\n",
       "      <td>20,1</td>\n",
       "      <td>Unknown</td>\n",
       "      <td>NO</td>\n",
       "    </tr>\n",
       "    <tr>\n",
       "      <th>3295</th>\n",
       "      <td>Male</td>\n",
       "      <td>0.08</td>\n",
       "      <td>NO</td>\n",
       "      <td>NO</td>\n",
       "      <td>No</td>\n",
       "      <td>children</td>\n",
       "      <td>Rural</td>\n",
       "      <td>70.33</td>\n",
       "      <td>16,9</td>\n",
       "      <td>Unknown</td>\n",
       "      <td>NO</td>\n",
       "    </tr>\n",
       "    <tr>\n",
       "      <th>3392</th>\n",
       "      <td>Male</td>\n",
       "      <td>0.24</td>\n",
       "      <td>NO</td>\n",
       "      <td>NO</td>\n",
       "      <td>No</td>\n",
       "      <td>children</td>\n",
       "      <td>Urban</td>\n",
       "      <td>89.28</td>\n",
       "      <td>14,2</td>\n",
       "      <td>Unknown</td>\n",
       "      <td>NO</td>\n",
       "    </tr>\n",
       "    <tr>\n",
       "      <th>3440</th>\n",
       "      <td>Male</td>\n",
       "      <td>0.56</td>\n",
       "      <td>NO</td>\n",
       "      <td>NO</td>\n",
       "      <td>No</td>\n",
       "      <td>children</td>\n",
       "      <td>Urban</td>\n",
       "      <td>98.23</td>\n",
       "      <td>14,1</td>\n",
       "      <td>Unknown</td>\n",
       "      <td>NO</td>\n",
       "    </tr>\n",
       "    <tr>\n",
       "      <th>3618</th>\n",
       "      <td>Male</td>\n",
       "      <td>0.16</td>\n",
       "      <td>NO</td>\n",
       "      <td>NO</td>\n",
       "      <td>No</td>\n",
       "      <td>children</td>\n",
       "      <td>Urban</td>\n",
       "      <td>114.71</td>\n",
       "      <td>17,4</td>\n",
       "      <td>Unknown</td>\n",
       "      <td>NO</td>\n",
       "    </tr>\n",
       "    <tr>\n",
       "      <th>3626</th>\n",
       "      <td>Male</td>\n",
       "      <td>0.80</td>\n",
       "      <td>NO</td>\n",
       "      <td>NO</td>\n",
       "      <td>No</td>\n",
       "      <td>children</td>\n",
       "      <td>Rural</td>\n",
       "      <td>114.54</td>\n",
       "      <td>15,1</td>\n",
       "      <td>Unknown</td>\n",
       "      <td>NO</td>\n",
       "    </tr>\n",
       "    <tr>\n",
       "      <th>3859</th>\n",
       "      <td>Male</td>\n",
       "      <td>0.32</td>\n",
       "      <td>NO</td>\n",
       "      <td>NO</td>\n",
       "      <td>No</td>\n",
       "      <td>children</td>\n",
       "      <td>Urban</td>\n",
       "      <td>89.04</td>\n",
       "      <td>17,8</td>\n",
       "      <td>Unknown</td>\n",
       "      <td>NO</td>\n",
       "    </tr>\n",
       "    <tr>\n",
       "      <th>3894</th>\n",
       "      <td>Female</td>\n",
       "      <td>0.56</td>\n",
       "      <td>NO</td>\n",
       "      <td>NO</td>\n",
       "      <td>No</td>\n",
       "      <td>children</td>\n",
       "      <td>Urban</td>\n",
       "      <td>80.92</td>\n",
       "      <td>18,3</td>\n",
       "      <td>Unknown</td>\n",
       "      <td>NO</td>\n",
       "    </tr>\n",
       "    <tr>\n",
       "      <th>3968</th>\n",
       "      <td>Male</td>\n",
       "      <td>0.16</td>\n",
       "      <td>NO</td>\n",
       "      <td>NO</td>\n",
       "      <td>No</td>\n",
       "      <td>children</td>\n",
       "      <td>Rural</td>\n",
       "      <td>69.79</td>\n",
       "      <td>13,0</td>\n",
       "      <td>Unknown</td>\n",
       "      <td>NO</td>\n",
       "    </tr>\n",
       "    <tr>\n",
       "      <th>4007</th>\n",
       "      <td>Male</td>\n",
       "      <td>0.72</td>\n",
       "      <td>NO</td>\n",
       "      <td>NO</td>\n",
       "      <td>No</td>\n",
       "      <td>children</td>\n",
       "      <td>Rural</td>\n",
       "      <td>159.79</td>\n",
       "      <td>19,9</td>\n",
       "      <td>Unknown</td>\n",
       "      <td>NO</td>\n",
       "    </tr>\n",
       "    <tr>\n",
       "      <th>4021</th>\n",
       "      <td>Male</td>\n",
       "      <td>0.16</td>\n",
       "      <td>NO</td>\n",
       "      <td>NO</td>\n",
       "      <td>No</td>\n",
       "      <td>children</td>\n",
       "      <td>Urban</td>\n",
       "      <td>109.52</td>\n",
       "      <td>13,9</td>\n",
       "      <td>Unknown</td>\n",
       "      <td>NO</td>\n",
       "    </tr>\n",
       "    <tr>\n",
       "      <th>4053</th>\n",
       "      <td>Female</td>\n",
       "      <td>0.48</td>\n",
       "      <td>NO</td>\n",
       "      <td>NO</td>\n",
       "      <td>No</td>\n",
       "      <td>children</td>\n",
       "      <td>Rural</td>\n",
       "      <td>118.75</td>\n",
       "      <td>17,4</td>\n",
       "      <td>Unknown</td>\n",
       "      <td>NO</td>\n",
       "    </tr>\n",
       "    <tr>\n",
       "      <th>4293</th>\n",
       "      <td>Male</td>\n",
       "      <td>0.24</td>\n",
       "      <td>NO</td>\n",
       "      <td>NO</td>\n",
       "      <td>No</td>\n",
       "      <td>children</td>\n",
       "      <td>Urban</td>\n",
       "      <td>57.09</td>\n",
       "      <td>19,4</td>\n",
       "      <td>Unknown</td>\n",
       "      <td>NO</td>\n",
       "    </tr>\n",
       "    <tr>\n",
       "      <th>4409</th>\n",
       "      <td>Female</td>\n",
       "      <td>0.72</td>\n",
       "      <td>NO</td>\n",
       "      <td>NO</td>\n",
       "      <td>No</td>\n",
       "      <td>children</td>\n",
       "      <td>Rural</td>\n",
       "      <td>112.19</td>\n",
       "      <td>20,1</td>\n",
       "      <td>Unknown</td>\n",
       "      <td>NO</td>\n",
       "    </tr>\n",
       "    <tr>\n",
       "      <th>4581</th>\n",
       "      <td>Female</td>\n",
       "      <td>0.40</td>\n",
       "      <td>NO</td>\n",
       "      <td>NO</td>\n",
       "      <td>No</td>\n",
       "      <td>children</td>\n",
       "      <td>Rural</td>\n",
       "      <td>85.65</td>\n",
       "      <td>17,4</td>\n",
       "      <td>Unknown</td>\n",
       "      <td>NO</td>\n",
       "    </tr>\n",
       "    <tr>\n",
       "      <th>4645</th>\n",
       "      <td>Female</td>\n",
       "      <td>0.48</td>\n",
       "      <td>NO</td>\n",
       "      <td>NO</td>\n",
       "      <td>No</td>\n",
       "      <td>children</td>\n",
       "      <td>Rural</td>\n",
       "      <td>94.06</td>\n",
       "      <td>14,8</td>\n",
       "      <td>Unknown</td>\n",
       "      <td>NO</td>\n",
       "    </tr>\n",
       "    <tr>\n",
       "      <th>4910</th>\n",
       "      <td>Female</td>\n",
       "      <td>0.32</td>\n",
       "      <td>NO</td>\n",
       "      <td>NO</td>\n",
       "      <td>No</td>\n",
       "      <td>children</td>\n",
       "      <td>Urban</td>\n",
       "      <td>108.63</td>\n",
       "      <td>19,6</td>\n",
       "      <td>Unknown</td>\n",
       "      <td>NO</td>\n",
       "    </tr>\n",
       "    <tr>\n",
       "      <th>4929</th>\n",
       "      <td>Male</td>\n",
       "      <td>0.72</td>\n",
       "      <td>NO</td>\n",
       "      <td>NO</td>\n",
       "      <td>No</td>\n",
       "      <td>children</td>\n",
       "      <td>Urban</td>\n",
       "      <td>80.08</td>\n",
       "      <td>16,4</td>\n",
       "      <td>Unknown</td>\n",
       "      <td>NO</td>\n",
       "    </tr>\n",
       "    <tr>\n",
       "      <th>5089</th>\n",
       "      <td>Female</td>\n",
       "      <td>0.72</td>\n",
       "      <td>NO</td>\n",
       "      <td>NO</td>\n",
       "      <td>No</td>\n",
       "      <td>children</td>\n",
       "      <td>Rural</td>\n",
       "      <td>62.13</td>\n",
       "      <td>16,8</td>\n",
       "      <td>Unknown</td>\n",
       "      <td>NO</td>\n",
       "    </tr>\n",
       "  </tbody>\n",
       "</table>\n",
       "</div>"
      ],
      "text/plain": [
       "      gender   age hypertension heart_disease ever_married work_type  \\\n",
       "363   Female  0.64           NO            NO           No  children   \n",
       "376   Female  0.88           NO            NO           No  children   \n",
       "564   Female  0.32           NO            NO           No  children   \n",
       "982     Male  0.88           NO            NO           No  children   \n",
       "996     Male  0.24           NO            NO           No  children   \n",
       "1093  Female  0.32           NO            NO           No  children   \n",
       "1206  Female  0.72           NO            NO           No  children   \n",
       "1317    Male  0.80           NO            NO           No  children   \n",
       "1600    Male  0.40           NO            NO           No  children   \n",
       "1614  Female  0.08           NO            NO           No  children   \n",
       "1808  Female  0.64           NO            NO           No  children   \n",
       "1975    Male  0.56           NO            NO           No  children   \n",
       "1999    Male  0.24           NO            NO           No  children   \n",
       "2008    Male  0.56           NO            NO           No  children   \n",
       "2012    Male  0.64           NO            NO           No  children   \n",
       "2030    Male  0.48           NO            NO           No  children   \n",
       "2358    Male  0.88           NO            NO           No  children   \n",
       "2481    Male  0.88           NO            NO           No  children   \n",
       "2490    Male  0.88           NO            NO           No  children   \n",
       "2579    Male  0.32           NO            NO           No  children   \n",
       "2630  Female  0.80           NO            NO           No  children   \n",
       "2801    Male  0.80           NO            NO           No  children   \n",
       "2875    Male  0.64           NO            NO           No  children   \n",
       "2898    Male  0.24           NO            NO           No  children   \n",
       "3251    Male  0.56           NO            NO           No  children   \n",
       "3295    Male  0.08           NO            NO           No  children   \n",
       "3392    Male  0.24           NO            NO           No  children   \n",
       "3440    Male  0.56           NO            NO           No  children   \n",
       "3618    Male  0.16           NO            NO           No  children   \n",
       "3626    Male  0.80           NO            NO           No  children   \n",
       "3859    Male  0.32           NO            NO           No  children   \n",
       "3894  Female  0.56           NO            NO           No  children   \n",
       "3968    Male  0.16           NO            NO           No  children   \n",
       "4007    Male  0.72           NO            NO           No  children   \n",
       "4021    Male  0.16           NO            NO           No  children   \n",
       "4053  Female  0.48           NO            NO           No  children   \n",
       "4293    Male  0.24           NO            NO           No  children   \n",
       "4409  Female  0.72           NO            NO           No  children   \n",
       "4581  Female  0.40           NO            NO           No  children   \n",
       "4645  Female  0.48           NO            NO           No  children   \n",
       "4910  Female  0.32           NO            NO           No  children   \n",
       "4929    Male  0.72           NO            NO           No  children   \n",
       "5089  Female  0.72           NO            NO           No  children   \n",
       "\n",
       "     Residence_type  avg_glucose_level   bmi smoking_status stroke  \n",
       "363           Urban              83.82  24,9        Unknown     NO  \n",
       "376           Rural              88.11  15,5        Unknown     NO  \n",
       "564           Rural              73.71  16,2        Unknown     NO  \n",
       "982           Rural             157.57  19,2        Unknown     NO  \n",
       "996           Rural             118.87  16,3        Unknown     NO  \n",
       "1093          Rural              55.86  16,0        Unknown     NO  \n",
       "1206          Urban              66.36  23,0        Unknown     NO  \n",
       "1317          Rural              98.67  17,5        Unknown     NO  \n",
       "1600          Urban             109.56  14,3        Unknown     NO  \n",
       "1614          Urban             139.67  14,1        Unknown     NO  \n",
       "1808          Urban              62.27  17,3        Unknown     NO  \n",
       "1975          Rural             111.77  21,1        Unknown     NO  \n",
       "1999          Rural             146.97  18,5        Unknown     NO  \n",
       "2008          Rural              57.02  20,7        Unknown     NO  \n",
       "2012          Rural              86.74  16,2        Unknown     NO  \n",
       "2030          Urban              73.02   NaN        Unknown     NO  \n",
       "2358          Urban             112.19  18,9        Unknown     NO  \n",
       "2481          Urban              90.62  22,4        Unknown     NO  \n",
       "2490          Urban              85.38  23,4        Unknown     NO  \n",
       "2579          Urban             127.78  20,8        Unknown     NO  \n",
       "2630          Urban             106.59  15,5        Unknown     NO  \n",
       "2801          Urban              75.22  33,1        Unknown     NO  \n",
       "2875          Urban              60.40  17,3        Unknown     NO  \n",
       "2898          Urban              58.35  18,6        Unknown     NO  \n",
       "3251          Rural             127.23  20,1        Unknown     NO  \n",
       "3295          Rural              70.33  16,9        Unknown     NO  \n",
       "3392          Urban              89.28  14,2        Unknown     NO  \n",
       "3440          Urban              98.23  14,1        Unknown     NO  \n",
       "3618          Urban             114.71  17,4        Unknown     NO  \n",
       "3626          Rural             114.54  15,1        Unknown     NO  \n",
       "3859          Urban              89.04  17,8        Unknown     NO  \n",
       "3894          Urban              80.92  18,3        Unknown     NO  \n",
       "3968          Rural              69.79  13,0        Unknown     NO  \n",
       "4007          Rural             159.79  19,9        Unknown     NO  \n",
       "4021          Urban             109.52  13,9        Unknown     NO  \n",
       "4053          Rural             118.75  17,4        Unknown     NO  \n",
       "4293          Urban              57.09  19,4        Unknown     NO  \n",
       "4409          Rural             112.19  20,1        Unknown     NO  \n",
       "4581          Rural              85.65  17,4        Unknown     NO  \n",
       "4645          Rural              94.06  14,8        Unknown     NO  \n",
       "4910          Urban             108.63  19,6        Unknown     NO  \n",
       "4929          Urban              80.08  16,4        Unknown     NO  \n",
       "5089          Rural              62.13  16,8        Unknown     NO  "
      ]
     },
     "execution_count": 17,
     "metadata": {},
     "output_type": "execute_result"
    }
   ],
   "source": [
    "df[df['age'] < 1]"
   ]
  },
  {
   "cell_type": "code",
   "execution_count": 18,
   "id": "78b3bdda",
   "metadata": {},
   "outputs": [
    {
     "data": {
      "text/plain": [
       "<AxesSubplot:xlabel='age'>"
      ]
     },
     "execution_count": 18,
     "metadata": {},
     "output_type": "execute_result"
    },
    {
     "data": {
      "image/png": "[encoded data removed]",
      "text/plain": [
       "<Figure size 720x288 with 1 Axes>"
      ]
     },
     "metadata": {},
     "output_type": "display_data"
    }
   ],
   "source": [
    "sns.boxplot(df['age'])"
   ]
  },
  {
   "cell_type": "code",
   "execution_count": 19,
   "id": "06cc0935",
   "metadata": {},
   "outputs": [
    {
     "data": {
      "text/plain": [
       "<seaborn.axisgrid.FacetGrid at 0x25f1d3e40d0>"
      ]
     },
     "execution_count": 19,
     "metadata": {},
     "output_type": "execute_result"
    },
    {
     "data": {
      "image/png": "[encoded data removed]",
      "text/plain": [
       "<Figure size 360x360 with 1 Axes>"
      ]
     },
     "metadata": {},
     "output_type": "display_data"
    }
   ],
   "source": [
    "sns.displot(x = df['age'])"
   ]
  },
  {
   "cell_type": "markdown",
   "id": "8d37e49a",
   "metadata": {},
   "source": [
    "* Age with no outliers points and no missing values or wrong values "
   ]
  },
  {
   "cell_type": "markdown",
   "id": "21a6ba92",
   "metadata": {},
   "source": [
    "###### hypertension feature "
   ]
  },
  {
   "cell_type": "code",
   "execution_count": 20,
   "id": "3ae82da6",
   "metadata": {
    "scrolled": true
   },
   "outputs": [
    {
     "data": {
      "text/plain": [
       "array(['NO', 'YES'], dtype=object)"
      ]
     },
     "execution_count": 20,
     "metadata": {},
     "output_type": "execute_result"
    }
   ],
   "source": [
    "df['hypertension'].unique()"
   ]
  },
  {
   "cell_type": "code",
   "execution_count": 21,
   "id": "e0422f0b",
   "metadata": {},
   "outputs": [
    {
     "data": {
      "text/plain": [
       "NO     4612\n",
       "YES     498\n",
       "Name: hypertension, dtype: int64"
      ]
     },
     "execution_count": 21,
     "metadata": {},
     "output_type": "execute_result"
    }
   ],
   "source": [
    "df['hypertension'].value_counts()"
   ]
  },
  {
   "cell_type": "code",
   "execution_count": 22,
   "id": "b0da1599",
   "metadata": {},
   "outputs": [
    {
     "data": {
      "text/plain": [
       "<AxesSubplot:xlabel='hypertension', ylabel='count'>"
      ]
     },
     "execution_count": 22,
     "metadata": {},
     "output_type": "execute_result"
    },
    {
     "data": {
      "image/png": "[encoded data removed]",
      "text/plain": [
       "<Figure size 720x288 with 1 Axes>"
      ]
     },
     "metadata": {},
     "output_type": "display_data"
    }
   ],
   "source": [
    "sns.countplot(df['hypertension'])"
   ]
  },
  {
   "cell_type": "markdown",
   "id": "aa520797",
   "metadata": {},
   "source": [
    "* NO wrong values has 2 values (YES , NO) , majority of people have no hypertension"
   ]
  },
  {
   "cell_type": "markdown",
   "id": "a67f1856",
   "metadata": {},
   "source": [
    "###### heart_disease feature "
   ]
  },
  {
   "cell_type": "code",
   "execution_count": 23,
   "id": "8ff0658c",
   "metadata": {},
   "outputs": [
    {
     "data": {
      "text/plain": [
       "array(['YES', 'NO'], dtype=object)"
      ]
     },
     "execution_count": 23,
     "metadata": {},
     "output_type": "execute_result"
    }
   ],
   "source": [
    "df['heart_disease'].unique()"
   ]
  },
  {
   "cell_type": "code",
   "execution_count": 24,
   "id": "b3edd31e",
   "metadata": {},
   "outputs": [
    {
     "data": {
      "text/html": [
       "<div>\n",
       "<style scoped>\n",
       "    .dataframe tbody tr th:only-of-type {\n",
       "        vertical-align: middle;\n",
       "    }\n",
       "\n",
       "    .dataframe tbody tr th {\n",
       "        vertical-align: top;\n",
       "    }\n",
       "\n",
       "    .dataframe thead th {\n",
       "        text-align: right;\n",
       "    }\n",
       "</style>\n",
       "<table border=\"1\" class=\"dataframe\">\n",
       "  <thead>\n",
       "    <tr style=\"text-align: right;\">\n",
       "      <th></th>\n",
       "      <th>heart_disease</th>\n",
       "    </tr>\n",
       "  </thead>\n",
       "  <tbody>\n",
       "    <tr>\n",
       "      <th>NO</th>\n",
       "      <td>4834</td>\n",
       "    </tr>\n",
       "    <tr>\n",
       "      <th>YES</th>\n",
       "      <td>276</td>\n",
       "    </tr>\n",
       "  </tbody>\n",
       "</table>\n",
       "</div>"
      ],
      "text/plain": [
       "     heart_disease\n",
       "NO            4834\n",
       "YES            276"
      ]
     },
     "execution_count": 24,
     "metadata": {},
     "output_type": "execute_result"
    }
   ],
   "source": [
    "df['heart_disease'].value_counts().to_frame()"
   ]
  },
  {
   "cell_type": "code",
   "execution_count": 25,
   "id": "9e43527c",
   "metadata": {},
   "outputs": [
    {
     "data": {
      "text/plain": [
       "<AxesSubplot:ylabel='heart_disease'>"
      ]
     },
     "execution_count": 25,
     "metadata": {},
     "output_type": "execute_result"
    },
    {
     "data": {
      "image/png": "[encoded data removed]",
      "text/plain": [
       "<Figure size 720x288 with 1 Axes>"
      ]
     },
     "metadata": {},
     "output_type": "display_data"
    }
   ],
   "source": [
    "df['heart_disease'].value_counts().to_frame().plot(kind = 'pie' , y='heart_disease' , autopct='%1.0f%%' ,\n",
    "                                            colors=colors, explode=explode)"
   ]
  },
  {
   "cell_type": "markdown",
   "id": "c3773fcf",
   "metadata": {},
   "source": [
    "* heart_disease feature has no wrong values & most of people have no heart disease "
   ]
  },
  {
   "cell_type": "markdown",
   "id": "b8150a1d",
   "metadata": {},
   "source": [
    "###### ever_married feature "
   ]
  },
  {
   "cell_type": "code",
   "execution_count": 26,
   "id": "718ebfa6",
   "metadata": {},
   "outputs": [
    {
     "data": {
      "text/plain": [
       "array(['Yes', 'No'], dtype=object)"
      ]
     },
     "execution_count": 26,
     "metadata": {},
     "output_type": "execute_result"
    }
   ],
   "source": [
    "df['ever_married'].unique()"
   ]
  },
  {
   "cell_type": "code",
   "execution_count": 27,
   "id": "ca903561",
   "metadata": {},
   "outputs": [
    {
     "data": {
      "text/html": [
       "<div>\n",
       "<style scoped>\n",
       "    .dataframe tbody tr th:only-of-type {\n",
       "        vertical-align: middle;\n",
       "    }\n",
       "\n",
       "    .dataframe tbody tr th {\n",
       "        vertical-align: top;\n",
       "    }\n",
       "\n",
       "    .dataframe thead th {\n",
       "        text-align: right;\n",
       "    }\n",
       "</style>\n",
       "<table border=\"1\" class=\"dataframe\">\n",
       "  <thead>\n",
       "    <tr style=\"text-align: right;\">\n",
       "      <th></th>\n",
       "      <th>ever_married</th>\n",
       "    </tr>\n",
       "  </thead>\n",
       "  <tbody>\n",
       "    <tr>\n",
       "      <th>Yes</th>\n",
       "      <td>3353</td>\n",
       "    </tr>\n",
       "    <tr>\n",
       "      <th>No</th>\n",
       "      <td>1757</td>\n",
       "    </tr>\n",
       "  </tbody>\n",
       "</table>\n",
       "</div>"
      ],
      "text/plain": [
       "     ever_married\n",
       "Yes          3353\n",
       "No           1757"
      ]
     },
     "execution_count": 27,
     "metadata": {},
     "output_type": "execute_result"
    }
   ],
   "source": [
    "df['ever_married'].value_counts().to_frame()"
   ]
  },
  {
   "cell_type": "code",
   "execution_count": 28,
   "id": "f6cef093",
   "metadata": {},
   "outputs": [
    {
     "data": {
      "text/plain": [
       "<AxesSubplot:xlabel='ever_married', ylabel='count'>"
      ]
     },
     "execution_count": 28,
     "metadata": {},
     "output_type": "execute_result"
    },
    {
     "data": {
      "image/png": "[encoded data removed]",
      "text/plain": [
       "<Figure size 720x288 with 1 Axes>"
      ]
     },
     "metadata": {},
     "output_type": "display_data"
    }
   ],
   "source": [
    "sns.countplot(df['ever_married'])"
   ]
  },
  {
   "cell_type": "markdown",
   "id": "95029ee9",
   "metadata": {},
   "source": [
    "* ever_married feature has no wrong values and most of people are married "
   ]
  },
  {
   "cell_type": "markdown",
   "id": "fcb1680a",
   "metadata": {},
   "source": [
    "###### work_type feature "
   ]
  },
  {
   "cell_type": "code",
   "execution_count": 29,
   "id": "31130375",
   "metadata": {},
   "outputs": [
    {
     "data": {
      "text/plain": [
       "array(['Private', 'Self-employed', 'Govt_job', 'children', 'Never_worked'],\n",
       "      dtype=object)"
      ]
     },
     "execution_count": 29,
     "metadata": {},
     "output_type": "execute_result"
    }
   ],
   "source": [
    "df['work_type'].unique()"
   ]
  },
  {
   "cell_type": "code",
   "execution_count": 30,
   "id": "16246b68",
   "metadata": {},
   "outputs": [
    {
     "data": {
      "text/html": [
       "<div>\n",
       "<style scoped>\n",
       "    .dataframe tbody tr th:only-of-type {\n",
       "        vertical-align: middle;\n",
       "    }\n",
       "\n",
       "    .dataframe tbody tr th {\n",
       "        vertical-align: top;\n",
       "    }\n",
       "\n",
       "    .dataframe thead th {\n",
       "        text-align: right;\n",
       "    }\n",
       "</style>\n",
       "<table border=\"1\" class=\"dataframe\">\n",
       "  <thead>\n",
       "    <tr style=\"text-align: right;\">\n",
       "      <th></th>\n",
       "      <th>work_type</th>\n",
       "    </tr>\n",
       "  </thead>\n",
       "  <tbody>\n",
       "    <tr>\n",
       "      <th>Private</th>\n",
       "      <td>2925</td>\n",
       "    </tr>\n",
       "    <tr>\n",
       "      <th>Self-employed</th>\n",
       "      <td>819</td>\n",
       "    </tr>\n",
       "    <tr>\n",
       "      <th>children</th>\n",
       "      <td>687</td>\n",
       "    </tr>\n",
       "    <tr>\n",
       "      <th>Govt_job</th>\n",
       "      <td>657</td>\n",
       "    </tr>\n",
       "    <tr>\n",
       "      <th>Never_worked</th>\n",
       "      <td>22</td>\n",
       "    </tr>\n",
       "  </tbody>\n",
       "</table>\n",
       "</div>"
      ],
      "text/plain": [
       "               work_type\n",
       "Private             2925\n",
       "Self-employed        819\n",
       "children             687\n",
       "Govt_job             657\n",
       "Never_worked          22"
      ]
     },
     "execution_count": 30,
     "metadata": {},
     "output_type": "execute_result"
    }
   ],
   "source": [
    "df['work_type'].value_counts().to_frame()"
   ]
  },
  {
   "cell_type": "markdown",
   "id": "d168ec4e",
   "metadata": {},
   "source": [
    "* Childern type we can convert it to never_worked \n",
    "* children with max age 16 years and never worked with min age 13 and both not working and anthor type of work private  with min age 8 and this is chlidren too \n",
    "* soo childern in my opinion is not a type of work & I will convert it to never worked."
   ]
  },
  {
   "cell_type": "code",
   "execution_count": 31,
   "id": "a3bb981d",
   "metadata": {},
   "outputs": [
    {
     "data": {
      "text/html": [
       "<div>\n",
       "<style scoped>\n",
       "    .dataframe tbody tr th:only-of-type {\n",
       "        vertical-align: middle;\n",
       "    }\n",
       "\n",
       "    .dataframe tbody tr th {\n",
       "        vertical-align: top;\n",
       "    }\n",
       "\n",
       "    .dataframe thead th {\n",
       "        text-align: right;\n",
       "    }\n",
       "</style>\n",
       "<table border=\"1\" class=\"dataframe\">\n",
       "  <thead>\n",
       "    <tr style=\"text-align: right;\">\n",
       "      <th></th>\n",
       "      <th>age</th>\n",
       "    </tr>\n",
       "  </thead>\n",
       "  <tbody>\n",
       "    <tr>\n",
       "      <th>count</th>\n",
       "      <td>687.000000</td>\n",
       "    </tr>\n",
       "    <tr>\n",
       "      <th>mean</th>\n",
       "      <td>6.841339</td>\n",
       "    </tr>\n",
       "    <tr>\n",
       "      <th>std</th>\n",
       "      <td>4.533364</td>\n",
       "    </tr>\n",
       "    <tr>\n",
       "      <th>min</th>\n",
       "      <td>0.080000</td>\n",
       "    </tr>\n",
       "    <tr>\n",
       "      <th>25%</th>\n",
       "      <td>2.000000</td>\n",
       "    </tr>\n",
       "    <tr>\n",
       "      <th>50%</th>\n",
       "      <td>6.000000</td>\n",
       "    </tr>\n",
       "    <tr>\n",
       "      <th>75%</th>\n",
       "      <td>11.000000</td>\n",
       "    </tr>\n",
       "    <tr>\n",
       "      <th>max</th>\n",
       "      <td>16.000000</td>\n",
       "    </tr>\n",
       "  </tbody>\n",
       "</table>\n",
       "</div>"
      ],
      "text/plain": [
       "              age\n",
       "count  687.000000\n",
       "mean     6.841339\n",
       "std      4.533364\n",
       "min      0.080000\n",
       "25%      2.000000\n",
       "50%      6.000000\n",
       "75%     11.000000\n",
       "max     16.000000"
      ]
     },
     "execution_count": 31,
     "metadata": {},
     "output_type": "execute_result"
    }
   ],
   "source": [
    "df[df['work_type'] == 'children']['age'].describe().to_frame()"
   ]
  },
  {
   "cell_type": "code",
   "execution_count": 32,
   "id": "b44129c8",
   "metadata": {},
   "outputs": [
    {
     "data": {
      "text/html": [
       "<div>\n",
       "<style scoped>\n",
       "    .dataframe tbody tr th:only-of-type {\n",
       "        vertical-align: middle;\n",
       "    }\n",
       "\n",
       "    .dataframe tbody tr th {\n",
       "        vertical-align: top;\n",
       "    }\n",
       "\n",
       "    .dataframe thead th {\n",
       "        text-align: right;\n",
       "    }\n",
       "</style>\n",
       "<table border=\"1\" class=\"dataframe\">\n",
       "  <thead>\n",
       "    <tr style=\"text-align: right;\">\n",
       "      <th></th>\n",
       "      <th>age</th>\n",
       "    </tr>\n",
       "  </thead>\n",
       "  <tbody>\n",
       "    <tr>\n",
       "      <th>count</th>\n",
       "      <td>22.000000</td>\n",
       "    </tr>\n",
       "    <tr>\n",
       "      <th>mean</th>\n",
       "      <td>16.181818</td>\n",
       "    </tr>\n",
       "    <tr>\n",
       "      <th>std</th>\n",
       "      <td>2.342899</td>\n",
       "    </tr>\n",
       "    <tr>\n",
       "      <th>min</th>\n",
       "      <td>13.000000</td>\n",
       "    </tr>\n",
       "    <tr>\n",
       "      <th>25%</th>\n",
       "      <td>14.250000</td>\n",
       "    </tr>\n",
       "    <tr>\n",
       "      <th>50%</th>\n",
       "      <td>16.000000</td>\n",
       "    </tr>\n",
       "    <tr>\n",
       "      <th>75%</th>\n",
       "      <td>17.000000</td>\n",
       "    </tr>\n",
       "    <tr>\n",
       "      <th>max</th>\n",
       "      <td>23.000000</td>\n",
       "    </tr>\n",
       "  </tbody>\n",
       "</table>\n",
       "</div>"
      ],
      "text/plain": [
       "             age\n",
       "count  22.000000\n",
       "mean   16.181818\n",
       "std     2.342899\n",
       "min    13.000000\n",
       "25%    14.250000\n",
       "50%    16.000000\n",
       "75%    17.000000\n",
       "max    23.000000"
      ]
     },
     "execution_count": 32,
     "metadata": {},
     "output_type": "execute_result"
    }
   ],
   "source": [
    "df[df['work_type'] == 'Never_worked']['age'].describe().to_frame()"
   ]
  },
  {
   "cell_type": "code",
   "execution_count": 33,
   "id": "3043fe93",
   "metadata": {},
   "outputs": [
    {
     "data": {
      "text/html": [
       "<div>\n",
       "<style scoped>\n",
       "    .dataframe tbody tr th:only-of-type {\n",
       "        vertical-align: middle;\n",
       "    }\n",
       "\n",
       "    .dataframe tbody tr th {\n",
       "        vertical-align: top;\n",
       "    }\n",
       "\n",
       "    .dataframe thead th {\n",
       "        text-align: right;\n",
       "    }\n",
       "</style>\n",
       "<table border=\"1\" class=\"dataframe\">\n",
       "  <thead>\n",
       "    <tr style=\"text-align: right;\">\n",
       "      <th></th>\n",
       "      <th>age</th>\n",
       "    </tr>\n",
       "  </thead>\n",
       "  <tbody>\n",
       "    <tr>\n",
       "      <th>count</th>\n",
       "      <td>2925.000000</td>\n",
       "    </tr>\n",
       "    <tr>\n",
       "      <th>mean</th>\n",
       "      <td>45.503932</td>\n",
       "    </tr>\n",
       "    <tr>\n",
       "      <th>std</th>\n",
       "      <td>18.444200</td>\n",
       "    </tr>\n",
       "    <tr>\n",
       "      <th>min</th>\n",
       "      <td>8.000000</td>\n",
       "    </tr>\n",
       "    <tr>\n",
       "      <th>25%</th>\n",
       "      <td>30.000000</td>\n",
       "    </tr>\n",
       "    <tr>\n",
       "      <th>50%</th>\n",
       "      <td>45.000000</td>\n",
       "    </tr>\n",
       "    <tr>\n",
       "      <th>75%</th>\n",
       "      <td>59.000000</td>\n",
       "    </tr>\n",
       "    <tr>\n",
       "      <th>max</th>\n",
       "      <td>82.000000</td>\n",
       "    </tr>\n",
       "  </tbody>\n",
       "</table>\n",
       "</div>"
      ],
      "text/plain": [
       "               age\n",
       "count  2925.000000\n",
       "mean     45.503932\n",
       "std      18.444200\n",
       "min       8.000000\n",
       "25%      30.000000\n",
       "50%      45.000000\n",
       "75%      59.000000\n",
       "max      82.000000"
      ]
     },
     "execution_count": 33,
     "metadata": {},
     "output_type": "execute_result"
    }
   ],
   "source": [
    "df[df['work_type'] == 'Private']['age'].describe().to_frame()"
   ]
  },
  {
   "cell_type": "code",
   "execution_count": 34,
   "id": "f3aca756",
   "metadata": {},
   "outputs": [],
   "source": [
    "df['work_type'] = df['work_type'].apply(lambda x : 'Never_worked' if x == 'children' else x )"
   ]
  },
  {
   "cell_type": "code",
   "execution_count": 35,
   "id": "994a06a3",
   "metadata": {},
   "outputs": [
    {
     "data": {
      "text/plain": [
       "<AxesSubplot:xlabel='work_type', ylabel='count'>"
      ]
     },
     "execution_count": 35,
     "metadata": {},
     "output_type": "execute_result"
    },
    {
     "data": {
      "image/png": "[encoded data removed]",
      "text/plain": [
       "<Figure size 720x288 with 1 Axes>"
      ]
     },
     "metadata": {},
     "output_type": "display_data"
    }
   ],
   "source": [
    "sns.countplot(df['work_type'])"
   ]
  },
  {
   "cell_type": "markdown",
   "id": "5b5b0257",
   "metadata": {},
   "source": [
    "* Most of People have Private work "
   ]
  },
  {
   "cell_type": "markdown",
   "id": "24fb2694",
   "metadata": {},
   "source": [
    "###### Residence_type feature "
   ]
  },
  {
   "cell_type": "code",
   "execution_count": 36,
   "id": "533ef051",
   "metadata": {},
   "outputs": [
    {
     "data": {
      "text/plain": [
       "array(['Urban', 'Rural'], dtype=object)"
      ]
     },
     "execution_count": 36,
     "metadata": {},
     "output_type": "execute_result"
    }
   ],
   "source": [
    "df['Residence_type'].unique()"
   ]
  },
  {
   "cell_type": "code",
   "execution_count": 37,
   "id": "32410722",
   "metadata": {},
   "outputs": [
    {
     "data": {
      "text/html": [
       "<div>\n",
       "<style scoped>\n",
       "    .dataframe tbody tr th:only-of-type {\n",
       "        vertical-align: middle;\n",
       "    }\n",
       "\n",
       "    .dataframe tbody tr th {\n",
       "        vertical-align: top;\n",
       "    }\n",
       "\n",
       "    .dataframe thead th {\n",
       "        text-align: right;\n",
       "    }\n",
       "</style>\n",
       "<table border=\"1\" class=\"dataframe\">\n",
       "  <thead>\n",
       "    <tr style=\"text-align: right;\">\n",
       "      <th></th>\n",
       "      <th>Residence_type</th>\n",
       "    </tr>\n",
       "  </thead>\n",
       "  <tbody>\n",
       "    <tr>\n",
       "      <th>Urban</th>\n",
       "      <td>2596</td>\n",
       "    </tr>\n",
       "    <tr>\n",
       "      <th>Rural</th>\n",
       "      <td>2514</td>\n",
       "    </tr>\n",
       "  </tbody>\n",
       "</table>\n",
       "</div>"
      ],
      "text/plain": [
       "       Residence_type\n",
       "Urban            2596\n",
       "Rural            2514"
      ]
     },
     "execution_count": 37,
     "metadata": {},
     "output_type": "execute_result"
    }
   ],
   "source": [
    "df['Residence_type'].value_counts().to_frame()"
   ]
  },
  {
   "cell_type": "code",
   "execution_count": 38,
   "id": "f5584f92",
   "metadata": {},
   "outputs": [
    {
     "data": {
      "text/plain": [
       "<AxesSubplot:ylabel='Residence_type'>"
      ]
     },
     "execution_count": 38,
     "metadata": {},
     "output_type": "execute_result"
    },
    {
     "data": {
      "image/png": "[encoded data removed]",
      "text/plain": [
       "<Figure size 720x288 with 1 Axes>"
      ]
     },
     "metadata": {},
     "output_type": "display_data"
    }
   ],
   "source": [
    "df['Residence_type'].value_counts().to_frame().plot(kind = 'pie' , y='Residence_type' , autopct='%1.0f%%' ,\n",
    "                                            colors=colors, explode=explode)"
   ]
  },
  {
   "cell_type": "markdown",
   "id": "6bd90728",
   "metadata": {},
   "source": [
    "* Residence_type has two values with near ratio "
   ]
  },
  {
   "cell_type": "markdown",
   "id": "6f9b2cd1",
   "metadata": {},
   "source": [
    "###### avg_glucose_level feature "
   ]
  },
  {
   "cell_type": "code",
   "execution_count": 39,
   "id": "00baf47d",
   "metadata": {},
   "outputs": [
    {
     "data": {
      "text/html": [
       "<div>\n",
       "<style scoped>\n",
       "    .dataframe tbody tr th:only-of-type {\n",
       "        vertical-align: middle;\n",
       "    }\n",
       "\n",
       "    .dataframe tbody tr th {\n",
       "        vertical-align: top;\n",
       "    }\n",
       "\n",
       "    .dataframe thead th {\n",
       "        text-align: right;\n",
       "    }\n",
       "</style>\n",
       "<table border=\"1\" class=\"dataframe\">\n",
       "  <thead>\n",
       "    <tr style=\"text-align: right;\">\n",
       "      <th></th>\n",
       "      <th>avg_glucose_level</th>\n",
       "    </tr>\n",
       "  </thead>\n",
       "  <tbody>\n",
       "    <tr>\n",
       "      <th>count</th>\n",
       "      <td>5110.000000</td>\n",
       "    </tr>\n",
       "    <tr>\n",
       "      <th>mean</th>\n",
       "      <td>106.147677</td>\n",
       "    </tr>\n",
       "    <tr>\n",
       "      <th>std</th>\n",
       "      <td>45.283560</td>\n",
       "    </tr>\n",
       "    <tr>\n",
       "      <th>min</th>\n",
       "      <td>55.120000</td>\n",
       "    </tr>\n",
       "    <tr>\n",
       "      <th>25%</th>\n",
       "      <td>77.245000</td>\n",
       "    </tr>\n",
       "    <tr>\n",
       "      <th>50%</th>\n",
       "      <td>91.885000</td>\n",
       "    </tr>\n",
       "    <tr>\n",
       "      <th>75%</th>\n",
       "      <td>114.090000</td>\n",
       "    </tr>\n",
       "    <tr>\n",
       "      <th>max</th>\n",
       "      <td>271.740000</td>\n",
       "    </tr>\n",
       "  </tbody>\n",
       "</table>\n",
       "</div>"
      ],
      "text/plain": [
       "       avg_glucose_level\n",
       "count        5110.000000\n",
       "mean          106.147677\n",
       "std            45.283560\n",
       "min            55.120000\n",
       "25%            77.245000\n",
       "50%            91.885000\n",
       "75%           114.090000\n",
       "max           271.740000"
      ]
     },
     "execution_count": 39,
     "metadata": {},
     "output_type": "execute_result"
    }
   ],
   "source": [
    "df['avg_glucose_level'].describe().to_frame()"
   ]
  },
  {
   "cell_type": "code",
   "execution_count": 40,
   "id": "2edf18ea",
   "metadata": {},
   "outputs": [
    {
     "data": {
      "text/plain": [
       "<AxesSubplot:xlabel='avg_glucose_level'>"
      ]
     },
     "execution_count": 40,
     "metadata": {},
     "output_type": "execute_result"
    },
    {
     "data": {
      "image/png": "[encoded data removed]",
      "text/plain": [
       "<Figure size 720x288 with 1 Axes>"
      ]
     },
     "metadata": {},
     "output_type": "display_data"
    }
   ],
   "source": [
    "sns.boxplot(df['avg_glucose_level'])"
   ]
  },
  {
   "cell_type": "code",
   "execution_count": 41,
   "id": "bfe5a746",
   "metadata": {},
   "outputs": [],
   "source": [
    "from datasist.structdata import detect_outliers"
   ]
  },
  {
   "cell_type": "code",
   "execution_count": 42,
   "id": "2ed78617",
   "metadata": {},
   "outputs": [
    {
     "data": {
      "text/plain": [
       "627"
      ]
     },
     "execution_count": 42,
     "metadata": {},
     "output_type": "execute_result"
    }
   ],
   "source": [
    "len(detect_outliers(df , 0 , ['avg_glucose_level']))"
   ]
  },
  {
   "cell_type": "code",
   "execution_count": 43,
   "id": "a235748d",
   "metadata": {},
   "outputs": [
    {
     "data": {
      "text/html": [
       "<div>\n",
       "<style scoped>\n",
       "    .dataframe tbody tr th:only-of-type {\n",
       "        vertical-align: middle;\n",
       "    }\n",
       "\n",
       "    .dataframe tbody tr th {\n",
       "        vertical-align: top;\n",
       "    }\n",
       "\n",
       "    .dataframe thead th {\n",
       "        text-align: right;\n",
       "    }\n",
       "</style>\n",
       "<table border=\"1\" class=\"dataframe\">\n",
       "  <thead>\n",
       "    <tr style=\"text-align: right;\">\n",
       "      <th></th>\n",
       "      <th>gender</th>\n",
       "      <th>age</th>\n",
       "      <th>hypertension</th>\n",
       "      <th>heart_disease</th>\n",
       "      <th>ever_married</th>\n",
       "      <th>work_type</th>\n",
       "      <th>Residence_type</th>\n",
       "      <th>avg_glucose_level</th>\n",
       "      <th>bmi</th>\n",
       "      <th>smoking_status</th>\n",
       "      <th>stroke</th>\n",
       "    </tr>\n",
       "  </thead>\n",
       "  <tbody>\n",
       "    <tr>\n",
       "      <th>0</th>\n",
       "      <td>Male</td>\n",
       "      <td>67.0</td>\n",
       "      <td>NO</td>\n",
       "      <td>YES</td>\n",
       "      <td>Yes</td>\n",
       "      <td>Private</td>\n",
       "      <td>Urban</td>\n",
       "      <td>228.69</td>\n",
       "      <td>36,6</td>\n",
       "      <td>formerly smoked</td>\n",
       "      <td>YES</td>\n",
       "    </tr>\n",
       "    <tr>\n",
       "      <th>1</th>\n",
       "      <td>Female</td>\n",
       "      <td>61.0</td>\n",
       "      <td>NO</td>\n",
       "      <td>NO</td>\n",
       "      <td>Yes</td>\n",
       "      <td>Self-employed</td>\n",
       "      <td>Rural</td>\n",
       "      <td>202.21</td>\n",
       "      <td>NaN</td>\n",
       "      <td>never smoked</td>\n",
       "      <td>YES</td>\n",
       "    </tr>\n",
       "    <tr>\n",
       "      <th>3</th>\n",
       "      <td>Female</td>\n",
       "      <td>49.0</td>\n",
       "      <td>NO</td>\n",
       "      <td>NO</td>\n",
       "      <td>Yes</td>\n",
       "      <td>Private</td>\n",
       "      <td>Urban</td>\n",
       "      <td>171.23</td>\n",
       "      <td>34,4</td>\n",
       "      <td>smokes</td>\n",
       "      <td>YES</td>\n",
       "    </tr>\n",
       "    <tr>\n",
       "      <th>4</th>\n",
       "      <td>Female</td>\n",
       "      <td>79.0</td>\n",
       "      <td>YES</td>\n",
       "      <td>NO</td>\n",
       "      <td>Yes</td>\n",
       "      <td>Self-employed</td>\n",
       "      <td>Rural</td>\n",
       "      <td>174.12</td>\n",
       "      <td>24,0</td>\n",
       "      <td>never smoked</td>\n",
       "      <td>YES</td>\n",
       "    </tr>\n",
       "    <tr>\n",
       "      <th>5</th>\n",
       "      <td>Male</td>\n",
       "      <td>81.0</td>\n",
       "      <td>NO</td>\n",
       "      <td>NO</td>\n",
       "      <td>Yes</td>\n",
       "      <td>Private</td>\n",
       "      <td>Urban</td>\n",
       "      <td>186.21</td>\n",
       "      <td>29,0</td>\n",
       "      <td>formerly smoked</td>\n",
       "      <td>YES</td>\n",
       "    </tr>\n",
       "    <tr>\n",
       "      <th>...</th>\n",
       "      <td>...</td>\n",
       "      <td>...</td>\n",
       "      <td>...</td>\n",
       "      <td>...</td>\n",
       "      <td>...</td>\n",
       "      <td>...</td>\n",
       "      <td>...</td>\n",
       "      <td>...</td>\n",
       "      <td>...</td>\n",
       "      <td>...</td>\n",
       "      <td>...</td>\n",
       "    </tr>\n",
       "    <tr>\n",
       "      <th>5061</th>\n",
       "      <td>Male</td>\n",
       "      <td>41.0</td>\n",
       "      <td>NO</td>\n",
       "      <td>NO</td>\n",
       "      <td>Yes</td>\n",
       "      <td>Private</td>\n",
       "      <td>Urban</td>\n",
       "      <td>223.78</td>\n",
       "      <td>32,3</td>\n",
       "      <td>never smoked</td>\n",
       "      <td>NO</td>\n",
       "    </tr>\n",
       "    <tr>\n",
       "      <th>5062</th>\n",
       "      <td>Female</td>\n",
       "      <td>82.0</td>\n",
       "      <td>NO</td>\n",
       "      <td>NO</td>\n",
       "      <td>Yes</td>\n",
       "      <td>Self-employed</td>\n",
       "      <td>Rural</td>\n",
       "      <td>211.58</td>\n",
       "      <td>36,9</td>\n",
       "      <td>never smoked</td>\n",
       "      <td>NO</td>\n",
       "    </tr>\n",
       "    <tr>\n",
       "      <th>5063</th>\n",
       "      <td>Male</td>\n",
       "      <td>39.0</td>\n",
       "      <td>NO</td>\n",
       "      <td>NO</td>\n",
       "      <td>Yes</td>\n",
       "      <td>Private</td>\n",
       "      <td>Urban</td>\n",
       "      <td>179.38</td>\n",
       "      <td>27,7</td>\n",
       "      <td>Unknown</td>\n",
       "      <td>NO</td>\n",
       "    </tr>\n",
       "    <tr>\n",
       "      <th>5064</th>\n",
       "      <td>Male</td>\n",
       "      <td>70.0</td>\n",
       "      <td>NO</td>\n",
       "      <td>NO</td>\n",
       "      <td>Yes</td>\n",
       "      <td>Self-employed</td>\n",
       "      <td>Rural</td>\n",
       "      <td>193.88</td>\n",
       "      <td>24,3</td>\n",
       "      <td>Unknown</td>\n",
       "      <td>NO</td>\n",
       "    </tr>\n",
       "    <tr>\n",
       "      <th>5076</th>\n",
       "      <td>Female</td>\n",
       "      <td>34.0</td>\n",
       "      <td>NO</td>\n",
       "      <td>NO</td>\n",
       "      <td>Yes</td>\n",
       "      <td>Private</td>\n",
       "      <td>Rural</td>\n",
       "      <td>174.37</td>\n",
       "      <td>23,0</td>\n",
       "      <td>never smoked</td>\n",
       "      <td>NO</td>\n",
       "    </tr>\n",
       "  </tbody>\n",
       "</table>\n",
       "<p>627 rows × 11 columns</p>\n",
       "</div>"
      ],
      "text/plain": [
       "      gender   age hypertension heart_disease ever_married      work_type  \\\n",
       "0       Male  67.0           NO           YES          Yes        Private   \n",
       "1     Female  61.0           NO            NO          Yes  Self-employed   \n",
       "3     Female  49.0           NO            NO          Yes        Private   \n",
       "4     Female  79.0          YES            NO          Yes  Self-employed   \n",
       "5       Male  81.0           NO            NO          Yes        Private   \n",
       "...      ...   ...          ...           ...          ...            ...   \n",
       "5061    Male  41.0           NO            NO          Yes        Private   \n",
       "5062  Female  82.0           NO            NO          Yes  Self-employed   \n",
       "5063    Male  39.0           NO            NO          Yes        Private   \n",
       "5064    Male  70.0           NO            NO          Yes  Self-employed   \n",
       "5076  Female  34.0           NO            NO          Yes        Private   \n",
       "\n",
       "     Residence_type  avg_glucose_level   bmi   smoking_status stroke  \n",
       "0             Urban             228.69  36,6  formerly smoked    YES  \n",
       "1             Rural             202.21   NaN     never smoked    YES  \n",
       "3             Urban             171.23  34,4           smokes    YES  \n",
       "4             Rural             174.12  24,0     never smoked    YES  \n",
       "5             Urban             186.21  29,0  formerly smoked    YES  \n",
       "...             ...                ...   ...              ...    ...  \n",
       "5061          Urban             223.78  32,3     never smoked     NO  \n",
       "5062          Rural             211.58  36,9     never smoked     NO  \n",
       "5063          Urban             179.38  27,7          Unknown     NO  \n",
       "5064          Rural             193.88  24,3          Unknown     NO  \n",
       "5076          Rural             174.37  23,0     never smoked     NO  \n",
       "\n",
       "[627 rows x 11 columns]"
      ]
     },
     "execution_count": 43,
     "metadata": {},
     "output_type": "execute_result"
    }
   ],
   "source": [
    "df.loc[detect_outliers(df , 0 , ['avg_glucose_level'])] # outliers is True values "
   ]
  },
  {
   "cell_type": "markdown",
   "id": "6f40a3c0",
   "metadata": {},
   "source": [
    "###### In our Model in ML we will binned avg_glucose_level into categories to solve this problem "
   ]
  },
  {
   "cell_type": "code",
   "execution_count": 44,
   "id": "a0231f5b",
   "metadata": {},
   "outputs": [
    {
     "data": {
      "text/plain": [
       "<seaborn.axisgrid.FacetGrid at 0x25f1d8ed4b0>"
      ]
     },
     "execution_count": 44,
     "metadata": {},
     "output_type": "execute_result"
    },
    {
     "data": {
      "image/png": "[encoded data removed]",
      "text/plain": [
       "<Figure size 360x360 with 1 Axes>"
      ]
     },
     "metadata": {},
     "output_type": "display_data"
    }
   ],
   "source": [
    "sns.displot(df['avg_glucose_level']) # right skewness "
   ]
  },
  {
   "cell_type": "markdown",
   "id": "c444d41f",
   "metadata": {},
   "source": [
    "* has right skewness "
   ]
  },
  {
   "cell_type": "markdown",
   "id": "96f54ed3",
   "metadata": {},
   "source": [
    "###### bmi feature "
   ]
  },
  {
   "cell_type": "code",
   "execution_count": 45,
   "id": "01ef26d5",
   "metadata": {},
   "outputs": [
    {
     "data": {
      "text/plain": [
       "dtype('O')"
      ]
     },
     "execution_count": 45,
     "metadata": {},
     "output_type": "execute_result"
    }
   ],
   "source": [
    "df['bmi'].dtype # object !!"
   ]
  },
  {
   "cell_type": "code",
   "execution_count": 46,
   "id": "9ce4983a",
   "metadata": {},
   "outputs": [],
   "source": [
    "def correct_bmi(x):\n",
    "    try:\n",
    "        return float(x.replace(',' , '.'))\n",
    "    except :\n",
    "        return np.nan"
   ]
  },
  {
   "cell_type": "code",
   "execution_count": 47,
   "id": "bf7c6f2c",
   "metadata": {},
   "outputs": [],
   "source": [
    "df['bmi'] = df['bmi'].apply(correct_bmi)"
   ]
  },
  {
   "cell_type": "code",
   "execution_count": 48,
   "id": "64aadc46",
   "metadata": {},
   "outputs": [
    {
     "data": {
      "text/plain": [
       "3.9334637964774952"
      ]
     },
     "execution_count": 48,
     "metadata": {},
     "output_type": "execute_result"
    }
   ],
   "source": [
    "df['bmi'].isnull().mean()*100"
   ]
  },
  {
   "cell_type": "code",
   "execution_count": 49,
   "id": "967204c5",
   "metadata": {},
   "outputs": [],
   "source": [
    "from sklearn.impute import KNNImputer\n",
    "imputer = KNNImputer(n_neighbors=3)"
   ]
  },
  {
   "cell_type": "code",
   "execution_count": 50,
   "id": "ad533deb",
   "metadata": {},
   "outputs": [],
   "source": [
    "df[df.select_dtypes('number').columns] = imputer.fit_transform(df[df.select_dtypes('number').columns])"
   ]
  },
  {
   "cell_type": "code",
   "execution_count": 51,
   "id": "4713067b",
   "metadata": {},
   "outputs": [
    {
     "data": {
      "text/plain": [
       "gender               0.0\n",
       "age                  0.0\n",
       "hypertension         0.0\n",
       "heart_disease        0.0\n",
       "ever_married         0.0\n",
       "work_type            0.0\n",
       "Residence_type       0.0\n",
       "avg_glucose_level    0.0\n",
       "bmi                  0.0\n",
       "smoking_status       0.0\n",
       "stroke               0.0\n",
       "dtype: float64"
      ]
     },
     "execution_count": 51,
     "metadata": {},
     "output_type": "execute_result"
    }
   ],
   "source": [
    "df.isnull().mean()*100"
   ]
  },
  {
   "cell_type": "code",
   "execution_count": 52,
   "id": "b039acdf",
   "metadata": {},
   "outputs": [
    {
     "data": {
      "text/html": [
       "<div>\n",
       "<style scoped>\n",
       "    .dataframe tbody tr th:only-of-type {\n",
       "        vertical-align: middle;\n",
       "    }\n",
       "\n",
       "    .dataframe tbody tr th {\n",
       "        vertical-align: top;\n",
       "    }\n",
       "\n",
       "    .dataframe thead th {\n",
       "        text-align: right;\n",
       "    }\n",
       "</style>\n",
       "<table border=\"1\" class=\"dataframe\">\n",
       "  <thead>\n",
       "    <tr style=\"text-align: right;\">\n",
       "      <th></th>\n",
       "      <th>bmi</th>\n",
       "    </tr>\n",
       "  </thead>\n",
       "  <tbody>\n",
       "    <tr>\n",
       "      <th>count</th>\n",
       "      <td>5110.000000</td>\n",
       "    </tr>\n",
       "    <tr>\n",
       "      <th>mean</th>\n",
       "      <td>28.949472</td>\n",
       "    </tr>\n",
       "    <tr>\n",
       "      <th>std</th>\n",
       "      <td>7.784349</td>\n",
       "    </tr>\n",
       "    <tr>\n",
       "      <th>min</th>\n",
       "      <td>10.300000</td>\n",
       "    </tr>\n",
       "    <tr>\n",
       "      <th>25%</th>\n",
       "      <td>23.700000</td>\n",
       "    </tr>\n",
       "    <tr>\n",
       "      <th>50%</th>\n",
       "      <td>28.200000</td>\n",
       "    </tr>\n",
       "    <tr>\n",
       "      <th>75%</th>\n",
       "      <td>33.100000</td>\n",
       "    </tr>\n",
       "    <tr>\n",
       "      <th>max</th>\n",
       "      <td>97.600000</td>\n",
       "    </tr>\n",
       "  </tbody>\n",
       "</table>\n",
       "</div>"
      ],
      "text/plain": [
       "               bmi\n",
       "count  5110.000000\n",
       "mean     28.949472\n",
       "std       7.784349\n",
       "min      10.300000\n",
       "25%      23.700000\n",
       "50%      28.200000\n",
       "75%      33.100000\n",
       "max      97.600000"
      ]
     },
     "execution_count": 52,
     "metadata": {},
     "output_type": "execute_result"
    }
   ],
   "source": [
    "df['bmi'].describe().to_frame()"
   ]
  },
  {
   "cell_type": "code",
   "execution_count": 53,
   "id": "e74bd760",
   "metadata": {},
   "outputs": [
    {
     "data": {
      "text/plain": [
       "<AxesSubplot:xlabel='bmi'>"
      ]
     },
     "execution_count": 53,
     "metadata": {},
     "output_type": "execute_result"
    },
    {
     "data": {
      "image/png": "[encoded data removed]",
      "text/plain": [
       "<Figure size 720x288 with 1 Axes>"
      ]
     },
     "metadata": {},
     "output_type": "display_data"
    }
   ],
   "source": [
    "sns.boxplot(df['bmi'])"
   ]
  },
  {
   "cell_type": "code",
   "execution_count": 54,
   "id": "1b6796a3",
   "metadata": {},
   "outputs": [
    {
     "data": {
      "text/plain": [
       "117"
      ]
     },
     "execution_count": 54,
     "metadata": {},
     "output_type": "execute_result"
    }
   ],
   "source": [
    "len(detect_outliers(df , 0 , ['bmi']))"
   ]
  },
  {
   "cell_type": "code",
   "execution_count": 55,
   "id": "24de375d",
   "metadata": {},
   "outputs": [
    {
     "data": {
      "text/html": [
       "<div>\n",
       "<style scoped>\n",
       "    .dataframe tbody tr th:only-of-type {\n",
       "        vertical-align: middle;\n",
       "    }\n",
       "\n",
       "    .dataframe tbody tr th {\n",
       "        vertical-align: top;\n",
       "    }\n",
       "\n",
       "    .dataframe thead th {\n",
       "        text-align: right;\n",
       "    }\n",
       "</style>\n",
       "<table border=\"1\" class=\"dataframe\">\n",
       "  <thead>\n",
       "    <tr style=\"text-align: right;\">\n",
       "      <th></th>\n",
       "      <th>gender</th>\n",
       "      <th>age</th>\n",
       "      <th>hypertension</th>\n",
       "      <th>heart_disease</th>\n",
       "      <th>ever_married</th>\n",
       "      <th>work_type</th>\n",
       "      <th>Residence_type</th>\n",
       "      <th>avg_glucose_level</th>\n",
       "      <th>bmi</th>\n",
       "      <th>smoking_status</th>\n",
       "      <th>stroke</th>\n",
       "    </tr>\n",
       "  </thead>\n",
       "  <tbody>\n",
       "    <tr>\n",
       "      <th>21</th>\n",
       "      <td>Female</td>\n",
       "      <td>52.0</td>\n",
       "      <td>YES</td>\n",
       "      <td>NO</td>\n",
       "      <td>Yes</td>\n",
       "      <td>Self-employed</td>\n",
       "      <td>Urban</td>\n",
       "      <td>233.29</td>\n",
       "      <td>48.9</td>\n",
       "      <td>never smoked</td>\n",
       "      <td>YES</td>\n",
       "    </tr>\n",
       "    <tr>\n",
       "      <th>66</th>\n",
       "      <td>Female</td>\n",
       "      <td>70.0</td>\n",
       "      <td>NO</td>\n",
       "      <td>NO</td>\n",
       "      <td>Yes</td>\n",
       "      <td>Private</td>\n",
       "      <td>Urban</td>\n",
       "      <td>221.58</td>\n",
       "      <td>47.5</td>\n",
       "      <td>never smoked</td>\n",
       "      <td>YES</td>\n",
       "    </tr>\n",
       "    <tr>\n",
       "      <th>113</th>\n",
       "      <td>Female</td>\n",
       "      <td>45.0</td>\n",
       "      <td>NO</td>\n",
       "      <td>NO</td>\n",
       "      <td>Yes</td>\n",
       "      <td>Private</td>\n",
       "      <td>Rural</td>\n",
       "      <td>224.10</td>\n",
       "      <td>56.6</td>\n",
       "      <td>never smoked</td>\n",
       "      <td>YES</td>\n",
       "    </tr>\n",
       "    <tr>\n",
       "      <th>254</th>\n",
       "      <td>Female</td>\n",
       "      <td>47.0</td>\n",
       "      <td>NO</td>\n",
       "      <td>NO</td>\n",
       "      <td>Yes</td>\n",
       "      <td>Private</td>\n",
       "      <td>Urban</td>\n",
       "      <td>210.95</td>\n",
       "      <td>50.1</td>\n",
       "      <td>Unknown</td>\n",
       "      <td>NO</td>\n",
       "    </tr>\n",
       "    <tr>\n",
       "      <th>258</th>\n",
       "      <td>Female</td>\n",
       "      <td>74.0</td>\n",
       "      <td>YES</td>\n",
       "      <td>NO</td>\n",
       "      <td>Yes</td>\n",
       "      <td>Self-employed</td>\n",
       "      <td>Urban</td>\n",
       "      <td>205.84</td>\n",
       "      <td>54.6</td>\n",
       "      <td>never smoked</td>\n",
       "      <td>NO</td>\n",
       "    </tr>\n",
       "    <tr>\n",
       "      <th>...</th>\n",
       "      <td>...</td>\n",
       "      <td>...</td>\n",
       "      <td>...</td>\n",
       "      <td>...</td>\n",
       "      <td>...</td>\n",
       "      <td>...</td>\n",
       "      <td>...</td>\n",
       "      <td>...</td>\n",
       "      <td>...</td>\n",
       "      <td>...</td>\n",
       "      <td>...</td>\n",
       "    </tr>\n",
       "    <tr>\n",
       "      <th>4858</th>\n",
       "      <td>Female</td>\n",
       "      <td>43.0</td>\n",
       "      <td>NO</td>\n",
       "      <td>NO</td>\n",
       "      <td>Yes</td>\n",
       "      <td>Private</td>\n",
       "      <td>Urban</td>\n",
       "      <td>100.88</td>\n",
       "      <td>47.6</td>\n",
       "      <td>smokes</td>\n",
       "      <td>NO</td>\n",
       "    </tr>\n",
       "    <tr>\n",
       "      <th>4906</th>\n",
       "      <td>Female</td>\n",
       "      <td>53.0</td>\n",
       "      <td>NO</td>\n",
       "      <td>NO</td>\n",
       "      <td>Yes</td>\n",
       "      <td>Private</td>\n",
       "      <td>Urban</td>\n",
       "      <td>70.51</td>\n",
       "      <td>54.1</td>\n",
       "      <td>never smoked</td>\n",
       "      <td>NO</td>\n",
       "    </tr>\n",
       "    <tr>\n",
       "      <th>4952</th>\n",
       "      <td>Male</td>\n",
       "      <td>51.0</td>\n",
       "      <td>YES</td>\n",
       "      <td>NO</td>\n",
       "      <td>Yes</td>\n",
       "      <td>Self-employed</td>\n",
       "      <td>Rural</td>\n",
       "      <td>211.83</td>\n",
       "      <td>56.6</td>\n",
       "      <td>never smoked</td>\n",
       "      <td>NO</td>\n",
       "    </tr>\n",
       "    <tr>\n",
       "      <th>5009</th>\n",
       "      <td>Female</td>\n",
       "      <td>50.0</td>\n",
       "      <td>NO</td>\n",
       "      <td>NO</td>\n",
       "      <td>Yes</td>\n",
       "      <td>Self-employed</td>\n",
       "      <td>Rural</td>\n",
       "      <td>126.85</td>\n",
       "      <td>49.5</td>\n",
       "      <td>formerly smoked</td>\n",
       "      <td>NO</td>\n",
       "    </tr>\n",
       "    <tr>\n",
       "      <th>5057</th>\n",
       "      <td>Female</td>\n",
       "      <td>49.0</td>\n",
       "      <td>NO</td>\n",
       "      <td>NO</td>\n",
       "      <td>Yes</td>\n",
       "      <td>Govt_job</td>\n",
       "      <td>Urban</td>\n",
       "      <td>69.92</td>\n",
       "      <td>47.6</td>\n",
       "      <td>never smoked</td>\n",
       "      <td>NO</td>\n",
       "    </tr>\n",
       "  </tbody>\n",
       "</table>\n",
       "<p>117 rows × 11 columns</p>\n",
       "</div>"
      ],
      "text/plain": [
       "      gender   age hypertension heart_disease ever_married      work_type  \\\n",
       "21    Female  52.0          YES            NO          Yes  Self-employed   \n",
       "66    Female  70.0           NO            NO          Yes        Private   \n",
       "113   Female  45.0           NO            NO          Yes        Private   \n",
       "254   Female  47.0           NO            NO          Yes        Private   \n",
       "258   Female  74.0          YES            NO          Yes  Self-employed   \n",
       "...      ...   ...          ...           ...          ...            ...   \n",
       "4858  Female  43.0           NO            NO          Yes        Private   \n",
       "4906  Female  53.0           NO            NO          Yes        Private   \n",
       "4952    Male  51.0          YES            NO          Yes  Self-employed   \n",
       "5009  Female  50.0           NO            NO          Yes  Self-employed   \n",
       "5057  Female  49.0           NO            NO          Yes       Govt_job   \n",
       "\n",
       "     Residence_type  avg_glucose_level   bmi   smoking_status stroke  \n",
       "21            Urban             233.29  48.9     never smoked    YES  \n",
       "66            Urban             221.58  47.5     never smoked    YES  \n",
       "113           Rural             224.10  56.6     never smoked    YES  \n",
       "254           Urban             210.95  50.1          Unknown     NO  \n",
       "258           Urban             205.84  54.6     never smoked     NO  \n",
       "...             ...                ...   ...              ...    ...  \n",
       "4858          Urban             100.88  47.6           smokes     NO  \n",
       "4906          Urban              70.51  54.1     never smoked     NO  \n",
       "4952          Rural             211.83  56.6     never smoked     NO  \n",
       "5009          Rural             126.85  49.5  formerly smoked     NO  \n",
       "5057          Urban              69.92  47.6     never smoked     NO  \n",
       "\n",
       "[117 rows x 11 columns]"
      ]
     },
     "execution_count": 55,
     "metadata": {},
     "output_type": "execute_result"
    }
   ],
   "source": [
    "df.loc[detect_outliers(df , 0 , ['bmi'])]"
   ]
  },
  {
   "cell_type": "markdown",
   "id": "19553b55",
   "metadata": {},
   "source": [
    "###### In our Model in ML we will binned bmi into categories to solve this problem "
   ]
  },
  {
   "cell_type": "code",
   "execution_count": 56,
   "id": "2527eead",
   "metadata": {},
   "outputs": [
    {
     "data": {
      "text/plain": [
       "<seaborn.axisgrid.FacetGrid at 0x25f11629450>"
      ]
     },
     "execution_count": 56,
     "metadata": {},
     "output_type": "execute_result"
    },
    {
     "data": {
      "image/png": "[encoded data removed]",
      "text/plain": [
       "<Figure size 360x360 with 1 Axes>"
      ]
     },
     "metadata": {},
     "output_type": "display_data"
    }
   ],
   "source": [
    "sns.displot(df['bmi'])"
   ]
  },
  {
   "cell_type": "markdown",
   "id": "865b8f54",
   "metadata": {},
   "source": [
    "###### smoking status feature "
   ]
  },
  {
   "cell_type": "code",
   "execution_count": 57,
   "id": "de7aaf76",
   "metadata": {},
   "outputs": [
    {
     "data": {
      "text/plain": [
       "array(['formerly smoked', 'never smoked', 'smokes', 'Unknown'],\n",
       "      dtype=object)"
      ]
     },
     "execution_count": 57,
     "metadata": {},
     "output_type": "execute_result"
    }
   ],
   "source": [
    "df['smoking_status'].unique()"
   ]
  },
  {
   "cell_type": "code",
   "execution_count": 58,
   "id": "ae5db62d",
   "metadata": {},
   "outputs": [
    {
     "data": {
      "text/html": [
       "<div>\n",
       "<style scoped>\n",
       "    .dataframe tbody tr th:only-of-type {\n",
       "        vertical-align: middle;\n",
       "    }\n",
       "\n",
       "    .dataframe tbody tr th {\n",
       "        vertical-align: top;\n",
       "    }\n",
       "\n",
       "    .dataframe thead th {\n",
       "        text-align: right;\n",
       "    }\n",
       "</style>\n",
       "<table border=\"1\" class=\"dataframe\">\n",
       "  <thead>\n",
       "    <tr style=\"text-align: right;\">\n",
       "      <th></th>\n",
       "      <th>smoking_status</th>\n",
       "    </tr>\n",
       "  </thead>\n",
       "  <tbody>\n",
       "    <tr>\n",
       "      <th>never smoked</th>\n",
       "      <td>1892</td>\n",
       "    </tr>\n",
       "    <tr>\n",
       "      <th>Unknown</th>\n",
       "      <td>1544</td>\n",
       "    </tr>\n",
       "    <tr>\n",
       "      <th>formerly smoked</th>\n",
       "      <td>885</td>\n",
       "    </tr>\n",
       "    <tr>\n",
       "      <th>smokes</th>\n",
       "      <td>789</td>\n",
       "    </tr>\n",
       "  </tbody>\n",
       "</table>\n",
       "</div>"
      ],
      "text/plain": [
       "                 smoking_status\n",
       "never smoked               1892\n",
       "Unknown                    1544\n",
       "formerly smoked             885\n",
       "smokes                      789"
      ]
     },
     "execution_count": 58,
     "metadata": {},
     "output_type": "execute_result"
    }
   ],
   "source": [
    "df['smoking_status'].value_counts().to_frame()"
   ]
  },
  {
   "cell_type": "code",
   "execution_count": 59,
   "id": "71e21ff6",
   "metadata": {},
   "outputs": [
    {
     "data": {
      "text/plain": [
       "<AxesSubplot:xlabel='smoking_status', ylabel='count'>"
      ]
     },
     "execution_count": 59,
     "metadata": {},
     "output_type": "execute_result"
    },
    {
     "data": {
      "image/png": "[encoded data removed]",
      "text/plain": [
       "<Figure size 720x288 with 1 Axes>"
      ]
     },
     "metadata": {},
     "output_type": "display_data"
    }
   ],
   "source": [
    "sns.countplot(df['smoking_status'])"
   ]
  },
  {
   "cell_type": "markdown",
   "id": "dd9d0343",
   "metadata": {},
   "source": [
    "* Most of People never smoked "
   ]
  },
  {
   "cell_type": "markdown",
   "id": "70f9ef90",
   "metadata": {},
   "source": [
    "###### Stroke (Target)"
   ]
  },
  {
   "cell_type": "code",
   "execution_count": 60,
   "id": "457d2916",
   "metadata": {
    "scrolled": true
   },
   "outputs": [
    {
     "data": {
      "text/plain": [
       "array(['YES', 'NO'], dtype=object)"
      ]
     },
     "execution_count": 60,
     "metadata": {},
     "output_type": "execute_result"
    }
   ],
   "source": [
    "df['stroke'].unique()"
   ]
  },
  {
   "cell_type": "code",
   "execution_count": 61,
   "id": "a7c141b5",
   "metadata": {},
   "outputs": [
    {
     "data": {
      "text/html": [
       "<div>\n",
       "<style scoped>\n",
       "    .dataframe tbody tr th:only-of-type {\n",
       "        vertical-align: middle;\n",
       "    }\n",
       "\n",
       "    .dataframe tbody tr th {\n",
       "        vertical-align: top;\n",
       "    }\n",
       "\n",
       "    .dataframe thead th {\n",
       "        text-align: right;\n",
       "    }\n",
       "</style>\n",
       "<table border=\"1\" class=\"dataframe\">\n",
       "  <thead>\n",
       "    <tr style=\"text-align: right;\">\n",
       "      <th></th>\n",
       "      <th>stroke</th>\n",
       "    </tr>\n",
       "  </thead>\n",
       "  <tbody>\n",
       "    <tr>\n",
       "      <th>NO</th>\n",
       "      <td>4861</td>\n",
       "    </tr>\n",
       "    <tr>\n",
       "      <th>YES</th>\n",
       "      <td>249</td>\n",
       "    </tr>\n",
       "  </tbody>\n",
       "</table>\n",
       "</div>"
      ],
      "text/plain": [
       "     stroke\n",
       "NO     4861\n",
       "YES     249"
      ]
     },
     "execution_count": 61,
     "metadata": {},
     "output_type": "execute_result"
    }
   ],
   "source": [
    "df['stroke'].value_counts().to_frame()"
   ]
  },
  {
   "cell_type": "code",
   "execution_count": 62,
   "id": "21f6b095",
   "metadata": {},
   "outputs": [
    {
     "data": {
      "text/plain": [
       "<AxesSubplot:ylabel='stroke'>"
      ]
     },
     "execution_count": 62,
     "metadata": {},
     "output_type": "execute_result"
    },
    {
     "data": {
      "image/png": "[encoded data removed]",
      "text/plain": [
       "<Figure size 720x288 with 1 Axes>"
      ]
     },
     "metadata": {},
     "output_type": "display_data"
    }
   ],
   "source": [
    "df['stroke'].value_counts().to_frame().plot(kind = 'pie' , y='stroke' , autopct='%1.0f%%' ,\n",
    "                                            colors=colors, explode=explode)"
   ]
  },
  {
   "cell_type": "markdown",
   "id": "dfd0ff0f",
   "metadata": {},
   "source": [
    "###### ooopppsss !!! imbalanced label :("
   ]
  },
  {
   "cell_type": "markdown",
   "id": "50a4d759",
   "metadata": {},
   "source": [
    "## `Now Time For Bivariate Analysis`"
   ]
  },
  {
   "cell_type": "markdown",
   "id": "886ce20a",
   "metadata": {},
   "source": [
    "* First we will see effect of all features with Target (Stroke)\n",
    "* second see all Features with each other and show correlations and so on .. "
   ]
  },
  {
   "cell_type": "code",
   "execution_count": 63,
   "id": "3b6d6df2",
   "metadata": {},
   "outputs": [
    {
     "data": {
      "text/html": [
       "<div>\n",
       "<style scoped>\n",
       "    .dataframe tbody tr th:only-of-type {\n",
       "        vertical-align: middle;\n",
       "    }\n",
       "\n",
       "    .dataframe tbody tr th {\n",
       "        vertical-align: top;\n",
       "    }\n",
       "\n",
       "    .dataframe thead th {\n",
       "        text-align: right;\n",
       "    }\n",
       "</style>\n",
       "<table border=\"1\" class=\"dataframe\">\n",
       "  <thead>\n",
       "    <tr style=\"text-align: right;\">\n",
       "      <th></th>\n",
       "      <th></th>\n",
       "      <th>stroke</th>\n",
       "    </tr>\n",
       "    <tr>\n",
       "      <th>gender</th>\n",
       "      <th>stroke</th>\n",
       "      <th></th>\n",
       "    </tr>\n",
       "  </thead>\n",
       "  <tbody>\n",
       "    <tr>\n",
       "      <th rowspan=\"2\" valign=\"top\">Female</th>\n",
       "      <th>NO</th>\n",
       "      <td>95.292154</td>\n",
       "    </tr>\n",
       "    <tr>\n",
       "      <th>YES</th>\n",
       "      <td>4.707846</td>\n",
       "    </tr>\n",
       "    <tr>\n",
       "      <th rowspan=\"2\" valign=\"top\">Male</th>\n",
       "      <th>NO</th>\n",
       "      <td>94.893617</td>\n",
       "    </tr>\n",
       "    <tr>\n",
       "      <th>YES</th>\n",
       "      <td>5.106383</td>\n",
       "    </tr>\n",
       "  </tbody>\n",
       "</table>\n",
       "</div>"
      ],
      "text/plain": [
       "                  stroke\n",
       "gender stroke           \n",
       "Female NO      95.292154\n",
       "       YES      4.707846\n",
       "Male   NO      94.893617\n",
       "       YES      5.106383"
      ]
     },
     "execution_count": 63,
     "metadata": {},
     "output_type": "execute_result"
    }
   ],
   "source": [
    "df.groupby(['gender'])['stroke'].value_counts(normalize = True ).to_frame()*100"
   ]
  },
  {
   "cell_type": "code",
   "execution_count": 64,
   "id": "cd8b24f6",
   "metadata": {},
   "outputs": [
    {
     "data": {
      "text/plain": [
       "<AxesSubplot:xlabel='gender', ylabel='count'>"
      ]
     },
     "execution_count": 64,
     "metadata": {},
     "output_type": "execute_result"
    },
    {
     "data": {
      "image/png": "[encoded data removed]",
      "text/plain": [
       "<Figure size 720x288 with 1 Axes>"
      ]
     },
     "metadata": {},
     "output_type": "display_data"
    }
   ],
   "source": [
    "sns.countplot(x = df['gender'] , hue = df['stroke'])"
   ]
  },
  {
   "cell_type": "markdown",
   "id": "b306ac66",
   "metadata": {},
   "source": [
    "###### stroke feature is not balanced to show any pattern but generally for male & female most of people are not prone to stroke "
   ]
  },
  {
   "cell_type": "code",
   "execution_count": 65,
   "id": "e81590cb",
   "metadata": {},
   "outputs": [
    {
     "data": {
      "text/plain": [
       "<seaborn.axisgrid.FacetGrid at 0x25f1f133400>"
      ]
     },
     "execution_count": 65,
     "metadata": {},
     "output_type": "execute_result"
    },
    {
     "data": {
      "image/png": "[encoded data removed]",
      "text/plain": [
       "<Figure size 414.223x360 with 1 Axes>"
      ]
     },
     "metadata": {},
     "output_type": "display_data"
    }
   ],
   "source": [
    "sns.displot(x = df['age'] , hue = df['stroke'])"
   ]
  },
  {
   "cell_type": "markdown",
   "id": "e60dff66",
   "metadata": {},
   "source": [
    "###### there is clear pattern for people who have age above 40 they are prone to stroke "
   ]
  },
  {
   "cell_type": "code",
   "execution_count": 66,
   "id": "f7f0ac3d",
   "metadata": {},
   "outputs": [
    {
     "data": {
      "text/html": [
       "<div>\n",
       "<style scoped>\n",
       "    .dataframe tbody tr th:only-of-type {\n",
       "        vertical-align: middle;\n",
       "    }\n",
       "\n",
       "    .dataframe tbody tr th {\n",
       "        vertical-align: top;\n",
       "    }\n",
       "\n",
       "    .dataframe thead th {\n",
       "        text-align: right;\n",
       "    }\n",
       "</style>\n",
       "<table border=\"1\" class=\"dataframe\">\n",
       "  <thead>\n",
       "    <tr style=\"text-align: right;\">\n",
       "      <th></th>\n",
       "      <th></th>\n",
       "      <th>stroke</th>\n",
       "    </tr>\n",
       "    <tr>\n",
       "      <th>hypertension</th>\n",
       "      <th>stroke</th>\n",
       "      <th></th>\n",
       "    </tr>\n",
       "  </thead>\n",
       "  <tbody>\n",
       "    <tr>\n",
       "      <th rowspan=\"2\" valign=\"top\">NO</th>\n",
       "      <th>NO</th>\n",
       "      <td>96.032090</td>\n",
       "    </tr>\n",
       "    <tr>\n",
       "      <th>YES</th>\n",
       "      <td>3.967910</td>\n",
       "    </tr>\n",
       "    <tr>\n",
       "      <th rowspan=\"2\" valign=\"top\">YES</th>\n",
       "      <th>NO</th>\n",
       "      <td>86.746988</td>\n",
       "    </tr>\n",
       "    <tr>\n",
       "      <th>YES</th>\n",
       "      <td>13.253012</td>\n",
       "    </tr>\n",
       "  </tbody>\n",
       "</table>\n",
       "</div>"
      ],
      "text/plain": [
       "                        stroke\n",
       "hypertension stroke           \n",
       "NO           NO      96.032090\n",
       "             YES      3.967910\n",
       "YES          NO      86.746988\n",
       "             YES     13.253012"
      ]
     },
     "execution_count": 66,
     "metadata": {},
     "output_type": "execute_result"
    }
   ],
   "source": [
    "df.groupby(['hypertension'])['stroke'].value_counts(normalize = True ).to_frame()*100"
   ]
  },
  {
   "cell_type": "code",
   "execution_count": 67,
   "id": "e5bdfddb",
   "metadata": {},
   "outputs": [
    {
     "data": {
      "text/plain": [
       "<AxesSubplot:xlabel='hypertension', ylabel='count'>"
      ]
     },
     "execution_count": 67,
     "metadata": {},
     "output_type": "execute_result"
    },
    {
     "data": {
      "image/png": "[encoded data removed]",
      "text/plain": [
       "<Figure size 720x288 with 1 Axes>"
      ]
     },
     "metadata": {},
     "output_type": "display_data"
    }
   ],
   "source": [
    "sns.countplot(df['hypertension'] , hue = df['stroke'])"
   ]
  },
  {
   "cell_type": "markdown",
   "id": "d30a3746",
   "metadata": {},
   "source": [
    "###### for people who has hypertension percentage of stroke is more than people who has not hypertension , and hypertension is imbalanced so 13 % is pretty not small for people who has hypertension"
   ]
  },
  {
   "cell_type": "code",
   "execution_count": 68,
   "id": "396023b5",
   "metadata": {},
   "outputs": [
    {
     "data": {
      "text/html": [
       "<div>\n",
       "<style scoped>\n",
       "    .dataframe tbody tr th:only-of-type {\n",
       "        vertical-align: middle;\n",
       "    }\n",
       "\n",
       "    .dataframe tbody tr th {\n",
       "        vertical-align: top;\n",
       "    }\n",
       "\n",
       "    .dataframe thead th {\n",
       "        text-align: right;\n",
       "    }\n",
       "</style>\n",
       "<table border=\"1\" class=\"dataframe\">\n",
       "  <thead>\n",
       "    <tr style=\"text-align: right;\">\n",
       "      <th></th>\n",
       "      <th></th>\n",
       "      <th>stroke</th>\n",
       "    </tr>\n",
       "    <tr>\n",
       "      <th>heart_disease</th>\n",
       "      <th>stroke</th>\n",
       "      <th></th>\n",
       "    </tr>\n",
       "  </thead>\n",
       "  <tbody>\n",
       "    <tr>\n",
       "      <th rowspan=\"2\" valign=\"top\">NO</th>\n",
       "      <th>NO</th>\n",
       "      <td>4632</td>\n",
       "    </tr>\n",
       "    <tr>\n",
       "      <th>YES</th>\n",
       "      <td>202</td>\n",
       "    </tr>\n",
       "    <tr>\n",
       "      <th rowspan=\"2\" valign=\"top\">YES</th>\n",
       "      <th>NO</th>\n",
       "      <td>229</td>\n",
       "    </tr>\n",
       "    <tr>\n",
       "      <th>YES</th>\n",
       "      <td>47</td>\n",
       "    </tr>\n",
       "  </tbody>\n",
       "</table>\n",
       "</div>"
      ],
      "text/plain": [
       "                      stroke\n",
       "heart_disease stroke        \n",
       "NO            NO        4632\n",
       "              YES        202\n",
       "YES           NO         229\n",
       "              YES         47"
      ]
     },
     "execution_count": 68,
     "metadata": {},
     "output_type": "execute_result"
    }
   ],
   "source": [
    "df.groupby(['heart_disease'])['stroke'].value_counts().to_frame()"
   ]
  },
  {
   "cell_type": "code",
   "execution_count": 69,
   "id": "2bca84c2",
   "metadata": {},
   "outputs": [
    {
     "data": {
      "text/plain": [
       "<AxesSubplot:xlabel='heart_disease', ylabel='count'>"
      ]
     },
     "execution_count": 69,
     "metadata": {},
     "output_type": "execute_result"
    },
    {
     "data": {
      "image/png": "[encoded data removed]",
      "text/plain": [
       "<Figure size 720x288 with 1 Axes>"
      ]
     },
     "metadata": {},
     "output_type": "display_data"
    }
   ],
   "source": [
    "sns.countplot(df['heart_disease'] , hue = df['stroke'])"
   ]
  },
  {
   "cell_type": "markdown",
   "id": "85669986",
   "metadata": {},
   "source": [
    "###### small ratio for people who have heart_disease and small ratio for stroke and it doesn't show any pattern "
   ]
  },
  {
   "cell_type": "code",
   "execution_count": 70,
   "id": "efe146fd",
   "metadata": {},
   "outputs": [
    {
     "data": {
      "text/html": [
       "<div>\n",
       "<style scoped>\n",
       "    .dataframe tbody tr th:only-of-type {\n",
       "        vertical-align: middle;\n",
       "    }\n",
       "\n",
       "    .dataframe tbody tr th {\n",
       "        vertical-align: top;\n",
       "    }\n",
       "\n",
       "    .dataframe thead th {\n",
       "        text-align: right;\n",
       "    }\n",
       "</style>\n",
       "<table border=\"1\" class=\"dataframe\">\n",
       "  <thead>\n",
       "    <tr style=\"text-align: right;\">\n",
       "      <th></th>\n",
       "      <th></th>\n",
       "      <th>stroke</th>\n",
       "    </tr>\n",
       "    <tr>\n",
       "      <th>ever_married</th>\n",
       "      <th>stroke</th>\n",
       "      <th></th>\n",
       "    </tr>\n",
       "  </thead>\n",
       "  <tbody>\n",
       "    <tr>\n",
       "      <th rowspan=\"2\" valign=\"top\">No</th>\n",
       "      <th>NO</th>\n",
       "      <td>1728</td>\n",
       "    </tr>\n",
       "    <tr>\n",
       "      <th>YES</th>\n",
       "      <td>29</td>\n",
       "    </tr>\n",
       "    <tr>\n",
       "      <th rowspan=\"2\" valign=\"top\">Yes</th>\n",
       "      <th>NO</th>\n",
       "      <td>3133</td>\n",
       "    </tr>\n",
       "    <tr>\n",
       "      <th>YES</th>\n",
       "      <td>220</td>\n",
       "    </tr>\n",
       "  </tbody>\n",
       "</table>\n",
       "</div>"
      ],
      "text/plain": [
       "                     stroke\n",
       "ever_married stroke        \n",
       "No           NO        1728\n",
       "             YES         29\n",
       "Yes          NO        3133\n",
       "             YES        220"
      ]
     },
     "execution_count": 70,
     "metadata": {},
     "output_type": "execute_result"
    }
   ],
   "source": [
    "df.groupby(['ever_married'])['stroke'].value_counts().to_frame()"
   ]
  },
  {
   "cell_type": "code",
   "execution_count": 71,
   "id": "640799eb",
   "metadata": {},
   "outputs": [
    {
     "data": {
      "text/plain": [
       "<AxesSubplot:xlabel='ever_married', ylabel='count'>"
      ]
     },
     "execution_count": 71,
     "metadata": {},
     "output_type": "execute_result"
    },
    {
     "data": {
      "image/png": "[encoded data removed]",
      "text/plain": [
       "<Figure size 720x288 with 1 Axes>"
      ]
     },
     "metadata": {},
     "output_type": "display_data"
    }
   ],
   "source": [
    "sns.countplot(df['ever_married'] , hue = df['stroke'])"
   ]
  },
  {
   "cell_type": "markdown",
   "id": "aa1b97f7",
   "metadata": {},
   "source": [
    "###### by small ration people who have married was prone to stroke"
   ]
  },
  {
   "cell_type": "code",
   "execution_count": 72,
   "id": "c7121eff",
   "metadata": {},
   "outputs": [
    {
     "data": {
      "text/html": [
       "<div>\n",
       "<style scoped>\n",
       "    .dataframe tbody tr th:only-of-type {\n",
       "        vertical-align: middle;\n",
       "    }\n",
       "\n",
       "    .dataframe tbody tr th {\n",
       "        vertical-align: top;\n",
       "    }\n",
       "\n",
       "    .dataframe thead th {\n",
       "        text-align: right;\n",
       "    }\n",
       "</style>\n",
       "<table border=\"1\" class=\"dataframe\">\n",
       "  <thead>\n",
       "    <tr style=\"text-align: right;\">\n",
       "      <th></th>\n",
       "      <th></th>\n",
       "      <th>stroke</th>\n",
       "    </tr>\n",
       "    <tr>\n",
       "      <th>work_type</th>\n",
       "      <th>stroke</th>\n",
       "      <th></th>\n",
       "    </tr>\n",
       "  </thead>\n",
       "  <tbody>\n",
       "    <tr>\n",
       "      <th rowspan=\"2\" valign=\"top\">Govt_job</th>\n",
       "      <th>NO</th>\n",
       "      <td>624</td>\n",
       "    </tr>\n",
       "    <tr>\n",
       "      <th>YES</th>\n",
       "      <td>33</td>\n",
       "    </tr>\n",
       "    <tr>\n",
       "      <th rowspan=\"2\" valign=\"top\">Never_worked</th>\n",
       "      <th>NO</th>\n",
       "      <td>707</td>\n",
       "    </tr>\n",
       "    <tr>\n",
       "      <th>YES</th>\n",
       "      <td>2</td>\n",
       "    </tr>\n",
       "    <tr>\n",
       "      <th rowspan=\"2\" valign=\"top\">Private</th>\n",
       "      <th>NO</th>\n",
       "      <td>2776</td>\n",
       "    </tr>\n",
       "    <tr>\n",
       "      <th>YES</th>\n",
       "      <td>149</td>\n",
       "    </tr>\n",
       "    <tr>\n",
       "      <th rowspan=\"2\" valign=\"top\">Self-employed</th>\n",
       "      <th>NO</th>\n",
       "      <td>754</td>\n",
       "    </tr>\n",
       "    <tr>\n",
       "      <th>YES</th>\n",
       "      <td>65</td>\n",
       "    </tr>\n",
       "  </tbody>\n",
       "</table>\n",
       "</div>"
      ],
      "text/plain": [
       "                      stroke\n",
       "work_type     stroke        \n",
       "Govt_job      NO         624\n",
       "              YES         33\n",
       "Never_worked  NO         707\n",
       "              YES          2\n",
       "Private       NO        2776\n",
       "              YES        149\n",
       "Self-employed NO         754\n",
       "              YES         65"
      ]
     },
     "execution_count": 72,
     "metadata": {},
     "output_type": "execute_result"
    }
   ],
   "source": [
    "df.groupby(['work_type'])['stroke'].value_counts().to_frame()"
   ]
  },
  {
   "cell_type": "code",
   "execution_count": 73,
   "id": "cb29df76",
   "metadata": {},
   "outputs": [
    {
     "data": {
      "text/plain": [
       "<AxesSubplot:xlabel='count', ylabel='work_type'>"
      ]
     },
     "execution_count": 73,
     "metadata": {},
     "output_type": "execute_result"
    },
    {
     "data": {
      "image/png": "[encoded data removed]",
      "text/plain": [
       "<Figure size 720x288 with 1 Axes>"
      ]
     },
     "metadata": {},
     "output_type": "display_data"
    }
   ],
   "source": [
    "sns.countplot(y = df['work_type'] , hue = df['stroke'])"
   ]
  },
  {
   "cell_type": "markdown",
   "id": "22a38eda",
   "metadata": {},
   "source": [
    "###### people who work in private works by small ratio are prone to stroke and people who never work are not prone to stroke never "
   ]
  },
  {
   "cell_type": "code",
   "execution_count": 74,
   "id": "230aa94c",
   "metadata": {},
   "outputs": [
    {
     "data": {
      "text/html": [
       "<div>\n",
       "<style scoped>\n",
       "    .dataframe tbody tr th:only-of-type {\n",
       "        vertical-align: middle;\n",
       "    }\n",
       "\n",
       "    .dataframe tbody tr th {\n",
       "        vertical-align: top;\n",
       "    }\n",
       "\n",
       "    .dataframe thead th {\n",
       "        text-align: right;\n",
       "    }\n",
       "</style>\n",
       "<table border=\"1\" class=\"dataframe\">\n",
       "  <thead>\n",
       "    <tr style=\"text-align: right;\">\n",
       "      <th></th>\n",
       "      <th></th>\n",
       "      <th>stroke</th>\n",
       "    </tr>\n",
       "    <tr>\n",
       "      <th>Residence_type</th>\n",
       "      <th>stroke</th>\n",
       "      <th></th>\n",
       "    </tr>\n",
       "  </thead>\n",
       "  <tbody>\n",
       "    <tr>\n",
       "      <th rowspan=\"2\" valign=\"top\">Rural</th>\n",
       "      <th>NO</th>\n",
       "      <td>2400</td>\n",
       "    </tr>\n",
       "    <tr>\n",
       "      <th>YES</th>\n",
       "      <td>114</td>\n",
       "    </tr>\n",
       "    <tr>\n",
       "      <th rowspan=\"2\" valign=\"top\">Urban</th>\n",
       "      <th>NO</th>\n",
       "      <td>2461</td>\n",
       "    </tr>\n",
       "    <tr>\n",
       "      <th>YES</th>\n",
       "      <td>135</td>\n",
       "    </tr>\n",
       "  </tbody>\n",
       "</table>\n",
       "</div>"
      ],
      "text/plain": [
       "                       stroke\n",
       "Residence_type stroke        \n",
       "Rural          NO        2400\n",
       "               YES        114\n",
       "Urban          NO        2461\n",
       "               YES        135"
      ]
     },
     "execution_count": 74,
     "metadata": {},
     "output_type": "execute_result"
    }
   ],
   "source": [
    "df.groupby(['Residence_type'])['stroke'].value_counts().to_frame()"
   ]
  },
  {
   "cell_type": "code",
   "execution_count": 75,
   "id": "60da6a15",
   "metadata": {},
   "outputs": [
    {
     "data": {
      "text/plain": [
       "<AxesSubplot:xlabel='Residence_type', ylabel='count'>"
      ]
     },
     "execution_count": 75,
     "metadata": {},
     "output_type": "execute_result"
    },
    {
     "data": {
      "image/png": "[encoded data removed]",
      "text/plain": [
       "<Figure size 720x288 with 1 Axes>"
      ]
     },
     "metadata": {},
     "output_type": "display_data"
    }
   ],
   "source": [
    "sns.countplot(df['Residence_type'] , hue = df['stroke'])"
   ]
  },
  {
   "cell_type": "markdown",
   "id": "d9dd895a",
   "metadata": {},
   "source": [
    "###### For Residence_type the ratio for both nearly is equal"
   ]
  },
  {
   "cell_type": "code",
   "execution_count": 76,
   "id": "73241581",
   "metadata": {},
   "outputs": [
    {
     "data": {
      "text/plain": [
       "<seaborn.axisgrid.FacetGrid at 0x25f1f3be560>"
      ]
     },
     "execution_count": 76,
     "metadata": {},
     "output_type": "execute_result"
    },
    {
     "data": {
      "image/png": "[encoded data removed]",
      "text/plain": [
       "<Figure size 414.223x360 with 1 Axes>"
      ]
     },
     "metadata": {},
     "output_type": "display_data"
    }
   ],
   "source": [
    "sns.displot(x = df['avg_glucose_level'] , hue = df['stroke'])"
   ]
  },
  {
   "cell_type": "markdown",
   "id": "4fde22a9",
   "metadata": {},
   "source": [
    "###### stroke feature is imbalanced and there is no cleared pattern for avg_glucose_level "
   ]
  },
  {
   "cell_type": "code",
   "execution_count": 77,
   "id": "f3687437",
   "metadata": {},
   "outputs": [
    {
     "data": {
      "text/plain": [
       "<seaborn.axisgrid.FacetGrid at 0x25f204e5330>"
      ]
     },
     "execution_count": 77,
     "metadata": {},
     "output_type": "execute_result"
    },
    {
     "data": {
      "image/png": "[encoded data removed]",
      "text/plain": [
       "<Figure size 414.223x360 with 1 Axes>"
      ]
     },
     "metadata": {},
     "output_type": "display_data"
    }
   ],
   "source": [
    "sns.displot(x = df['bmi'] , hue = df['stroke'])"
   ]
  },
  {
   "cell_type": "markdown",
   "id": "3bbbeb9e",
   "metadata": {},
   "source": [
    "###### stroke feature is imbalanced and there is no cleared pattern for  bmi but we can estimate that stroke is in 20 to 40 bmi "
   ]
  },
  {
   "cell_type": "code",
   "execution_count": 78,
   "id": "d84e2e10",
   "metadata": {},
   "outputs": [
    {
     "data": {
      "text/html": [
       "<div>\n",
       "<style scoped>\n",
       "    .dataframe tbody tr th:only-of-type {\n",
       "        vertical-align: middle;\n",
       "    }\n",
       "\n",
       "    .dataframe tbody tr th {\n",
       "        vertical-align: top;\n",
       "    }\n",
       "\n",
       "    .dataframe thead th {\n",
       "        text-align: right;\n",
       "    }\n",
       "</style>\n",
       "<table border=\"1\" class=\"dataframe\">\n",
       "  <thead>\n",
       "    <tr style=\"text-align: right;\">\n",
       "      <th></th>\n",
       "      <th></th>\n",
       "      <th>stroke</th>\n",
       "    </tr>\n",
       "    <tr>\n",
       "      <th>smoking_status</th>\n",
       "      <th>stroke</th>\n",
       "      <th></th>\n",
       "    </tr>\n",
       "  </thead>\n",
       "  <tbody>\n",
       "    <tr>\n",
       "      <th rowspan=\"2\" valign=\"top\">Unknown</th>\n",
       "      <th>NO</th>\n",
       "      <td>1497</td>\n",
       "    </tr>\n",
       "    <tr>\n",
       "      <th>YES</th>\n",
       "      <td>47</td>\n",
       "    </tr>\n",
       "    <tr>\n",
       "      <th rowspan=\"2\" valign=\"top\">formerly smoked</th>\n",
       "      <th>NO</th>\n",
       "      <td>815</td>\n",
       "    </tr>\n",
       "    <tr>\n",
       "      <th>YES</th>\n",
       "      <td>70</td>\n",
       "    </tr>\n",
       "    <tr>\n",
       "      <th rowspan=\"2\" valign=\"top\">never smoked</th>\n",
       "      <th>NO</th>\n",
       "      <td>1802</td>\n",
       "    </tr>\n",
       "    <tr>\n",
       "      <th>YES</th>\n",
       "      <td>90</td>\n",
       "    </tr>\n",
       "    <tr>\n",
       "      <th rowspan=\"2\" valign=\"top\">smokes</th>\n",
       "      <th>NO</th>\n",
       "      <td>747</td>\n",
       "    </tr>\n",
       "    <tr>\n",
       "      <th>YES</th>\n",
       "      <td>42</td>\n",
       "    </tr>\n",
       "  </tbody>\n",
       "</table>\n",
       "</div>"
      ],
      "text/plain": [
       "                        stroke\n",
       "smoking_status  stroke        \n",
       "Unknown         NO        1497\n",
       "                YES         47\n",
       "formerly smoked NO         815\n",
       "                YES         70\n",
       "never smoked    NO        1802\n",
       "                YES         90\n",
       "smokes          NO         747\n",
       "                YES         42"
      ]
     },
     "execution_count": 78,
     "metadata": {},
     "output_type": "execute_result"
    }
   ],
   "source": [
    "df.groupby(['smoking_status'])['stroke'].value_counts().to_frame()"
   ]
  },
  {
   "cell_type": "code",
   "execution_count": 79,
   "id": "7f216e54",
   "metadata": {},
   "outputs": [
    {
     "data": {
      "text/plain": [
       "<AxesSubplot:xlabel='count', ylabel='smoking_status'>"
      ]
     },
     "execution_count": 79,
     "metadata": {},
     "output_type": "execute_result"
    },
    {
     "data": {
      "image/png": "[encoded data removed]",
      "text/plain": [
       "<Figure size 720x288 with 1 Axes>"
      ]
     },
     "metadata": {},
     "output_type": "display_data"
    }
   ],
   "source": [
    "sns.countplot(y = df['smoking_status'] , hue = df['stroke'])"
   ]
  },
  {
   "cell_type": "markdown",
   "id": "2b89c0d0",
   "metadata": {},
   "source": [
    "###### data is imbalanced and no cleared pattern "
   ]
  },
  {
   "cell_type": "code",
   "execution_count": 80,
   "id": "6cd09180",
   "metadata": {},
   "outputs": [
    {
     "data": {
      "text/plain": [
       "<seaborn.axisgrid.PairGrid at 0x25f208dd510>"
      ]
     },
     "execution_count": 80,
     "metadata": {},
     "output_type": "execute_result"
    },
    {
     "data": {
      "image/png": "[encoded data removed]",
      "text/plain": [
       "<Figure size 540x540 with 12 Axes>"
      ]
     },
     "metadata": {},
     "output_type": "display_data"
    }
   ],
   "source": [
    "sns.pairplot(df)"
   ]
  },
  {
   "cell_type": "markdown",
   "id": "45237b65",
   "metadata": {},
   "source": [
    "* age & bmi there is linear +ve correlation \n",
    "* bmi & avg_glucose_level +ve correlation but weak \n",
    "* age & avg_glucose_level weak +ve correlation "
   ]
  },
  {
   "cell_type": "code",
   "execution_count": 81,
   "id": "fd2eca2c",
   "metadata": {},
   "outputs": [
    {
     "data": {
      "text/plain": [
       "<AxesSubplot:>"
      ]
     },
     "execution_count": 81,
     "metadata": {},
     "output_type": "execute_result"
    },
    {
     "data": {
      "image/png": "[encoded data removed]",
      "text/plain": [
       "<Figure size 720x288 with 2 Axes>"
      ]
     },
     "metadata": {},
     "output_type": "display_data"
    }
   ],
   "source": [
    "sns.heatmap(df.select_dtypes('number').corr() , annot=True , cmap = 'Dark2')"
   ]
  },
  {
   "cell_type": "code",
   "execution_count": 178,
   "id": "d624290c",
   "metadata": {},
   "outputs": [
    {
     "data": {
      "text/plain": [
       "<AxesSubplot:xlabel='heart_disease', ylabel='age'>"
      ]
     },
     "execution_count": 178,
     "metadata": {},
     "output_type": "execute_result"
    },
    {
     "data": {
      "image/png": "[encoded data removed]",
      "text/plain": [
       "<Figure size 720x288 with 1 Axes>"
      ]
     },
     "metadata": {},
     "output_type": "display_data"
    }
   ],
   "source": [
    "sns.violinplot(x = df['heart_disease'] , y = df['age'])"
   ]
  },
  {
   "cell_type": "markdown",
   "id": "732672e6",
   "metadata": {},
   "source": [
    "###### most of people with age above 40 suffer from heart_disease"
   ]
  },
  {
   "cell_type": "code",
   "execution_count": 179,
   "id": "d1096c8b",
   "metadata": {},
   "outputs": [
    {
     "data": {
      "text/html": [
       "<div>\n",
       "<style scoped>\n",
       "    .dataframe tbody tr th:only-of-type {\n",
       "        vertical-align: middle;\n",
       "    }\n",
       "\n",
       "    .dataframe tbody tr th {\n",
       "        vertical-align: top;\n",
       "    }\n",
       "\n",
       "    .dataframe thead th {\n",
       "        text-align: right;\n",
       "    }\n",
       "</style>\n",
       "<table border=\"1\" class=\"dataframe\">\n",
       "  <thead>\n",
       "    <tr style=\"text-align: right;\">\n",
       "      <th></th>\n",
       "      <th>mean</th>\n",
       "    </tr>\n",
       "    <tr>\n",
       "      <th>work_type</th>\n",
       "      <th></th>\n",
       "    </tr>\n",
       "  </thead>\n",
       "  <tbody>\n",
       "    <tr>\n",
       "      <th>Govt_job</th>\n",
       "      <td>30.536073</td>\n",
       "    </tr>\n",
       "    <tr>\n",
       "      <th>Never_worked</th>\n",
       "      <td>20.206112</td>\n",
       "    </tr>\n",
       "    <tr>\n",
       "      <th>Private</th>\n",
       "      <td>30.349333</td>\n",
       "    </tr>\n",
       "    <tr>\n",
       "      <th>Self-employed</th>\n",
       "      <td>30.246235</td>\n",
       "    </tr>\n",
       "  </tbody>\n",
       "</table>\n",
       "</div>"
      ],
      "text/plain": [
       "                    mean\n",
       "work_type               \n",
       "Govt_job       30.536073\n",
       "Never_worked   20.206112\n",
       "Private        30.349333\n",
       "Self-employed  30.246235"
      ]
     },
     "execution_count": 179,
     "metadata": {},
     "output_type": "execute_result"
    }
   ],
   "source": [
    "df.groupby(['work_type'])['bmi'].agg(['mean'])"
   ]
  },
  {
   "cell_type": "code",
   "execution_count": 180,
   "id": "c6940624",
   "metadata": {},
   "outputs": [
    {
     "data": {
      "text/plain": [
       "<AxesSubplot:xlabel='work_type', ylabel='bmi'>"
      ]
     },
     "execution_count": 180,
     "metadata": {},
     "output_type": "execute_result"
    },
    {
     "data": {
      "image/png": "[encoded data removed]",
      "text/plain": [
       "<Figure size 720x288 with 1 Axes>"
      ]
     },
     "metadata": {},
     "output_type": "display_data"
    }
   ],
   "source": [
    "sns.barplot(x = df['work_type'] , y = df['bmi'] , estimator=np.mean)"
   ]
  },
  {
   "cell_type": "markdown",
   "id": "fad4beca",
   "metadata": {},
   "source": [
    "###### people who never work with small bmi "
   ]
  },
  {
   "cell_type": "code",
   "execution_count": 181,
   "id": "5d364cc3",
   "metadata": {},
   "outputs": [
    {
     "data": {
      "text/html": [
       "<div>\n",
       "<style scoped>\n",
       "    .dataframe tbody tr th:only-of-type {\n",
       "        vertical-align: middle;\n",
       "    }\n",
       "\n",
       "    .dataframe tbody tr th {\n",
       "        vertical-align: top;\n",
       "    }\n",
       "\n",
       "    .dataframe thead th {\n",
       "        text-align: right;\n",
       "    }\n",
       "</style>\n",
       "<table border=\"1\" class=\"dataframe\">\n",
       "  <thead>\n",
       "    <tr style=\"text-align: right;\">\n",
       "      <th></th>\n",
       "      <th></th>\n",
       "      <th>heart_disease</th>\n",
       "    </tr>\n",
       "    <tr>\n",
       "      <th>Residence_type</th>\n",
       "      <th>heart_disease</th>\n",
       "      <th></th>\n",
       "    </tr>\n",
       "  </thead>\n",
       "  <tbody>\n",
       "    <tr>\n",
       "      <th rowspan=\"2\" valign=\"top\">Rural</th>\n",
       "      <th>NO</th>\n",
       "      <td>2380</td>\n",
       "    </tr>\n",
       "    <tr>\n",
       "      <th>YES</th>\n",
       "      <td>134</td>\n",
       "    </tr>\n",
       "    <tr>\n",
       "      <th rowspan=\"2\" valign=\"top\">Urban</th>\n",
       "      <th>NO</th>\n",
       "      <td>2454</td>\n",
       "    </tr>\n",
       "    <tr>\n",
       "      <th>YES</th>\n",
       "      <td>142</td>\n",
       "    </tr>\n",
       "  </tbody>\n",
       "</table>\n",
       "</div>"
      ],
      "text/plain": [
       "                              heart_disease\n",
       "Residence_type heart_disease               \n",
       "Rural          NO                      2380\n",
       "               YES                      134\n",
       "Urban          NO                      2454\n",
       "               YES                      142"
      ]
     },
     "execution_count": 181,
     "metadata": {},
     "output_type": "execute_result"
    }
   ],
   "source": [
    "df.groupby(['Residence_type'])['heart_disease'].value_counts().to_frame()"
   ]
  },
  {
   "cell_type": "code",
   "execution_count": 182,
   "id": "308934a3",
   "metadata": {},
   "outputs": [
    {
     "data": {
      "text/plain": [
       "<AxesSubplot:xlabel='heart_disease', ylabel='count'>"
      ]
     },
     "execution_count": 182,
     "metadata": {},
     "output_type": "execute_result"
    },
    {
     "data": {
      "image/png": "[encoded data removed]",
      "text/plain": [
       "<Figure size 720x288 with 1 Axes>"
      ]
     },
     "metadata": {},
     "output_type": "display_data"
    }
   ],
   "source": [
    "sns.countplot(df['heart_disease'] , hue = df['Residence_type'])"
   ]
  },
  {
   "cell_type": "markdown",
   "id": "fe6c9eb7",
   "metadata": {},
   "source": [
    "* Nothing noticeable Residence types nearly are equal for both people are have heart disease or not `no effect for Residence_type on  heart_disease`"
   ]
  },
  {
   "cell_type": "code",
   "execution_count": 183,
   "id": "b6061300",
   "metadata": {},
   "outputs": [
    {
     "data": {
      "text/html": [
       "<div>\n",
       "<style scoped>\n",
       "    .dataframe tbody tr th:only-of-type {\n",
       "        vertical-align: middle;\n",
       "    }\n",
       "\n",
       "    .dataframe tbody tr th {\n",
       "        vertical-align: top;\n",
       "    }\n",
       "\n",
       "    .dataframe thead th {\n",
       "        text-align: right;\n",
       "    }\n",
       "</style>\n",
       "<table border=\"1\" class=\"dataframe\">\n",
       "  <thead>\n",
       "    <tr style=\"text-align: right;\">\n",
       "      <th></th>\n",
       "      <th>count</th>\n",
       "      <th>mean</th>\n",
       "      <th>std</th>\n",
       "      <th>min</th>\n",
       "      <th>25%</th>\n",
       "      <th>50%</th>\n",
       "      <th>75%</th>\n",
       "      <th>max</th>\n",
       "    </tr>\n",
       "    <tr>\n",
       "      <th>heart_disease</th>\n",
       "      <th></th>\n",
       "      <th></th>\n",
       "      <th></th>\n",
       "      <th></th>\n",
       "      <th></th>\n",
       "      <th></th>\n",
       "      <th></th>\n",
       "      <th></th>\n",
       "    </tr>\n",
       "  </thead>\n",
       "  <tbody>\n",
       "    <tr>\n",
       "      <th>NO</th>\n",
       "      <td>4834.0</td>\n",
       "      <td>104.396494</td>\n",
       "      <td>43.432070</td>\n",
       "      <td>55.12</td>\n",
       "      <td>76.9425</td>\n",
       "      <td>91.265</td>\n",
       "      <td>112.5400</td>\n",
       "      <td>267.76</td>\n",
       "    </tr>\n",
       "    <tr>\n",
       "      <th>YES</th>\n",
       "      <td>276.0</td>\n",
       "      <td>136.818768</td>\n",
       "      <td>62.823103</td>\n",
       "      <td>56.31</td>\n",
       "      <td>83.4300</td>\n",
       "      <td>106.545</td>\n",
       "      <td>201.8725</td>\n",
       "      <td>271.74</td>\n",
       "    </tr>\n",
       "  </tbody>\n",
       "</table>\n",
       "</div>"
      ],
      "text/plain": [
       "                count        mean        std    min      25%      50%  \\\n",
       "heart_disease                                                           \n",
       "NO             4834.0  104.396494  43.432070  55.12  76.9425   91.265   \n",
       "YES             276.0  136.818768  62.823103  56.31  83.4300  106.545   \n",
       "\n",
       "                    75%     max  \n",
       "heart_disease                    \n",
       "NO             112.5400  267.76  \n",
       "YES            201.8725  271.74  "
      ]
     },
     "execution_count": 183,
     "metadata": {},
     "output_type": "execute_result"
    }
   ],
   "source": [
    "df.groupby(['heart_disease'])['avg_glucose_level'].describe()"
   ]
  },
  {
   "cell_type": "code",
   "execution_count": 184,
   "id": "7276b8be",
   "metadata": {},
   "outputs": [
    {
     "data": {
      "text/plain": [
       "<AxesSubplot:xlabel='heart_disease', ylabel='avg_glucose_level'>"
      ]
     },
     "execution_count": 184,
     "metadata": {},
     "output_type": "execute_result"
    },
    {
     "data": {
      "image/png": "[encoded data removed]",
      "text/plain": [
       "<Figure size 720x288 with 1 Axes>"
      ]
     },
     "metadata": {},
     "output_type": "display_data"
    }
   ],
   "source": [
    "sns.boxplot(x = df['heart_disease'] , y = df['avg_glucose_level'])"
   ]
  },
  {
   "cell_type": "markdown",
   "id": "81b5266e",
   "metadata": {},
   "source": [
    "###### avg_glucose_level for people who have heart_disease is in 90 to 200 & people who have not heart_disease between 80 to 120"
   ]
  },
  {
   "cell_type": "code",
   "execution_count": 185,
   "id": "cd58eef7",
   "metadata": {},
   "outputs": [
    {
     "data": {
      "text/html": [
       "<div>\n",
       "<style scoped>\n",
       "    .dataframe tbody tr th:only-of-type {\n",
       "        vertical-align: middle;\n",
       "    }\n",
       "\n",
       "    .dataframe tbody tr th {\n",
       "        vertical-align: top;\n",
       "    }\n",
       "\n",
       "    .dataframe thead th {\n",
       "        text-align: right;\n",
       "    }\n",
       "</style>\n",
       "<table border=\"1\" class=\"dataframe\">\n",
       "  <thead>\n",
       "    <tr style=\"text-align: right;\">\n",
       "      <th></th>\n",
       "      <th></th>\n",
       "      <th>gender</th>\n",
       "    </tr>\n",
       "    <tr>\n",
       "      <th>work_type</th>\n",
       "      <th>gender</th>\n",
       "      <th></th>\n",
       "    </tr>\n",
       "  </thead>\n",
       "  <tbody>\n",
       "    <tr>\n",
       "      <th rowspan=\"2\" valign=\"top\">Govt_job</th>\n",
       "      <th>Female</th>\n",
       "      <td>60.730594</td>\n",
       "    </tr>\n",
       "    <tr>\n",
       "      <th>Male</th>\n",
       "      <td>39.269406</td>\n",
       "    </tr>\n",
       "    <tr>\n",
       "      <th rowspan=\"2\" valign=\"top\">Never_worked</th>\n",
       "      <th>Male</th>\n",
       "      <td>52.468265</td>\n",
       "    </tr>\n",
       "    <tr>\n",
       "      <th>Female</th>\n",
       "      <td>47.531735</td>\n",
       "    </tr>\n",
       "    <tr>\n",
       "      <th rowspan=\"2\" valign=\"top\">Private</th>\n",
       "      <th>Female</th>\n",
       "      <td>60.000000</td>\n",
       "    </tr>\n",
       "    <tr>\n",
       "      <th>Male</th>\n",
       "      <td>40.000000</td>\n",
       "    </tr>\n",
       "    <tr>\n",
       "      <th rowspan=\"2\" valign=\"top\">Self-employed</th>\n",
       "      <th>Female</th>\n",
       "      <td>61.538462</td>\n",
       "    </tr>\n",
       "    <tr>\n",
       "      <th>Male</th>\n",
       "      <td>38.461538</td>\n",
       "    </tr>\n",
       "  </tbody>\n",
       "</table>\n",
       "</div>"
      ],
      "text/plain": [
       "                         gender\n",
       "work_type     gender           \n",
       "Govt_job      Female  60.730594\n",
       "              Male    39.269406\n",
       "Never_worked  Male    52.468265\n",
       "              Female  47.531735\n",
       "Private       Female  60.000000\n",
       "              Male    40.000000\n",
       "Self-employed Female  61.538462\n",
       "              Male    38.461538"
      ]
     },
     "execution_count": 185,
     "metadata": {},
     "output_type": "execute_result"
    }
   ],
   "source": [
    "df.groupby(['work_type'])['gender'].value_counts(normalize = True ).to_frame()*100"
   ]
  },
  {
   "cell_type": "markdown",
   "id": "3c9f858f",
   "metadata": {},
   "source": [
    "for every job type of work male and female are nearly equal and no difference between 4 type of jobs"
   ]
  },
  {
   "cell_type": "code",
   "execution_count": 186,
   "id": "e6114773",
   "metadata": {},
   "outputs": [
    {
     "data": {
      "text/plain": [
       "<AxesSubplot:xlabel='work_type', ylabel='count'>"
      ]
     },
     "execution_count": 186,
     "metadata": {},
     "output_type": "execute_result"
    },
    {
     "data": {
      "image/png": "[encoded data removed]",
      "text/plain": [
       "<Figure size 720x288 with 1 Axes>"
      ]
     },
     "metadata": {},
     "output_type": "display_data"
    }
   ],
   "source": [
    "sns.countplot(x = df['work_type'] , hue = df['gender'])"
   ]
  },
  {
   "cell_type": "code",
   "execution_count": 187,
   "id": "706baa07",
   "metadata": {},
   "outputs": [
    {
     "data": {
      "text/plain": [
       "<AxesSubplot:xlabel='heart_disease', ylabel='bmi'>"
      ]
     },
     "execution_count": 187,
     "metadata": {},
     "output_type": "execute_result"
    },
    {
     "data": {
      "image/png": "[encoded data removed]",
      "text/plain": [
       "<Figure size 720x288 with 1 Axes>"
      ]
     },
     "metadata": {},
     "output_type": "display_data"
    }
   ],
   "source": [
    "sns.violinplot(x = df['heart_disease'] , y = df['bmi'] , hue = df['stroke'])"
   ]
  },
  {
   "cell_type": "markdown",
   "id": "e91e2007",
   "metadata": {},
   "source": [
    "###### distribution of people who have heart disease or not and prone to stroke or not are the same "
   ]
  },
  {
   "cell_type": "markdown",
   "id": "54bc4599",
   "metadata": {},
   "source": [
    "# `--------------------------Conclusion------------------------------`"
   ]
  },
  {
   "cell_type": "markdown",
   "id": "633bba4a",
   "metadata": {},
   "source": [
    "###### Convert dtype of bmi from string to float and fill missing recordes by knn imputer "
   ]
  },
  {
   "cell_type": "code",
   "execution_count": 188,
   "id": "ecb44ff6",
   "metadata": {
    "scrolled": false
   },
   "outputs": [
    {
     "data": {
      "text/plain": [
       "dtype('float64')"
      ]
     },
     "execution_count": 188,
     "metadata": {},
     "output_type": "execute_result"
    }
   ],
   "source": [
    "df['bmi'].dtype"
   ]
  },
  {
   "cell_type": "code",
   "execution_count": 189,
   "id": "02f1595c",
   "metadata": {},
   "outputs": [
    {
     "data": {
      "text/plain": [
       "0.0"
      ]
     },
     "execution_count": 189,
     "metadata": {},
     "output_type": "execute_result"
    }
   ],
   "source": [
    "df['bmi'].isnull().mean()"
   ]
  },
  {
   "cell_type": "markdown",
   "id": "5ab147b5",
   "metadata": {},
   "source": [
    "###### wroking type children converted to never worked "
   ]
  },
  {
   "cell_type": "code",
   "execution_count": 190,
   "id": "a814ee2d",
   "metadata": {},
   "outputs": [
    {
     "data": {
      "text/plain": [
       "array(['Private', 'Self-employed', 'Govt_job', 'Never_worked'],\n",
       "      dtype=object)"
      ]
     },
     "execution_count": 190,
     "metadata": {},
     "output_type": "execute_result"
    }
   ],
   "source": [
    "df['work_type'].unique()"
   ]
  },
  {
   "cell_type": "markdown",
   "id": "e954d236",
   "metadata": {},
   "source": [
    "###### outlier points is true data keep it as it later we will convert them to categories (bmi , avg_glucose_level)"
   ]
  },
  {
   "cell_type": "code",
   "execution_count": 191,
   "id": "92d5e4b9",
   "metadata": {},
   "outputs": [],
   "source": [
    "#['Underweight', 'Ideal', 'Overweight', 'Obesity']"
   ]
  },
  {
   "cell_type": "markdown",
   "id": "11244c75",
   "metadata": {},
   "source": [
    "###### Finally we will save Modified data frame into csv file "
   ]
  },
  {
   "cell_type": "code",
   "execution_count": 192,
   "id": "ac7cd683",
   "metadata": {},
   "outputs": [],
   "source": [
    "#df.to_csv('Modified-healthcare-dataset-stroke-data.csv' , index=False)"
   ]
  },
  {
   "cell_type": "code",
   "execution_count": null,
   "id": "2179117c",
   "metadata": {},
   "outputs": [],
   "source": []
  }
 ],
 "metadata": {
  "kernelspec": {
   "display_name": "Python 3 (ipykernel)",
   "language": "python",
   "name": "python3"
  },
  "language_info": {
   "codemirror_mode": {
    "name": "ipython",
    "version": 3
   },
   "file_extension": ".py",
   "mimetype": "text/x-python",
   "name": "python",
   "nbconvert_exporter": "python",
   "pygments_lexer": "ipython3",
   "version": "3.10.4"
  }
 },
 "nbformat": 4,
 "nbformat_minor": 5
}
