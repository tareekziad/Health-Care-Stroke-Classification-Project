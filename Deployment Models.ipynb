{
 "cells": [
  {
   "cell_type": "code",
   "execution_count": 1,
   "id": "340d8831",
   "metadata": {},
   "outputs": [],
   "source": [
    "import streamlit as st"
   ]
  },
  {
   "cell_type": "code",
   "execution_count": 2,
   "id": "9f32471d",
   "metadata": {},
   "outputs": [
    {
     "name": "stdout",
     "output_type": "stream",
     "text": [
      "Overwriting StrokeClassifier.py\n"
     ]
    }
   ],
   "source": [
    "%%writefile StrokeClassifier.py\n",
    "import pandas as pd \n",
    "import warnings\n",
    "import streamlit as st\n",
    "import joblib\n",
    "from sklearn.preprocessing import FunctionTransformer\n",
    "import sklearn\n",
    "warnings.filterwarnings('ignore')\n",
    "\n",
    "#----------------------------------------------------------------------------------------------------------------\n",
    "\n",
    "def bmi_glu_preprocessing(x):\n",
    "    bmi_bins , bmi_labels , bmi_mapper = joblib.load('bmi_bins.h5') , joblib.load('bmi_labels.h5') , joblib.load('bmi_mapper.h5')\n",
    "    glucose_bins , glucose_labels = joblib.load('glucose_bins.h5') , joblib.load('glucose_labels.h5')\n",
    "    glucose_mapper = joblib.load('glucose_mapper.h5')\n",
    "    x['glucose_cat'] = pd.cut(x['avg_glucose_level'], bins = glucose_bins, labels = glucose_labels)\n",
    "    x['bmi_cat'] = pd.cut(x['bmi'], bins = bmi_bins, labels = bmi_labels)\n",
    "    x['glucose_cat'] = x['glucose_cat'].map(glucose_mapper).astype(int)\n",
    "    x['bmi_cat'] = x['bmi_cat'].map(bmi_mapper).astype(int)\n",
    "    x.drop(['bmi' , 'avg_glucose_level'] , axis = 1 , inplace = True )\n",
    "    return x\n",
    "\n",
    "#----------------------------------------------------------------------------------------------------------------\n",
    "\n",
    "SVC = joblib.load('SVC.h5')\n",
    "SVC.steps.insert(0 , ('preprocessing' , FunctionTransformer(bmi_glu_preprocessing)))\n",
    "\n",
    "#----------------------------------------------------------------------------------------------------------------\n",
    "\n",
    "def Predict(gender, age, hypertension, heart_disease, ever_married, work_type,Residence_type,avg_glucose_level,bmi,smoking_status):\n",
    "    test = pd.DataFrame(columns=['gender', 'age', 'hypertension', 'heart_disease', 'ever_married',\n",
    "       'work_type', 'Residence_type', 'avg_glucose_level', 'bmi',\n",
    "       'smoking_status'])\n",
    "    \n",
    "    test.at[0,['gender']] = gender\n",
    "    test.at[0,['age']] = age\n",
    "    test.at[0,['hypertension']] = hypertension\n",
    "    test.at[0,['heart_disease']] = heart_disease\n",
    "    test.at[0,['ever_married']] = ever_married\n",
    "    test.at[0,['work_type']] = work_type\n",
    "    test.at[0,['Residence_type']] = Residence_type\n",
    "    test.at[0,['avg_glucose_level']] = avg_glucose_level\n",
    "    test.at[0,['bmi']] = bmi\n",
    "    test.at[0,['smoking_status']] = smoking_status\n",
    "        \n",
    "    return SVC.predict(test)[0]\n",
    "    \n",
    "#----------------------------------------------------------------------------------------------------------------\n",
    "    \n",
    "    \n",
    "def main():\n",
    "    st.header('estimate your stroke'.capitalize())\n",
    "    st.image('images.jfif')\n",
    "    gender = st.selectbox('what is your gender'.title() , ['Male', 'Female',])\n",
    "    age = st.slider('what is your age'.title() , min_value = 1 , max_value=85 , value=20 , step=1)\n",
    "    hypertension = st.selectbox('have you hypertension'.title() , ['NO', 'YES'])\n",
    "    heart_disease = st.selectbox('have you heart disease'.title() , ['YES', 'NO'])\n",
    "    ever_married = st.selectbox('have you ever married'.title() , ['Yes', 'No'])\n",
    "    work_type = st.selectbox('what is your work type'.title() , ['Private', 'Self-employed', 'Govt_job', 'Never_worked'])\n",
    "    Residence_type = st.selectbox('what is your Residence type'.title() , ['Urban', 'Rural'])\n",
    "    avg_glucose_level = st.slider('enter youe glucose ratio'.title() ,min_value = 50.0 , max_value=280.0 , value=70.0 , step=0.1)\n",
    "    bmi = st.slider('enter your bmi'.title() ,min_value = 10.0 , max_value=100.0 , value=70.0 , step=0.2 )\n",
    "    smoking_status = st.selectbox('have you smoke'.title() , ['formerly smoked', 'never smoked', 'smokes', 'Unknown'])\n",
    "    \n",
    "    if st.button('predict'.title()):\n",
    "        ans = Predict(gender, age, hypertension, heart_disease, ever_married,\n",
    "                      work_type,Residence_type,avg_glucose_level,bmi,smoking_status)\n",
    "        if ans:\n",
    "            st.write('Unfortunately, you are prone to a stroke, you should consult a doctor'.title() , ans)\n",
    "        else :\n",
    "            st.write('No need to worry, you are in good health'.title() , ans)\n",
    "main()"
   ]
  },
  {
   "cell_type": "code",
   "execution_count": 3,
   "id": "16f4e72d",
   "metadata": {},
   "outputs": [
    {
     "name": "stdout",
     "output_type": "stream",
     "text": [
      "^C\n"
     ]
    }
   ],
   "source": [
    "!streamlit run StrokeClassifier.py"
   ]
  },
  {
   "cell_type": "code",
   "execution_count": null,
   "id": "e4a7c735",
   "metadata": {},
   "outputs": [],
   "source": []
  }
 ],
 "metadata": {
  "kernelspec": {
   "display_name": "Python 3 (ipykernel)",
   "language": "python",
   "name": "python3"
  },
  "language_info": {
   "codemirror_mode": {
    "name": "ipython",
    "version": 3
   },
   "file_extension": ".py",
   "mimetype": "text/x-python",
   "name": "python",
   "nbconvert_exporter": "python",
   "pygments_lexer": "ipython3",
   "version": "3.10.4"
  }
 },
 "nbformat": 4,
 "nbformat_minor": 5
}
