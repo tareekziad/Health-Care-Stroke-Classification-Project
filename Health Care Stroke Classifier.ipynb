{
 "cells": [
  {
   "cell_type": "markdown",
   "id": "37dbc86d",
   "metadata": {},
   "source": [
    "# `-------------------Health Care Stroke Classifier-------------------`"
   ]
  },
  {
   "cell_type": "markdown",
   "id": "625cfc58",
   "metadata": {},
   "source": [
    "## `Attribute Information`"
   ]
  },
  {
   "cell_type": "markdown",
   "id": "d551a14e",
   "metadata": {},
   "source": [
    "* 1) id: unique identifier\n",
    "* 2) gender: \"Male\", \"Female\" or \"Other\"\n",
    "* 3) age: age of the patient\n",
    "* 4) hypertension: \"NO\" if the patient doesn't have hypertension, \"Yes\" if the patient has hypertension\n",
    "* 5) heart_disease: \"NO\" if the patient doesn't have any heart diseases, \"Yes\" if the patient has a heart disease\n",
    "* 6) ever_married: \"No\" or \"Yes\"\n",
    "* 7) work_type: \"children\", \"Govt_jov\", \"Never_worked\", \"Private\" or \"Self-employed\"\n",
    "* 8) Residence_type: \"Rural\" or \"Urban\"\n",
    "* 9) avg_glucose_level: average glucose level in blood\n",
    "* 10) bmi: body mass index\n",
    "* 11) smoking_status: \"formerly smoked\", \"never smoked\", \"smokes\" or \"Unknown\"*\n",
    "* 12) stroke: \"Yes\" if the patient had a stroke or \"NO\" if not"
   ]
  },
  {
   "cell_type": "markdown",
   "id": "4b9907c7",
   "metadata": {},
   "source": [
    "## `Objectives` \n",
    "* 1- Data Preprocessing (encoding & scaling , oversampling , undersampling , featureselection)\n",
    "* 2- Build Machine Learning Models to predict if person prone to stroke or not\n",
    "* 3- Model Selection and Tuning "
   ]
  },
  {
   "cell_type": "markdown",
   "id": "f628a45b",
   "metadata": {},
   "source": [
    "### Import Some Helper Library"
   ]
  },
  {
   "cell_type": "code",
   "execution_count": 1,
   "id": "cccb8910",
   "metadata": {},
   "outputs": [],
   "source": [
    "import pandas as pd \n",
    "import numpy as np \n",
    "import seaborn as sns\n",
    "import matplotlib.pyplot as plt \n",
    "import warnings\n",
    "warnings.filterwarnings('ignore')"
   ]
  },
  {
   "cell_type": "code",
   "execution_count": 2,
   "id": "1c7545ae",
   "metadata": {},
   "outputs": [],
   "source": [
    "%matplotlib inline \n",
    "sns.set_theme(context = 'paper' , style = 'whitegrid' , palette = 'Dark2' , font_scale=1.1 \n",
    "              , rc = {'figure.figsize' : (10 , 4)})"
   ]
  },
  {
   "cell_type": "code",
   "execution_count": 3,
   "id": "1e4f8bbd",
   "metadata": {},
   "outputs": [],
   "source": [
    "from sklearn.preprocessing import LabelEncoder , OneHotEncoder , StandardScaler , RobustScaler , MinMaxScaler , PolynomialFeatures\n",
    "from sklearn.pipeline import Pipeline , make_pipeline\n",
    "from datasist.structdata import detect_outliers\n",
    "from sklearn.impute import SimpleImputer , KNNImputer\n",
    "from category_encoders import BinaryEncoder\n",
    "from imblearn.combine import SMOTETomek\n",
    "from imblearn.under_sampling import TomekLinks\n",
    "from imblearn.over_sampling import SMOTE\n",
    "from sklearn.linear_model import LogisticRegression\n",
    "from sklearn.linear_model import PassiveAggressiveClassifier\n",
    "from sklearn.naive_bayes import GaussianNB , MultinomialNB\n",
    "from sklearn.neighbors import KNeighborsClassifier\n",
    "from sklearn.svm import SVC\n",
    "from sklearn.tree import DecisionTreeClassifier\n",
    "from sklearn.ensemble import RandomForestClassifier , VotingClassifier , BaggingClassifier ,GradientBoostingClassifier,AdaBoostClassifier\n",
    "from xgboost import XGBClassifier \n",
    "from sklearn.neural_network import MLPClassifier\n",
    "from sklearn.metrics import accuracy_score , recall_score , precision_score , f1_score , plot_confusion_matrix , plot_roc_curve,fbeta_score\n",
    "from sklearn.model_selection import cross_validate , train_test_split , GridSearchCV , StratifiedKFold , RandomizedSearchCV\n",
    "from sklearn.feature_selection import SequentialFeatureSelector , SelectFromModel\n",
    "from sklearn.compose import ColumnTransformer\n",
    "from lazypredict.Supervised import LazyClassifier\n",
    "from sklearn.preprocessing import FunctionTransformer\n",
    "from imblearn.pipeline import make_pipeline , pipeline\n",
    "import joblib\n",
    "from imblearn.under_sampling import RandomUnderSampler"
   ]
  },
  {
   "cell_type": "markdown",
   "id": "a2d988bb",
   "metadata": {},
   "source": [
    "### Read Data Set"
   ]
  },
  {
   "cell_type": "code",
   "execution_count": 4,
   "id": "1085702e",
   "metadata": {},
   "outputs": [],
   "source": [
    "df = pd.read_csv('Modified-healthcare-dataset-stroke-data.csv')"
   ]
  },
  {
   "cell_type": "markdown",
   "id": "22abe298",
   "metadata": {},
   "source": [
    "### Data OverView "
   ]
  },
  {
   "cell_type": "code",
   "execution_count": 5,
   "id": "0472ce01",
   "metadata": {},
   "outputs": [
    {
     "data": {
      "text/html": [
       "<div>\n",
       "<style scoped>\n",
       "    .dataframe tbody tr th:only-of-type {\n",
       "        vertical-align: middle;\n",
       "    }\n",
       "\n",
       "    .dataframe tbody tr th {\n",
       "        vertical-align: top;\n",
       "    }\n",
       "\n",
       "    .dataframe thead th {\n",
       "        text-align: right;\n",
       "    }\n",
       "</style>\n",
       "<table border=\"1\" class=\"dataframe\">\n",
       "  <thead>\n",
       "    <tr style=\"text-align: right;\">\n",
       "      <th></th>\n",
       "      <th>gender</th>\n",
       "      <th>age</th>\n",
       "      <th>hypertension</th>\n",
       "      <th>heart_disease</th>\n",
       "      <th>ever_married</th>\n",
       "      <th>work_type</th>\n",
       "      <th>Residence_type</th>\n",
       "      <th>avg_glucose_level</th>\n",
       "      <th>bmi</th>\n",
       "      <th>smoking_status</th>\n",
       "      <th>stroke</th>\n",
       "    </tr>\n",
       "  </thead>\n",
       "  <tbody>\n",
       "    <tr>\n",
       "      <th>0</th>\n",
       "      <td>Male</td>\n",
       "      <td>67.00</td>\n",
       "      <td>NO</td>\n",
       "      <td>YES</td>\n",
       "      <td>Yes</td>\n",
       "      <td>Private</td>\n",
       "      <td>Urban</td>\n",
       "      <td>228.69</td>\n",
       "      <td>36.60</td>\n",
       "      <td>formerly smoked</td>\n",
       "      <td>YES</td>\n",
       "    </tr>\n",
       "    <tr>\n",
       "      <th>1</th>\n",
       "      <td>Female</td>\n",
       "      <td>61.00</td>\n",
       "      <td>NO</td>\n",
       "      <td>NO</td>\n",
       "      <td>Yes</td>\n",
       "      <td>Self-employed</td>\n",
       "      <td>Rural</td>\n",
       "      <td>202.21</td>\n",
       "      <td>30.50</td>\n",
       "      <td>never smoked</td>\n",
       "      <td>YES</td>\n",
       "    </tr>\n",
       "    <tr>\n",
       "      <th>2</th>\n",
       "      <td>Male</td>\n",
       "      <td>80.00</td>\n",
       "      <td>NO</td>\n",
       "      <td>YES</td>\n",
       "      <td>Yes</td>\n",
       "      <td>Private</td>\n",
       "      <td>Rural</td>\n",
       "      <td>105.92</td>\n",
       "      <td>32.50</td>\n",
       "      <td>never smoked</td>\n",
       "      <td>YES</td>\n",
       "    </tr>\n",
       "  </tbody>\n",
       "</table>\n",
       "</div>"
      ],
      "text/plain": [
       "   gender   age hypertension heart_disease ever_married      work_type  \\\n",
       "0    Male 67.00           NO           YES          Yes        Private   \n",
       "1  Female 61.00           NO            NO          Yes  Self-employed   \n",
       "2    Male 80.00           NO           YES          Yes        Private   \n",
       "\n",
       "  Residence_type  avg_glucose_level   bmi   smoking_status stroke  \n",
       "0          Urban             228.69 36.60  formerly smoked    YES  \n",
       "1          Rural             202.21 30.50     never smoked    YES  \n",
       "2          Rural             105.92 32.50     never smoked    YES  "
      ]
     },
     "execution_count": 5,
     "metadata": {},
     "output_type": "execute_result"
    }
   ],
   "source": [
    "df.head(3)"
   ]
  },
  {
   "cell_type": "code",
   "execution_count": 6,
   "id": "695a7f75",
   "metadata": {},
   "outputs": [
    {
     "data": {
      "text/html": [
       "<div>\n",
       "<style scoped>\n",
       "    .dataframe tbody tr th:only-of-type {\n",
       "        vertical-align: middle;\n",
       "    }\n",
       "\n",
       "    .dataframe tbody tr th {\n",
       "        vertical-align: top;\n",
       "    }\n",
       "\n",
       "    .dataframe thead th {\n",
       "        text-align: right;\n",
       "    }\n",
       "</style>\n",
       "<table border=\"1\" class=\"dataframe\">\n",
       "  <thead>\n",
       "    <tr style=\"text-align: right;\">\n",
       "      <th></th>\n",
       "      <th>gender</th>\n",
       "      <th>age</th>\n",
       "      <th>hypertension</th>\n",
       "      <th>heart_disease</th>\n",
       "      <th>ever_married</th>\n",
       "      <th>work_type</th>\n",
       "      <th>Residence_type</th>\n",
       "      <th>avg_glucose_level</th>\n",
       "      <th>bmi</th>\n",
       "      <th>smoking_status</th>\n",
       "      <th>stroke</th>\n",
       "    </tr>\n",
       "  </thead>\n",
       "  <tbody>\n",
       "    <tr>\n",
       "      <th>5107</th>\n",
       "      <td>Female</td>\n",
       "      <td>35.00</td>\n",
       "      <td>NO</td>\n",
       "      <td>NO</td>\n",
       "      <td>Yes</td>\n",
       "      <td>Self-employed</td>\n",
       "      <td>Rural</td>\n",
       "      <td>82.99</td>\n",
       "      <td>30.60</td>\n",
       "      <td>never smoked</td>\n",
       "      <td>NO</td>\n",
       "    </tr>\n",
       "    <tr>\n",
       "      <th>5108</th>\n",
       "      <td>Male</td>\n",
       "      <td>51.00</td>\n",
       "      <td>NO</td>\n",
       "      <td>NO</td>\n",
       "      <td>Yes</td>\n",
       "      <td>Private</td>\n",
       "      <td>Rural</td>\n",
       "      <td>166.29</td>\n",
       "      <td>25.60</td>\n",
       "      <td>formerly smoked</td>\n",
       "      <td>NO</td>\n",
       "    </tr>\n",
       "    <tr>\n",
       "      <th>5109</th>\n",
       "      <td>Female</td>\n",
       "      <td>44.00</td>\n",
       "      <td>NO</td>\n",
       "      <td>NO</td>\n",
       "      <td>Yes</td>\n",
       "      <td>Govt_job</td>\n",
       "      <td>Urban</td>\n",
       "      <td>85.28</td>\n",
       "      <td>26.20</td>\n",
       "      <td>Unknown</td>\n",
       "      <td>NO</td>\n",
       "    </tr>\n",
       "  </tbody>\n",
       "</table>\n",
       "</div>"
      ],
      "text/plain": [
       "      gender   age hypertension heart_disease ever_married      work_type  \\\n",
       "5107  Female 35.00           NO            NO          Yes  Self-employed   \n",
       "5108    Male 51.00           NO            NO          Yes        Private   \n",
       "5109  Female 44.00           NO            NO          Yes       Govt_job   \n",
       "\n",
       "     Residence_type  avg_glucose_level   bmi   smoking_status stroke  \n",
       "5107          Rural              82.99 30.60     never smoked     NO  \n",
       "5108          Rural             166.29 25.60  formerly smoked     NO  \n",
       "5109          Urban              85.28 26.20          Unknown     NO  "
      ]
     },
     "execution_count": 6,
     "metadata": {},
     "output_type": "execute_result"
    }
   ],
   "source": [
    "df.tail(3)"
   ]
  },
  {
   "cell_type": "code",
   "execution_count": 7,
   "id": "743889b4",
   "metadata": {},
   "outputs": [
    {
     "name": "stdout",
     "output_type": "stream",
     "text": [
      "<class 'pandas.core.frame.DataFrame'>\n",
      "RangeIndex: 5110 entries, 0 to 5109\n",
      "Data columns (total 11 columns):\n",
      " #   Column             Non-Null Count  Dtype  \n",
      "---  ------             --------------  -----  \n",
      " 0   gender             5110 non-null   object \n",
      " 1   age                5110 non-null   float64\n",
      " 2   hypertension       5110 non-null   object \n",
      " 3   heart_disease      5110 non-null   object \n",
      " 4   ever_married       5110 non-null   object \n",
      " 5   work_type          5110 non-null   object \n",
      " 6   Residence_type     5110 non-null   object \n",
      " 7   avg_glucose_level  5110 non-null   float64\n",
      " 8   bmi                5110 non-null   float64\n",
      " 9   smoking_status     5110 non-null   object \n",
      " 10  stroke             5110 non-null   object \n",
      "dtypes: float64(3), object(8)\n",
      "memory usage: 439.3+ KB\n"
     ]
    }
   ],
   "source": [
    "df.info()"
   ]
  },
  {
   "cell_type": "markdown",
   "id": "21c8cd23",
   "metadata": {},
   "source": [
    "## In Data preprocessing we will use 4 ways with outlier points \n",
    "* 1- outlier points is true data and cant delete it \n",
    "* 2- delete outlier points from data\n",
    "* 3- convert outlier points into nan and impute it \n",
    "* 4- convert this columns into categories (binned)"
   ]
  },
  {
   "cell_type": "code",
   "execution_count": 8,
   "id": "73053036",
   "metadata": {},
   "outputs": [],
   "source": [
    "x , y = df.drop(['stroke'] , axis = 1 ) , df['stroke'].apply(lambda x : 1 if x == 'YES' else 0)\n",
    "x1 , y1 = df.drop(['stroke'] , axis = 1 ) , df['stroke'].apply(lambda x : 1 if x == 'YES' else 0)\n",
    "x2 , y2 = df.drop(['stroke'] , axis = 1 ) , df['stroke'].apply(lambda x : 1 if x == 'YES' else 0)\n",
    "x3 , y3 = df.drop(['stroke'] , axis = 1 ) , df['stroke'].apply(lambda x : 1 if x == 'YES' else 0)"
   ]
  },
  {
   "cell_type": "code",
   "execution_count": 9,
   "id": "0356cf5b",
   "metadata": {},
   "outputs": [
    {
     "data": {
      "text/plain": [
       "0    4861\n",
       "1     249\n",
       "Name: stroke, dtype: int64"
      ]
     },
     "execution_count": 9,
     "metadata": {},
     "output_type": "execute_result"
    }
   ],
   "source": [
    "y.value_counts()"
   ]
  },
  {
   "cell_type": "code",
   "execution_count": 10,
   "id": "c6c82b0e",
   "metadata": {},
   "outputs": [
    {
     "data": {
      "text/plain": [
       "<AxesSubplot:xlabel='stroke', ylabel='count'>"
      ]
     },
     "execution_count": 10,
     "metadata": {},
     "output_type": "execute_result"
    },
    {
     "data": {
      "image/png": "[encoded data removed]",
      "text/plain": [
       "<Figure size 720x288 with 1 Axes>"
      ]
     },
     "metadata": {},
     "output_type": "display_data"
    }
   ],
   "source": [
    "sns.countplot(df['stroke'])"
   ]
  },
  {
   "cell_type": "markdown",
   "id": "6df8b539",
   "metadata": {},
   "source": [
    "## For encoding we need to know for each categorical column how many categories it has"
   ]
  },
  {
   "cell_type": "code",
   "execution_count": 11,
   "id": "124605a0",
   "metadata": {},
   "outputs": [
    {
     "data": {
      "text/plain": [
       "'Gender With 2 Category.'"
      ]
     },
     "metadata": {},
     "output_type": "display_data"
    },
    {
     "data": {
      "text/plain": [
       "'Hypertension With 2 Category.'"
      ]
     },
     "metadata": {},
     "output_type": "display_data"
    },
    {
     "data": {
      "text/plain": [
       "'Heart_Disease With 2 Category.'"
      ]
     },
     "metadata": {},
     "output_type": "display_data"
    },
    {
     "data": {
      "text/plain": [
       "'Ever_Married With 2 Category.'"
      ]
     },
     "metadata": {},
     "output_type": "display_data"
    },
    {
     "data": {
      "text/plain": [
       "'Work_Type With 4 Category.'"
      ]
     },
     "metadata": {},
     "output_type": "display_data"
    },
    {
     "data": {
      "text/plain": [
       "'Residence_Type With 2 Category.'"
      ]
     },
     "metadata": {},
     "output_type": "display_data"
    },
    {
     "data": {
      "text/plain": [
       "'Smoking_Status With 4 Category.'"
      ]
     },
     "metadata": {},
     "output_type": "display_data"
    },
    {
     "data": {
      "text/plain": [
       "'Stroke With 2 Category.'"
      ]
     },
     "metadata": {},
     "output_type": "display_data"
    }
   ],
   "source": [
    "for col in df.select_dtypes('object_'):\n",
    "    display(f'{col} with {df[col].nunique()} category.'.title())"
   ]
  },
  {
   "cell_type": "code",
   "execution_count": 12,
   "id": "3b3d5587",
   "metadata": {},
   "outputs": [],
   "source": [
    "col_to_encode = ['gender' , 'hypertension' , 'heart_disease' , 'ever_married' , 'smoking_status' ,\n",
    "                 'Residence_type' , 'work_type']"
   ]
  },
  {
   "cell_type": "code",
   "execution_count": 13,
   "id": "dc12be81",
   "metadata": {},
   "outputs": [],
   "source": [
    "models = []\n",
    "models.append(('LR' , LogisticRegression()))\n",
    "models.append(('KNNC' , KNeighborsClassifier()))\n",
    "models.append(('NB' , MultinomialNB()))\n",
    "models.append(('SVC' , SVC()))\n",
    "models.append(('DTC' , DecisionTreeClassifier()))\n",
    "models.append(('RFC' , RandomForestClassifier()))\n",
    "models.append(('XGB' , XGBClassifier()))\n",
    "models.append(('Voting' , VotingClassifier(estimators=[('DTC' , DecisionTreeClassifier()) , \n",
    "                                                      ('RF' , RandomForestClassifier()) , \n",
    "                                                      ('XG' , XGBClassifier())])))\n",
    "models.append(('ANN' , MLPClassifier()))"
   ]
  },
  {
   "cell_type": "code",
   "execution_count": 14,
   "id": "ac72b35b",
   "metadata": {},
   "outputs": [],
   "source": [
    "scoring = ['accuracy' , 'recall' , 'f1' , 'precision']"
   ]
  },
  {
   "cell_type": "code",
   "execution_count": 15,
   "id": "3ad925ed",
   "metadata": {
    "scrolled": true
   },
   "outputs": [
    {
     "data": {
      "text/html": [
       "<style>#sk-container-id-1 {color: black;background-color: white;}#sk-container-id-1 pre{padding: 0;}#sk-container-id-1 div.sk-toggleable {background-color: white;}#sk-container-id-1 label.sk-toggleable__label {cursor: pointer;display: block;width: 100%;margin-bottom: 0;padding: 0.3em;box-sizing: border-box;text-align: center;}#sk-container-id-1 label.sk-toggleable__label-arrow:before {content: \"▸\";float: left;margin-right: 0.25em;color: #696969;}#sk-container-id-1 label.sk-toggleable__label-arrow:hover:before {color: black;}#sk-container-id-1 div.sk-estimator:hover label.sk-toggleable__label-arrow:before {color: black;}#sk-container-id-1 div.sk-toggleable__content {max-height: 0;max-width: 0;overflow: hidden;text-align: left;background-color: #f0f8ff;}#sk-container-id-1 div.sk-toggleable__content pre {margin: 0.2em;color: black;border-radius: 0.25em;background-color: #f0f8ff;}#sk-container-id-1 input.sk-toggleable__control:checked~div.sk-toggleable__content {max-height: 200px;max-width: 100%;overflow: auto;}#sk-container-id-1 input.sk-toggleable__control:checked~label.sk-toggleable__label-arrow:before {content: \"▾\";}#sk-container-id-1 div.sk-estimator input.sk-toggleable__control:checked~label.sk-toggleable__label {background-color: #d4ebff;}#sk-container-id-1 div.sk-label input.sk-toggleable__control:checked~label.sk-toggleable__label {background-color: #d4ebff;}#sk-container-id-1 input.sk-hidden--visually {border: 0;clip: rect(1px 1px 1px 1px);clip: rect(1px, 1px, 1px, 1px);height: 1px;margin: -1px;overflow: hidden;padding: 0;position: absolute;width: 1px;}#sk-container-id-1 div.sk-estimator {font-family: monospace;background-color: #f0f8ff;border: 1px dotted black;border-radius: 0.25em;box-sizing: border-box;margin-bottom: 0.5em;}#sk-container-id-1 div.sk-estimator:hover {background-color: #d4ebff;}#sk-container-id-1 div.sk-parallel-item::after {content: \"\";width: 100%;border-bottom: 1px solid gray;flex-grow: 1;}#sk-container-id-1 div.sk-label:hover label.sk-toggleable__label {background-color: #d4ebff;}#sk-container-id-1 div.sk-serial::before {content: \"\";position: absolute;border-left: 1px solid gray;box-sizing: border-box;top: 0;bottom: 0;left: 50%;z-index: 0;}#sk-container-id-1 div.sk-serial {display: flex;flex-direction: column;align-items: center;background-color: white;padding-right: 0.2em;padding-left: 0.2em;position: relative;}#sk-container-id-1 div.sk-item {position: relative;z-index: 1;}#sk-container-id-1 div.sk-parallel {display: flex;align-items: stretch;justify-content: center;background-color: white;position: relative;}#sk-container-id-1 div.sk-item::before, #sk-container-id-1 div.sk-parallel-item::before {content: \"\";position: absolute;border-left: 1px solid gray;box-sizing: border-box;top: 0;bottom: 0;left: 50%;z-index: -1;}#sk-container-id-1 div.sk-parallel-item {display: flex;flex-direction: column;z-index: 1;position: relative;background-color: white;}#sk-container-id-1 div.sk-parallel-item:first-child::after {align-self: flex-end;width: 50%;}#sk-container-id-1 div.sk-parallel-item:last-child::after {align-self: flex-start;width: 50%;}#sk-container-id-1 div.sk-parallel-item:only-child::after {width: 0;}#sk-container-id-1 div.sk-dashed-wrapped {border: 1px dashed gray;margin: 0 0.4em 0.5em 0.4em;box-sizing: border-box;padding-bottom: 0.4em;background-color: white;}#sk-container-id-1 div.sk-label label {font-family: monospace;font-weight: bold;display: inline-block;line-height: 1.2em;}#sk-container-id-1 div.sk-label-container {text-align: center;}#sk-container-id-1 div.sk-container {/* jupyter's `normalize.less` sets `[hidden] { display: none; }` but bootstrap.min.css set `[hidden] { display: none !important; }` so we also need the `!important` here to be able to override the default hidden behavior on the sphinx rendered scikit-learn.org. See: https://github.com/scikit-learn/scikit-learn/issues/21755 */display: inline-block !important;position: relative;}#sk-container-id-1 div.sk-text-repr-fallback {display: none;}</style><div id=\"sk-container-id-1\" class=\"sk-top-container\"><div class=\"sk-text-repr-fallback\"><pre>ColumnTransformer(remainder=&#x27;passthrough&#x27;,\n",
       "                  transformers=[(&#x27;ohe&#x27;,\n",
       "                                 OneHotEncoder(drop=&#x27;first&#x27;, sparse=False),\n",
       "                                 [&#x27;gender&#x27;, &#x27;hypertension&#x27;, &#x27;heart_disease&#x27;,\n",
       "                                  &#x27;ever_married&#x27;, &#x27;smoking_status&#x27;,\n",
       "                                  &#x27;Residence_type&#x27;, &#x27;work_type&#x27;])])</pre><b>In a Jupyter environment, please rerun this cell to show the HTML representation or trust the notebook. <br />On GitHub, the HTML representation is unable to render, please try loading this page with nbviewer.org.</b></div><div class=\"sk-container\" hidden><div class=\"sk-item sk-dashed-wrapped\"><div class=\"sk-label-container\"><div class=\"sk-label sk-toggleable\"><input class=\"sk-toggleable__control sk-hidden--visually\" id=\"sk-estimator-id-1\" type=\"checkbox\" ><label for=\"sk-estimator-id-1\" class=\"sk-toggleable__label sk-toggleable__label-arrow\">ColumnTransformer</label><div class=\"sk-toggleable__content\"><pre>ColumnTransformer(remainder=&#x27;passthrough&#x27;,\n",
       "                  transformers=[(&#x27;ohe&#x27;,\n",
       "                                 OneHotEncoder(drop=&#x27;first&#x27;, sparse=False),\n",
       "                                 [&#x27;gender&#x27;, &#x27;hypertension&#x27;, &#x27;heart_disease&#x27;,\n",
       "                                  &#x27;ever_married&#x27;, &#x27;smoking_status&#x27;,\n",
       "                                  &#x27;Residence_type&#x27;, &#x27;work_type&#x27;])])</pre></div></div></div><div class=\"sk-parallel\"><div class=\"sk-parallel-item\"><div class=\"sk-item\"><div class=\"sk-label-container\"><div class=\"sk-label sk-toggleable\"><input class=\"sk-toggleable__control sk-hidden--visually\" id=\"sk-estimator-id-2\" type=\"checkbox\" ><label for=\"sk-estimator-id-2\" class=\"sk-toggleable__label sk-toggleable__label-arrow\">ohe</label><div class=\"sk-toggleable__content\"><pre>[&#x27;gender&#x27;, &#x27;hypertension&#x27;, &#x27;heart_disease&#x27;, &#x27;ever_married&#x27;, &#x27;smoking_status&#x27;, &#x27;Residence_type&#x27;, &#x27;work_type&#x27;]</pre></div></div></div><div class=\"sk-serial\"><div class=\"sk-item\"><div class=\"sk-estimator sk-toggleable\"><input class=\"sk-toggleable__control sk-hidden--visually\" id=\"sk-estimator-id-3\" type=\"checkbox\" ><label for=\"sk-estimator-id-3\" class=\"sk-toggleable__label sk-toggleable__label-arrow\">OneHotEncoder</label><div class=\"sk-toggleable__content\"><pre>OneHotEncoder(drop=&#x27;first&#x27;, sparse=False)</pre></div></div></div></div></div></div><div class=\"sk-parallel-item\"><div class=\"sk-item\"><div class=\"sk-label-container\"><div class=\"sk-label sk-toggleable\"><input class=\"sk-toggleable__control sk-hidden--visually\" id=\"sk-estimator-id-4\" type=\"checkbox\" ><label for=\"sk-estimator-id-4\" class=\"sk-toggleable__label sk-toggleable__label-arrow\">remainder</label><div class=\"sk-toggleable__content\"><pre></pre></div></div></div><div class=\"sk-serial\"><div class=\"sk-item\"><div class=\"sk-estimator sk-toggleable\"><input class=\"sk-toggleable__control sk-hidden--visually\" id=\"sk-estimator-id-5\" type=\"checkbox\" ><label for=\"sk-estimator-id-5\" class=\"sk-toggleable__label sk-toggleable__label-arrow\">passthrough</label><div class=\"sk-toggleable__content\"><pre>passthrough</pre></div></div></div></div></div></div></div></div></div></div>"
      ],
      "text/plain": [
       "ColumnTransformer(remainder='passthrough',\n",
       "                  transformers=[('ohe',\n",
       "                                 OneHotEncoder(drop='first', sparse=False),\n",
       "                                 ['gender', 'hypertension', 'heart_disease',\n",
       "                                  'ever_married', 'smoking_status',\n",
       "                                  'Residence_type', 'work_type'])])"
      ]
     },
     "execution_count": 15,
     "metadata": {},
     "output_type": "execute_result"
    }
   ],
   "source": [
    "trans = ColumnTransformer(transformers=[('ohe',OneHotEncoder(sparse=False , drop = 'first'),col_to_encode)],\n",
    "                          remainder='passthrough')\n",
    "trans"
   ]
  },
  {
   "cell_type": "code",
   "execution_count": 16,
   "id": "06ceabbc",
   "metadata": {},
   "outputs": [],
   "source": [
    "smt = SMOTETomek(tomek=TomekLinks(sampling_strategy='majority'))\n",
    "sm = SMOTE(sampling_strategy={1 : 1500})\n",
    "rm = RandomUnderSampler(sampling_strategy={0 : 2000})"
   ]
  },
  {
   "cell_type": "code",
   "execution_count": 17,
   "id": "01a43b60",
   "metadata": {},
   "outputs": [],
   "source": [
    "def ModelScores(X , Y):\n",
    "    for model in models :\n",
    "        PL = make_pipeline(trans, smt , StandardScaler() if model[0] != 'NB' else MinMaxScaler(), model[1])\n",
    "        scores = cross_validate(estimator=PL , X = X , y = Y , cv = 5 , scoring=scoring  , return_train_score=True )\n",
    "        print('-'*60)\n",
    "        print(model[0])\n",
    "        print(f'train accuracy : {scores[\"train_accuracy\"].mean()} , test accuracy : {scores[\"test_accuracy\"].mean()}'.title())\n",
    "        print(f'train recall : {scores[\"train_recall\"].mean()} , test recall : {scores[\"test_recall\"].mean()}'.title())\n",
    "        print(f'train precision : {scores[\"train_precision\"].mean()} , test precision : {scores[\"test_precision\"].mean()}'.title())\n",
    "        print(f'train f1_score : {scores[\"train_f1\"].mean()} , test f1_score : {scores[\"test_f1\"].mean()}'.title())"
   ]
  },
  {
   "cell_type": "markdown",
   "id": "4dbe161f",
   "metadata": {},
   "source": [
    "## 1- `Impute outliers bmi & avg_glucose_level by KNN Imputer`"
   ]
  },
  {
   "cell_type": "code",
   "execution_count": 18,
   "id": "2d974dd9",
   "metadata": {},
   "outputs": [],
   "source": [
    "x1['bmi'].loc[detect_outliers(x1 , 0 , ['bmi'])] = np.nan"
   ]
  },
  {
   "cell_type": "code",
   "execution_count": 19,
   "id": "de1ea139",
   "metadata": {},
   "outputs": [],
   "source": [
    "x1['avg_glucose_level'].loc[detect_outliers(x1 , 0 , ['avg_glucose_level'])] = np.nan"
   ]
  },
  {
   "cell_type": "code",
   "execution_count": 20,
   "id": "9120c299",
   "metadata": {},
   "outputs": [],
   "source": [
    "imputer = KNNImputer(n_neighbors=3)"
   ]
  },
  {
   "cell_type": "code",
   "execution_count": 21,
   "id": "de393e9e",
   "metadata": {},
   "outputs": [],
   "source": [
    "x1[x1.select_dtypes('number').columns] = imputer.fit_transform(x1[x1.select_dtypes('number').columns])"
   ]
  },
  {
   "cell_type": "code",
   "execution_count": 22,
   "id": "664ea834",
   "metadata": {
    "scrolled": false
   },
   "outputs": [
    {
     "name": "stdout",
     "output_type": "stream",
     "text": [
      "------------------------------------------------------------\n",
      "LR\n",
      "Train Accuracy : 0.7425636007827788 , Test Accuracy : 0.7432485322896282\n",
      "Train Recall : 0.822291457286432 , Test Recall : 0.7953469387755101\n",
      "Train Precision : 0.138735285738745 , Test Precision : 0.13644240861981732\n",
      "Train F1_Score : 0.237408135536122 , Test F1_Score : 0.23280340634679905\n",
      "------------------------------------------------------------\n",
      "KNNC\n",
      "Train Accuracy : 0.927641878669276 , Test Accuracy : 0.8549902152641877\n",
      "Train Recall : 0.9748844221105528 , Test Recall : 0.2569795918367347\n",
      "Train Precision : 0.40056077713289584 , Test Precision : 0.10229489189834577\n",
      "Train F1_Score : 0.5677652221793772 , Test F1_Score : 0.14566074316824892\n",
      "------------------------------------------------------------\n",
      "NB\n",
      "Train Accuracy : 0.6586105675146772 , Test Accuracy : 0.6536203522504891\n",
      "Train Recall : 0.6897437185929649 , Test Recall : 0.6584489795918367\n",
      "Train Precision : 0.09343559066781905 , Test Precision : 0.08879255705294077\n",
      "Train F1_Score : 0.164571071495129 , Test F1_Score : 0.15647140155669964\n",
      "------------------------------------------------------------\n",
      "SVC\n",
      "Train Accuracy : 0.9420254403131114 , Test Accuracy : 0.9119373776908024\n",
      "Train Recall : 0.5029748743718593 , Test Recall : 0.13248979591836735\n",
      "Train Precision : 0.4236949325123248 , Test Precision : 0.12379427212231205\n",
      "Train F1_Score : 0.45817831487737426 , Test F1_Score : 0.12656913304452816\n",
      "------------------------------------------------------------\n",
      "DTC\n",
      "Train Accuracy : 0.9989726027397261 , Test Accuracy : 0.8982387475538159\n",
      "Train Recall : 1.0 , Test Recall : 0.16073469387755102\n",
      "Train Precision : 0.9794394673838734 , Test Precision : 0.11370343672133953\n",
      "Train F1_Score : 0.9895903193945015 , Test F1_Score : 0.1326152989555261\n",
      "------------------------------------------------------------\n",
      "RFC\n",
      "Train Accuracy : 0.9997064579256361 , Test Accuracy : 0.9450097847358121\n",
      "Train Recall : 1.0 , Test Recall : 0.012\n",
      "Train Precision : 0.9940640884248708 , Test Precision : 0.07651515151515151\n",
      "Train F1_Score : 0.9970099439987171 , Test F1_Score : 0.020596785916175402\n",
      "------------------------------------------------------------\n",
      "XGB\n",
      "Train Accuracy : 0.9968199608610566 , Test Accuracy : 0.9403131115459882\n",
      "Train Recall : 0.9488040201005024 , Test Recall : 0.044081632653061226\n",
      "Train Precision : 0.9854316175823052 , Test Precision : 0.14046992481203008\n",
      "Train F1_Score : 0.9667460160163863 , Test F1_Score : 0.06631688963210702\n",
      "------------------------------------------------------------\n",
      "Voting\n",
      "Train Accuracy : 0.9998043052837573 , Test Accuracy : 0.9442270058708415\n",
      "Train Recall : 1.0 , Test Recall : 0.024\n",
      "Train Precision : 0.9960049751243781 , Test Precision : 0.12523809523809523\n",
      "Train F1_Score : 0.9979974874842968 , Test F1_Score : 0.0401358234295416\n",
      "------------------------------------------------------------\n",
      "ANN\n",
      "Train Accuracy : 0.9682485322896281 , Test Accuracy : 0.911545988258317\n",
      "Train Recall : 0.7319547738693467 , Test Recall : 0.12040816326530612\n",
      "Train Precision : 0.6575060785111035 , Test Precision : 0.11635396296883534\n",
      "Train F1_Score : 0.6914718512582719 , Test F1_Score : 0.11699408840636352\n"
     ]
    }
   ],
   "source": [
    "ModelScores(x1 , y1)"
   ]
  },
  {
   "cell_type": "markdown",
   "id": "88556681",
   "metadata": {},
   "source": [
    "## 2- `bin bmi & avg_glucose_level into categories to solve outlier problem`"
   ]
  },
  {
   "cell_type": "code",
   "execution_count": 23,
   "id": "bfe014e3",
   "metadata": {},
   "outputs": [
    {
     "data": {
      "text/plain": [
       "['bmi_labels.h5']"
      ]
     },
     "execution_count": 23,
     "metadata": {},
     "output_type": "execute_result"
    }
   ],
   "source": [
    "bmi_bins , bmi_labels = [0, 19, 25,30,100] , ['Underweight', 'Ideal', 'Overweight', 'Obesity']\n",
    "joblib.dump(bmi_bins , 'bmi_bins.h5')\n",
    "joblib.dump(bmi_labels , 'bmi_labels.h5')"
   ]
  },
  {
   "cell_type": "code",
   "execution_count": 24,
   "id": "2a79ff71",
   "metadata": {},
   "outputs": [],
   "source": [
    "x2['bmi_cat'] = pd.cut(x2['bmi'], bins = bmi_bins, labels = bmi_labels)"
   ]
  },
  {
   "cell_type": "code",
   "execution_count": 25,
   "id": "0cb5e53b",
   "metadata": {},
   "outputs": [
    {
     "data": {
      "text/plain": [
       "['bmi_mapper.h5']"
      ]
     },
     "execution_count": 25,
     "metadata": {},
     "output_type": "execute_result"
    }
   ],
   "source": [
    "bmi_mapper = {'Underweight' : 0 , 'Ideal' : 1 , 'Overweight' : 2 , 'Obesity' : 3}\n",
    "joblib.dump(bmi_mapper , 'bmi_mapper.h5')"
   ]
  },
  {
   "cell_type": "code",
   "execution_count": 26,
   "id": "ba266970",
   "metadata": {},
   "outputs": [],
   "source": [
    "x2['bmi_cat'] = x2['bmi_cat'].map(bmi_mapper).astype(int)"
   ]
  },
  {
   "cell_type": "code",
   "execution_count": 27,
   "id": "e123ff81",
   "metadata": {},
   "outputs": [
    {
     "data": {
      "text/plain": [
       "['glucose_labels.h5']"
      ]
     },
     "execution_count": 27,
     "metadata": {},
     "output_type": "execute_result"
    }
   ],
   "source": [
    "glucose_bins , glucose_labels = [0,90,160,230,500] , ['Low', 'Normal', 'High', 'Very High']\n",
    "joblib.dump(glucose_bins , 'glucose_bins.h5')\n",
    "joblib.dump(glucose_labels , 'glucose_labels.h5')"
   ]
  },
  {
   "cell_type": "code",
   "execution_count": 28,
   "id": "d139d729",
   "metadata": {},
   "outputs": [],
   "source": [
    "x2['glucose_cat'] = pd.cut(x2['avg_glucose_level'], bins = glucose_bins, labels = glucose_labels)"
   ]
  },
  {
   "cell_type": "code",
   "execution_count": 29,
   "id": "e8ad1d44",
   "metadata": {},
   "outputs": [
    {
     "data": {
      "text/plain": [
       "['glucose_mapper.h5']"
      ]
     },
     "execution_count": 29,
     "metadata": {},
     "output_type": "execute_result"
    }
   ],
   "source": [
    "glucose_mapper = {'Low' : 0 , 'Normal' : 1 , 'High' : 2 , 'Very High' : 3}\n",
    "joblib.dump(glucose_mapper , 'glucose_mapper.h5')"
   ]
  },
  {
   "cell_type": "code",
   "execution_count": 30,
   "id": "5186da83",
   "metadata": {},
   "outputs": [],
   "source": [
    "x2['glucose_cat'] = x2['glucose_cat'].map(glucose_mapper).astype(int)"
   ]
  },
  {
   "cell_type": "code",
   "execution_count": 31,
   "id": "6842d757",
   "metadata": {},
   "outputs": [],
   "source": [
    "x2.drop(['avg_glucose_level' , 'bmi'] , axis = 1 , inplace = True )"
   ]
  },
  {
   "cell_type": "code",
   "execution_count": 1039,
   "id": "af3c59b6",
   "metadata": {
    "scrolled": false
   },
   "outputs": [
    {
     "name": "stdout",
     "output_type": "stream",
     "text": [
      "------------------------------------------------------------\n",
      "LR\n",
      "Train Accuracy : 0.7382583170254404 , Test Accuracy : 0.7391389432485324\n",
      "Train Recall : 0.8253065326633167 , Test Recall : 0.8271836734693878\n",
      "Train Precision : 0.13706928107171953 , Test Precision : 0.1384754602995855\n",
      "Train F1_Score : 0.23508503421003293 , Test F1_Score : 0.23703290336797708\n",
      "------------------------------------------------------------\n",
      "KNNC\n",
      "Train Accuracy : 0.9226027397260275 , Test Accuracy : 0.8526418786692759\n",
      "Train Recall : 0.930713567839196 , Test Recall : 0.31697959183673474\n",
      "Train Precision : 0.37996300000494304 , Test Precision : 0.11988668194550547\n",
      "Train F1_Score : 0.539602210601911 , Test F1_Score : 0.17348628799381194\n",
      "------------------------------------------------------------\n",
      "NB\n",
      "Train Accuracy : 0.6435420743639921 , Test Accuracy : 0.6403131115459882\n",
      "Train Recall : 0.7138592964824121 , Test Recall : 0.6864489795918368\n",
      "Train Precision : 0.09222953864836611 , Test Precision : 0.08848316949096552\n",
      "Train F1_Score : 0.16334676000002127 , Test F1_Score : 0.15672959719394472\n",
      "------------------------------------------------------------\n",
      "SVC\n",
      "Train Accuracy : 0.9261741682974559 , Test Accuracy : 0.8921722113502936\n",
      "Train Recall : 0.6415728643216081 , Test Recall : 0.22881632653061224\n",
      "Train Precision : 0.35851196647151184 , Test Precision : 0.13020242914979757\n",
      "Train F1_Score : 0.4591821921125966 , Test F1_Score : 0.16526584452417029\n",
      "------------------------------------------------------------\n",
      "DTC\n",
      "Train Accuracy : 0.9966731898238747 , Test Accuracy : 0.9013698630136986\n",
      "Train Recall : 0.9337185929648241 , Test Recall : 0.13657142857142857\n",
      "Train Precision : 0.9978021978021978 , Test Precision : 0.10518009037745882\n",
      "Train F1_Score : 0.9646457656082992 , Test F1_Score : 0.11864010170189279\n",
      "------------------------------------------------------------\n",
      "RFC\n",
      "Train Accuracy : 0.9966731898238747 , Test Accuracy : 0.9393346379647749\n",
      "Train Recall : 0.9457587939698492 , Test Recall : 0.04816326530612245\n",
      "Train Precision : 0.9854738871748306 , Test Precision : 0.13912953060011884\n",
      "Train F1_Score : 0.9651025975662566 , Test F1_Score : 0.07090218109547691\n",
      "------------------------------------------------------------\n",
      "XGB\n",
      "Train Accuracy : 0.978228962818004 , Test Accuracy : 0.9356164383561645\n",
      "Train Recall : 0.5712713567839196 , Test Recall : 0.04416326530612245\n",
      "Train Precision : 0.9691818224776737 , Test Precision : 0.10241480432804125\n",
      "Train F1_Score : 0.7185303311426731 , Test F1_Score : 0.059526897300083745\n",
      "------------------------------------------------------------\n",
      "Voting\n",
      "Train Accuracy : 0.9966731898238747 , Test Accuracy : 0.9365949119373778\n",
      "Train Recall : 0.9357236180904522 , Test Recall : 0.052163265306122454\n",
      "Train Precision : 0.9957198910822374 , Test Precision : 0.14296544035674472\n",
      "Train F1_Score : 0.9647091140697188 , Test F1_Score : 0.07450031212956534\n",
      "------------------------------------------------------------\n",
      "ANN\n",
      "Train Accuracy : 0.9640410958904109 , Test Accuracy : 0.9117416829745597\n",
      "Train Recall : 0.7630653266331657 , Test Recall : 0.17657142857142855\n",
      "Train Precision : 0.6085963574822035 , Test Precision : 0.1455763067820876\n",
      "Train F1_Score : 0.6753243170202753 , Test F1_Score : 0.15834305127068285\n"
     ]
    }
   ],
   "source": [
    "ModelScores(x2 , y2)"
   ]
  },
  {
   "cell_type": "markdown",
   "id": "92f05005",
   "metadata": {},
   "source": [
    "# 3- `outliers is True value Run Models with it` "
   ]
  },
  {
   "cell_type": "code",
   "execution_count": 1041,
   "id": "e5bff7b5",
   "metadata": {},
   "outputs": [
    {
     "name": "stdout",
     "output_type": "stream",
     "text": [
      "------------------------------------------------------------\n",
      "LR\n",
      "Train Accuracy : 0.7453033268101761 , Test Accuracy : 0.7434442270058709\n",
      "Train Recall : 0.820286432160804 , Test Recall : 0.7991836734693877\n",
      "Train Precision : 0.13980870046036714 , Test Precision : 0.1370617171341809\n",
      "Train F1_Score : 0.23889671602542584 , Test F1_Score : 0.23383189000444826\n",
      "------------------------------------------------------------\n",
      "KNNC\n",
      "Train Accuracy : 0.9227984344422702 , Test Accuracy : 0.8524461839530332\n",
      "Train Recall : 0.9718994974874372 , Test Recall : 0.30114285714285716\n",
      "Train Precision : 0.3845047796894662 , Test Precision : 0.11645299474765207\n",
      "Train F1_Score : 0.5509928136902401 , Test F1_Score : 0.16742955614407543\n",
      "------------------------------------------------------------\n",
      "NB\n",
      "Train Accuracy : 0.6545009784735811 , Test Accuracy : 0.6493150684931507\n",
      "Train Recall : 0.7007989949748743 , Test Recall : 0.6703673469387754\n",
      "Train Precision : 0.09361617251895658 , Test Precision : 0.08884051694186261\n",
      "Train F1_Score : 0.16515385755475007 , Test F1_Score : 0.1568685659166753\n",
      "------------------------------------------------------------\n",
      "SVC\n",
      "Train Accuracy : 0.940802348336595 , Test Accuracy : 0.913307240704501\n",
      "Train Recall : 0.49096984924623116 , Test Recall : 0.18848979591836737\n",
      "Train Precision : 0.41223922582915484 , Test Precision : 0.15783216783216786\n",
      "Train F1_Score : 0.447414412818887 , Test F1_Score : 0.16980327743855578\n",
      "------------------------------------------------------------\n",
      "DTC\n",
      "Train Accuracy : 0.9986301369863014 , Test Accuracy : 0.9031311154598827\n",
      "Train Recall : 1.0 , Test Recall : 0.16857142857142854\n",
      "Train Precision : 0.9726865504188537 , Test Precision : 0.1270395191799211\n",
      "Train F1_Score : 0.9861481631713829 , Test F1_Score : 0.14447576842313686\n",
      "------------------------------------------------------------\n",
      "RFC\n",
      "Train Accuracy : 0.9997064579256361 , Test Accuracy : 0.9457925636007829\n",
      "Train Recall : 1.0 , Test Recall : 0.028163265306122447\n",
      "Train Precision : 0.9940248756218905 , Test Precision : 0.17579365079365078\n",
      "Train F1_Score : 0.996999993749961 , Test F1_Score : 0.04809422498481115\n",
      "------------------------------------------------------------\n",
      "XGB\n",
      "Train Accuracy : 0.9967221135029355 , Test Accuracy : 0.9379647749510763\n",
      "Train Recall : 0.9447889447236182 , Test Recall : 0.04424489795918367\n",
      "Train Precision : 0.9874009676970203 , Test Precision : 0.12380116959064327\n",
      "Train F1_Score : 0.9656024639665086 , Test F1_Score : 0.06508843601335108\n",
      "------------------------------------------------------------\n",
      "Voting\n",
      "Train Accuracy : 0.9997064579256361 , Test Accuracy : 0.9418786692759296\n",
      "Train Recall : 1.0 , Test Recall : 0.036081632653061226\n",
      "Train Precision : 0.9940495049504949 , Test Precision : 0.14257964257964256\n",
      "Train F1_Score : 0.9970074626399251 , Test F1_Score : 0.05738831214730407\n",
      "------------------------------------------------------------\n",
      "ANN\n",
      "Train Accuracy : 0.9652641878669277 , Test Accuracy : 0.9146771037181995\n",
      "Train Recall : 0.714859296482412 , Test Recall : 0.1645714285714286\n",
      "Train Precision : 0.6273154706872666 , Test Precision : 0.14864922570355507\n",
      "Train F1_Score : 0.6670926506779543 , Test F1_Score : 0.1557281179711086\n"
     ]
    }
   ],
   "source": [
    "ModelScores(x , y)"
   ]
  },
  {
   "cell_type": "markdown",
   "id": "1dfff012",
   "metadata": {},
   "source": [
    "# 4- `Drop outliers Points ` "
   ]
  },
  {
   "cell_type": "code",
   "execution_count": 32,
   "id": "45e7f255",
   "metadata": {},
   "outputs": [],
   "source": [
    "x3['stroke'] = y3"
   ]
  },
  {
   "cell_type": "code",
   "execution_count": 33,
   "id": "271d6de6",
   "metadata": {},
   "outputs": [
    {
     "data": {
      "text/plain": [
       "712"
      ]
     },
     "execution_count": 33,
     "metadata": {},
     "output_type": "execute_result"
    }
   ],
   "source": [
    "len(detect_outliers(x3 , 0 , ['avg_glucose_level' , 'bmi']))"
   ]
  },
  {
   "cell_type": "code",
   "execution_count": 34,
   "id": "e4b012aa",
   "metadata": {},
   "outputs": [],
   "source": [
    "x3.drop(detect_outliers(x3 , 0 , ['avg_glucose_level' , 'bmi']) , axis = 0 , inplace = True )"
   ]
  },
  {
   "cell_type": "code",
   "execution_count": 35,
   "id": "f130a587",
   "metadata": {},
   "outputs": [],
   "source": [
    "x3.reset_index(inplace = True , drop = True )"
   ]
  },
  {
   "cell_type": "code",
   "execution_count": 36,
   "id": "433e874e",
   "metadata": {},
   "outputs": [],
   "source": [
    "y3 = x3['stroke']\n",
    "x3.drop(['stroke'] , axis = 1 , inplace = True )"
   ]
  },
  {
   "cell_type": "code",
   "execution_count": 1047,
   "id": "f939a962",
   "metadata": {},
   "outputs": [
    {
     "name": "stdout",
     "output_type": "stream",
     "text": [
      "------------------------------------------------------------\n",
      "LR\n",
      "Train Accuracy : 0.7474421240594185 , Test Accuracy : 0.7464797290309236\n",
      "Train Recall : 0.8060606060606059 , Test Recall : 0.7878787878787878\n",
      "Train Precision : 0.10978488687675311 , Test Precision : 0.10770549385069532\n",
      "Train F1_Score : 0.1932457067814436 , Test F1_Score : 0.18940173243665778\n",
      "------------------------------------------------------------\n",
      "KNNC\n",
      "Train Accuracy : 0.9413368765126405 , Test Accuracy : 0.8817698314200022\n",
      "Train Recall : 0.9893939393939395 , Test Recall : 0.22424242424242427\n",
      "Train Precision : 0.3892546936410037 , Test Precision : 0.08544090283072114\n",
      "Train F1_Score : 0.5586699359343121 , Test F1_Score : 0.12310062799581241\n",
      "------------------------------------------------------------\n",
      "NB\n",
      "Train Accuracy : 0.662289437942746 , Test Accuracy : 0.6543885096700797\n",
      "Train Recall : 0.693939393939394 , Test Recall : 0.6424242424242425\n",
      "Train Precision : 0.07393061880074733 , Test Precision : 0.0676716078084844\n",
      "Train F1_Score : 0.13361827213506722 , Test F1_Score : 0.12241705792264952\n",
      "------------------------------------------------------------\n",
      "SVC\n",
      "Train Accuracy : 0.947760205663368 , Test Accuracy : 0.921102233943531\n",
      "Train Recall : 0.6575757575757576 , Test Recall : 0.1272727272727273\n",
      "Train Precision : 0.3869433783463634 , Test Precision : 0.09116454466431458\n",
      "Train F1_Score : 0.48608398877518794 , Test F1_Score : 0.1060129014254532\n",
      "------------------------------------------------------------\n",
      "DTC\n",
      "Train Accuracy : 0.9992610406497919 , Test Accuracy : 0.9224666459820045\n",
      "Train Recall : 1.0 , Test Recall : 0.1393939393939394\n",
      "Train Precision : 0.9807184628237259 , Test Precision : 0.10498809904532576\n",
      "Train F1_Score : 0.9902565189739241 , Test F1_Score : 0.11889536550406114\n",
      "------------------------------------------------------------\n",
      "RFC\n",
      "Train Accuracy : 1.0 , Test Accuracy : 0.9581624263108903\n",
      "Train Recall : 1.0 , Test Recall : 0.006060606060606061\n",
      "Train Precision : 1.0 , Test Precision : 0.06666666666666667\n",
      "Train F1_Score : 1.0 , Test F1_Score : 0.01111111111111111\n",
      "------------------------------------------------------------\n",
      "XGB\n",
      "Train Accuracy : 0.99937477392684 , Test Accuracy : 0.9513414003516392\n",
      "Train Recall : 0.9878787878787879 , Test Recall : 0.030303030303030304\n",
      "Train Precision : 0.9954312354312354 , Test Precision : 0.07538461538461538\n",
      "Train F1_Score : 0.9916290880241769 , Test F1_Score : 0.0429979777553084\n",
      "------------------------------------------------------------\n",
      "Voting\n",
      "Train Accuracy : 0.9996589455665104 , Test Accuracy : 0.955888664805047\n",
      "Train Recall : 1.0 , Test Recall : 0.024242424242424242\n",
      "Train Precision : 0.9909998877791493 , Test Precision : 0.11071428571428572\n",
      "Train F1_Score : 0.9954773726769754 , Test F1_Score : 0.03975609756097561\n",
      "------------------------------------------------------------\n",
      "ANN\n",
      "Train Accuracy : 0.9795360393129412 , Test Accuracy : 0.929741958837522\n",
      "Train Recall : 0.8515151515151516 , Test Recall : 0.09696969696969697\n",
      "Train Precision : 0.684265266562911 , Test Precision : 0.08505090456309969\n",
      "Train F1_Score : 0.7580523792931378 , Test F1_Score : 0.09054669576408707\n"
     ]
    }
   ],
   "source": [
    "ModelScores(x3 , y3)"
   ]
  },
  {
   "cell_type": "markdown",
   "id": "85b6c057",
   "metadata": {},
   "source": [
    "# `-----------------Logistic Regression For Tunning-----------------`"
   ]
  },
  {
   "cell_type": "code",
   "execution_count": 605,
   "id": "8a7a0deb",
   "metadata": {
    "scrolled": true
   },
   "outputs": [],
   "source": [
    "LR = make_pipeline(trans ,\n",
    "                   sm,rm,\n",
    "                   PolynomialFeatures(),\n",
    "                   MinMaxScaler(),\n",
    "                   LogisticRegression(class_weight='balanced'))"
   ]
  },
  {
   "cell_type": "code",
   "execution_count": 606,
   "id": "b71f0f53",
   "metadata": {},
   "outputs": [],
   "source": [
    "LR_params = [\n",
    "    {  \n",
    "        'logisticregression__C' : [1 , 5 , 0.01],\n",
    "        'polynomialfeatures__degree' : [1 , 2]\n",
    "    }\n",
    "]"
   ]
  },
  {
   "cell_type": "code",
   "execution_count": 607,
   "id": "d83345eb",
   "metadata": {},
   "outputs": [],
   "source": [
    "LR_grid = GridSearchCV(estimator=LR , cv = StratifiedKFold(n_splits=5) , param_grid = LR_params ,\n",
    "                       scoring ='recall' , return_train_score=True )"
   ]
  },
  {
   "cell_type": "code",
   "execution_count": 608,
   "id": "116610f4",
   "metadata": {},
   "outputs": [
    {
     "data": {
      "text/html": [
       "<style>#sk-container-id-81 {color: black;background-color: white;}#sk-container-id-81 pre{padding: 0;}#sk-container-id-81 div.sk-toggleable {background-color: white;}#sk-container-id-81 label.sk-toggleable__label {cursor: pointer;display: block;width: 100%;margin-bottom: 0;padding: 0.3em;box-sizing: border-box;text-align: center;}#sk-container-id-81 label.sk-toggleable__label-arrow:before {content: \"▸\";float: left;margin-right: 0.25em;color: #696969;}#sk-container-id-81 label.sk-toggleable__label-arrow:hover:before {color: black;}#sk-container-id-81 div.sk-estimator:hover label.sk-toggleable__label-arrow:before {color: black;}#sk-container-id-81 div.sk-toggleable__content {max-height: 0;max-width: 0;overflow: hidden;text-align: left;background-color: #f0f8ff;}#sk-container-id-81 div.sk-toggleable__content pre {margin: 0.2em;color: black;border-radius: 0.25em;background-color: #f0f8ff;}#sk-container-id-81 input.sk-toggleable__control:checked~div.sk-toggleable__content {max-height: 200px;max-width: 100%;overflow: auto;}#sk-container-id-81 input.sk-toggleable__control:checked~label.sk-toggleable__label-arrow:before {content: \"▾\";}#sk-container-id-81 div.sk-estimator input.sk-toggleable__control:checked~label.sk-toggleable__label {background-color: #d4ebff;}#sk-container-id-81 div.sk-label input.sk-toggleable__control:checked~label.sk-toggleable__label {background-color: #d4ebff;}#sk-container-id-81 input.sk-hidden--visually {border: 0;clip: rect(1px 1px 1px 1px);clip: rect(1px, 1px, 1px, 1px);height: 1px;margin: -1px;overflow: hidden;padding: 0;position: absolute;width: 1px;}#sk-container-id-81 div.sk-estimator {font-family: monospace;background-color: #f0f8ff;border: 1px dotted black;border-radius: 0.25em;box-sizing: border-box;margin-bottom: 0.5em;}#sk-container-id-81 div.sk-estimator:hover {background-color: #d4ebff;}#sk-container-id-81 div.sk-parallel-item::after {content: \"\";width: 100%;border-bottom: 1px solid gray;flex-grow: 1;}#sk-container-id-81 div.sk-label:hover label.sk-toggleable__label {background-color: #d4ebff;}#sk-container-id-81 div.sk-serial::before {content: \"\";position: absolute;border-left: 1px solid gray;box-sizing: border-box;top: 0;bottom: 0;left: 50%;z-index: 0;}#sk-container-id-81 div.sk-serial {display: flex;flex-direction: column;align-items: center;background-color: white;padding-right: 0.2em;padding-left: 0.2em;position: relative;}#sk-container-id-81 div.sk-item {position: relative;z-index: 1;}#sk-container-id-81 div.sk-parallel {display: flex;align-items: stretch;justify-content: center;background-color: white;position: relative;}#sk-container-id-81 div.sk-item::before, #sk-container-id-81 div.sk-parallel-item::before {content: \"\";position: absolute;border-left: 1px solid gray;box-sizing: border-box;top: 0;bottom: 0;left: 50%;z-index: -1;}#sk-container-id-81 div.sk-parallel-item {display: flex;flex-direction: column;z-index: 1;position: relative;background-color: white;}#sk-container-id-81 div.sk-parallel-item:first-child::after {align-self: flex-end;width: 50%;}#sk-container-id-81 div.sk-parallel-item:last-child::after {align-self: flex-start;width: 50%;}#sk-container-id-81 div.sk-parallel-item:only-child::after {width: 0;}#sk-container-id-81 div.sk-dashed-wrapped {border: 1px dashed gray;margin: 0 0.4em 0.5em 0.4em;box-sizing: border-box;padding-bottom: 0.4em;background-color: white;}#sk-container-id-81 div.sk-label label {font-family: monospace;font-weight: bold;display: inline-block;line-height: 1.2em;}#sk-container-id-81 div.sk-label-container {text-align: center;}#sk-container-id-81 div.sk-container {/* jupyter's `normalize.less` sets `[hidden] { display: none; }` but bootstrap.min.css set `[hidden] { display: none !important; }` so we also need the `!important` here to be able to override the default hidden behavior on the sphinx rendered scikit-learn.org. See: https://github.com/scikit-learn/scikit-learn/issues/21755 */display: inline-block !important;position: relative;}#sk-container-id-81 div.sk-text-repr-fallback {display: none;}</style><div id=\"sk-container-id-81\" class=\"sk-top-container\"><div class=\"sk-text-repr-fallback\"><pre>GridSearchCV(cv=StratifiedKFold(n_splits=5, random_state=None, shuffle=False),\n",
       "             estimator=Pipeline(steps=[(&#x27;columntransformer&#x27;,\n",
       "                                        ColumnTransformer(remainder=&#x27;passthrough&#x27;,\n",
       "                                                          transformers=[(&#x27;ohe&#x27;,\n",
       "                                                                         OneHotEncoder(drop=&#x27;first&#x27;,\n",
       "                                                                                       sparse=False),\n",
       "                                                                         [&#x27;gender&#x27;,\n",
       "                                                                          &#x27;hypertension&#x27;,\n",
       "                                                                          &#x27;heart_disease&#x27;,\n",
       "                                                                          &#x27;ever_married&#x27;,\n",
       "                                                                          &#x27;smoking_status&#x27;,\n",
       "                                                                          &#x27;Residence_type&#x27;,\n",
       "                                                                          &#x27;work_type&#x27;])])),\n",
       "                                       (&#x27;randomundersam...\n",
       "                                        RandomUnderSampler(sampling_strategy={0: 2000})),\n",
       "                                       (&#x27;smote&#x27;,\n",
       "                                        SMOTE(sampling_strategy={1: 1500})),\n",
       "                                       (&#x27;polynomialfeatures&#x27;,\n",
       "                                        PolynomialFeatures()),\n",
       "                                       (&#x27;minmaxscaler&#x27;, MinMaxScaler()),\n",
       "                                       (&#x27;logisticregression&#x27;,\n",
       "                                        LogisticRegression(class_weight=&#x27;balanced&#x27;))]),\n",
       "             param_grid=[{&#x27;logisticregression__C&#x27;: [1, 5, 0.01],\n",
       "                          &#x27;polynomialfeatures__degree&#x27;: [1, 2]}],\n",
       "             return_train_score=True, scoring=&#x27;recall&#x27;)</pre><b>In a Jupyter environment, please rerun this cell to show the HTML representation or trust the notebook. <br />On GitHub, the HTML representation is unable to render, please try loading this page with nbviewer.org.</b></div><div class=\"sk-container\" hidden><div class=\"sk-item sk-dashed-wrapped\"><div class=\"sk-label-container\"><div class=\"sk-label sk-toggleable\"><input class=\"sk-toggleable__control sk-hidden--visually\" id=\"sk-estimator-id-927\" type=\"checkbox\" ><label for=\"sk-estimator-id-927\" class=\"sk-toggleable__label sk-toggleable__label-arrow\">GridSearchCV</label><div class=\"sk-toggleable__content\"><pre>GridSearchCV(cv=StratifiedKFold(n_splits=5, random_state=None, shuffle=False),\n",
       "             estimator=Pipeline(steps=[(&#x27;columntransformer&#x27;,\n",
       "                                        ColumnTransformer(remainder=&#x27;passthrough&#x27;,\n",
       "                                                          transformers=[(&#x27;ohe&#x27;,\n",
       "                                                                         OneHotEncoder(drop=&#x27;first&#x27;,\n",
       "                                                                                       sparse=False),\n",
       "                                                                         [&#x27;gender&#x27;,\n",
       "                                                                          &#x27;hypertension&#x27;,\n",
       "                                                                          &#x27;heart_disease&#x27;,\n",
       "                                                                          &#x27;ever_married&#x27;,\n",
       "                                                                          &#x27;smoking_status&#x27;,\n",
       "                                                                          &#x27;Residence_type&#x27;,\n",
       "                                                                          &#x27;work_type&#x27;])])),\n",
       "                                       (&#x27;randomundersam...\n",
       "                                        RandomUnderSampler(sampling_strategy={0: 2000})),\n",
       "                                       (&#x27;smote&#x27;,\n",
       "                                        SMOTE(sampling_strategy={1: 1500})),\n",
       "                                       (&#x27;polynomialfeatures&#x27;,\n",
       "                                        PolynomialFeatures()),\n",
       "                                       (&#x27;minmaxscaler&#x27;, MinMaxScaler()),\n",
       "                                       (&#x27;logisticregression&#x27;,\n",
       "                                        LogisticRegression(class_weight=&#x27;balanced&#x27;))]),\n",
       "             param_grid=[{&#x27;logisticregression__C&#x27;: [1, 5, 0.01],\n",
       "                          &#x27;polynomialfeatures__degree&#x27;: [1, 2]}],\n",
       "             return_train_score=True, scoring=&#x27;recall&#x27;)</pre></div></div></div><div class=\"sk-parallel\"><div class=\"sk-parallel-item\"><div class=\"sk-item\"><div class=\"sk-label-container\"><div class=\"sk-label sk-toggleable\"><input class=\"sk-toggleable__control sk-hidden--visually\" id=\"sk-estimator-id-928\" type=\"checkbox\" ><label for=\"sk-estimator-id-928\" class=\"sk-toggleable__label sk-toggleable__label-arrow\">estimator: Pipeline</label><div class=\"sk-toggleable__content\"><pre>Pipeline(steps=[(&#x27;columntransformer&#x27;,\n",
       "                 ColumnTransformer(remainder=&#x27;passthrough&#x27;,\n",
       "                                   transformers=[(&#x27;ohe&#x27;,\n",
       "                                                  OneHotEncoder(drop=&#x27;first&#x27;,\n",
       "                                                                sparse=False),\n",
       "                                                  [&#x27;gender&#x27;, &#x27;hypertension&#x27;,\n",
       "                                                   &#x27;heart_disease&#x27;,\n",
       "                                                   &#x27;ever_married&#x27;,\n",
       "                                                   &#x27;smoking_status&#x27;,\n",
       "                                                   &#x27;Residence_type&#x27;,\n",
       "                                                   &#x27;work_type&#x27;])])),\n",
       "                (&#x27;randomundersampler&#x27;,\n",
       "                 RandomUnderSampler(sampling_strategy={0: 2000})),\n",
       "                (&#x27;smote&#x27;, SMOTE(sampling_strategy={1: 1500})),\n",
       "                (&#x27;polynomialfeatures&#x27;, PolynomialFeatures()),\n",
       "                (&#x27;minmaxscaler&#x27;, MinMaxScaler()),\n",
       "                (&#x27;logisticregression&#x27;,\n",
       "                 LogisticRegression(class_weight=&#x27;balanced&#x27;))])</pre></div></div></div><div class=\"sk-serial\"><div class=\"sk-item\"><div class=\"sk-serial\"><div class=\"sk-item sk-dashed-wrapped\"><div class=\"sk-label-container\"><div class=\"sk-label sk-toggleable\"><input class=\"sk-toggleable__control sk-hidden--visually\" id=\"sk-estimator-id-929\" type=\"checkbox\" ><label for=\"sk-estimator-id-929\" class=\"sk-toggleable__label sk-toggleable__label-arrow\">columntransformer: ColumnTransformer</label><div class=\"sk-toggleable__content\"><pre>ColumnTransformer(remainder=&#x27;passthrough&#x27;,\n",
       "                  transformers=[(&#x27;ohe&#x27;,\n",
       "                                 OneHotEncoder(drop=&#x27;first&#x27;, sparse=False),\n",
       "                                 [&#x27;gender&#x27;, &#x27;hypertension&#x27;, &#x27;heart_disease&#x27;,\n",
       "                                  &#x27;ever_married&#x27;, &#x27;smoking_status&#x27;,\n",
       "                                  &#x27;Residence_type&#x27;, &#x27;work_type&#x27;])])</pre></div></div></div><div class=\"sk-parallel\"><div class=\"sk-parallel-item\"><div class=\"sk-item\"><div class=\"sk-label-container\"><div class=\"sk-label sk-toggleable\"><input class=\"sk-toggleable__control sk-hidden--visually\" id=\"sk-estimator-id-930\" type=\"checkbox\" ><label for=\"sk-estimator-id-930\" class=\"sk-toggleable__label sk-toggleable__label-arrow\">ohe</label><div class=\"sk-toggleable__content\"><pre>[&#x27;gender&#x27;, &#x27;hypertension&#x27;, &#x27;heart_disease&#x27;, &#x27;ever_married&#x27;, &#x27;smoking_status&#x27;, &#x27;Residence_type&#x27;, &#x27;work_type&#x27;]</pre></div></div></div><div class=\"sk-serial\"><div class=\"sk-item\"><div class=\"sk-estimator sk-toggleable\"><input class=\"sk-toggleable__control sk-hidden--visually\" id=\"sk-estimator-id-931\" type=\"checkbox\" ><label for=\"sk-estimator-id-931\" class=\"sk-toggleable__label sk-toggleable__label-arrow\">OneHotEncoder</label><div class=\"sk-toggleable__content\"><pre>OneHotEncoder(drop=&#x27;first&#x27;, sparse=False)</pre></div></div></div></div></div></div><div class=\"sk-parallel-item\"><div class=\"sk-item\"><div class=\"sk-label-container\"><div class=\"sk-label sk-toggleable\"><input class=\"sk-toggleable__control sk-hidden--visually\" id=\"sk-estimator-id-932\" type=\"checkbox\" ><label for=\"sk-estimator-id-932\" class=\"sk-toggleable__label sk-toggleable__label-arrow\">remainder</label><div class=\"sk-toggleable__content\"><pre></pre></div></div></div><div class=\"sk-serial\"><div class=\"sk-item\"><div class=\"sk-estimator sk-toggleable\"><input class=\"sk-toggleable__control sk-hidden--visually\" id=\"sk-estimator-id-933\" type=\"checkbox\" ><label for=\"sk-estimator-id-933\" class=\"sk-toggleable__label sk-toggleable__label-arrow\">passthrough</label><div class=\"sk-toggleable__content\"><pre>passthrough</pre></div></div></div></div></div></div></div></div><div class=\"sk-item\"><div class=\"sk-estimator sk-toggleable\"><input class=\"sk-toggleable__control sk-hidden--visually\" id=\"sk-estimator-id-934\" type=\"checkbox\" ><label for=\"sk-estimator-id-934\" class=\"sk-toggleable__label sk-toggleable__label-arrow\">RandomUnderSampler</label><div class=\"sk-toggleable__content\"><pre>RandomUnderSampler(sampling_strategy={0: 2000})</pre></div></div></div><div class=\"sk-item\"><div class=\"sk-estimator sk-toggleable\"><input class=\"sk-toggleable__control sk-hidden--visually\" id=\"sk-estimator-id-935\" type=\"checkbox\" ><label for=\"sk-estimator-id-935\" class=\"sk-toggleable__label sk-toggleable__label-arrow\">SMOTE</label><div class=\"sk-toggleable__content\"><pre>SMOTE(sampling_strategy={1: 1500})</pre></div></div></div><div class=\"sk-item\"><div class=\"sk-estimator sk-toggleable\"><input class=\"sk-toggleable__control sk-hidden--visually\" id=\"sk-estimator-id-936\" type=\"checkbox\" ><label for=\"sk-estimator-id-936\" class=\"sk-toggleable__label sk-toggleable__label-arrow\">PolynomialFeatures</label><div class=\"sk-toggleable__content\"><pre>PolynomialFeatures()</pre></div></div></div><div class=\"sk-item\"><div class=\"sk-estimator sk-toggleable\"><input class=\"sk-toggleable__control sk-hidden--visually\" id=\"sk-estimator-id-937\" type=\"checkbox\" ><label for=\"sk-estimator-id-937\" class=\"sk-toggleable__label sk-toggleable__label-arrow\">MinMaxScaler</label><div class=\"sk-toggleable__content\"><pre>MinMaxScaler()</pre></div></div></div><div class=\"sk-item\"><div class=\"sk-estimator sk-toggleable\"><input class=\"sk-toggleable__control sk-hidden--visually\" id=\"sk-estimator-id-938\" type=\"checkbox\" ><label for=\"sk-estimator-id-938\" class=\"sk-toggleable__label sk-toggleable__label-arrow\">LogisticRegression</label><div class=\"sk-toggleable__content\"><pre>LogisticRegression(class_weight=&#x27;balanced&#x27;)</pre></div></div></div></div></div></div></div></div></div></div></div></div>"
      ],
      "text/plain": [
       "GridSearchCV(cv=StratifiedKFold(n_splits=5, random_state=None, shuffle=False),\n",
       "             estimator=Pipeline(steps=[('columntransformer',\n",
       "                                        ColumnTransformer(remainder='passthrough',\n",
       "                                                          transformers=[('ohe',\n",
       "                                                                         OneHotEncoder(drop='first',\n",
       "                                                                                       sparse=False),\n",
       "                                                                         ['gender',\n",
       "                                                                          'hypertension',\n",
       "                                                                          'heart_disease',\n",
       "                                                                          'ever_married',\n",
       "                                                                          'smoking_status',\n",
       "                                                                          'Residence_type',\n",
       "                                                                          'work_type'])])),\n",
       "                                       ('randomundersam...\n",
       "                                        RandomUnderSampler(sampling_strategy={0: 2000})),\n",
       "                                       ('smote',\n",
       "                                        SMOTE(sampling_strategy={1: 1500})),\n",
       "                                       ('polynomialfeatures',\n",
       "                                        PolynomialFeatures()),\n",
       "                                       ('minmaxscaler', MinMaxScaler()),\n",
       "                                       ('logisticregression',\n",
       "                                        LogisticRegression(class_weight='balanced'))]),\n",
       "             param_grid=[{'logisticregression__C': [1, 5, 0.01],\n",
       "                          'polynomialfeatures__degree': [1, 2]}],\n",
       "             return_train_score=True, scoring='recall')"
      ]
     },
     "execution_count": 608,
     "metadata": {},
     "output_type": "execute_result"
    }
   ],
   "source": [
    "LR_grid.fit(x2 , y2)"
   ]
  },
  {
   "cell_type": "code",
   "execution_count": 609,
   "id": "095f5600",
   "metadata": {},
   "outputs": [
    {
     "data": {
      "text/html": [
       "<style>#sk-container-id-82 {color: black;background-color: white;}#sk-container-id-82 pre{padding: 0;}#sk-container-id-82 div.sk-toggleable {background-color: white;}#sk-container-id-82 label.sk-toggleable__label {cursor: pointer;display: block;width: 100%;margin-bottom: 0;padding: 0.3em;box-sizing: border-box;text-align: center;}#sk-container-id-82 label.sk-toggleable__label-arrow:before {content: \"▸\";float: left;margin-right: 0.25em;color: #696969;}#sk-container-id-82 label.sk-toggleable__label-arrow:hover:before {color: black;}#sk-container-id-82 div.sk-estimator:hover label.sk-toggleable__label-arrow:before {color: black;}#sk-container-id-82 div.sk-toggleable__content {max-height: 0;max-width: 0;overflow: hidden;text-align: left;background-color: #f0f8ff;}#sk-container-id-82 div.sk-toggleable__content pre {margin: 0.2em;color: black;border-radius: 0.25em;background-color: #f0f8ff;}#sk-container-id-82 input.sk-toggleable__control:checked~div.sk-toggleable__content {max-height: 200px;max-width: 100%;overflow: auto;}#sk-container-id-82 input.sk-toggleable__control:checked~label.sk-toggleable__label-arrow:before {content: \"▾\";}#sk-container-id-82 div.sk-estimator input.sk-toggleable__control:checked~label.sk-toggleable__label {background-color: #d4ebff;}#sk-container-id-82 div.sk-label input.sk-toggleable__control:checked~label.sk-toggleable__label {background-color: #d4ebff;}#sk-container-id-82 input.sk-hidden--visually {border: 0;clip: rect(1px 1px 1px 1px);clip: rect(1px, 1px, 1px, 1px);height: 1px;margin: -1px;overflow: hidden;padding: 0;position: absolute;width: 1px;}#sk-container-id-82 div.sk-estimator {font-family: monospace;background-color: #f0f8ff;border: 1px dotted black;border-radius: 0.25em;box-sizing: border-box;margin-bottom: 0.5em;}#sk-container-id-82 div.sk-estimator:hover {background-color: #d4ebff;}#sk-container-id-82 div.sk-parallel-item::after {content: \"\";width: 100%;border-bottom: 1px solid gray;flex-grow: 1;}#sk-container-id-82 div.sk-label:hover label.sk-toggleable__label {background-color: #d4ebff;}#sk-container-id-82 div.sk-serial::before {content: \"\";position: absolute;border-left: 1px solid gray;box-sizing: border-box;top: 0;bottom: 0;left: 50%;z-index: 0;}#sk-container-id-82 div.sk-serial {display: flex;flex-direction: column;align-items: center;background-color: white;padding-right: 0.2em;padding-left: 0.2em;position: relative;}#sk-container-id-82 div.sk-item {position: relative;z-index: 1;}#sk-container-id-82 div.sk-parallel {display: flex;align-items: stretch;justify-content: center;background-color: white;position: relative;}#sk-container-id-82 div.sk-item::before, #sk-container-id-82 div.sk-parallel-item::before {content: \"\";position: absolute;border-left: 1px solid gray;box-sizing: border-box;top: 0;bottom: 0;left: 50%;z-index: -1;}#sk-container-id-82 div.sk-parallel-item {display: flex;flex-direction: column;z-index: 1;position: relative;background-color: white;}#sk-container-id-82 div.sk-parallel-item:first-child::after {align-self: flex-end;width: 50%;}#sk-container-id-82 div.sk-parallel-item:last-child::after {align-self: flex-start;width: 50%;}#sk-container-id-82 div.sk-parallel-item:only-child::after {width: 0;}#sk-container-id-82 div.sk-dashed-wrapped {border: 1px dashed gray;margin: 0 0.4em 0.5em 0.4em;box-sizing: border-box;padding-bottom: 0.4em;background-color: white;}#sk-container-id-82 div.sk-label label {font-family: monospace;font-weight: bold;display: inline-block;line-height: 1.2em;}#sk-container-id-82 div.sk-label-container {text-align: center;}#sk-container-id-82 div.sk-container {/* jupyter's `normalize.less` sets `[hidden] { display: none; }` but bootstrap.min.css set `[hidden] { display: none !important; }` so we also need the `!important` here to be able to override the default hidden behavior on the sphinx rendered scikit-learn.org. See: https://github.com/scikit-learn/scikit-learn/issues/21755 */display: inline-block !important;position: relative;}#sk-container-id-82 div.sk-text-repr-fallback {display: none;}</style><div id=\"sk-container-id-82\" class=\"sk-top-container\"><div class=\"sk-text-repr-fallback\"><pre>Pipeline(steps=[(&#x27;columntransformer&#x27;,\n",
       "                 ColumnTransformer(remainder=&#x27;passthrough&#x27;,\n",
       "                                   transformers=[(&#x27;ohe&#x27;,\n",
       "                                                  OneHotEncoder(drop=&#x27;first&#x27;,\n",
       "                                                                sparse=False),\n",
       "                                                  [&#x27;gender&#x27;, &#x27;hypertension&#x27;,\n",
       "                                                   &#x27;heart_disease&#x27;,\n",
       "                                                   &#x27;ever_married&#x27;,\n",
       "                                                   &#x27;smoking_status&#x27;,\n",
       "                                                   &#x27;Residence_type&#x27;,\n",
       "                                                   &#x27;work_type&#x27;])])),\n",
       "                (&#x27;randomundersampler&#x27;,\n",
       "                 RandomUnderSampler(sampling_strategy={0: 2000})),\n",
       "                (&#x27;smote&#x27;, SMOTE(sampling_strategy={1: 1500})),\n",
       "                (&#x27;polynomialfeatures&#x27;, PolynomialFeatures(degree=1)),\n",
       "                (&#x27;minmaxscaler&#x27;, MinMaxScaler()),\n",
       "                (&#x27;logisticregression&#x27;,\n",
       "                 LogisticRegression(C=5, class_weight=&#x27;balanced&#x27;))])</pre><b>In a Jupyter environment, please rerun this cell to show the HTML representation or trust the notebook. <br />On GitHub, the HTML representation is unable to render, please try loading this page with nbviewer.org.</b></div><div class=\"sk-container\" hidden><div class=\"sk-item sk-dashed-wrapped\"><div class=\"sk-label-container\"><div class=\"sk-label sk-toggleable\"><input class=\"sk-toggleable__control sk-hidden--visually\" id=\"sk-estimator-id-939\" type=\"checkbox\" ><label for=\"sk-estimator-id-939\" class=\"sk-toggleable__label sk-toggleable__label-arrow\">Pipeline</label><div class=\"sk-toggleable__content\"><pre>Pipeline(steps=[(&#x27;columntransformer&#x27;,\n",
       "                 ColumnTransformer(remainder=&#x27;passthrough&#x27;,\n",
       "                                   transformers=[(&#x27;ohe&#x27;,\n",
       "                                                  OneHotEncoder(drop=&#x27;first&#x27;,\n",
       "                                                                sparse=False),\n",
       "                                                  [&#x27;gender&#x27;, &#x27;hypertension&#x27;,\n",
       "                                                   &#x27;heart_disease&#x27;,\n",
       "                                                   &#x27;ever_married&#x27;,\n",
       "                                                   &#x27;smoking_status&#x27;,\n",
       "                                                   &#x27;Residence_type&#x27;,\n",
       "                                                   &#x27;work_type&#x27;])])),\n",
       "                (&#x27;randomundersampler&#x27;,\n",
       "                 RandomUnderSampler(sampling_strategy={0: 2000})),\n",
       "                (&#x27;smote&#x27;, SMOTE(sampling_strategy={1: 1500})),\n",
       "                (&#x27;polynomialfeatures&#x27;, PolynomialFeatures(degree=1)),\n",
       "                (&#x27;minmaxscaler&#x27;, MinMaxScaler()),\n",
       "                (&#x27;logisticregression&#x27;,\n",
       "                 LogisticRegression(C=5, class_weight=&#x27;balanced&#x27;))])</pre></div></div></div><div class=\"sk-serial\"><div class=\"sk-item sk-dashed-wrapped\"><div class=\"sk-label-container\"><div class=\"sk-label sk-toggleable\"><input class=\"sk-toggleable__control sk-hidden--visually\" id=\"sk-estimator-id-940\" type=\"checkbox\" ><label for=\"sk-estimator-id-940\" class=\"sk-toggleable__label sk-toggleable__label-arrow\">columntransformer: ColumnTransformer</label><div class=\"sk-toggleable__content\"><pre>ColumnTransformer(remainder=&#x27;passthrough&#x27;,\n",
       "                  transformers=[(&#x27;ohe&#x27;,\n",
       "                                 OneHotEncoder(drop=&#x27;first&#x27;, sparse=False),\n",
       "                                 [&#x27;gender&#x27;, &#x27;hypertension&#x27;, &#x27;heart_disease&#x27;,\n",
       "                                  &#x27;ever_married&#x27;, &#x27;smoking_status&#x27;,\n",
       "                                  &#x27;Residence_type&#x27;, &#x27;work_type&#x27;])])</pre></div></div></div><div class=\"sk-parallel\"><div class=\"sk-parallel-item\"><div class=\"sk-item\"><div class=\"sk-label-container\"><div class=\"sk-label sk-toggleable\"><input class=\"sk-toggleable__control sk-hidden--visually\" id=\"sk-estimator-id-941\" type=\"checkbox\" ><label for=\"sk-estimator-id-941\" class=\"sk-toggleable__label sk-toggleable__label-arrow\">ohe</label><div class=\"sk-toggleable__content\"><pre>[&#x27;gender&#x27;, &#x27;hypertension&#x27;, &#x27;heart_disease&#x27;, &#x27;ever_married&#x27;, &#x27;smoking_status&#x27;, &#x27;Residence_type&#x27;, &#x27;work_type&#x27;]</pre></div></div></div><div class=\"sk-serial\"><div class=\"sk-item\"><div class=\"sk-estimator sk-toggleable\"><input class=\"sk-toggleable__control sk-hidden--visually\" id=\"sk-estimator-id-942\" type=\"checkbox\" ><label for=\"sk-estimator-id-942\" class=\"sk-toggleable__label sk-toggleable__label-arrow\">OneHotEncoder</label><div class=\"sk-toggleable__content\"><pre>OneHotEncoder(drop=&#x27;first&#x27;, sparse=False)</pre></div></div></div></div></div></div><div class=\"sk-parallel-item\"><div class=\"sk-item\"><div class=\"sk-label-container\"><div class=\"sk-label sk-toggleable\"><input class=\"sk-toggleable__control sk-hidden--visually\" id=\"sk-estimator-id-943\" type=\"checkbox\" ><label for=\"sk-estimator-id-943\" class=\"sk-toggleable__label sk-toggleable__label-arrow\">remainder</label><div class=\"sk-toggleable__content\"><pre>[&#x27;age&#x27;, &#x27;bmi_cat&#x27;, &#x27;glucose_cat&#x27;]</pre></div></div></div><div class=\"sk-serial\"><div class=\"sk-item\"><div class=\"sk-estimator sk-toggleable\"><input class=\"sk-toggleable__control sk-hidden--visually\" id=\"sk-estimator-id-944\" type=\"checkbox\" ><label for=\"sk-estimator-id-944\" class=\"sk-toggleable__label sk-toggleable__label-arrow\">passthrough</label><div class=\"sk-toggleable__content\"><pre>passthrough</pre></div></div></div></div></div></div></div></div><div class=\"sk-item\"><div class=\"sk-estimator sk-toggleable\"><input class=\"sk-toggleable__control sk-hidden--visually\" id=\"sk-estimator-id-945\" type=\"checkbox\" ><label for=\"sk-estimator-id-945\" class=\"sk-toggleable__label sk-toggleable__label-arrow\">RandomUnderSampler</label><div class=\"sk-toggleable__content\"><pre>RandomUnderSampler(sampling_strategy={0: 2000})</pre></div></div></div><div class=\"sk-item\"><div class=\"sk-estimator sk-toggleable\"><input class=\"sk-toggleable__control sk-hidden--visually\" id=\"sk-estimator-id-946\" type=\"checkbox\" ><label for=\"sk-estimator-id-946\" class=\"sk-toggleable__label sk-toggleable__label-arrow\">SMOTE</label><div class=\"sk-toggleable__content\"><pre>SMOTE(sampling_strategy={1: 1500})</pre></div></div></div><div class=\"sk-item\"><div class=\"sk-estimator sk-toggleable\"><input class=\"sk-toggleable__control sk-hidden--visually\" id=\"sk-estimator-id-947\" type=\"checkbox\" ><label for=\"sk-estimator-id-947\" class=\"sk-toggleable__label sk-toggleable__label-arrow\">PolynomialFeatures</label><div class=\"sk-toggleable__content\"><pre>PolynomialFeatures(degree=1)</pre></div></div></div><div class=\"sk-item\"><div class=\"sk-estimator sk-toggleable\"><input class=\"sk-toggleable__control sk-hidden--visually\" id=\"sk-estimator-id-948\" type=\"checkbox\" ><label for=\"sk-estimator-id-948\" class=\"sk-toggleable__label sk-toggleable__label-arrow\">MinMaxScaler</label><div class=\"sk-toggleable__content\"><pre>MinMaxScaler()</pre></div></div></div><div class=\"sk-item\"><div class=\"sk-estimator sk-toggleable\"><input class=\"sk-toggleable__control sk-hidden--visually\" id=\"sk-estimator-id-949\" type=\"checkbox\" ><label for=\"sk-estimator-id-949\" class=\"sk-toggleable__label sk-toggleable__label-arrow\">LogisticRegression</label><div class=\"sk-toggleable__content\"><pre>LogisticRegression(C=5, class_weight=&#x27;balanced&#x27;)</pre></div></div></div></div></div></div></div>"
      ],
      "text/plain": [
       "Pipeline(steps=[('columntransformer',\n",
       "                 ColumnTransformer(remainder='passthrough',\n",
       "                                   transformers=[('ohe',\n",
       "                                                  OneHotEncoder(drop='first',\n",
       "                                                                sparse=False),\n",
       "                                                  ['gender', 'hypertension',\n",
       "                                                   'heart_disease',\n",
       "                                                   'ever_married',\n",
       "                                                   'smoking_status',\n",
       "                                                   'Residence_type',\n",
       "                                                   'work_type'])])),\n",
       "                ('randomundersampler',\n",
       "                 RandomUnderSampler(sampling_strategy={0: 2000})),\n",
       "                ('smote', SMOTE(sampling_strategy={1: 1500})),\n",
       "                ('polynomialfeatures', PolynomialFeatures(degree=1)),\n",
       "                ('minmaxscaler', MinMaxScaler()),\n",
       "                ('logisticregression',\n",
       "                 LogisticRegression(C=5, class_weight='balanced'))])"
      ]
     },
     "execution_count": 609,
     "metadata": {},
     "output_type": "execute_result"
    }
   ],
   "source": [
    "LR_grid.best_estimator_"
   ]
  },
  {
   "cell_type": "code",
   "execution_count": 610,
   "id": "2982b0ca",
   "metadata": {},
   "outputs": [
    {
     "data": {
      "text/plain": [
       "0.8111020408163265"
      ]
     },
     "execution_count": 610,
     "metadata": {},
     "output_type": "execute_result"
    }
   ],
   "source": [
    "LR_grid.best_score_"
   ]
  },
  {
   "cell_type": "code",
   "execution_count": 611,
   "id": "9f04a089",
   "metadata": {},
   "outputs": [
    {
     "data": {
      "text/plain": [
       "0.8293115577889448"
      ]
     },
     "execution_count": 611,
     "metadata": {},
     "output_type": "execute_result"
    }
   ],
   "source": [
    "LR_grid.cv_results_['mean_train_score'].max()"
   ]
  },
  {
   "cell_type": "code",
   "execution_count": 612,
   "id": "8d6a363f",
   "metadata": {},
   "outputs": [
    {
     "data": {
      "text/plain": [
       "0.8111020408163265"
      ]
     },
     "execution_count": 612,
     "metadata": {},
     "output_type": "execute_result"
    }
   ],
   "source": [
    "LR_grid.cv_results_['mean_test_score'].max()"
   ]
  },
  {
   "cell_type": "code",
   "execution_count": 613,
   "id": "120ce443",
   "metadata": {},
   "outputs": [],
   "source": [
    "LR_Model = LR_grid.best_estimator_"
   ]
  },
  {
   "cell_type": "code",
   "execution_count": 614,
   "id": "12962319",
   "metadata": {},
   "outputs": [
    {
     "data": {
      "text/plain": [
       "0.7250489236790607"
      ]
     },
     "execution_count": 614,
     "metadata": {},
     "output_type": "execute_result"
    }
   ],
   "source": [
    "accuracy_score(LR_Model.predict(x2) , y2)"
   ]
  },
  {
   "cell_type": "code",
   "execution_count": 615,
   "id": "27105a65",
   "metadata": {},
   "outputs": [
    {
     "data": {
      "text/plain": [
       "0.4179566563467492"
      ]
     },
     "execution_count": 615,
     "metadata": {},
     "output_type": "execute_result"
    }
   ],
   "source": [
    "fbeta_score(LR_Model.predict(x2) , y2 , beta=0.5)"
   ]
  },
  {
   "cell_type": "code",
   "execution_count": 616,
   "id": "939bb47f",
   "metadata": {},
   "outputs": [
    {
     "data": {
      "text/plain": [
       "0.8674698795180723"
      ]
     },
     "execution_count": 616,
     "metadata": {},
     "output_type": "execute_result"
    }
   ],
   "source": [
    "precision_score(LR_Model.predict(x2) , y2)"
   ]
  },
  {
   "cell_type": "code",
   "execution_count": 617,
   "id": "33b38d8c",
   "metadata": {},
   "outputs": [
    {
     "data": {
      "text/plain": [
       "<sklearn.metrics._plot.confusion_matrix.ConfusionMatrixDisplay at 0x29c33c1b9d0>"
      ]
     },
     "execution_count": 617,
     "metadata": {},
     "output_type": "execute_result"
    },
    {
     "data": {
      "image/png": "[encoded data removed]",
      "text/plain": [
       "<Figure size 720x288 with 2 Axes>"
      ]
     },
     "metadata": {},
     "output_type": "display_data"
    }
   ],
   "source": [
    "sns.set_style('white')\n",
    "plot_confusion_matrix(LR_Model , x2 , y2)"
   ]
  },
  {
   "cell_type": "code",
   "execution_count": 618,
   "id": "4c325424",
   "metadata": {},
   "outputs": [
    {
     "data": {
      "text/plain": [
       "<sklearn.metrics._plot.roc_curve.RocCurveDisplay at 0x29c33d213c0>"
      ]
     },
     "execution_count": 618,
     "metadata": {},
     "output_type": "execute_result"
    },
    {
     "data": {
      "image/png": "[encoded data removed]",
      "text/plain": [
       "<Figure size 720x288 with 1 Axes>"
      ]
     },
     "metadata": {},
     "output_type": "display_data"
    }
   ],
   "source": [
    "plot_roc_curve(LR_Model , x2 , y2)"
   ]
  },
  {
   "cell_type": "code",
   "execution_count": 983,
   "id": "2deea01e",
   "metadata": {},
   "outputs": [
    {
     "data": {
      "text/plain": [
       "['LRC.h5']"
      ]
     },
     "execution_count": 983,
     "metadata": {},
     "output_type": "execute_result"
    }
   ],
   "source": [
    "joblib.dump(LR_Model , 'LRC.h5')"
   ]
  },
  {
   "cell_type": "markdown",
   "id": "60b52897",
   "metadata": {},
   "source": [
    "# `-----------------Support Vector Machine For Tunning-----------------`"
   ]
  },
  {
   "cell_type": "code",
   "execution_count": 666,
   "id": "d660776e",
   "metadata": {},
   "outputs": [],
   "source": [
    "SVM = make_pipeline(trans , smt, MinMaxScaler() , SVC() )"
   ]
  },
  {
   "cell_type": "code",
   "execution_count": 667,
   "id": "2d8b68f0",
   "metadata": {},
   "outputs": [],
   "source": [
    "SVC_params = [\n",
    "    {  \n",
    "        'svc__kernel' : ['linear'],'svc__C':[1 , 5 , 0.1]\n",
    "    },\n",
    "    {\n",
    "        'svc__kernel' : ['poly'],'svc__degree' : [1 , 2],'svc__C':[1 , 5 , 0.01]\n",
    "    },\n",
    "    {\n",
    "        'svc__kernel' : ['rbf'],'svc__gamma':[1 , 5,0.1]\n",
    "    },\n",
    "    {\n",
    "        'svc__kernel' : ['sigmoid'] , 'svc__gamma':[1 , 5,0.1]\n",
    "    }\n",
    "]"
   ]
  },
  {
   "cell_type": "code",
   "execution_count": 668,
   "id": "2596750a",
   "metadata": {},
   "outputs": [],
   "source": [
    "SVC_grid = GridSearchCV(estimator=SVM , cv = StratifiedKFold(n_splits=5) , param_grid = SVC_params ,\n",
    "                        scoring ='recall' , return_train_score=True )"
   ]
  },
  {
   "cell_type": "code",
   "execution_count": 669,
   "id": "544adad1",
   "metadata": {},
   "outputs": [
    {
     "data": {
      "text/html": [
       "<style>#sk-container-id-90 {color: black;background-color: white;}#sk-container-id-90 pre{padding: 0;}#sk-container-id-90 div.sk-toggleable {background-color: white;}#sk-container-id-90 label.sk-toggleable__label {cursor: pointer;display: block;width: 100%;margin-bottom: 0;padding: 0.3em;box-sizing: border-box;text-align: center;}#sk-container-id-90 label.sk-toggleable__label-arrow:before {content: \"▸\";float: left;margin-right: 0.25em;color: #696969;}#sk-container-id-90 label.sk-toggleable__label-arrow:hover:before {color: black;}#sk-container-id-90 div.sk-estimator:hover label.sk-toggleable__label-arrow:before {color: black;}#sk-container-id-90 div.sk-toggleable__content {max-height: 0;max-width: 0;overflow: hidden;text-align: left;background-color: #f0f8ff;}#sk-container-id-90 div.sk-toggleable__content pre {margin: 0.2em;color: black;border-radius: 0.25em;background-color: #f0f8ff;}#sk-container-id-90 input.sk-toggleable__control:checked~div.sk-toggleable__content {max-height: 200px;max-width: 100%;overflow: auto;}#sk-container-id-90 input.sk-toggleable__control:checked~label.sk-toggleable__label-arrow:before {content: \"▾\";}#sk-container-id-90 div.sk-estimator input.sk-toggleable__control:checked~label.sk-toggleable__label {background-color: #d4ebff;}#sk-container-id-90 div.sk-label input.sk-toggleable__control:checked~label.sk-toggleable__label {background-color: #d4ebff;}#sk-container-id-90 input.sk-hidden--visually {border: 0;clip: rect(1px 1px 1px 1px);clip: rect(1px, 1px, 1px, 1px);height: 1px;margin: -1px;overflow: hidden;padding: 0;position: absolute;width: 1px;}#sk-container-id-90 div.sk-estimator {font-family: monospace;background-color: #f0f8ff;border: 1px dotted black;border-radius: 0.25em;box-sizing: border-box;margin-bottom: 0.5em;}#sk-container-id-90 div.sk-estimator:hover {background-color: #d4ebff;}#sk-container-id-90 div.sk-parallel-item::after {content: \"\";width: 100%;border-bottom: 1px solid gray;flex-grow: 1;}#sk-container-id-90 div.sk-label:hover label.sk-toggleable__label {background-color: #d4ebff;}#sk-container-id-90 div.sk-serial::before {content: \"\";position: absolute;border-left: 1px solid gray;box-sizing: border-box;top: 0;bottom: 0;left: 50%;z-index: 0;}#sk-container-id-90 div.sk-serial {display: flex;flex-direction: column;align-items: center;background-color: white;padding-right: 0.2em;padding-left: 0.2em;position: relative;}#sk-container-id-90 div.sk-item {position: relative;z-index: 1;}#sk-container-id-90 div.sk-parallel {display: flex;align-items: stretch;justify-content: center;background-color: white;position: relative;}#sk-container-id-90 div.sk-item::before, #sk-container-id-90 div.sk-parallel-item::before {content: \"\";position: absolute;border-left: 1px solid gray;box-sizing: border-box;top: 0;bottom: 0;left: 50%;z-index: -1;}#sk-container-id-90 div.sk-parallel-item {display: flex;flex-direction: column;z-index: 1;position: relative;background-color: white;}#sk-container-id-90 div.sk-parallel-item:first-child::after {align-self: flex-end;width: 50%;}#sk-container-id-90 div.sk-parallel-item:last-child::after {align-self: flex-start;width: 50%;}#sk-container-id-90 div.sk-parallel-item:only-child::after {width: 0;}#sk-container-id-90 div.sk-dashed-wrapped {border: 1px dashed gray;margin: 0 0.4em 0.5em 0.4em;box-sizing: border-box;padding-bottom: 0.4em;background-color: white;}#sk-container-id-90 div.sk-label label {font-family: monospace;font-weight: bold;display: inline-block;line-height: 1.2em;}#sk-container-id-90 div.sk-label-container {text-align: center;}#sk-container-id-90 div.sk-container {/* jupyter's `normalize.less` sets `[hidden] { display: none; }` but bootstrap.min.css set `[hidden] { display: none !important; }` so we also need the `!important` here to be able to override the default hidden behavior on the sphinx rendered scikit-learn.org. See: https://github.com/scikit-learn/scikit-learn/issues/21755 */display: inline-block !important;position: relative;}#sk-container-id-90 div.sk-text-repr-fallback {display: none;}</style><div id=\"sk-container-id-90\" class=\"sk-top-container\"><div class=\"sk-text-repr-fallback\"><pre>GridSearchCV(cv=StratifiedKFold(n_splits=5, random_state=None, shuffle=False),\n",
       "             estimator=Pipeline(steps=[(&#x27;columntransformer&#x27;,\n",
       "                                        ColumnTransformer(remainder=&#x27;passthrough&#x27;,\n",
       "                                                          transformers=[(&#x27;ohe&#x27;,\n",
       "                                                                         OneHotEncoder(drop=&#x27;first&#x27;,\n",
       "                                                                                       sparse=False),\n",
       "                                                                         [&#x27;gender&#x27;,\n",
       "                                                                          &#x27;hypertension&#x27;,\n",
       "                                                                          &#x27;heart_disease&#x27;,\n",
       "                                                                          &#x27;ever_married&#x27;,\n",
       "                                                                          &#x27;smoking_status&#x27;,\n",
       "                                                                          &#x27;Residence_type&#x27;,\n",
       "                                                                          &#x27;work_type&#x27;])])),\n",
       "                                       (&#x27;smotetomek&#x27;,\n",
       "                                        SM...kLinks(sampling_strategy=&#x27;majority&#x27;))),\n",
       "                                       (&#x27;minmaxscaler&#x27;, MinMaxScaler()),\n",
       "                                       (&#x27;svc&#x27;, SVC())]),\n",
       "             param_grid=[{&#x27;svc__C&#x27;: [1, 5, 0.1], &#x27;svc__kernel&#x27;: [&#x27;linear&#x27;]},\n",
       "                         {&#x27;svc__C&#x27;: [1, 5, 0.01], &#x27;svc__degree&#x27;: [1, 2],\n",
       "                          &#x27;svc__kernel&#x27;: [&#x27;poly&#x27;]},\n",
       "                         {&#x27;svc__gamma&#x27;: [1, 5, 0.1], &#x27;svc__kernel&#x27;: [&#x27;rbf&#x27;]},\n",
       "                         {&#x27;svc__gamma&#x27;: [1, 5, 0.1],\n",
       "                          &#x27;svc__kernel&#x27;: [&#x27;sigmoid&#x27;]}],\n",
       "             return_train_score=True, scoring=&#x27;recall&#x27;)</pre><b>In a Jupyter environment, please rerun this cell to show the HTML representation or trust the notebook. <br />On GitHub, the HTML representation is unable to render, please try loading this page with nbviewer.org.</b></div><div class=\"sk-container\" hidden><div class=\"sk-item sk-dashed-wrapped\"><div class=\"sk-label-container\"><div class=\"sk-label sk-toggleable\"><input class=\"sk-toggleable__control sk-hidden--visually\" id=\"sk-estimator-id-1026\" type=\"checkbox\" ><label for=\"sk-estimator-id-1026\" class=\"sk-toggleable__label sk-toggleable__label-arrow\">GridSearchCV</label><div class=\"sk-toggleable__content\"><pre>GridSearchCV(cv=StratifiedKFold(n_splits=5, random_state=None, shuffle=False),\n",
       "             estimator=Pipeline(steps=[(&#x27;columntransformer&#x27;,\n",
       "                                        ColumnTransformer(remainder=&#x27;passthrough&#x27;,\n",
       "                                                          transformers=[(&#x27;ohe&#x27;,\n",
       "                                                                         OneHotEncoder(drop=&#x27;first&#x27;,\n",
       "                                                                                       sparse=False),\n",
       "                                                                         [&#x27;gender&#x27;,\n",
       "                                                                          &#x27;hypertension&#x27;,\n",
       "                                                                          &#x27;heart_disease&#x27;,\n",
       "                                                                          &#x27;ever_married&#x27;,\n",
       "                                                                          &#x27;smoking_status&#x27;,\n",
       "                                                                          &#x27;Residence_type&#x27;,\n",
       "                                                                          &#x27;work_type&#x27;])])),\n",
       "                                       (&#x27;smotetomek&#x27;,\n",
       "                                        SM...kLinks(sampling_strategy=&#x27;majority&#x27;))),\n",
       "                                       (&#x27;minmaxscaler&#x27;, MinMaxScaler()),\n",
       "                                       (&#x27;svc&#x27;, SVC())]),\n",
       "             param_grid=[{&#x27;svc__C&#x27;: [1, 5, 0.1], &#x27;svc__kernel&#x27;: [&#x27;linear&#x27;]},\n",
       "                         {&#x27;svc__C&#x27;: [1, 5, 0.01], &#x27;svc__degree&#x27;: [1, 2],\n",
       "                          &#x27;svc__kernel&#x27;: [&#x27;poly&#x27;]},\n",
       "                         {&#x27;svc__gamma&#x27;: [1, 5, 0.1], &#x27;svc__kernel&#x27;: [&#x27;rbf&#x27;]},\n",
       "                         {&#x27;svc__gamma&#x27;: [1, 5, 0.1],\n",
       "                          &#x27;svc__kernel&#x27;: [&#x27;sigmoid&#x27;]}],\n",
       "             return_train_score=True, scoring=&#x27;recall&#x27;)</pre></div></div></div><div class=\"sk-parallel\"><div class=\"sk-parallel-item\"><div class=\"sk-item\"><div class=\"sk-label-container\"><div class=\"sk-label sk-toggleable\"><input class=\"sk-toggleable__control sk-hidden--visually\" id=\"sk-estimator-id-1027\" type=\"checkbox\" ><label for=\"sk-estimator-id-1027\" class=\"sk-toggleable__label sk-toggleable__label-arrow\">estimator: Pipeline</label><div class=\"sk-toggleable__content\"><pre>Pipeline(steps=[(&#x27;columntransformer&#x27;,\n",
       "                 ColumnTransformer(remainder=&#x27;passthrough&#x27;,\n",
       "                                   transformers=[(&#x27;ohe&#x27;,\n",
       "                                                  OneHotEncoder(drop=&#x27;first&#x27;,\n",
       "                                                                sparse=False),\n",
       "                                                  [&#x27;gender&#x27;, &#x27;hypertension&#x27;,\n",
       "                                                   &#x27;heart_disease&#x27;,\n",
       "                                                   &#x27;ever_married&#x27;,\n",
       "                                                   &#x27;smoking_status&#x27;,\n",
       "                                                   &#x27;Residence_type&#x27;,\n",
       "                                                   &#x27;work_type&#x27;])])),\n",
       "                (&#x27;smotetomek&#x27;,\n",
       "                 SMOTETomek(tomek=TomekLinks(sampling_strategy=&#x27;majority&#x27;))),\n",
       "                (&#x27;minmaxscaler&#x27;, MinMaxScaler()), (&#x27;svc&#x27;, SVC())])</pre></div></div></div><div class=\"sk-serial\"><div class=\"sk-item\"><div class=\"sk-serial\"><div class=\"sk-item sk-dashed-wrapped\"><div class=\"sk-label-container\"><div class=\"sk-label sk-toggleable\"><input class=\"sk-toggleable__control sk-hidden--visually\" id=\"sk-estimator-id-1028\" type=\"checkbox\" ><label for=\"sk-estimator-id-1028\" class=\"sk-toggleable__label sk-toggleable__label-arrow\">columntransformer: ColumnTransformer</label><div class=\"sk-toggleable__content\"><pre>ColumnTransformer(remainder=&#x27;passthrough&#x27;,\n",
       "                  transformers=[(&#x27;ohe&#x27;,\n",
       "                                 OneHotEncoder(drop=&#x27;first&#x27;, sparse=False),\n",
       "                                 [&#x27;gender&#x27;, &#x27;hypertension&#x27;, &#x27;heart_disease&#x27;,\n",
       "                                  &#x27;ever_married&#x27;, &#x27;smoking_status&#x27;,\n",
       "                                  &#x27;Residence_type&#x27;, &#x27;work_type&#x27;])])</pre></div></div></div><div class=\"sk-parallel\"><div class=\"sk-parallel-item\"><div class=\"sk-item\"><div class=\"sk-label-container\"><div class=\"sk-label sk-toggleable\"><input class=\"sk-toggleable__control sk-hidden--visually\" id=\"sk-estimator-id-1029\" type=\"checkbox\" ><label for=\"sk-estimator-id-1029\" class=\"sk-toggleable__label sk-toggleable__label-arrow\">ohe</label><div class=\"sk-toggleable__content\"><pre>[&#x27;gender&#x27;, &#x27;hypertension&#x27;, &#x27;heart_disease&#x27;, &#x27;ever_married&#x27;, &#x27;smoking_status&#x27;, &#x27;Residence_type&#x27;, &#x27;work_type&#x27;]</pre></div></div></div><div class=\"sk-serial\"><div class=\"sk-item\"><div class=\"sk-estimator sk-toggleable\"><input class=\"sk-toggleable__control sk-hidden--visually\" id=\"sk-estimator-id-1030\" type=\"checkbox\" ><label for=\"sk-estimator-id-1030\" class=\"sk-toggleable__label sk-toggleable__label-arrow\">OneHotEncoder</label><div class=\"sk-toggleable__content\"><pre>OneHotEncoder(drop=&#x27;first&#x27;, sparse=False)</pre></div></div></div></div></div></div><div class=\"sk-parallel-item\"><div class=\"sk-item\"><div class=\"sk-label-container\"><div class=\"sk-label sk-toggleable\"><input class=\"sk-toggleable__control sk-hidden--visually\" id=\"sk-estimator-id-1031\" type=\"checkbox\" ><label for=\"sk-estimator-id-1031\" class=\"sk-toggleable__label sk-toggleable__label-arrow\">remainder</label><div class=\"sk-toggleable__content\"><pre></pre></div></div></div><div class=\"sk-serial\"><div class=\"sk-item\"><div class=\"sk-estimator sk-toggleable\"><input class=\"sk-toggleable__control sk-hidden--visually\" id=\"sk-estimator-id-1032\" type=\"checkbox\" ><label for=\"sk-estimator-id-1032\" class=\"sk-toggleable__label sk-toggleable__label-arrow\">passthrough</label><div class=\"sk-toggleable__content\"><pre>passthrough</pre></div></div></div></div></div></div></div></div><div class=\"sk-item sk-dashed-wrapped\"><div class=\"sk-label-container\"><div class=\"sk-label sk-toggleable\"><input class=\"sk-toggleable__control sk-hidden--visually\" id=\"sk-estimator-id-1033\" type=\"checkbox\" ><label for=\"sk-estimator-id-1033\" class=\"sk-toggleable__label sk-toggleable__label-arrow\">smotetomek: SMOTETomek</label><div class=\"sk-toggleable__content\"><pre>SMOTETomek(tomek=TomekLinks(sampling_strategy=&#x27;majority&#x27;))</pre></div></div></div><div class=\"sk-parallel\"><div class=\"sk-parallel-item\"><div class=\"sk-item\"><div class=\"sk-label-container\"><div class=\"sk-label sk-toggleable\"><input class=\"sk-toggleable__control sk-hidden--visually\" id=\"sk-estimator-id-1034\" type=\"checkbox\" ><label for=\"sk-estimator-id-1034\" class=\"sk-toggleable__label sk-toggleable__label-arrow\">tomek: TomekLinks</label><div class=\"sk-toggleable__content\"><pre>TomekLinks(sampling_strategy=&#x27;majority&#x27;)</pre></div></div></div><div class=\"sk-serial\"><div class=\"sk-item\"><div class=\"sk-estimator sk-toggleable\"><input class=\"sk-toggleable__control sk-hidden--visually\" id=\"sk-estimator-id-1035\" type=\"checkbox\" ><label for=\"sk-estimator-id-1035\" class=\"sk-toggleable__label sk-toggleable__label-arrow\">TomekLinks</label><div class=\"sk-toggleable__content\"><pre>TomekLinks(sampling_strategy=&#x27;majority&#x27;)</pre></div></div></div></div></div></div></div></div><div class=\"sk-item\"><div class=\"sk-estimator sk-toggleable\"><input class=\"sk-toggleable__control sk-hidden--visually\" id=\"sk-estimator-id-1036\" type=\"checkbox\" ><label for=\"sk-estimator-id-1036\" class=\"sk-toggleable__label sk-toggleable__label-arrow\">MinMaxScaler</label><div class=\"sk-toggleable__content\"><pre>MinMaxScaler()</pre></div></div></div><div class=\"sk-item\"><div class=\"sk-estimator sk-toggleable\"><input class=\"sk-toggleable__control sk-hidden--visually\" id=\"sk-estimator-id-1037\" type=\"checkbox\" ><label for=\"sk-estimator-id-1037\" class=\"sk-toggleable__label sk-toggleable__label-arrow\">SVC</label><div class=\"sk-toggleable__content\"><pre>SVC()</pre></div></div></div></div></div></div></div></div></div></div></div></div>"
      ],
      "text/plain": [
       "GridSearchCV(cv=StratifiedKFold(n_splits=5, random_state=None, shuffle=False),\n",
       "             estimator=Pipeline(steps=[('columntransformer',\n",
       "                                        ColumnTransformer(remainder='passthrough',\n",
       "                                                          transformers=[('ohe',\n",
       "                                                                         OneHotEncoder(drop='first',\n",
       "                                                                                       sparse=False),\n",
       "                                                                         ['gender',\n",
       "                                                                          'hypertension',\n",
       "                                                                          'heart_disease',\n",
       "                                                                          'ever_married',\n",
       "                                                                          'smoking_status',\n",
       "                                                                          'Residence_type',\n",
       "                                                                          'work_type'])])),\n",
       "                                       ('smotetomek',\n",
       "                                        SM...kLinks(sampling_strategy='majority'))),\n",
       "                                       ('minmaxscaler', MinMaxScaler()),\n",
       "                                       ('svc', SVC())]),\n",
       "             param_grid=[{'svc__C': [1, 5, 0.1], 'svc__kernel': ['linear']},\n",
       "                         {'svc__C': [1, 5, 0.01], 'svc__degree': [1, 2],\n",
       "                          'svc__kernel': ['poly']},\n",
       "                         {'svc__gamma': [1, 5, 0.1], 'svc__kernel': ['rbf']},\n",
       "                         {'svc__gamma': [1, 5, 0.1],\n",
       "                          'svc__kernel': ['sigmoid']}],\n",
       "             return_train_score=True, scoring='recall')"
      ]
     },
     "execution_count": 669,
     "metadata": {},
     "output_type": "execute_result"
    }
   ],
   "source": [
    "SVC_grid.fit(x2 , y2)"
   ]
  },
  {
   "cell_type": "code",
   "execution_count": 670,
   "id": "0c226207",
   "metadata": {},
   "outputs": [
    {
     "data": {
      "text/html": [
       "<style>#sk-container-id-91 {color: black;background-color: white;}#sk-container-id-91 pre{padding: 0;}#sk-container-id-91 div.sk-toggleable {background-color: white;}#sk-container-id-91 label.sk-toggleable__label {cursor: pointer;display: block;width: 100%;margin-bottom: 0;padding: 0.3em;box-sizing: border-box;text-align: center;}#sk-container-id-91 label.sk-toggleable__label-arrow:before {content: \"▸\";float: left;margin-right: 0.25em;color: #696969;}#sk-container-id-91 label.sk-toggleable__label-arrow:hover:before {color: black;}#sk-container-id-91 div.sk-estimator:hover label.sk-toggleable__label-arrow:before {color: black;}#sk-container-id-91 div.sk-toggleable__content {max-height: 0;max-width: 0;overflow: hidden;text-align: left;background-color: #f0f8ff;}#sk-container-id-91 div.sk-toggleable__content pre {margin: 0.2em;color: black;border-radius: 0.25em;background-color: #f0f8ff;}#sk-container-id-91 input.sk-toggleable__control:checked~div.sk-toggleable__content {max-height: 200px;max-width: 100%;overflow: auto;}#sk-container-id-91 input.sk-toggleable__control:checked~label.sk-toggleable__label-arrow:before {content: \"▾\";}#sk-container-id-91 div.sk-estimator input.sk-toggleable__control:checked~label.sk-toggleable__label {background-color: #d4ebff;}#sk-container-id-91 div.sk-label input.sk-toggleable__control:checked~label.sk-toggleable__label {background-color: #d4ebff;}#sk-container-id-91 input.sk-hidden--visually {border: 0;clip: rect(1px 1px 1px 1px);clip: rect(1px, 1px, 1px, 1px);height: 1px;margin: -1px;overflow: hidden;padding: 0;position: absolute;width: 1px;}#sk-container-id-91 div.sk-estimator {font-family: monospace;background-color: #f0f8ff;border: 1px dotted black;border-radius: 0.25em;box-sizing: border-box;margin-bottom: 0.5em;}#sk-container-id-91 div.sk-estimator:hover {background-color: #d4ebff;}#sk-container-id-91 div.sk-parallel-item::after {content: \"\";width: 100%;border-bottom: 1px solid gray;flex-grow: 1;}#sk-container-id-91 div.sk-label:hover label.sk-toggleable__label {background-color: #d4ebff;}#sk-container-id-91 div.sk-serial::before {content: \"\";position: absolute;border-left: 1px solid gray;box-sizing: border-box;top: 0;bottom: 0;left: 50%;z-index: 0;}#sk-container-id-91 div.sk-serial {display: flex;flex-direction: column;align-items: center;background-color: white;padding-right: 0.2em;padding-left: 0.2em;position: relative;}#sk-container-id-91 div.sk-item {position: relative;z-index: 1;}#sk-container-id-91 div.sk-parallel {display: flex;align-items: stretch;justify-content: center;background-color: white;position: relative;}#sk-container-id-91 div.sk-item::before, #sk-container-id-91 div.sk-parallel-item::before {content: \"\";position: absolute;border-left: 1px solid gray;box-sizing: border-box;top: 0;bottom: 0;left: 50%;z-index: -1;}#sk-container-id-91 div.sk-parallel-item {display: flex;flex-direction: column;z-index: 1;position: relative;background-color: white;}#sk-container-id-91 div.sk-parallel-item:first-child::after {align-self: flex-end;width: 50%;}#sk-container-id-91 div.sk-parallel-item:last-child::after {align-self: flex-start;width: 50%;}#sk-container-id-91 div.sk-parallel-item:only-child::after {width: 0;}#sk-container-id-91 div.sk-dashed-wrapped {border: 1px dashed gray;margin: 0 0.4em 0.5em 0.4em;box-sizing: border-box;padding-bottom: 0.4em;background-color: white;}#sk-container-id-91 div.sk-label label {font-family: monospace;font-weight: bold;display: inline-block;line-height: 1.2em;}#sk-container-id-91 div.sk-label-container {text-align: center;}#sk-container-id-91 div.sk-container {/* jupyter's `normalize.less` sets `[hidden] { display: none; }` but bootstrap.min.css set `[hidden] { display: none !important; }` so we also need the `!important` here to be able to override the default hidden behavior on the sphinx rendered scikit-learn.org. See: https://github.com/scikit-learn/scikit-learn/issues/21755 */display: inline-block !important;position: relative;}#sk-container-id-91 div.sk-text-repr-fallback {display: none;}</style><div id=\"sk-container-id-91\" class=\"sk-top-container\"><div class=\"sk-text-repr-fallback\"><pre>Pipeline(steps=[(&#x27;columntransformer&#x27;,\n",
       "                 ColumnTransformer(remainder=&#x27;passthrough&#x27;,\n",
       "                                   transformers=[(&#x27;ohe&#x27;,\n",
       "                                                  OneHotEncoder(drop=&#x27;first&#x27;,\n",
       "                                                                sparse=False),\n",
       "                                                  [&#x27;gender&#x27;, &#x27;hypertension&#x27;,\n",
       "                                                   &#x27;heart_disease&#x27;,\n",
       "                                                   &#x27;ever_married&#x27;,\n",
       "                                                   &#x27;smoking_status&#x27;,\n",
       "                                                   &#x27;Residence_type&#x27;,\n",
       "                                                   &#x27;work_type&#x27;])])),\n",
       "                (&#x27;smotetomek&#x27;,\n",
       "                 SMOTETomek(tomek=TomekLinks(sampling_strategy=&#x27;majority&#x27;))),\n",
       "                (&#x27;minmaxscaler&#x27;, MinMaxScaler()),\n",
       "                (&#x27;svc&#x27;, SVC(C=0.01, degree=1, kernel=&#x27;poly&#x27;))])</pre><b>In a Jupyter environment, please rerun this cell to show the HTML representation or trust the notebook. <br />On GitHub, the HTML representation is unable to render, please try loading this page with nbviewer.org.</b></div><div class=\"sk-container\" hidden><div class=\"sk-item sk-dashed-wrapped\"><div class=\"sk-label-container\"><div class=\"sk-label sk-toggleable\"><input class=\"sk-toggleable__control sk-hidden--visually\" id=\"sk-estimator-id-1038\" type=\"checkbox\" ><label for=\"sk-estimator-id-1038\" class=\"sk-toggleable__label sk-toggleable__label-arrow\">Pipeline</label><div class=\"sk-toggleable__content\"><pre>Pipeline(steps=[(&#x27;columntransformer&#x27;,\n",
       "                 ColumnTransformer(remainder=&#x27;passthrough&#x27;,\n",
       "                                   transformers=[(&#x27;ohe&#x27;,\n",
       "                                                  OneHotEncoder(drop=&#x27;first&#x27;,\n",
       "                                                                sparse=False),\n",
       "                                                  [&#x27;gender&#x27;, &#x27;hypertension&#x27;,\n",
       "                                                   &#x27;heart_disease&#x27;,\n",
       "                                                   &#x27;ever_married&#x27;,\n",
       "                                                   &#x27;smoking_status&#x27;,\n",
       "                                                   &#x27;Residence_type&#x27;,\n",
       "                                                   &#x27;work_type&#x27;])])),\n",
       "                (&#x27;smotetomek&#x27;,\n",
       "                 SMOTETomek(tomek=TomekLinks(sampling_strategy=&#x27;majority&#x27;))),\n",
       "                (&#x27;minmaxscaler&#x27;, MinMaxScaler()),\n",
       "                (&#x27;svc&#x27;, SVC(C=0.01, degree=1, kernel=&#x27;poly&#x27;))])</pre></div></div></div><div class=\"sk-serial\"><div class=\"sk-item sk-dashed-wrapped\"><div class=\"sk-label-container\"><div class=\"sk-label sk-toggleable\"><input class=\"sk-toggleable__control sk-hidden--visually\" id=\"sk-estimator-id-1039\" type=\"checkbox\" ><label for=\"sk-estimator-id-1039\" class=\"sk-toggleable__label sk-toggleable__label-arrow\">columntransformer: ColumnTransformer</label><div class=\"sk-toggleable__content\"><pre>ColumnTransformer(remainder=&#x27;passthrough&#x27;,\n",
       "                  transformers=[(&#x27;ohe&#x27;,\n",
       "                                 OneHotEncoder(drop=&#x27;first&#x27;, sparse=False),\n",
       "                                 [&#x27;gender&#x27;, &#x27;hypertension&#x27;, &#x27;heart_disease&#x27;,\n",
       "                                  &#x27;ever_married&#x27;, &#x27;smoking_status&#x27;,\n",
       "                                  &#x27;Residence_type&#x27;, &#x27;work_type&#x27;])])</pre></div></div></div><div class=\"sk-parallel\"><div class=\"sk-parallel-item\"><div class=\"sk-item\"><div class=\"sk-label-container\"><div class=\"sk-label sk-toggleable\"><input class=\"sk-toggleable__control sk-hidden--visually\" id=\"sk-estimator-id-1040\" type=\"checkbox\" ><label for=\"sk-estimator-id-1040\" class=\"sk-toggleable__label sk-toggleable__label-arrow\">ohe</label><div class=\"sk-toggleable__content\"><pre>[&#x27;gender&#x27;, &#x27;hypertension&#x27;, &#x27;heart_disease&#x27;, &#x27;ever_married&#x27;, &#x27;smoking_status&#x27;, &#x27;Residence_type&#x27;, &#x27;work_type&#x27;]</pre></div></div></div><div class=\"sk-serial\"><div class=\"sk-item\"><div class=\"sk-estimator sk-toggleable\"><input class=\"sk-toggleable__control sk-hidden--visually\" id=\"sk-estimator-id-1041\" type=\"checkbox\" ><label for=\"sk-estimator-id-1041\" class=\"sk-toggleable__label sk-toggleable__label-arrow\">OneHotEncoder</label><div class=\"sk-toggleable__content\"><pre>OneHotEncoder(drop=&#x27;first&#x27;, sparse=False)</pre></div></div></div></div></div></div><div class=\"sk-parallel-item\"><div class=\"sk-item\"><div class=\"sk-label-container\"><div class=\"sk-label sk-toggleable\"><input class=\"sk-toggleable__control sk-hidden--visually\" id=\"sk-estimator-id-1042\" type=\"checkbox\" ><label for=\"sk-estimator-id-1042\" class=\"sk-toggleable__label sk-toggleable__label-arrow\">remainder</label><div class=\"sk-toggleable__content\"><pre>[&#x27;age&#x27;, &#x27;bmi_cat&#x27;, &#x27;glucose_cat&#x27;]</pre></div></div></div><div class=\"sk-serial\"><div class=\"sk-item\"><div class=\"sk-estimator sk-toggleable\"><input class=\"sk-toggleable__control sk-hidden--visually\" id=\"sk-estimator-id-1043\" type=\"checkbox\" ><label for=\"sk-estimator-id-1043\" class=\"sk-toggleable__label sk-toggleable__label-arrow\">passthrough</label><div class=\"sk-toggleable__content\"><pre>passthrough</pre></div></div></div></div></div></div></div></div><div class=\"sk-item sk-dashed-wrapped\"><div class=\"sk-label-container\"><div class=\"sk-label sk-toggleable\"><input class=\"sk-toggleable__control sk-hidden--visually\" id=\"sk-estimator-id-1044\" type=\"checkbox\" ><label for=\"sk-estimator-id-1044\" class=\"sk-toggleable__label sk-toggleable__label-arrow\">smotetomek: SMOTETomek</label><div class=\"sk-toggleable__content\"><pre>SMOTETomek(tomek=TomekLinks(sampling_strategy=&#x27;majority&#x27;))</pre></div></div></div><div class=\"sk-parallel\"><div class=\"sk-parallel-item\"><div class=\"sk-item\"><div class=\"sk-label-container\"><div class=\"sk-label sk-toggleable\"><input class=\"sk-toggleable__control sk-hidden--visually\" id=\"sk-estimator-id-1045\" type=\"checkbox\" ><label for=\"sk-estimator-id-1045\" class=\"sk-toggleable__label sk-toggleable__label-arrow\">tomek: TomekLinks</label><div class=\"sk-toggleable__content\"><pre>TomekLinks(sampling_strategy=&#x27;majority&#x27;)</pre></div></div></div><div class=\"sk-serial\"><div class=\"sk-item\"><div class=\"sk-estimator sk-toggleable\"><input class=\"sk-toggleable__control sk-hidden--visually\" id=\"sk-estimator-id-1046\" type=\"checkbox\" ><label for=\"sk-estimator-id-1046\" class=\"sk-toggleable__label sk-toggleable__label-arrow\">TomekLinks</label><div class=\"sk-toggleable__content\"><pre>TomekLinks(sampling_strategy=&#x27;majority&#x27;)</pre></div></div></div></div></div></div></div></div><div class=\"sk-item\"><div class=\"sk-estimator sk-toggleable\"><input class=\"sk-toggleable__control sk-hidden--visually\" id=\"sk-estimator-id-1047\" type=\"checkbox\" ><label for=\"sk-estimator-id-1047\" class=\"sk-toggleable__label sk-toggleable__label-arrow\">MinMaxScaler</label><div class=\"sk-toggleable__content\"><pre>MinMaxScaler()</pre></div></div></div><div class=\"sk-item\"><div class=\"sk-estimator sk-toggleable\"><input class=\"sk-toggleable__control sk-hidden--visually\" id=\"sk-estimator-id-1048\" type=\"checkbox\" ><label for=\"sk-estimator-id-1048\" class=\"sk-toggleable__label sk-toggleable__label-arrow\">SVC</label><div class=\"sk-toggleable__content\"><pre>SVC(C=0.01, degree=1, kernel=&#x27;poly&#x27;)</pre></div></div></div></div></div></div></div>"
      ],
      "text/plain": [
       "Pipeline(steps=[('columntransformer',\n",
       "                 ColumnTransformer(remainder='passthrough',\n",
       "                                   transformers=[('ohe',\n",
       "                                                  OneHotEncoder(drop='first',\n",
       "                                                                sparse=False),\n",
       "                                                  ['gender', 'hypertension',\n",
       "                                                   'heart_disease',\n",
       "                                                   'ever_married',\n",
       "                                                   'smoking_status',\n",
       "                                                   'Residence_type',\n",
       "                                                   'work_type'])])),\n",
       "                ('smotetomek',\n",
       "                 SMOTETomek(tomek=TomekLinks(sampling_strategy='majority'))),\n",
       "                ('minmaxscaler', MinMaxScaler()),\n",
       "                ('svc', SVC(C=0.01, degree=1, kernel='poly'))])"
      ]
     },
     "execution_count": 670,
     "metadata": {},
     "output_type": "execute_result"
    }
   ],
   "source": [
    "SVC_grid.best_estimator_"
   ]
  },
  {
   "cell_type": "code",
   "execution_count": 671,
   "id": "b91e1d41",
   "metadata": {},
   "outputs": [
    {
     "data": {
      "text/plain": [
       "0.8954285714285714"
      ]
     },
     "execution_count": 671,
     "metadata": {},
     "output_type": "execute_result"
    }
   ],
   "source": [
    "SVC_grid.best_score_"
   ]
  },
  {
   "cell_type": "code",
   "execution_count": 673,
   "id": "b073122f",
   "metadata": {
    "scrolled": true
   },
   "outputs": [
    {
     "data": {
      "text/plain": [
       "0.9026231155778893"
      ]
     },
     "execution_count": 673,
     "metadata": {},
     "output_type": "execute_result"
    }
   ],
   "source": [
    "SVC_grid.cv_results_['mean_train_score'].max()"
   ]
  },
  {
   "cell_type": "code",
   "execution_count": 674,
   "id": "fb766143",
   "metadata": {},
   "outputs": [
    {
     "data": {
      "text/plain": [
       "0.8954285714285714"
      ]
     },
     "execution_count": 674,
     "metadata": {},
     "output_type": "execute_result"
    }
   ],
   "source": [
    "SVC_grid.cv_results_['mean_test_score'].max()"
   ]
  },
  {
   "cell_type": "code",
   "execution_count": 675,
   "id": "cb287493",
   "metadata": {},
   "outputs": [],
   "source": [
    "SVC_Model = SVC_grid.best_estimator_"
   ]
  },
  {
   "cell_type": "code",
   "execution_count": 676,
   "id": "bd13e6f8",
   "metadata": {},
   "outputs": [
    {
     "data": {
      "text/plain": [
       "0.6365949119373777"
      ]
     },
     "execution_count": 676,
     "metadata": {},
     "output_type": "execute_result"
    }
   ],
   "source": [
    "accuracy_score(SVC_Model.predict(x2) , y2)"
   ]
  },
  {
   "cell_type": "code",
   "execution_count": 677,
   "id": "d39f1e63",
   "metadata": {},
   "outputs": [
    {
     "data": {
      "text/plain": [
       "0.891566265060241"
      ]
     },
     "execution_count": 677,
     "metadata": {},
     "output_type": "execute_result"
    }
   ],
   "source": [
    "precision_score(SVC_Model.predict(x2) , y2)"
   ]
  },
  {
   "cell_type": "code",
   "execution_count": 678,
   "id": "5512ff71",
   "metadata": {},
   "outputs": [
    {
     "data": {
      "text/plain": [
       "0.36417322834645677"
      ]
     },
     "execution_count": 678,
     "metadata": {},
     "output_type": "execute_result"
    }
   ],
   "source": [
    "fbeta_score(SVC_Model.predict(x2) , y2 , beta=0.5)"
   ]
  },
  {
   "cell_type": "code",
   "execution_count": 679,
   "id": "92c2b4a6",
   "metadata": {},
   "outputs": [
    {
     "data": {
      "text/plain": [
       "<sklearn.metrics._plot.confusion_matrix.ConfusionMatrixDisplay at 0x29c3ce34940>"
      ]
     },
     "execution_count": 679,
     "metadata": {},
     "output_type": "execute_result"
    },
    {
     "data": {
      "image/png": "[encoded data removed]",
      "text/plain": [
       "<Figure size 720x288 with 2 Axes>"
      ]
     },
     "metadata": {},
     "output_type": "display_data"
    }
   ],
   "source": [
    "plot_confusion_matrix(SVC_Model , x2 , y2)"
   ]
  },
  {
   "cell_type": "code",
   "execution_count": 680,
   "id": "434c38d5",
   "metadata": {},
   "outputs": [
    {
     "data": {
      "text/plain": [
       "<sklearn.metrics._plot.roc_curve.RocCurveDisplay at 0x29c3ce351e0>"
      ]
     },
     "execution_count": 680,
     "metadata": {},
     "output_type": "execute_result"
    },
    {
     "data": {
      "image/png": "[encoded data removed]",
      "text/plain": [
       "<Figure size 720x288 with 1 Axes>"
      ]
     },
     "metadata": {},
     "output_type": "display_data"
    }
   ],
   "source": [
    "plot_roc_curve(SVC_Model , x2 , y2)"
   ]
  },
  {
   "cell_type": "code",
   "execution_count": 984,
   "id": "5971a813",
   "metadata": {},
   "outputs": [
    {
     "data": {
      "text/plain": [
       "['SVC.h5']"
      ]
     },
     "execution_count": 984,
     "metadata": {},
     "output_type": "execute_result"
    }
   ],
   "source": [
    "joblib.dump(SVC_Model , 'SVC.h5')"
   ]
  },
  {
   "cell_type": "markdown",
   "id": "8f404d26",
   "metadata": {},
   "source": [
    "# `-----------------DecisionTreeClassifier For Tunning-----------------`"
   ]
  },
  {
   "cell_type": "code",
   "execution_count": 959,
   "id": "2752ddcf",
   "metadata": {},
   "outputs": [],
   "source": [
    "DT_params = [\n",
    "    {\n",
    "        'decisiontreeclassifier__criterion' : ['gini','entropy'],\n",
    "        'decisiontreeclassifier__splitter' : ['best' , 'random'],\n",
    "        'decisiontreeclassifier__max_depth' : [4,5,6,7,8,9,10,11,12,15,20,30,40,50,70,90,120,150],\n",
    "        'decisiontreeclassifier__min_samples_leaf' : [1,2,3,4,5,6,7,8,9,10],\n",
    "        'decisiontreeclassifier__min_weight_fraction_leaf' : [0.1,0.2,0.3,0.4,0.5,0.6,0.7,0.8,0.9],\n",
    "        'decisiontreeclassifier__min_samples_split': [2, 5, 10],\n",
    "        'decisiontreeclassifier__max_features' : ['auto','log2','sqrt',None],\n",
    "        'decisiontreeclassifier__max_leaf_nodes' : [None,10,20,30,40,50,60,70,80,90] \n",
    "    }\n",
    "]"
   ]
  },
  {
   "cell_type": "code",
   "execution_count": 968,
   "id": "363a744d",
   "metadata": {},
   "outputs": [
    {
     "data": {
      "text/plain": [
       "[('columntransformer',\n",
       "  ColumnTransformer(remainder='passthrough',\n",
       "                    transformers=[('ohe',\n",
       "                                   OneHotEncoder(drop='first', sparse=False),\n",
       "                                   ['gender', 'hypertension', 'heart_disease',\n",
       "                                    'ever_married', 'smoking_status',\n",
       "                                    'Residence_type', 'work_type'])])),\n",
       " ('randomundersampler', RandomUnderSampler(sampling_strategy={0: 2000})),\n",
       " ('smote', SMOTE(sampling_strategy={1: 1500})),\n",
       " ('selectfrommodel', SelectFromModel(estimator=DecisionTreeClassifier())),\n",
       " ('minmaxscaler', MinMaxScaler()),\n",
       " ('decisiontreeclassifier', DecisionTreeClassifier())]"
      ]
     },
     "execution_count": 968,
     "metadata": {},
     "output_type": "execute_result"
    }
   ],
   "source": [
    "DTC = make_pipeline(trans ,rm,sm ,SelectFromModel(estimator=DecisionTreeClassifier()),\n",
    "                    MinMaxScaler(), DecisionTreeClassifier())\n",
    "DTC.steps"
   ]
  },
  {
   "cell_type": "code",
   "execution_count": 976,
   "id": "a4ce2f98",
   "metadata": {},
   "outputs": [],
   "source": [
    "DTC_RanGrid = RandomizedSearchCV(estimator=DTC , param_distributions=DT_params ,\n",
    "                                 scoring='recall' , cv = StratifiedKFold(n_splits=5) ,\n",
    "                                 return_train_score=True , n_iter=20)"
   ]
  },
  {
   "cell_type": "code",
   "execution_count": 977,
   "id": "6253746b",
   "metadata": {},
   "outputs": [
    {
     "data": {
      "text/html": [
       "<style>#sk-container-id-157 {color: black;background-color: white;}#sk-container-id-157 pre{padding: 0;}#sk-container-id-157 div.sk-toggleable {background-color: white;}#sk-container-id-157 label.sk-toggleable__label {cursor: pointer;display: block;width: 100%;margin-bottom: 0;padding: 0.3em;box-sizing: border-box;text-align: center;}#sk-container-id-157 label.sk-toggleable__label-arrow:before {content: \"▸\";float: left;margin-right: 0.25em;color: #696969;}#sk-container-id-157 label.sk-toggleable__label-arrow:hover:before {color: black;}#sk-container-id-157 div.sk-estimator:hover label.sk-toggleable__label-arrow:before {color: black;}#sk-container-id-157 div.sk-toggleable__content {max-height: 0;max-width: 0;overflow: hidden;text-align: left;background-color: #f0f8ff;}#sk-container-id-157 div.sk-toggleable__content pre {margin: 0.2em;color: black;border-radius: 0.25em;background-color: #f0f8ff;}#sk-container-id-157 input.sk-toggleable__control:checked~div.sk-toggleable__content {max-height: 200px;max-width: 100%;overflow: auto;}#sk-container-id-157 input.sk-toggleable__control:checked~label.sk-toggleable__label-arrow:before {content: \"▾\";}#sk-container-id-157 div.sk-estimator input.sk-toggleable__control:checked~label.sk-toggleable__label {background-color: #d4ebff;}#sk-container-id-157 div.sk-label input.sk-toggleable__control:checked~label.sk-toggleable__label {background-color: #d4ebff;}#sk-container-id-157 input.sk-hidden--visually {border: 0;clip: rect(1px 1px 1px 1px);clip: rect(1px, 1px, 1px, 1px);height: 1px;margin: -1px;overflow: hidden;padding: 0;position: absolute;width: 1px;}#sk-container-id-157 div.sk-estimator {font-family: monospace;background-color: #f0f8ff;border: 1px dotted black;border-radius: 0.25em;box-sizing: border-box;margin-bottom: 0.5em;}#sk-container-id-157 div.sk-estimator:hover {background-color: #d4ebff;}#sk-container-id-157 div.sk-parallel-item::after {content: \"\";width: 100%;border-bottom: 1px solid gray;flex-grow: 1;}#sk-container-id-157 div.sk-label:hover label.sk-toggleable__label {background-color: #d4ebff;}#sk-container-id-157 div.sk-serial::before {content: \"\";position: absolute;border-left: 1px solid gray;box-sizing: border-box;top: 0;bottom: 0;left: 50%;z-index: 0;}#sk-container-id-157 div.sk-serial {display: flex;flex-direction: column;align-items: center;background-color: white;padding-right: 0.2em;padding-left: 0.2em;position: relative;}#sk-container-id-157 div.sk-item {position: relative;z-index: 1;}#sk-container-id-157 div.sk-parallel {display: flex;align-items: stretch;justify-content: center;background-color: white;position: relative;}#sk-container-id-157 div.sk-item::before, #sk-container-id-157 div.sk-parallel-item::before {content: \"\";position: absolute;border-left: 1px solid gray;box-sizing: border-box;top: 0;bottom: 0;left: 50%;z-index: -1;}#sk-container-id-157 div.sk-parallel-item {display: flex;flex-direction: column;z-index: 1;position: relative;background-color: white;}#sk-container-id-157 div.sk-parallel-item:first-child::after {align-self: flex-end;width: 50%;}#sk-container-id-157 div.sk-parallel-item:last-child::after {align-self: flex-start;width: 50%;}#sk-container-id-157 div.sk-parallel-item:only-child::after {width: 0;}#sk-container-id-157 div.sk-dashed-wrapped {border: 1px dashed gray;margin: 0 0.4em 0.5em 0.4em;box-sizing: border-box;padding-bottom: 0.4em;background-color: white;}#sk-container-id-157 div.sk-label label {font-family: monospace;font-weight: bold;display: inline-block;line-height: 1.2em;}#sk-container-id-157 div.sk-label-container {text-align: center;}#sk-container-id-157 div.sk-container {/* jupyter's `normalize.less` sets `[hidden] { display: none; }` but bootstrap.min.css set `[hidden] { display: none !important; }` so we also need the `!important` here to be able to override the default hidden behavior on the sphinx rendered scikit-learn.org. See: https://github.com/scikit-learn/scikit-learn/issues/21755 */display: inline-block !important;position: relative;}#sk-container-id-157 div.sk-text-repr-fallback {display: none;}</style><div id=\"sk-container-id-157\" class=\"sk-top-container\"><div class=\"sk-text-repr-fallback\"><pre>RandomizedSearchCV(cv=StratifiedKFold(n_splits=5, random_state=None, shuffle=False),\n",
       "                   estimator=Pipeline(steps=[(&#x27;columntransformer&#x27;,\n",
       "                                              ColumnTransformer(remainder=&#x27;passthrough&#x27;,\n",
       "                                                                transformers=[(&#x27;ohe&#x27;,\n",
       "                                                                               OneHotEncoder(drop=&#x27;first&#x27;,\n",
       "                                                                                             sparse=False),\n",
       "                                                                               [&#x27;gender&#x27;,\n",
       "                                                                                &#x27;hypertension&#x27;,\n",
       "                                                                                &#x27;heart_disease&#x27;,\n",
       "                                                                                &#x27;ever_married&#x27;,\n",
       "                                                                                &#x27;smoking_status&#x27;,\n",
       "                                                                                &#x27;Residence_type&#x27;,\n",
       "                                                                                &#x27;work_type&#x27;])])),\n",
       "                                             (&#x27;randomun...\n",
       "                                         &#x27;decisiontreeclassifier__max_leaf_nodes&#x27;: [None,\n",
       "                                                                                    10,\n",
       "                                                                                    20,\n",
       "                                                                                    30,\n",
       "                                                                                    40,\n",
       "                                                                                    50,\n",
       "                                                                                    60,\n",
       "                                                                                    70,\n",
       "                                                                                    80,\n",
       "                                                                                    90],\n",
       "                                         &#x27;decisiontreeclassifier__min_samples_leaf&#x27;: [1,\n",
       "                                                                                      2,\n",
       "                                                                                      3,\n",
       "                                                                                      4,\n",
       "                                                                                      5,\n",
       "                                                                                      6,\n",
       "                                                                                      7,\n",
       "                                                                                      8,\n",
       "                                                                                      9,\n",
       "                                                                                      10],\n",
       "                                         &#x27;decisiontreeclassifier__min_samples_split&#x27;: [2,\n",
       "                                                                                       5,\n",
       "                                                                                       10],\n",
       "                                         &#x27;decisiontreeclassifier__min_weight_fraction_leaf&#x27;: [0.1,\n",
       "                                                                                              0.2,\n",
       "                                                                                              0.3,\n",
       "                                                                                              0.4,\n",
       "                                                                                              0.5,\n",
       "                                                                                              0.6,\n",
       "                                                                                              0.7,\n",
       "                                                                                              0.8,\n",
       "                                                                                              0.9],\n",
       "                                         &#x27;decisiontreeclassifier__splitter&#x27;: [&#x27;best&#x27;,\n",
       "                                                                              &#x27;random&#x27;]}],\n",
       "                   return_train_score=True, scoring=&#x27;recall&#x27;)</pre><b>In a Jupyter environment, please rerun this cell to show the HTML representation or trust the notebook. <br />On GitHub, the HTML representation is unable to render, please try loading this page with nbviewer.org.</b></div><div class=\"sk-container\" hidden><div class=\"sk-item sk-dashed-wrapped\"><div class=\"sk-label-container\"><div class=\"sk-label sk-toggleable\"><input class=\"sk-toggleable__control sk-hidden--visually\" id=\"sk-estimator-id-1833\" type=\"checkbox\" ><label for=\"sk-estimator-id-1833\" class=\"sk-toggleable__label sk-toggleable__label-arrow\">RandomizedSearchCV</label><div class=\"sk-toggleable__content\"><pre>RandomizedSearchCV(cv=StratifiedKFold(n_splits=5, random_state=None, shuffle=False),\n",
       "                   estimator=Pipeline(steps=[(&#x27;columntransformer&#x27;,\n",
       "                                              ColumnTransformer(remainder=&#x27;passthrough&#x27;,\n",
       "                                                                transformers=[(&#x27;ohe&#x27;,\n",
       "                                                                               OneHotEncoder(drop=&#x27;first&#x27;,\n",
       "                                                                                             sparse=False),\n",
       "                                                                               [&#x27;gender&#x27;,\n",
       "                                                                                &#x27;hypertension&#x27;,\n",
       "                                                                                &#x27;heart_disease&#x27;,\n",
       "                                                                                &#x27;ever_married&#x27;,\n",
       "                                                                                &#x27;smoking_status&#x27;,\n",
       "                                                                                &#x27;Residence_type&#x27;,\n",
       "                                                                                &#x27;work_type&#x27;])])),\n",
       "                                             (&#x27;randomun...\n",
       "                                         &#x27;decisiontreeclassifier__max_leaf_nodes&#x27;: [None,\n",
       "                                                                                    10,\n",
       "                                                                                    20,\n",
       "                                                                                    30,\n",
       "                                                                                    40,\n",
       "                                                                                    50,\n",
       "                                                                                    60,\n",
       "                                                                                    70,\n",
       "                                                                                    80,\n",
       "                                                                                    90],\n",
       "                                         &#x27;decisiontreeclassifier__min_samples_leaf&#x27;: [1,\n",
       "                                                                                      2,\n",
       "                                                                                      3,\n",
       "                                                                                      4,\n",
       "                                                                                      5,\n",
       "                                                                                      6,\n",
       "                                                                                      7,\n",
       "                                                                                      8,\n",
       "                                                                                      9,\n",
       "                                                                                      10],\n",
       "                                         &#x27;decisiontreeclassifier__min_samples_split&#x27;: [2,\n",
       "                                                                                       5,\n",
       "                                                                                       10],\n",
       "                                         &#x27;decisiontreeclassifier__min_weight_fraction_leaf&#x27;: [0.1,\n",
       "                                                                                              0.2,\n",
       "                                                                                              0.3,\n",
       "                                                                                              0.4,\n",
       "                                                                                              0.5,\n",
       "                                                                                              0.6,\n",
       "                                                                                              0.7,\n",
       "                                                                                              0.8,\n",
       "                                                                                              0.9],\n",
       "                                         &#x27;decisiontreeclassifier__splitter&#x27;: [&#x27;best&#x27;,\n",
       "                                                                              &#x27;random&#x27;]}],\n",
       "                   return_train_score=True, scoring=&#x27;recall&#x27;)</pre></div></div></div><div class=\"sk-parallel\"><div class=\"sk-parallel-item\"><div class=\"sk-item\"><div class=\"sk-label-container\"><div class=\"sk-label sk-toggleable\"><input class=\"sk-toggleable__control sk-hidden--visually\" id=\"sk-estimator-id-1834\" type=\"checkbox\" ><label for=\"sk-estimator-id-1834\" class=\"sk-toggleable__label sk-toggleable__label-arrow\">estimator: Pipeline</label><div class=\"sk-toggleable__content\"><pre>Pipeline(steps=[(&#x27;columntransformer&#x27;,\n",
       "                 ColumnTransformer(remainder=&#x27;passthrough&#x27;,\n",
       "                                   transformers=[(&#x27;ohe&#x27;,\n",
       "                                                  OneHotEncoder(drop=&#x27;first&#x27;,\n",
       "                                                                sparse=False),\n",
       "                                                  [&#x27;gender&#x27;, &#x27;hypertension&#x27;,\n",
       "                                                   &#x27;heart_disease&#x27;,\n",
       "                                                   &#x27;ever_married&#x27;,\n",
       "                                                   &#x27;smoking_status&#x27;,\n",
       "                                                   &#x27;Residence_type&#x27;,\n",
       "                                                   &#x27;work_type&#x27;])])),\n",
       "                (&#x27;randomundersampler&#x27;,\n",
       "                 RandomUnderSampler(sampling_strategy={0: 2000})),\n",
       "                (&#x27;smote&#x27;, SMOTE(sampling_strategy={1: 1500})),\n",
       "                (&#x27;selectfrommodel&#x27;,\n",
       "                 SelectFromModel(estimator=DecisionTreeClassifier())),\n",
       "                (&#x27;minmaxscaler&#x27;, MinMaxScaler()),\n",
       "                (&#x27;decisiontreeclassifier&#x27;, DecisionTreeClassifier())])</pre></div></div></div><div class=\"sk-serial\"><div class=\"sk-item\"><div class=\"sk-serial\"><div class=\"sk-item sk-dashed-wrapped\"><div class=\"sk-label-container\"><div class=\"sk-label sk-toggleable\"><input class=\"sk-toggleable__control sk-hidden--visually\" id=\"sk-estimator-id-1835\" type=\"checkbox\" ><label for=\"sk-estimator-id-1835\" class=\"sk-toggleable__label sk-toggleable__label-arrow\">columntransformer: ColumnTransformer</label><div class=\"sk-toggleable__content\"><pre>ColumnTransformer(remainder=&#x27;passthrough&#x27;,\n",
       "                  transformers=[(&#x27;ohe&#x27;,\n",
       "                                 OneHotEncoder(drop=&#x27;first&#x27;, sparse=False),\n",
       "                                 [&#x27;gender&#x27;, &#x27;hypertension&#x27;, &#x27;heart_disease&#x27;,\n",
       "                                  &#x27;ever_married&#x27;, &#x27;smoking_status&#x27;,\n",
       "                                  &#x27;Residence_type&#x27;, &#x27;work_type&#x27;])])</pre></div></div></div><div class=\"sk-parallel\"><div class=\"sk-parallel-item\"><div class=\"sk-item\"><div class=\"sk-label-container\"><div class=\"sk-label sk-toggleable\"><input class=\"sk-toggleable__control sk-hidden--visually\" id=\"sk-estimator-id-1836\" type=\"checkbox\" ><label for=\"sk-estimator-id-1836\" class=\"sk-toggleable__label sk-toggleable__label-arrow\">ohe</label><div class=\"sk-toggleable__content\"><pre>[&#x27;gender&#x27;, &#x27;hypertension&#x27;, &#x27;heart_disease&#x27;, &#x27;ever_married&#x27;, &#x27;smoking_status&#x27;, &#x27;Residence_type&#x27;, &#x27;work_type&#x27;]</pre></div></div></div><div class=\"sk-serial\"><div class=\"sk-item\"><div class=\"sk-estimator sk-toggleable\"><input class=\"sk-toggleable__control sk-hidden--visually\" id=\"sk-estimator-id-1837\" type=\"checkbox\" ><label for=\"sk-estimator-id-1837\" class=\"sk-toggleable__label sk-toggleable__label-arrow\">OneHotEncoder</label><div class=\"sk-toggleable__content\"><pre>OneHotEncoder(drop=&#x27;first&#x27;, sparse=False)</pre></div></div></div></div></div></div><div class=\"sk-parallel-item\"><div class=\"sk-item\"><div class=\"sk-label-container\"><div class=\"sk-label sk-toggleable\"><input class=\"sk-toggleable__control sk-hidden--visually\" id=\"sk-estimator-id-1838\" type=\"checkbox\" ><label for=\"sk-estimator-id-1838\" class=\"sk-toggleable__label sk-toggleable__label-arrow\">remainder</label><div class=\"sk-toggleable__content\"><pre></pre></div></div></div><div class=\"sk-serial\"><div class=\"sk-item\"><div class=\"sk-estimator sk-toggleable\"><input class=\"sk-toggleable__control sk-hidden--visually\" id=\"sk-estimator-id-1839\" type=\"checkbox\" ><label for=\"sk-estimator-id-1839\" class=\"sk-toggleable__label sk-toggleable__label-arrow\">passthrough</label><div class=\"sk-toggleable__content\"><pre>passthrough</pre></div></div></div></div></div></div></div></div><div class=\"sk-item\"><div class=\"sk-estimator sk-toggleable\"><input class=\"sk-toggleable__control sk-hidden--visually\" id=\"sk-estimator-id-1840\" type=\"checkbox\" ><label for=\"sk-estimator-id-1840\" class=\"sk-toggleable__label sk-toggleable__label-arrow\">RandomUnderSampler</label><div class=\"sk-toggleable__content\"><pre>RandomUnderSampler(sampling_strategy={0: 2000})</pre></div></div></div><div class=\"sk-item\"><div class=\"sk-estimator sk-toggleable\"><input class=\"sk-toggleable__control sk-hidden--visually\" id=\"sk-estimator-id-1841\" type=\"checkbox\" ><label for=\"sk-estimator-id-1841\" class=\"sk-toggleable__label sk-toggleable__label-arrow\">SMOTE</label><div class=\"sk-toggleable__content\"><pre>SMOTE(sampling_strategy={1: 1500})</pre></div></div></div><div class=\"sk-item sk-dashed-wrapped\"><div class=\"sk-label-container\"><div class=\"sk-label sk-toggleable\"><input class=\"sk-toggleable__control sk-hidden--visually\" id=\"sk-estimator-id-1842\" type=\"checkbox\" ><label for=\"sk-estimator-id-1842\" class=\"sk-toggleable__label sk-toggleable__label-arrow\">selectfrommodel: SelectFromModel</label><div class=\"sk-toggleable__content\"><pre>SelectFromModel(estimator=DecisionTreeClassifier())</pre></div></div></div><div class=\"sk-parallel\"><div class=\"sk-parallel-item\"><div class=\"sk-item\"><div class=\"sk-label-container\"><div class=\"sk-label sk-toggleable\"><input class=\"sk-toggleable__control sk-hidden--visually\" id=\"sk-estimator-id-1843\" type=\"checkbox\" ><label for=\"sk-estimator-id-1843\" class=\"sk-toggleable__label sk-toggleable__label-arrow\">estimator: DecisionTreeClassifier</label><div class=\"sk-toggleable__content\"><pre>DecisionTreeClassifier()</pre></div></div></div><div class=\"sk-serial\"><div class=\"sk-item\"><div class=\"sk-estimator sk-toggleable\"><input class=\"sk-toggleable__control sk-hidden--visually\" id=\"sk-estimator-id-1844\" type=\"checkbox\" ><label for=\"sk-estimator-id-1844\" class=\"sk-toggleable__label sk-toggleable__label-arrow\">DecisionTreeClassifier</label><div class=\"sk-toggleable__content\"><pre>DecisionTreeClassifier()</pre></div></div></div></div></div></div></div></div><div class=\"sk-item\"><div class=\"sk-estimator sk-toggleable\"><input class=\"sk-toggleable__control sk-hidden--visually\" id=\"sk-estimator-id-1845\" type=\"checkbox\" ><label for=\"sk-estimator-id-1845\" class=\"sk-toggleable__label sk-toggleable__label-arrow\">MinMaxScaler</label><div class=\"sk-toggleable__content\"><pre>MinMaxScaler()</pre></div></div></div><div class=\"sk-item\"><div class=\"sk-estimator sk-toggleable\"><input class=\"sk-toggleable__control sk-hidden--visually\" id=\"sk-estimator-id-1846\" type=\"checkbox\" ><label for=\"sk-estimator-id-1846\" class=\"sk-toggleable__label sk-toggleable__label-arrow\">DecisionTreeClassifier</label><div class=\"sk-toggleable__content\"><pre>DecisionTreeClassifier()</pre></div></div></div></div></div></div></div></div></div></div></div></div>"
      ],
      "text/plain": [
       "RandomizedSearchCV(cv=StratifiedKFold(n_splits=5, random_state=None, shuffle=False),\n",
       "                   estimator=Pipeline(steps=[('columntransformer',\n",
       "                                              ColumnTransformer(remainder='passthrough',\n",
       "                                                                transformers=[('ohe',\n",
       "                                                                               OneHotEncoder(drop='first',\n",
       "                                                                                             sparse=False),\n",
       "                                                                               ['gender',\n",
       "                                                                                'hypertension',\n",
       "                                                                                'heart_disease',\n",
       "                                                                                'ever_married',\n",
       "                                                                                'smoking_status',\n",
       "                                                                                'Residence_type',\n",
       "                                                                                'work_type'])])),\n",
       "                                             ('randomun...\n",
       "                                         'decisiontreeclassifier__max_leaf_nodes': [None,\n",
       "                                                                                    10,\n",
       "                                                                                    20,\n",
       "                                                                                    30,\n",
       "                                                                                    40,\n",
       "                                                                                    50,\n",
       "                                                                                    60,\n",
       "                                                                                    70,\n",
       "                                                                                    80,\n",
       "                                                                                    90],\n",
       "                                         'decisiontreeclassifier__min_samples_leaf': [1,\n",
       "                                                                                      2,\n",
       "                                                                                      3,\n",
       "                                                                                      4,\n",
       "                                                                                      5,\n",
       "                                                                                      6,\n",
       "                                                                                      7,\n",
       "                                                                                      8,\n",
       "                                                                                      9,\n",
       "                                                                                      10],\n",
       "                                         'decisiontreeclassifier__min_samples_split': [2,\n",
       "                                                                                       5,\n",
       "                                                                                       10],\n",
       "                                         'decisiontreeclassifier__min_weight_fraction_leaf': [0.1,\n",
       "                                                                                              0.2,\n",
       "                                                                                              0.3,\n",
       "                                                                                              0.4,\n",
       "                                                                                              0.5,\n",
       "                                                                                              0.6,\n",
       "                                                                                              0.7,\n",
       "                                                                                              0.8,\n",
       "                                                                                              0.9],\n",
       "                                         'decisiontreeclassifier__splitter': ['best',\n",
       "                                                                              'random']}],\n",
       "                   return_train_score=True, scoring='recall')"
      ]
     },
     "execution_count": 977,
     "metadata": {},
     "output_type": "execute_result"
    }
   ],
   "source": [
    "DTC_RanGrid.fit(x2 , y2)"
   ]
  },
  {
   "cell_type": "code",
   "execution_count": 978,
   "id": "545fc1ad",
   "metadata": {},
   "outputs": [
    {
     "data": {
      "text/html": [
       "<style>#sk-container-id-158 {color: black;background-color: white;}#sk-container-id-158 pre{padding: 0;}#sk-container-id-158 div.sk-toggleable {background-color: white;}#sk-container-id-158 label.sk-toggleable__label {cursor: pointer;display: block;width: 100%;margin-bottom: 0;padding: 0.3em;box-sizing: border-box;text-align: center;}#sk-container-id-158 label.sk-toggleable__label-arrow:before {content: \"▸\";float: left;margin-right: 0.25em;color: #696969;}#sk-container-id-158 label.sk-toggleable__label-arrow:hover:before {color: black;}#sk-container-id-158 div.sk-estimator:hover label.sk-toggleable__label-arrow:before {color: black;}#sk-container-id-158 div.sk-toggleable__content {max-height: 0;max-width: 0;overflow: hidden;text-align: left;background-color: #f0f8ff;}#sk-container-id-158 div.sk-toggleable__content pre {margin: 0.2em;color: black;border-radius: 0.25em;background-color: #f0f8ff;}#sk-container-id-158 input.sk-toggleable__control:checked~div.sk-toggleable__content {max-height: 200px;max-width: 100%;overflow: auto;}#sk-container-id-158 input.sk-toggleable__control:checked~label.sk-toggleable__label-arrow:before {content: \"▾\";}#sk-container-id-158 div.sk-estimator input.sk-toggleable__control:checked~label.sk-toggleable__label {background-color: #d4ebff;}#sk-container-id-158 div.sk-label input.sk-toggleable__control:checked~label.sk-toggleable__label {background-color: #d4ebff;}#sk-container-id-158 input.sk-hidden--visually {border: 0;clip: rect(1px 1px 1px 1px);clip: rect(1px, 1px, 1px, 1px);height: 1px;margin: -1px;overflow: hidden;padding: 0;position: absolute;width: 1px;}#sk-container-id-158 div.sk-estimator {font-family: monospace;background-color: #f0f8ff;border: 1px dotted black;border-radius: 0.25em;box-sizing: border-box;margin-bottom: 0.5em;}#sk-container-id-158 div.sk-estimator:hover {background-color: #d4ebff;}#sk-container-id-158 div.sk-parallel-item::after {content: \"\";width: 100%;border-bottom: 1px solid gray;flex-grow: 1;}#sk-container-id-158 div.sk-label:hover label.sk-toggleable__label {background-color: #d4ebff;}#sk-container-id-158 div.sk-serial::before {content: \"\";position: absolute;border-left: 1px solid gray;box-sizing: border-box;top: 0;bottom: 0;left: 50%;z-index: 0;}#sk-container-id-158 div.sk-serial {display: flex;flex-direction: column;align-items: center;background-color: white;padding-right: 0.2em;padding-left: 0.2em;position: relative;}#sk-container-id-158 div.sk-item {position: relative;z-index: 1;}#sk-container-id-158 div.sk-parallel {display: flex;align-items: stretch;justify-content: center;background-color: white;position: relative;}#sk-container-id-158 div.sk-item::before, #sk-container-id-158 div.sk-parallel-item::before {content: \"\";position: absolute;border-left: 1px solid gray;box-sizing: border-box;top: 0;bottom: 0;left: 50%;z-index: -1;}#sk-container-id-158 div.sk-parallel-item {display: flex;flex-direction: column;z-index: 1;position: relative;background-color: white;}#sk-container-id-158 div.sk-parallel-item:first-child::after {align-self: flex-end;width: 50%;}#sk-container-id-158 div.sk-parallel-item:last-child::after {align-self: flex-start;width: 50%;}#sk-container-id-158 div.sk-parallel-item:only-child::after {width: 0;}#sk-container-id-158 div.sk-dashed-wrapped {border: 1px dashed gray;margin: 0 0.4em 0.5em 0.4em;box-sizing: border-box;padding-bottom: 0.4em;background-color: white;}#sk-container-id-158 div.sk-label label {font-family: monospace;font-weight: bold;display: inline-block;line-height: 1.2em;}#sk-container-id-158 div.sk-label-container {text-align: center;}#sk-container-id-158 div.sk-container {/* jupyter's `normalize.less` sets `[hidden] { display: none; }` but bootstrap.min.css set `[hidden] { display: none !important; }` so we also need the `!important` here to be able to override the default hidden behavior on the sphinx rendered scikit-learn.org. See: https://github.com/scikit-learn/scikit-learn/issues/21755 */display: inline-block !important;position: relative;}#sk-container-id-158 div.sk-text-repr-fallback {display: none;}</style><div id=\"sk-container-id-158\" class=\"sk-top-container\"><div class=\"sk-text-repr-fallback\"><pre>Pipeline(steps=[(&#x27;columntransformer&#x27;,\n",
       "                 ColumnTransformer(remainder=&#x27;passthrough&#x27;,\n",
       "                                   transformers=[(&#x27;ohe&#x27;,\n",
       "                                                  OneHotEncoder(drop=&#x27;first&#x27;,\n",
       "                                                                sparse=False),\n",
       "                                                  [&#x27;gender&#x27;, &#x27;hypertension&#x27;,\n",
       "                                                   &#x27;heart_disease&#x27;,\n",
       "                                                   &#x27;ever_married&#x27;,\n",
       "                                                   &#x27;smoking_status&#x27;,\n",
       "                                                   &#x27;Residence_type&#x27;,\n",
       "                                                   &#x27;work_type&#x27;])])),\n",
       "                (&#x27;randomundersampler&#x27;,\n",
       "                 RandomUnderSampler(sampling_strategy={0: 2000})),\n",
       "                (&#x27;smote&#x27;, SMOTE(sampling_strategy={1: 1500})),\n",
       "                (&#x27;selectfrommodel&#x27;,\n",
       "                 SelectFromModel(estimator=DecisionTreeClassifier())),\n",
       "                (&#x27;minmaxscaler&#x27;, MinMaxScaler()),\n",
       "                (&#x27;decisiontreeclassifier&#x27;,\n",
       "                 DecisionTreeClassifier(criterion=&#x27;entropy&#x27;, max_depth=15,\n",
       "                                        max_leaf_nodes=50, min_samples_leaf=7,\n",
       "                                        min_weight_fraction_leaf=0.4))])</pre><b>In a Jupyter environment, please rerun this cell to show the HTML representation or trust the notebook. <br />On GitHub, the HTML representation is unable to render, please try loading this page with nbviewer.org.</b></div><div class=\"sk-container\" hidden><div class=\"sk-item sk-dashed-wrapped\"><div class=\"sk-label-container\"><div class=\"sk-label sk-toggleable\"><input class=\"sk-toggleable__control sk-hidden--visually\" id=\"sk-estimator-id-1847\" type=\"checkbox\" ><label for=\"sk-estimator-id-1847\" class=\"sk-toggleable__label sk-toggleable__label-arrow\">Pipeline</label><div class=\"sk-toggleable__content\"><pre>Pipeline(steps=[(&#x27;columntransformer&#x27;,\n",
       "                 ColumnTransformer(remainder=&#x27;passthrough&#x27;,\n",
       "                                   transformers=[(&#x27;ohe&#x27;,\n",
       "                                                  OneHotEncoder(drop=&#x27;first&#x27;,\n",
       "                                                                sparse=False),\n",
       "                                                  [&#x27;gender&#x27;, &#x27;hypertension&#x27;,\n",
       "                                                   &#x27;heart_disease&#x27;,\n",
       "                                                   &#x27;ever_married&#x27;,\n",
       "                                                   &#x27;smoking_status&#x27;,\n",
       "                                                   &#x27;Residence_type&#x27;,\n",
       "                                                   &#x27;work_type&#x27;])])),\n",
       "                (&#x27;randomundersampler&#x27;,\n",
       "                 RandomUnderSampler(sampling_strategy={0: 2000})),\n",
       "                (&#x27;smote&#x27;, SMOTE(sampling_strategy={1: 1500})),\n",
       "                (&#x27;selectfrommodel&#x27;,\n",
       "                 SelectFromModel(estimator=DecisionTreeClassifier())),\n",
       "                (&#x27;minmaxscaler&#x27;, MinMaxScaler()),\n",
       "                (&#x27;decisiontreeclassifier&#x27;,\n",
       "                 DecisionTreeClassifier(criterion=&#x27;entropy&#x27;, max_depth=15,\n",
       "                                        max_leaf_nodes=50, min_samples_leaf=7,\n",
       "                                        min_weight_fraction_leaf=0.4))])</pre></div></div></div><div class=\"sk-serial\"><div class=\"sk-item sk-dashed-wrapped\"><div class=\"sk-label-container\"><div class=\"sk-label sk-toggleable\"><input class=\"sk-toggleable__control sk-hidden--visually\" id=\"sk-estimator-id-1848\" type=\"checkbox\" ><label for=\"sk-estimator-id-1848\" class=\"sk-toggleable__label sk-toggleable__label-arrow\">columntransformer: ColumnTransformer</label><div class=\"sk-toggleable__content\"><pre>ColumnTransformer(remainder=&#x27;passthrough&#x27;,\n",
       "                  transformers=[(&#x27;ohe&#x27;,\n",
       "                                 OneHotEncoder(drop=&#x27;first&#x27;, sparse=False),\n",
       "                                 [&#x27;gender&#x27;, &#x27;hypertension&#x27;, &#x27;heart_disease&#x27;,\n",
       "                                  &#x27;ever_married&#x27;, &#x27;smoking_status&#x27;,\n",
       "                                  &#x27;Residence_type&#x27;, &#x27;work_type&#x27;])])</pre></div></div></div><div class=\"sk-parallel\"><div class=\"sk-parallel-item\"><div class=\"sk-item\"><div class=\"sk-label-container\"><div class=\"sk-label sk-toggleable\"><input class=\"sk-toggleable__control sk-hidden--visually\" id=\"sk-estimator-id-1849\" type=\"checkbox\" ><label for=\"sk-estimator-id-1849\" class=\"sk-toggleable__label sk-toggleable__label-arrow\">ohe</label><div class=\"sk-toggleable__content\"><pre>[&#x27;gender&#x27;, &#x27;hypertension&#x27;, &#x27;heart_disease&#x27;, &#x27;ever_married&#x27;, &#x27;smoking_status&#x27;, &#x27;Residence_type&#x27;, &#x27;work_type&#x27;]</pre></div></div></div><div class=\"sk-serial\"><div class=\"sk-item\"><div class=\"sk-estimator sk-toggleable\"><input class=\"sk-toggleable__control sk-hidden--visually\" id=\"sk-estimator-id-1850\" type=\"checkbox\" ><label for=\"sk-estimator-id-1850\" class=\"sk-toggleable__label sk-toggleable__label-arrow\">OneHotEncoder</label><div class=\"sk-toggleable__content\"><pre>OneHotEncoder(drop=&#x27;first&#x27;, sparse=False)</pre></div></div></div></div></div></div><div class=\"sk-parallel-item\"><div class=\"sk-item\"><div class=\"sk-label-container\"><div class=\"sk-label sk-toggleable\"><input class=\"sk-toggleable__control sk-hidden--visually\" id=\"sk-estimator-id-1851\" type=\"checkbox\" ><label for=\"sk-estimator-id-1851\" class=\"sk-toggleable__label sk-toggleable__label-arrow\">remainder</label><div class=\"sk-toggleable__content\"><pre>[&#x27;age&#x27;, &#x27;bmi_cat&#x27;, &#x27;glucose_cat&#x27;]</pre></div></div></div><div class=\"sk-serial\"><div class=\"sk-item\"><div class=\"sk-estimator sk-toggleable\"><input class=\"sk-toggleable__control sk-hidden--visually\" id=\"sk-estimator-id-1852\" type=\"checkbox\" ><label for=\"sk-estimator-id-1852\" class=\"sk-toggleable__label sk-toggleable__label-arrow\">passthrough</label><div class=\"sk-toggleable__content\"><pre>passthrough</pre></div></div></div></div></div></div></div></div><div class=\"sk-item\"><div class=\"sk-estimator sk-toggleable\"><input class=\"sk-toggleable__control sk-hidden--visually\" id=\"sk-estimator-id-1853\" type=\"checkbox\" ><label for=\"sk-estimator-id-1853\" class=\"sk-toggleable__label sk-toggleable__label-arrow\">RandomUnderSampler</label><div class=\"sk-toggleable__content\"><pre>RandomUnderSampler(sampling_strategy={0: 2000})</pre></div></div></div><div class=\"sk-item\"><div class=\"sk-estimator sk-toggleable\"><input class=\"sk-toggleable__control sk-hidden--visually\" id=\"sk-estimator-id-1854\" type=\"checkbox\" ><label for=\"sk-estimator-id-1854\" class=\"sk-toggleable__label sk-toggleable__label-arrow\">SMOTE</label><div class=\"sk-toggleable__content\"><pre>SMOTE(sampling_strategy={1: 1500})</pre></div></div></div><div class=\"sk-item sk-dashed-wrapped\"><div class=\"sk-label-container\"><div class=\"sk-label sk-toggleable\"><input class=\"sk-toggleable__control sk-hidden--visually\" id=\"sk-estimator-id-1855\" type=\"checkbox\" ><label for=\"sk-estimator-id-1855\" class=\"sk-toggleable__label sk-toggleable__label-arrow\">selectfrommodel: SelectFromModel</label><div class=\"sk-toggleable__content\"><pre>SelectFromModel(estimator=DecisionTreeClassifier())</pre></div></div></div><div class=\"sk-parallel\"><div class=\"sk-parallel-item\"><div class=\"sk-item\"><div class=\"sk-label-container\"><div class=\"sk-label sk-toggleable\"><input class=\"sk-toggleable__control sk-hidden--visually\" id=\"sk-estimator-id-1856\" type=\"checkbox\" ><label for=\"sk-estimator-id-1856\" class=\"sk-toggleable__label sk-toggleable__label-arrow\">estimator: DecisionTreeClassifier</label><div class=\"sk-toggleable__content\"><pre>DecisionTreeClassifier()</pre></div></div></div><div class=\"sk-serial\"><div class=\"sk-item\"><div class=\"sk-estimator sk-toggleable\"><input class=\"sk-toggleable__control sk-hidden--visually\" id=\"sk-estimator-id-1857\" type=\"checkbox\" ><label for=\"sk-estimator-id-1857\" class=\"sk-toggleable__label sk-toggleable__label-arrow\">DecisionTreeClassifier</label><div class=\"sk-toggleable__content\"><pre>DecisionTreeClassifier()</pre></div></div></div></div></div></div></div></div><div class=\"sk-item\"><div class=\"sk-estimator sk-toggleable\"><input class=\"sk-toggleable__control sk-hidden--visually\" id=\"sk-estimator-id-1858\" type=\"checkbox\" ><label for=\"sk-estimator-id-1858\" class=\"sk-toggleable__label sk-toggleable__label-arrow\">MinMaxScaler</label><div class=\"sk-toggleable__content\"><pre>MinMaxScaler()</pre></div></div></div><div class=\"sk-item\"><div class=\"sk-estimator sk-toggleable\"><input class=\"sk-toggleable__control sk-hidden--visually\" id=\"sk-estimator-id-1859\" type=\"checkbox\" ><label for=\"sk-estimator-id-1859\" class=\"sk-toggleable__label sk-toggleable__label-arrow\">DecisionTreeClassifier</label><div class=\"sk-toggleable__content\"><pre>DecisionTreeClassifier(criterion=&#x27;entropy&#x27;, max_depth=15, max_leaf_nodes=50,\n",
       "                       min_samples_leaf=7, min_weight_fraction_leaf=0.4)</pre></div></div></div></div></div></div></div>"
      ],
      "text/plain": [
       "Pipeline(steps=[('columntransformer',\n",
       "                 ColumnTransformer(remainder='passthrough',\n",
       "                                   transformers=[('ohe',\n",
       "                                                  OneHotEncoder(drop='first',\n",
       "                                                                sparse=False),\n",
       "                                                  ['gender', 'hypertension',\n",
       "                                                   'heart_disease',\n",
       "                                                   'ever_married',\n",
       "                                                   'smoking_status',\n",
       "                                                   'Residence_type',\n",
       "                                                   'work_type'])])),\n",
       "                ('randomundersampler',\n",
       "                 RandomUnderSampler(sampling_strategy={0: 2000})),\n",
       "                ('smote', SMOTE(sampling_strategy={1: 1500})),\n",
       "                ('selectfrommodel',\n",
       "                 SelectFromModel(estimator=DecisionTreeClassifier())),\n",
       "                ('minmaxscaler', MinMaxScaler()),\n",
       "                ('decisiontreeclassifier',\n",
       "                 DecisionTreeClassifier(criterion='entropy', max_depth=15,\n",
       "                                        max_leaf_nodes=50, min_samples_leaf=7,\n",
       "                                        min_weight_fraction_leaf=0.4))])"
      ]
     },
     "execution_count": 978,
     "metadata": {},
     "output_type": "execute_result"
    }
   ],
   "source": [
    "DTC_RanGrid.best_estimator_"
   ]
  },
  {
   "cell_type": "code",
   "execution_count": 985,
   "id": "3c769f99",
   "metadata": {},
   "outputs": [
    {
     "data": {
      "text/plain": [
       "{'decisiontreeclassifier__splitter': 'best',\n",
       " 'decisiontreeclassifier__min_weight_fraction_leaf': 0.4,\n",
       " 'decisiontreeclassifier__min_samples_split': 2,\n",
       " 'decisiontreeclassifier__min_samples_leaf': 7,\n",
       " 'decisiontreeclassifier__max_leaf_nodes': 50,\n",
       " 'decisiontreeclassifier__max_features': None,\n",
       " 'decisiontreeclassifier__max_depth': 15,\n",
       " 'decisiontreeclassifier__criterion': 'entropy'}"
      ]
     },
     "execution_count": 985,
     "metadata": {},
     "output_type": "execute_result"
    }
   ],
   "source": [
    "DTC_RanGrid.best_params_"
   ]
  },
  {
   "cell_type": "code",
   "execution_count": 979,
   "id": "715b4b3a",
   "metadata": {},
   "outputs": [
    {
     "data": {
      "text/plain": [
       "0.8672653061224491"
      ]
     },
     "execution_count": 979,
     "metadata": {},
     "output_type": "execute_result"
    }
   ],
   "source": [
    "DTC_RanGrid.best_score_"
   ]
  },
  {
   "cell_type": "code",
   "execution_count": 986,
   "id": "4343acd1",
   "metadata": {},
   "outputs": [
    {
     "data": {
      "text/plain": [
       "array([0.26560302,        nan, 0.63634673, 0.        , 0.50396985,\n",
       "       0.33632663, 0.17788945, 0.86649749, 0.        ,        nan,\n",
       "              nan,        nan, 0.        , 0.        , 0.41378894,\n",
       "       0.        , 0.31778894,        nan, 0.19396985, 0.        ])"
      ]
     },
     "execution_count": 986,
     "metadata": {},
     "output_type": "execute_result"
    }
   ],
   "source": [
    "DTC_RanGrid.cv_results_['mean_train_score']"
   ]
  },
  {
   "cell_type": "code",
   "execution_count": 980,
   "id": "fe0fb757",
   "metadata": {
    "scrolled": true
   },
   "outputs": [
    {
     "data": {
      "text/plain": [
       "0.6714285714285714"
      ]
     },
     "execution_count": 980,
     "metadata": {},
     "output_type": "execute_result"
    }
   ],
   "source": [
    "accuracy_score(DTC_RanGrid.best_estimator_.predict(x2) , y2)"
   ]
  },
  {
   "cell_type": "code",
   "execution_count": 981,
   "id": "ae8fcad8",
   "metadata": {},
   "outputs": [
    {
     "data": {
      "text/plain": [
       "<sklearn.metrics._plot.confusion_matrix.ConfusionMatrixDisplay at 0x29c416e8e20>"
      ]
     },
     "execution_count": 981,
     "metadata": {},
     "output_type": "execute_result"
    },
    {
     "data": {
      "image/png": "[encoded data removed]",
      "text/plain": [
       "<Figure size 720x288 with 2 Axes>"
      ]
     },
     "metadata": {},
     "output_type": "display_data"
    }
   ],
   "source": [
    "plot_confusion_matrix(DTC_RanGrid.best_estimator_ , x2 , y2)"
   ]
  },
  {
   "cell_type": "code",
   "execution_count": 987,
   "id": "789e19fc",
   "metadata": {},
   "outputs": [
    {
     "data": {
      "text/plain": [
       "['DTC.h5']"
      ]
     },
     "execution_count": 987,
     "metadata": {},
     "output_type": "execute_result"
    }
   ],
   "source": [
    "joblib.dump(DTC_RanGrid.best_estimator_ , 'DTC.h5')"
   ]
  },
  {
   "cell_type": "markdown",
   "id": "3ec7932c",
   "metadata": {},
   "source": [
    "# `-----------------RandomForestClassifier For Tunning-----------------`"
   ]
  },
  {
   "cell_type": "code",
   "execution_count": 841,
   "id": "23e55e37",
   "metadata": {},
   "outputs": [],
   "source": [
    "RF_params = [\n",
    "    {\n",
    "        'randomforestclassifier__bootstrap': [True, False],\n",
    "        'randomforestclassifier__criterion':['gini','entropy'],\n",
    "        'randomforestclassifier__max_depth': [4,5,6,7,8,9,10,11,12,15,20,30,40,50,70,90,120,150],\n",
    "        'randomforestclassifier__max_features': ['auto','log2','sqrt',None],\n",
    "        'randomforestclassifier__min_weight_fraction_leaf':[0.1,0.2,0.3,0.4,0.5,0.6,0.7,0.8,0.9],\n",
    "        'randomforestclassifier__min_samples_leaf':[1,2,3,4,5,6,7,8,9,10],\n",
    "        'randomforestclassifier__min_samples_split': [2, 5, 10],\n",
    "        'randomforestclassifier__n_estimators': list(range(30, 500, 20)),\n",
    "        'randomforestclassifier__max_leaf_nodes':[None,10,20,30,40,50,60,70,80,90]\n",
    "    }\n",
    "]"
   ]
  },
  {
   "cell_type": "code",
   "execution_count": 853,
   "id": "7083071d",
   "metadata": {},
   "outputs": [],
   "source": [
    "RFC = make_pipeline(trans , smt , SelectFromModel(estimator=RandomForestClassifier())\n",
    "                    ,MinMaxScaler() , RandomForestClassifier())"
   ]
  },
  {
   "cell_type": "code",
   "execution_count": 854,
   "id": "3b84c687",
   "metadata": {},
   "outputs": [
    {
     "data": {
      "text/plain": [
       "[('columntransformer',\n",
       "  ColumnTransformer(remainder='passthrough',\n",
       "                    transformers=[('ohe',\n",
       "                                   OneHotEncoder(drop='first', sparse=False),\n",
       "                                   ['gender', 'hypertension', 'heart_disease',\n",
       "                                    'ever_married', 'smoking_status',\n",
       "                                    'Residence_type', 'work_type'])])),\n",
       " ('smotetomek', SMOTETomek(tomek=TomekLinks(sampling_strategy='majority'))),\n",
       " ('selectfrommodel', SelectFromModel(estimator=RandomForestClassifier())),\n",
       " ('minmaxscaler', MinMaxScaler()),\n",
       " ('randomforestclassifier', RandomForestClassifier())]"
      ]
     },
     "execution_count": 854,
     "metadata": {},
     "output_type": "execute_result"
    }
   ],
   "source": [
    "RFC.steps"
   ]
  },
  {
   "cell_type": "code",
   "execution_count": 855,
   "id": "579c262a",
   "metadata": {},
   "outputs": [],
   "source": [
    "RF_RanGrid = RandomizedSearchCV(estimator=RFC , param_distributions=RF_params ,\n",
    "                                 scoring='recall' , cv = StratifiedKFold(n_splits=5) ,\n",
    "                                 return_train_score=True)"
   ]
  },
  {
   "cell_type": "code",
   "execution_count": 856,
   "id": "4efe9f5e",
   "metadata": {},
   "outputs": [
    {
     "data": {
      "text/html": [
       "<style>#sk-container-id-130 {color: black;background-color: white;}#sk-container-id-130 pre{padding: 0;}#sk-container-id-130 div.sk-toggleable {background-color: white;}#sk-container-id-130 label.sk-toggleable__label {cursor: pointer;display: block;width: 100%;margin-bottom: 0;padding: 0.3em;box-sizing: border-box;text-align: center;}#sk-container-id-130 label.sk-toggleable__label-arrow:before {content: \"▸\";float: left;margin-right: 0.25em;color: #696969;}#sk-container-id-130 label.sk-toggleable__label-arrow:hover:before {color: black;}#sk-container-id-130 div.sk-estimator:hover label.sk-toggleable__label-arrow:before {color: black;}#sk-container-id-130 div.sk-toggleable__content {max-height: 0;max-width: 0;overflow: hidden;text-align: left;background-color: #f0f8ff;}#sk-container-id-130 div.sk-toggleable__content pre {margin: 0.2em;color: black;border-radius: 0.25em;background-color: #f0f8ff;}#sk-container-id-130 input.sk-toggleable__control:checked~div.sk-toggleable__content {max-height: 200px;max-width: 100%;overflow: auto;}#sk-container-id-130 input.sk-toggleable__control:checked~label.sk-toggleable__label-arrow:before {content: \"▾\";}#sk-container-id-130 div.sk-estimator input.sk-toggleable__control:checked~label.sk-toggleable__label {background-color: #d4ebff;}#sk-container-id-130 div.sk-label input.sk-toggleable__control:checked~label.sk-toggleable__label {background-color: #d4ebff;}#sk-container-id-130 input.sk-hidden--visually {border: 0;clip: rect(1px 1px 1px 1px);clip: rect(1px, 1px, 1px, 1px);height: 1px;margin: -1px;overflow: hidden;padding: 0;position: absolute;width: 1px;}#sk-container-id-130 div.sk-estimator {font-family: monospace;background-color: #f0f8ff;border: 1px dotted black;border-radius: 0.25em;box-sizing: border-box;margin-bottom: 0.5em;}#sk-container-id-130 div.sk-estimator:hover {background-color: #d4ebff;}#sk-container-id-130 div.sk-parallel-item::after {content: \"\";width: 100%;border-bottom: 1px solid gray;flex-grow: 1;}#sk-container-id-130 div.sk-label:hover label.sk-toggleable__label {background-color: #d4ebff;}#sk-container-id-130 div.sk-serial::before {content: \"\";position: absolute;border-left: 1px solid gray;box-sizing: border-box;top: 0;bottom: 0;left: 50%;z-index: 0;}#sk-container-id-130 div.sk-serial {display: flex;flex-direction: column;align-items: center;background-color: white;padding-right: 0.2em;padding-left: 0.2em;position: relative;}#sk-container-id-130 div.sk-item {position: relative;z-index: 1;}#sk-container-id-130 div.sk-parallel {display: flex;align-items: stretch;justify-content: center;background-color: white;position: relative;}#sk-container-id-130 div.sk-item::before, #sk-container-id-130 div.sk-parallel-item::before {content: \"\";position: absolute;border-left: 1px solid gray;box-sizing: border-box;top: 0;bottom: 0;left: 50%;z-index: -1;}#sk-container-id-130 div.sk-parallel-item {display: flex;flex-direction: column;z-index: 1;position: relative;background-color: white;}#sk-container-id-130 div.sk-parallel-item:first-child::after {align-self: flex-end;width: 50%;}#sk-container-id-130 div.sk-parallel-item:last-child::after {align-self: flex-start;width: 50%;}#sk-container-id-130 div.sk-parallel-item:only-child::after {width: 0;}#sk-container-id-130 div.sk-dashed-wrapped {border: 1px dashed gray;margin: 0 0.4em 0.5em 0.4em;box-sizing: border-box;padding-bottom: 0.4em;background-color: white;}#sk-container-id-130 div.sk-label label {font-family: monospace;font-weight: bold;display: inline-block;line-height: 1.2em;}#sk-container-id-130 div.sk-label-container {text-align: center;}#sk-container-id-130 div.sk-container {/* jupyter's `normalize.less` sets `[hidden] { display: none; }` but bootstrap.min.css set `[hidden] { display: none !important; }` so we also need the `!important` here to be able to override the default hidden behavior on the sphinx rendered scikit-learn.org. See: https://github.com/scikit-learn/scikit-learn/issues/21755 */display: inline-block !important;position: relative;}#sk-container-id-130 div.sk-text-repr-fallback {display: none;}</style><div id=\"sk-container-id-130\" class=\"sk-top-container\"><div class=\"sk-text-repr-fallback\"><pre>RandomizedSearchCV(cv=StratifiedKFold(n_splits=5, random_state=None, shuffle=False),\n",
       "                   estimator=Pipeline(steps=[(&#x27;columntransformer&#x27;,\n",
       "                                              ColumnTransformer(remainder=&#x27;passthrough&#x27;,\n",
       "                                                                transformers=[(&#x27;ohe&#x27;,\n",
       "                                                                               OneHotEncoder(drop=&#x27;first&#x27;,\n",
       "                                                                                             sparse=False),\n",
       "                                                                               [&#x27;gender&#x27;,\n",
       "                                                                                &#x27;hypertension&#x27;,\n",
       "                                                                                &#x27;heart_disease&#x27;,\n",
       "                                                                                &#x27;ever_married&#x27;,\n",
       "                                                                                &#x27;smoking_status&#x27;,\n",
       "                                                                                &#x27;Residence_type&#x27;,\n",
       "                                                                                &#x27;work_type&#x27;])])),\n",
       "                                             (&#x27;smotetom...\n",
       "                                         &#x27;randomforestclassifier__min_samples_leaf&#x27;: [1,\n",
       "                                                                                      2,\n",
       "                                                                                      3,\n",
       "                                                                                      4,\n",
       "                                                                                      5,\n",
       "                                                                                      6,\n",
       "                                                                                      7,\n",
       "                                                                                      8,\n",
       "                                                                                      9,\n",
       "                                                                                      10],\n",
       "                                         &#x27;randomforestclassifier__min_samples_split&#x27;: [2,\n",
       "                                                                                       5,\n",
       "                                                                                       10],\n",
       "                                         &#x27;randomforestclassifier__min_weight_fraction_leaf&#x27;: [0.1,\n",
       "                                                                                              0.2,\n",
       "                                                                                              0.3,\n",
       "                                                                                              0.4,\n",
       "                                                                                              0.5,\n",
       "                                                                                              0.6,\n",
       "                                                                                              0.7,\n",
       "                                                                                              0.8,\n",
       "                                                                                              0.9],\n",
       "                                         &#x27;randomforestclassifier__n_estimators&#x27;: [30,\n",
       "                                                                                  50,\n",
       "                                                                                  70,\n",
       "                                                                                  90,\n",
       "                                                                                  110,\n",
       "                                                                                  130,\n",
       "                                                                                  150,\n",
       "                                                                                  170,\n",
       "                                                                                  190,\n",
       "                                                                                  210,\n",
       "                                                                                  230,\n",
       "                                                                                  250,\n",
       "                                                                                  270,\n",
       "                                                                                  290,\n",
       "                                                                                  310,\n",
       "                                                                                  330,\n",
       "                                                                                  350,\n",
       "                                                                                  370,\n",
       "                                                                                  390,\n",
       "                                                                                  410,\n",
       "                                                                                  430,\n",
       "                                                                                  450,\n",
       "                                                                                  470,\n",
       "                                                                                  490]}],\n",
       "                   return_train_score=True, scoring=&#x27;recall&#x27;)</pre><b>In a Jupyter environment, please rerun this cell to show the HTML representation or trust the notebook. <br />On GitHub, the HTML representation is unable to render, please try loading this page with nbviewer.org.</b></div><div class=\"sk-container\" hidden><div class=\"sk-item sk-dashed-wrapped\"><div class=\"sk-label-container\"><div class=\"sk-label sk-toggleable\"><input class=\"sk-toggleable__control sk-hidden--visually\" id=\"sk-estimator-id-1451\" type=\"checkbox\" ><label for=\"sk-estimator-id-1451\" class=\"sk-toggleable__label sk-toggleable__label-arrow\">RandomizedSearchCV</label><div class=\"sk-toggleable__content\"><pre>RandomizedSearchCV(cv=StratifiedKFold(n_splits=5, random_state=None, shuffle=False),\n",
       "                   estimator=Pipeline(steps=[(&#x27;columntransformer&#x27;,\n",
       "                                              ColumnTransformer(remainder=&#x27;passthrough&#x27;,\n",
       "                                                                transformers=[(&#x27;ohe&#x27;,\n",
       "                                                                               OneHotEncoder(drop=&#x27;first&#x27;,\n",
       "                                                                                             sparse=False),\n",
       "                                                                               [&#x27;gender&#x27;,\n",
       "                                                                                &#x27;hypertension&#x27;,\n",
       "                                                                                &#x27;heart_disease&#x27;,\n",
       "                                                                                &#x27;ever_married&#x27;,\n",
       "                                                                                &#x27;smoking_status&#x27;,\n",
       "                                                                                &#x27;Residence_type&#x27;,\n",
       "                                                                                &#x27;work_type&#x27;])])),\n",
       "                                             (&#x27;smotetom...\n",
       "                                         &#x27;randomforestclassifier__min_samples_leaf&#x27;: [1,\n",
       "                                                                                      2,\n",
       "                                                                                      3,\n",
       "                                                                                      4,\n",
       "                                                                                      5,\n",
       "                                                                                      6,\n",
       "                                                                                      7,\n",
       "                                                                                      8,\n",
       "                                                                                      9,\n",
       "                                                                                      10],\n",
       "                                         &#x27;randomforestclassifier__min_samples_split&#x27;: [2,\n",
       "                                                                                       5,\n",
       "                                                                                       10],\n",
       "                                         &#x27;randomforestclassifier__min_weight_fraction_leaf&#x27;: [0.1,\n",
       "                                                                                              0.2,\n",
       "                                                                                              0.3,\n",
       "                                                                                              0.4,\n",
       "                                                                                              0.5,\n",
       "                                                                                              0.6,\n",
       "                                                                                              0.7,\n",
       "                                                                                              0.8,\n",
       "                                                                                              0.9],\n",
       "                                         &#x27;randomforestclassifier__n_estimators&#x27;: [30,\n",
       "                                                                                  50,\n",
       "                                                                                  70,\n",
       "                                                                                  90,\n",
       "                                                                                  110,\n",
       "                                                                                  130,\n",
       "                                                                                  150,\n",
       "                                                                                  170,\n",
       "                                                                                  190,\n",
       "                                                                                  210,\n",
       "                                                                                  230,\n",
       "                                                                                  250,\n",
       "                                                                                  270,\n",
       "                                                                                  290,\n",
       "                                                                                  310,\n",
       "                                                                                  330,\n",
       "                                                                                  350,\n",
       "                                                                                  370,\n",
       "                                                                                  390,\n",
       "                                                                                  410,\n",
       "                                                                                  430,\n",
       "                                                                                  450,\n",
       "                                                                                  470,\n",
       "                                                                                  490]}],\n",
       "                   return_train_score=True, scoring=&#x27;recall&#x27;)</pre></div></div></div><div class=\"sk-parallel\"><div class=\"sk-parallel-item\"><div class=\"sk-item\"><div class=\"sk-label-container\"><div class=\"sk-label sk-toggleable\"><input class=\"sk-toggleable__control sk-hidden--visually\" id=\"sk-estimator-id-1452\" type=\"checkbox\" ><label for=\"sk-estimator-id-1452\" class=\"sk-toggleable__label sk-toggleable__label-arrow\">estimator: Pipeline</label><div class=\"sk-toggleable__content\"><pre>Pipeline(steps=[(&#x27;columntransformer&#x27;,\n",
       "                 ColumnTransformer(remainder=&#x27;passthrough&#x27;,\n",
       "                                   transformers=[(&#x27;ohe&#x27;,\n",
       "                                                  OneHotEncoder(drop=&#x27;first&#x27;,\n",
       "                                                                sparse=False),\n",
       "                                                  [&#x27;gender&#x27;, &#x27;hypertension&#x27;,\n",
       "                                                   &#x27;heart_disease&#x27;,\n",
       "                                                   &#x27;ever_married&#x27;,\n",
       "                                                   &#x27;smoking_status&#x27;,\n",
       "                                                   &#x27;Residence_type&#x27;,\n",
       "                                                   &#x27;work_type&#x27;])])),\n",
       "                (&#x27;smotetomek&#x27;,\n",
       "                 SMOTETomek(tomek=TomekLinks(sampling_strategy=&#x27;majority&#x27;))),\n",
       "                (&#x27;selectfrommodel&#x27;,\n",
       "                 SelectFromModel(estimator=RandomForestClassifier())),\n",
       "                (&#x27;minmaxscaler&#x27;, MinMaxScaler()),\n",
       "                (&#x27;randomforestclassifier&#x27;, RandomForestClassifier())])</pre></div></div></div><div class=\"sk-serial\"><div class=\"sk-item\"><div class=\"sk-serial\"><div class=\"sk-item sk-dashed-wrapped\"><div class=\"sk-label-container\"><div class=\"sk-label sk-toggleable\"><input class=\"sk-toggleable__control sk-hidden--visually\" id=\"sk-estimator-id-1453\" type=\"checkbox\" ><label for=\"sk-estimator-id-1453\" class=\"sk-toggleable__label sk-toggleable__label-arrow\">columntransformer: ColumnTransformer</label><div class=\"sk-toggleable__content\"><pre>ColumnTransformer(remainder=&#x27;passthrough&#x27;,\n",
       "                  transformers=[(&#x27;ohe&#x27;,\n",
       "                                 OneHotEncoder(drop=&#x27;first&#x27;, sparse=False),\n",
       "                                 [&#x27;gender&#x27;, &#x27;hypertension&#x27;, &#x27;heart_disease&#x27;,\n",
       "                                  &#x27;ever_married&#x27;, &#x27;smoking_status&#x27;,\n",
       "                                  &#x27;Residence_type&#x27;, &#x27;work_type&#x27;])])</pre></div></div></div><div class=\"sk-parallel\"><div class=\"sk-parallel-item\"><div class=\"sk-item\"><div class=\"sk-label-container\"><div class=\"sk-label sk-toggleable\"><input class=\"sk-toggleable__control sk-hidden--visually\" id=\"sk-estimator-id-1454\" type=\"checkbox\" ><label for=\"sk-estimator-id-1454\" class=\"sk-toggleable__label sk-toggleable__label-arrow\">ohe</label><div class=\"sk-toggleable__content\"><pre>[&#x27;gender&#x27;, &#x27;hypertension&#x27;, &#x27;heart_disease&#x27;, &#x27;ever_married&#x27;, &#x27;smoking_status&#x27;, &#x27;Residence_type&#x27;, &#x27;work_type&#x27;]</pre></div></div></div><div class=\"sk-serial\"><div class=\"sk-item\"><div class=\"sk-estimator sk-toggleable\"><input class=\"sk-toggleable__control sk-hidden--visually\" id=\"sk-estimator-id-1455\" type=\"checkbox\" ><label for=\"sk-estimator-id-1455\" class=\"sk-toggleable__label sk-toggleable__label-arrow\">OneHotEncoder</label><div class=\"sk-toggleable__content\"><pre>OneHotEncoder(drop=&#x27;first&#x27;, sparse=False)</pre></div></div></div></div></div></div><div class=\"sk-parallel-item\"><div class=\"sk-item\"><div class=\"sk-label-container\"><div class=\"sk-label sk-toggleable\"><input class=\"sk-toggleable__control sk-hidden--visually\" id=\"sk-estimator-id-1456\" type=\"checkbox\" ><label for=\"sk-estimator-id-1456\" class=\"sk-toggleable__label sk-toggleable__label-arrow\">remainder</label><div class=\"sk-toggleable__content\"><pre></pre></div></div></div><div class=\"sk-serial\"><div class=\"sk-item\"><div class=\"sk-estimator sk-toggleable\"><input class=\"sk-toggleable__control sk-hidden--visually\" id=\"sk-estimator-id-1457\" type=\"checkbox\" ><label for=\"sk-estimator-id-1457\" class=\"sk-toggleable__label sk-toggleable__label-arrow\">passthrough</label><div class=\"sk-toggleable__content\"><pre>passthrough</pre></div></div></div></div></div></div></div></div><div class=\"sk-item sk-dashed-wrapped\"><div class=\"sk-label-container\"><div class=\"sk-label sk-toggleable\"><input class=\"sk-toggleable__control sk-hidden--visually\" id=\"sk-estimator-id-1458\" type=\"checkbox\" ><label for=\"sk-estimator-id-1458\" class=\"sk-toggleable__label sk-toggleable__label-arrow\">smotetomek: SMOTETomek</label><div class=\"sk-toggleable__content\"><pre>SMOTETomek(tomek=TomekLinks(sampling_strategy=&#x27;majority&#x27;))</pre></div></div></div><div class=\"sk-parallel\"><div class=\"sk-parallel-item\"><div class=\"sk-item\"><div class=\"sk-label-container\"><div class=\"sk-label sk-toggleable\"><input class=\"sk-toggleable__control sk-hidden--visually\" id=\"sk-estimator-id-1459\" type=\"checkbox\" ><label for=\"sk-estimator-id-1459\" class=\"sk-toggleable__label sk-toggleable__label-arrow\">tomek: TomekLinks</label><div class=\"sk-toggleable__content\"><pre>TomekLinks(sampling_strategy=&#x27;majority&#x27;)</pre></div></div></div><div class=\"sk-serial\"><div class=\"sk-item\"><div class=\"sk-estimator sk-toggleable\"><input class=\"sk-toggleable__control sk-hidden--visually\" id=\"sk-estimator-id-1460\" type=\"checkbox\" ><label for=\"sk-estimator-id-1460\" class=\"sk-toggleable__label sk-toggleable__label-arrow\">TomekLinks</label><div class=\"sk-toggleable__content\"><pre>TomekLinks(sampling_strategy=&#x27;majority&#x27;)</pre></div></div></div></div></div></div></div></div><div class=\"sk-item sk-dashed-wrapped\"><div class=\"sk-label-container\"><div class=\"sk-label sk-toggleable\"><input class=\"sk-toggleable__control sk-hidden--visually\" id=\"sk-estimator-id-1461\" type=\"checkbox\" ><label for=\"sk-estimator-id-1461\" class=\"sk-toggleable__label sk-toggleable__label-arrow\">selectfrommodel: SelectFromModel</label><div class=\"sk-toggleable__content\"><pre>SelectFromModel(estimator=RandomForestClassifier())</pre></div></div></div><div class=\"sk-parallel\"><div class=\"sk-parallel-item\"><div class=\"sk-item\"><div class=\"sk-label-container\"><div class=\"sk-label sk-toggleable\"><input class=\"sk-toggleable__control sk-hidden--visually\" id=\"sk-estimator-id-1462\" type=\"checkbox\" ><label for=\"sk-estimator-id-1462\" class=\"sk-toggleable__label sk-toggleable__label-arrow\">estimator: RandomForestClassifier</label><div class=\"sk-toggleable__content\"><pre>RandomForestClassifier()</pre></div></div></div><div class=\"sk-serial\"><div class=\"sk-item\"><div class=\"sk-estimator sk-toggleable\"><input class=\"sk-toggleable__control sk-hidden--visually\" id=\"sk-estimator-id-1463\" type=\"checkbox\" ><label for=\"sk-estimator-id-1463\" class=\"sk-toggleable__label sk-toggleable__label-arrow\">RandomForestClassifier</label><div class=\"sk-toggleable__content\"><pre>RandomForestClassifier()</pre></div></div></div></div></div></div></div></div><div class=\"sk-item\"><div class=\"sk-estimator sk-toggleable\"><input class=\"sk-toggleable__control sk-hidden--visually\" id=\"sk-estimator-id-1464\" type=\"checkbox\" ><label for=\"sk-estimator-id-1464\" class=\"sk-toggleable__label sk-toggleable__label-arrow\">MinMaxScaler</label><div class=\"sk-toggleable__content\"><pre>MinMaxScaler()</pre></div></div></div><div class=\"sk-item\"><div class=\"sk-estimator sk-toggleable\"><input class=\"sk-toggleable__control sk-hidden--visually\" id=\"sk-estimator-id-1465\" type=\"checkbox\" ><label for=\"sk-estimator-id-1465\" class=\"sk-toggleable__label sk-toggleable__label-arrow\">RandomForestClassifier</label><div class=\"sk-toggleable__content\"><pre>RandomForestClassifier()</pre></div></div></div></div></div></div></div></div></div></div></div></div>"
      ],
      "text/plain": [
       "RandomizedSearchCV(cv=StratifiedKFold(n_splits=5, random_state=None, shuffle=False),\n",
       "                   estimator=Pipeline(steps=[('columntransformer',\n",
       "                                              ColumnTransformer(remainder='passthrough',\n",
       "                                                                transformers=[('ohe',\n",
       "                                                                               OneHotEncoder(drop='first',\n",
       "                                                                                             sparse=False),\n",
       "                                                                               ['gender',\n",
       "                                                                                'hypertension',\n",
       "                                                                                'heart_disease',\n",
       "                                                                                'ever_married',\n",
       "                                                                                'smoking_status',\n",
       "                                                                                'Residence_type',\n",
       "                                                                                'work_type'])])),\n",
       "                                             ('smotetom...\n",
       "                                         'randomforestclassifier__min_samples_leaf': [1,\n",
       "                                                                                      2,\n",
       "                                                                                      3,\n",
       "                                                                                      4,\n",
       "                                                                                      5,\n",
       "                                                                                      6,\n",
       "                                                                                      7,\n",
       "                                                                                      8,\n",
       "                                                                                      9,\n",
       "                                                                                      10],\n",
       "                                         'randomforestclassifier__min_samples_split': [2,\n",
       "                                                                                       5,\n",
       "                                                                                       10],\n",
       "                                         'randomforestclassifier__min_weight_fraction_leaf': [0.1,\n",
       "                                                                                              0.2,\n",
       "                                                                                              0.3,\n",
       "                                                                                              0.4,\n",
       "                                                                                              0.5,\n",
       "                                                                                              0.6,\n",
       "                                                                                              0.7,\n",
       "                                                                                              0.8,\n",
       "                                                                                              0.9],\n",
       "                                         'randomforestclassifier__n_estimators': [30,\n",
       "                                                                                  50,\n",
       "                                                                                  70,\n",
       "                                                                                  90,\n",
       "                                                                                  110,\n",
       "                                                                                  130,\n",
       "                                                                                  150,\n",
       "                                                                                  170,\n",
       "                                                                                  190,\n",
       "                                                                                  210,\n",
       "                                                                                  230,\n",
       "                                                                                  250,\n",
       "                                                                                  270,\n",
       "                                                                                  290,\n",
       "                                                                                  310,\n",
       "                                                                                  330,\n",
       "                                                                                  350,\n",
       "                                                                                  370,\n",
       "                                                                                  390,\n",
       "                                                                                  410,\n",
       "                                                                                  430,\n",
       "                                                                                  450,\n",
       "                                                                                  470,\n",
       "                                                                                  490]}],\n",
       "                   return_train_score=True, scoring='recall')"
      ]
     },
     "execution_count": 856,
     "metadata": {},
     "output_type": "execute_result"
    }
   ],
   "source": [
    "RF_RanGrid.fit(x2 , y2)"
   ]
  },
  {
   "cell_type": "code",
   "execution_count": 857,
   "id": "e6c885c1",
   "metadata": {},
   "outputs": [
    {
     "data": {
      "text/html": [
       "<style>#sk-container-id-131 {color: black;background-color: white;}#sk-container-id-131 pre{padding: 0;}#sk-container-id-131 div.sk-toggleable {background-color: white;}#sk-container-id-131 label.sk-toggleable__label {cursor: pointer;display: block;width: 100%;margin-bottom: 0;padding: 0.3em;box-sizing: border-box;text-align: center;}#sk-container-id-131 label.sk-toggleable__label-arrow:before {content: \"▸\";float: left;margin-right: 0.25em;color: #696969;}#sk-container-id-131 label.sk-toggleable__label-arrow:hover:before {color: black;}#sk-container-id-131 div.sk-estimator:hover label.sk-toggleable__label-arrow:before {color: black;}#sk-container-id-131 div.sk-toggleable__content {max-height: 0;max-width: 0;overflow: hidden;text-align: left;background-color: #f0f8ff;}#sk-container-id-131 div.sk-toggleable__content pre {margin: 0.2em;color: black;border-radius: 0.25em;background-color: #f0f8ff;}#sk-container-id-131 input.sk-toggleable__control:checked~div.sk-toggleable__content {max-height: 200px;max-width: 100%;overflow: auto;}#sk-container-id-131 input.sk-toggleable__control:checked~label.sk-toggleable__label-arrow:before {content: \"▾\";}#sk-container-id-131 div.sk-estimator input.sk-toggleable__control:checked~label.sk-toggleable__label {background-color: #d4ebff;}#sk-container-id-131 div.sk-label input.sk-toggleable__control:checked~label.sk-toggleable__label {background-color: #d4ebff;}#sk-container-id-131 input.sk-hidden--visually {border: 0;clip: rect(1px 1px 1px 1px);clip: rect(1px, 1px, 1px, 1px);height: 1px;margin: -1px;overflow: hidden;padding: 0;position: absolute;width: 1px;}#sk-container-id-131 div.sk-estimator {font-family: monospace;background-color: #f0f8ff;border: 1px dotted black;border-radius: 0.25em;box-sizing: border-box;margin-bottom: 0.5em;}#sk-container-id-131 div.sk-estimator:hover {background-color: #d4ebff;}#sk-container-id-131 div.sk-parallel-item::after {content: \"\";width: 100%;border-bottom: 1px solid gray;flex-grow: 1;}#sk-container-id-131 div.sk-label:hover label.sk-toggleable__label {background-color: #d4ebff;}#sk-container-id-131 div.sk-serial::before {content: \"\";position: absolute;border-left: 1px solid gray;box-sizing: border-box;top: 0;bottom: 0;left: 50%;z-index: 0;}#sk-container-id-131 div.sk-serial {display: flex;flex-direction: column;align-items: center;background-color: white;padding-right: 0.2em;padding-left: 0.2em;position: relative;}#sk-container-id-131 div.sk-item {position: relative;z-index: 1;}#sk-container-id-131 div.sk-parallel {display: flex;align-items: stretch;justify-content: center;background-color: white;position: relative;}#sk-container-id-131 div.sk-item::before, #sk-container-id-131 div.sk-parallel-item::before {content: \"\";position: absolute;border-left: 1px solid gray;box-sizing: border-box;top: 0;bottom: 0;left: 50%;z-index: -1;}#sk-container-id-131 div.sk-parallel-item {display: flex;flex-direction: column;z-index: 1;position: relative;background-color: white;}#sk-container-id-131 div.sk-parallel-item:first-child::after {align-self: flex-end;width: 50%;}#sk-container-id-131 div.sk-parallel-item:last-child::after {align-self: flex-start;width: 50%;}#sk-container-id-131 div.sk-parallel-item:only-child::after {width: 0;}#sk-container-id-131 div.sk-dashed-wrapped {border: 1px dashed gray;margin: 0 0.4em 0.5em 0.4em;box-sizing: border-box;padding-bottom: 0.4em;background-color: white;}#sk-container-id-131 div.sk-label label {font-family: monospace;font-weight: bold;display: inline-block;line-height: 1.2em;}#sk-container-id-131 div.sk-label-container {text-align: center;}#sk-container-id-131 div.sk-container {/* jupyter's `normalize.less` sets `[hidden] { display: none; }` but bootstrap.min.css set `[hidden] { display: none !important; }` so we also need the `!important` here to be able to override the default hidden behavior on the sphinx rendered scikit-learn.org. See: https://github.com/scikit-learn/scikit-learn/issues/21755 */display: inline-block !important;position: relative;}#sk-container-id-131 div.sk-text-repr-fallback {display: none;}</style><div id=\"sk-container-id-131\" class=\"sk-top-container\"><div class=\"sk-text-repr-fallback\"><pre>Pipeline(steps=[(&#x27;columntransformer&#x27;,\n",
       "                 ColumnTransformer(remainder=&#x27;passthrough&#x27;,\n",
       "                                   transformers=[(&#x27;ohe&#x27;,\n",
       "                                                  OneHotEncoder(drop=&#x27;first&#x27;,\n",
       "                                                                sparse=False),\n",
       "                                                  [&#x27;gender&#x27;, &#x27;hypertension&#x27;,\n",
       "                                                   &#x27;heart_disease&#x27;,\n",
       "                                                   &#x27;ever_married&#x27;,\n",
       "                                                   &#x27;smoking_status&#x27;,\n",
       "                                                   &#x27;Residence_type&#x27;,\n",
       "                                                   &#x27;work_type&#x27;])])),\n",
       "                (&#x27;smotetomek&#x27;,\n",
       "                 SMOTETomek(tomek=TomekLinks(sampling_strategy=&#x27;majority&#x27;))),\n",
       "                (&#x27;selectfrommodel&#x27;,\n",
       "                 SelectFromModel(estimator=RandomForestClassifier())),\n",
       "                (&#x27;minmaxscaler&#x27;, MinMaxScaler()),\n",
       "                (&#x27;randomforestclassifier&#x27;,\n",
       "                 RandomForestClassifier(criterion=&#x27;entropy&#x27;, max_depth=12,\n",
       "                                        max_features=&#x27;log2&#x27;, max_leaf_nodes=30,\n",
       "                                        min_samples_leaf=5, min_samples_split=5,\n",
       "                                        min_weight_fraction_leaf=0.5,\n",
       "                                        n_estimators=370))])</pre><b>In a Jupyter environment, please rerun this cell to show the HTML representation or trust the notebook. <br />On GitHub, the HTML representation is unable to render, please try loading this page with nbviewer.org.</b></div><div class=\"sk-container\" hidden><div class=\"sk-item sk-dashed-wrapped\"><div class=\"sk-label-container\"><div class=\"sk-label sk-toggleable\"><input class=\"sk-toggleable__control sk-hidden--visually\" id=\"sk-estimator-id-1466\" type=\"checkbox\" ><label for=\"sk-estimator-id-1466\" class=\"sk-toggleable__label sk-toggleable__label-arrow\">Pipeline</label><div class=\"sk-toggleable__content\"><pre>Pipeline(steps=[(&#x27;columntransformer&#x27;,\n",
       "                 ColumnTransformer(remainder=&#x27;passthrough&#x27;,\n",
       "                                   transformers=[(&#x27;ohe&#x27;,\n",
       "                                                  OneHotEncoder(drop=&#x27;first&#x27;,\n",
       "                                                                sparse=False),\n",
       "                                                  [&#x27;gender&#x27;, &#x27;hypertension&#x27;,\n",
       "                                                   &#x27;heart_disease&#x27;,\n",
       "                                                   &#x27;ever_married&#x27;,\n",
       "                                                   &#x27;smoking_status&#x27;,\n",
       "                                                   &#x27;Residence_type&#x27;,\n",
       "                                                   &#x27;work_type&#x27;])])),\n",
       "                (&#x27;smotetomek&#x27;,\n",
       "                 SMOTETomek(tomek=TomekLinks(sampling_strategy=&#x27;majority&#x27;))),\n",
       "                (&#x27;selectfrommodel&#x27;,\n",
       "                 SelectFromModel(estimator=RandomForestClassifier())),\n",
       "                (&#x27;minmaxscaler&#x27;, MinMaxScaler()),\n",
       "                (&#x27;randomforestclassifier&#x27;,\n",
       "                 RandomForestClassifier(criterion=&#x27;entropy&#x27;, max_depth=12,\n",
       "                                        max_features=&#x27;log2&#x27;, max_leaf_nodes=30,\n",
       "                                        min_samples_leaf=5, min_samples_split=5,\n",
       "                                        min_weight_fraction_leaf=0.5,\n",
       "                                        n_estimators=370))])</pre></div></div></div><div class=\"sk-serial\"><div class=\"sk-item sk-dashed-wrapped\"><div class=\"sk-label-container\"><div class=\"sk-label sk-toggleable\"><input class=\"sk-toggleable__control sk-hidden--visually\" id=\"sk-estimator-id-1467\" type=\"checkbox\" ><label for=\"sk-estimator-id-1467\" class=\"sk-toggleable__label sk-toggleable__label-arrow\">columntransformer: ColumnTransformer</label><div class=\"sk-toggleable__content\"><pre>ColumnTransformer(remainder=&#x27;passthrough&#x27;,\n",
       "                  transformers=[(&#x27;ohe&#x27;,\n",
       "                                 OneHotEncoder(drop=&#x27;first&#x27;, sparse=False),\n",
       "                                 [&#x27;gender&#x27;, &#x27;hypertension&#x27;, &#x27;heart_disease&#x27;,\n",
       "                                  &#x27;ever_married&#x27;, &#x27;smoking_status&#x27;,\n",
       "                                  &#x27;Residence_type&#x27;, &#x27;work_type&#x27;])])</pre></div></div></div><div class=\"sk-parallel\"><div class=\"sk-parallel-item\"><div class=\"sk-item\"><div class=\"sk-label-container\"><div class=\"sk-label sk-toggleable\"><input class=\"sk-toggleable__control sk-hidden--visually\" id=\"sk-estimator-id-1468\" type=\"checkbox\" ><label for=\"sk-estimator-id-1468\" class=\"sk-toggleable__label sk-toggleable__label-arrow\">ohe</label><div class=\"sk-toggleable__content\"><pre>[&#x27;gender&#x27;, &#x27;hypertension&#x27;, &#x27;heart_disease&#x27;, &#x27;ever_married&#x27;, &#x27;smoking_status&#x27;, &#x27;Residence_type&#x27;, &#x27;work_type&#x27;]</pre></div></div></div><div class=\"sk-serial\"><div class=\"sk-item\"><div class=\"sk-estimator sk-toggleable\"><input class=\"sk-toggleable__control sk-hidden--visually\" id=\"sk-estimator-id-1469\" type=\"checkbox\" ><label for=\"sk-estimator-id-1469\" class=\"sk-toggleable__label sk-toggleable__label-arrow\">OneHotEncoder</label><div class=\"sk-toggleable__content\"><pre>OneHotEncoder(drop=&#x27;first&#x27;, sparse=False)</pre></div></div></div></div></div></div><div class=\"sk-parallel-item\"><div class=\"sk-item\"><div class=\"sk-label-container\"><div class=\"sk-label sk-toggleable\"><input class=\"sk-toggleable__control sk-hidden--visually\" id=\"sk-estimator-id-1470\" type=\"checkbox\" ><label for=\"sk-estimator-id-1470\" class=\"sk-toggleable__label sk-toggleable__label-arrow\">remainder</label><div class=\"sk-toggleable__content\"><pre>[&#x27;age&#x27;, &#x27;bmi_cat&#x27;, &#x27;glucose_cat&#x27;]</pre></div></div></div><div class=\"sk-serial\"><div class=\"sk-item\"><div class=\"sk-estimator sk-toggleable\"><input class=\"sk-toggleable__control sk-hidden--visually\" id=\"sk-estimator-id-1471\" type=\"checkbox\" ><label for=\"sk-estimator-id-1471\" class=\"sk-toggleable__label sk-toggleable__label-arrow\">passthrough</label><div class=\"sk-toggleable__content\"><pre>passthrough</pre></div></div></div></div></div></div></div></div><div class=\"sk-item sk-dashed-wrapped\"><div class=\"sk-label-container\"><div class=\"sk-label sk-toggleable\"><input class=\"sk-toggleable__control sk-hidden--visually\" id=\"sk-estimator-id-1472\" type=\"checkbox\" ><label for=\"sk-estimator-id-1472\" class=\"sk-toggleable__label sk-toggleable__label-arrow\">smotetomek: SMOTETomek</label><div class=\"sk-toggleable__content\"><pre>SMOTETomek(tomek=TomekLinks(sampling_strategy=&#x27;majority&#x27;))</pre></div></div></div><div class=\"sk-parallel\"><div class=\"sk-parallel-item\"><div class=\"sk-item\"><div class=\"sk-label-container\"><div class=\"sk-label sk-toggleable\"><input class=\"sk-toggleable__control sk-hidden--visually\" id=\"sk-estimator-id-1473\" type=\"checkbox\" ><label for=\"sk-estimator-id-1473\" class=\"sk-toggleable__label sk-toggleable__label-arrow\">tomek: TomekLinks</label><div class=\"sk-toggleable__content\"><pre>TomekLinks(sampling_strategy=&#x27;majority&#x27;)</pre></div></div></div><div class=\"sk-serial\"><div class=\"sk-item\"><div class=\"sk-estimator sk-toggleable\"><input class=\"sk-toggleable__control sk-hidden--visually\" id=\"sk-estimator-id-1474\" type=\"checkbox\" ><label for=\"sk-estimator-id-1474\" class=\"sk-toggleable__label sk-toggleable__label-arrow\">TomekLinks</label><div class=\"sk-toggleable__content\"><pre>TomekLinks(sampling_strategy=&#x27;majority&#x27;)</pre></div></div></div></div></div></div></div></div><div class=\"sk-item sk-dashed-wrapped\"><div class=\"sk-label-container\"><div class=\"sk-label sk-toggleable\"><input class=\"sk-toggleable__control sk-hidden--visually\" id=\"sk-estimator-id-1475\" type=\"checkbox\" ><label for=\"sk-estimator-id-1475\" class=\"sk-toggleable__label sk-toggleable__label-arrow\">selectfrommodel: SelectFromModel</label><div class=\"sk-toggleable__content\"><pre>SelectFromModel(estimator=RandomForestClassifier())</pre></div></div></div><div class=\"sk-parallel\"><div class=\"sk-parallel-item\"><div class=\"sk-item\"><div class=\"sk-label-container\"><div class=\"sk-label sk-toggleable\"><input class=\"sk-toggleable__control sk-hidden--visually\" id=\"sk-estimator-id-1476\" type=\"checkbox\" ><label for=\"sk-estimator-id-1476\" class=\"sk-toggleable__label sk-toggleable__label-arrow\">estimator: RandomForestClassifier</label><div class=\"sk-toggleable__content\"><pre>RandomForestClassifier()</pre></div></div></div><div class=\"sk-serial\"><div class=\"sk-item\"><div class=\"sk-estimator sk-toggleable\"><input class=\"sk-toggleable__control sk-hidden--visually\" id=\"sk-estimator-id-1477\" type=\"checkbox\" ><label for=\"sk-estimator-id-1477\" class=\"sk-toggleable__label sk-toggleable__label-arrow\">RandomForestClassifier</label><div class=\"sk-toggleable__content\"><pre>RandomForestClassifier()</pre></div></div></div></div></div></div></div></div><div class=\"sk-item\"><div class=\"sk-estimator sk-toggleable\"><input class=\"sk-toggleable__control sk-hidden--visually\" id=\"sk-estimator-id-1478\" type=\"checkbox\" ><label for=\"sk-estimator-id-1478\" class=\"sk-toggleable__label sk-toggleable__label-arrow\">MinMaxScaler</label><div class=\"sk-toggleable__content\"><pre>MinMaxScaler()</pre></div></div></div><div class=\"sk-item\"><div class=\"sk-estimator sk-toggleable\"><input class=\"sk-toggleable__control sk-hidden--visually\" id=\"sk-estimator-id-1479\" type=\"checkbox\" ><label for=\"sk-estimator-id-1479\" class=\"sk-toggleable__label sk-toggleable__label-arrow\">RandomForestClassifier</label><div class=\"sk-toggleable__content\"><pre>RandomForestClassifier(criterion=&#x27;entropy&#x27;, max_depth=12, max_features=&#x27;log2&#x27;,\n",
       "                       max_leaf_nodes=30, min_samples_leaf=5,\n",
       "                       min_samples_split=5, min_weight_fraction_leaf=0.5,\n",
       "                       n_estimators=370)</pre></div></div></div></div></div></div></div>"
      ],
      "text/plain": [
       "Pipeline(steps=[('columntransformer',\n",
       "                 ColumnTransformer(remainder='passthrough',\n",
       "                                   transformers=[('ohe',\n",
       "                                                  OneHotEncoder(drop='first',\n",
       "                                                                sparse=False),\n",
       "                                                  ['gender', 'hypertension',\n",
       "                                                   'heart_disease',\n",
       "                                                   'ever_married',\n",
       "                                                   'smoking_status',\n",
       "                                                   'Residence_type',\n",
       "                                                   'work_type'])])),\n",
       "                ('smotetomek',\n",
       "                 SMOTETomek(tomek=TomekLinks(sampling_strategy='majority'))),\n",
       "                ('selectfrommodel',\n",
       "                 SelectFromModel(estimator=RandomForestClassifier())),\n",
       "                ('minmaxscaler', MinMaxScaler()),\n",
       "                ('randomforestclassifier',\n",
       "                 RandomForestClassifier(criterion='entropy', max_depth=12,\n",
       "                                        max_features='log2', max_leaf_nodes=30,\n",
       "                                        min_samples_leaf=5, min_samples_split=5,\n",
       "                                        min_weight_fraction_leaf=0.5,\n",
       "                                        n_estimators=370))])"
      ]
     },
     "execution_count": 857,
     "metadata": {},
     "output_type": "execute_result"
    }
   ],
   "source": [
    "RF_RanGrid.best_estimator_"
   ]
  },
  {
   "cell_type": "code",
   "execution_count": 858,
   "id": "881ef301",
   "metadata": {},
   "outputs": [
    {
     "data": {
      "text/plain": [
       "0.9"
      ]
     },
     "execution_count": 858,
     "metadata": {},
     "output_type": "execute_result"
    }
   ],
   "source": [
    "RF_RanGrid.best_score_"
   ]
  },
  {
   "cell_type": "code",
   "execution_count": 863,
   "id": "41ab0a8d",
   "metadata": {},
   "outputs": [
    {
     "data": {
      "text/plain": [
       "{'randomforestclassifier__n_estimators': 370,\n",
       " 'randomforestclassifier__min_weight_fraction_leaf': 0.5,\n",
       " 'randomforestclassifier__min_samples_split': 5,\n",
       " 'randomforestclassifier__min_samples_leaf': 5,\n",
       " 'randomforestclassifier__max_leaf_nodes': 30,\n",
       " 'randomforestclassifier__max_features': 'log2',\n",
       " 'randomforestclassifier__max_depth': 12,\n",
       " 'randomforestclassifier__criterion': 'entropy',\n",
       " 'randomforestclassifier__bootstrap': True}"
      ]
     },
     "execution_count": 863,
     "metadata": {},
     "output_type": "execute_result"
    }
   ],
   "source": [
    "RF_RanGrid.best_params_"
   ]
  },
  {
   "cell_type": "code",
   "execution_count": 859,
   "id": "f9880a95",
   "metadata": {},
   "outputs": [
    {
     "data": {
      "text/plain": [
       "array([       nan, 0.90452261,        nan, 0.83330653, 0.82228141,\n",
       "       0.83132161, 0.83132161, 0.73020101, 0.81022613,        nan])"
      ]
     },
     "execution_count": 859,
     "metadata": {},
     "output_type": "execute_result"
    }
   ],
   "source": [
    "RF_RanGrid.cv_results_['mean_train_score']"
   ]
  },
  {
   "cell_type": "code",
   "execution_count": 860,
   "id": "7c92b98f",
   "metadata": {},
   "outputs": [
    {
     "data": {
      "text/plain": [
       "0.7403131115459882"
      ]
     },
     "execution_count": 860,
     "metadata": {},
     "output_type": "execute_result"
    }
   ],
   "source": [
    "accuracy_score(RF_RanGrid.best_estimator_.predict(x2) , y2)"
   ]
  },
  {
   "cell_type": "code",
   "execution_count": 861,
   "id": "c1671314",
   "metadata": {},
   "outputs": [
    {
     "data": {
      "text/plain": [
       "<sklearn.metrics._plot.confusion_matrix.ConfusionMatrixDisplay at 0x29c3fddbfd0>"
      ]
     },
     "execution_count": 861,
     "metadata": {},
     "output_type": "execute_result"
    },
    {
     "data": {
      "image/png": "[encoded data removed]",
      "text/plain": [
       "<Figure size 720x288 with 2 Axes>"
      ]
     },
     "metadata": {},
     "output_type": "display_data"
    }
   ],
   "source": [
    "plot_confusion_matrix(RF_RanGrid.best_estimator_ , x2 , y2)"
   ]
  },
  {
   "cell_type": "code",
   "execution_count": 917,
   "id": "c2b4ec2f",
   "metadata": {},
   "outputs": [
    {
     "data": {
      "text/plain": [
       "['RFC.h5']"
      ]
     },
     "execution_count": 917,
     "metadata": {},
     "output_type": "execute_result"
    }
   ],
   "source": [
    "joblib.dump(RF_RanGrid.best_estimator_ , 'RFC.h5')"
   ]
  },
  {
   "cell_type": "markdown",
   "id": "472991f0",
   "metadata": {},
   "source": [
    "# `Let's Have Fun :) `"
   ]
  },
  {
   "cell_type": "code",
   "execution_count": 1089,
   "id": "b5b50553",
   "metadata": {},
   "outputs": [],
   "source": [
    "LZC = LazyClassifier(custom_metric=recall_score)"
   ]
  },
  {
   "cell_type": "code",
   "execution_count": 1090,
   "id": "4e48f866",
   "metadata": {},
   "outputs": [],
   "source": [
    "x_train , x_test , y_train , y_test = train_test_split(x2 , y2 , test_size=0.2 , random_state=7 , stratify=y)"
   ]
  },
  {
   "cell_type": "code",
   "execution_count": 1091,
   "id": "7f906326",
   "metadata": {
    "scrolled": true
   },
   "outputs": [
    {
     "name": "stderr",
     "output_type": "stream",
     "text": [
      "100%|██████████████████████████████████████████████████████████████████████████████████| 29/29 [00:06<00:00,  4.21it/s]\n"
     ]
    }
   ],
   "source": [
    "Models , prediction = LZC.fit(x_train , x_test , y_train , y_test)"
   ]
  },
  {
   "cell_type": "code",
   "execution_count": 1092,
   "id": "9a5a12d6",
   "metadata": {},
   "outputs": [
    {
     "data": {
      "text/html": [
       "<div>\n",
       "<style scoped>\n",
       "    .dataframe tbody tr th:only-of-type {\n",
       "        vertical-align: middle;\n",
       "    }\n",
       "\n",
       "    .dataframe tbody tr th {\n",
       "        vertical-align: top;\n",
       "    }\n",
       "\n",
       "    .dataframe thead th {\n",
       "        text-align: right;\n",
       "    }\n",
       "</style>\n",
       "<table border=\"1\" class=\"dataframe\">\n",
       "  <thead>\n",
       "    <tr style=\"text-align: right;\">\n",
       "      <th></th>\n",
       "      <th>Accuracy</th>\n",
       "      <th>Balanced Accuracy</th>\n",
       "      <th>ROC AUC</th>\n",
       "      <th>F1 Score</th>\n",
       "      <th>recall_score</th>\n",
       "      <th>Time Taken</th>\n",
       "    </tr>\n",
       "    <tr>\n",
       "      <th>Model</th>\n",
       "      <th></th>\n",
       "      <th></th>\n",
       "      <th></th>\n",
       "      <th></th>\n",
       "      <th></th>\n",
       "      <th></th>\n",
       "    </tr>\n",
       "  </thead>\n",
       "  <tbody>\n",
       "    <tr>\n",
       "      <th>NearestCentroid</th>\n",
       "      <td>0.67</td>\n",
       "      <td>0.77</td>\n",
       "      <td>0.77</td>\n",
       "      <td>0.76</td>\n",
       "      <td>0.88</td>\n",
       "      <td>0.04</td>\n",
       "    </tr>\n",
       "    <tr>\n",
       "      <th>GaussianNB</th>\n",
       "      <td>0.83</td>\n",
       "      <td>0.74</td>\n",
       "      <td>0.74</td>\n",
       "      <td>0.87</td>\n",
       "      <td>0.64</td>\n",
       "      <td>0.05</td>\n",
       "    </tr>\n",
       "    <tr>\n",
       "      <th>BernoulliNB</th>\n",
       "      <td>0.87</td>\n",
       "      <td>0.65</td>\n",
       "      <td>0.65</td>\n",
       "      <td>0.90</td>\n",
       "      <td>0.40</td>\n",
       "      <td>0.05</td>\n",
       "    </tr>\n",
       "    <tr>\n",
       "      <th>DecisionTreeClassifier</th>\n",
       "      <td>0.92</td>\n",
       "      <td>0.61</td>\n",
       "      <td>0.61</td>\n",
       "      <td>0.92</td>\n",
       "      <td>0.26</td>\n",
       "      <td>0.06</td>\n",
       "    </tr>\n",
       "    <tr>\n",
       "      <th>LabelSpreading</th>\n",
       "      <td>0.93</td>\n",
       "      <td>0.58</td>\n",
       "      <td>0.58</td>\n",
       "      <td>0.93</td>\n",
       "      <td>0.18</td>\n",
       "      <td>1.24</td>\n",
       "    </tr>\n",
       "    <tr>\n",
       "      <th>LabelPropagation</th>\n",
       "      <td>0.93</td>\n",
       "      <td>0.57</td>\n",
       "      <td>0.57</td>\n",
       "      <td>0.93</td>\n",
       "      <td>0.18</td>\n",
       "      <td>0.69</td>\n",
       "    </tr>\n",
       "    <tr>\n",
       "      <th>ExtraTreeClassifier</th>\n",
       "      <td>0.93</td>\n",
       "      <td>0.55</td>\n",
       "      <td>0.55</td>\n",
       "      <td>0.92</td>\n",
       "      <td>0.14</td>\n",
       "      <td>0.04</td>\n",
       "    </tr>\n",
       "    <tr>\n",
       "      <th>BaggingClassifier</th>\n",
       "      <td>0.94</td>\n",
       "      <td>0.54</td>\n",
       "      <td>0.54</td>\n",
       "      <td>0.93</td>\n",
       "      <td>0.10</td>\n",
       "      <td>0.13</td>\n",
       "    </tr>\n",
       "    <tr>\n",
       "      <th>ExtraTreesClassifier</th>\n",
       "      <td>0.93</td>\n",
       "      <td>0.54</td>\n",
       "      <td>0.54</td>\n",
       "      <td>0.92</td>\n",
       "      <td>0.10</td>\n",
       "      <td>0.44</td>\n",
       "    </tr>\n",
       "    <tr>\n",
       "      <th>Perceptron</th>\n",
       "      <td>0.93</td>\n",
       "      <td>0.54</td>\n",
       "      <td>0.54</td>\n",
       "      <td>0.92</td>\n",
       "      <td>0.10</td>\n",
       "      <td>0.09</td>\n",
       "    </tr>\n",
       "    <tr>\n",
       "      <th>LinearDiscriminantAnalysis</th>\n",
       "      <td>0.95</td>\n",
       "      <td>0.53</td>\n",
       "      <td>0.53</td>\n",
       "      <td>0.93</td>\n",
       "      <td>0.06</td>\n",
       "      <td>0.06</td>\n",
       "    </tr>\n",
       "    <tr>\n",
       "      <th>XGBClassifier</th>\n",
       "      <td>0.94</td>\n",
       "      <td>0.52</td>\n",
       "      <td>0.52</td>\n",
       "      <td>0.92</td>\n",
       "      <td>0.06</td>\n",
       "      <td>0.63</td>\n",
       "    </tr>\n",
       "    <tr>\n",
       "      <th>QuadraticDiscriminantAnalysis</th>\n",
       "      <td>0.90</td>\n",
       "      <td>0.52</td>\n",
       "      <td>0.52</td>\n",
       "      <td>0.91</td>\n",
       "      <td>0.10</td>\n",
       "      <td>0.12</td>\n",
       "    </tr>\n",
       "    <tr>\n",
       "      <th>RandomForestClassifier</th>\n",
       "      <td>0.94</td>\n",
       "      <td>0.51</td>\n",
       "      <td>0.51</td>\n",
       "      <td>0.93</td>\n",
       "      <td>0.04</td>\n",
       "      <td>0.59</td>\n",
       "    </tr>\n",
       "    <tr>\n",
       "      <th>KNeighborsClassifier</th>\n",
       "      <td>0.95</td>\n",
       "      <td>0.51</td>\n",
       "      <td>0.51</td>\n",
       "      <td>0.93</td>\n",
       "      <td>0.02</td>\n",
       "      <td>0.13</td>\n",
       "    </tr>\n",
       "    <tr>\n",
       "      <th>LGBMClassifier</th>\n",
       "      <td>0.95</td>\n",
       "      <td>0.51</td>\n",
       "      <td>0.51</td>\n",
       "      <td>0.93</td>\n",
       "      <td>0.02</td>\n",
       "      <td>0.27</td>\n",
       "    </tr>\n",
       "    <tr>\n",
       "      <th>SGDClassifier</th>\n",
       "      <td>0.95</td>\n",
       "      <td>0.50</td>\n",
       "      <td>0.50</td>\n",
       "      <td>0.93</td>\n",
       "      <td>0.00</td>\n",
       "      <td>0.06</td>\n",
       "    </tr>\n",
       "    <tr>\n",
       "      <th>RidgeClassifier</th>\n",
       "      <td>0.95</td>\n",
       "      <td>0.50</td>\n",
       "      <td>0.50</td>\n",
       "      <td>0.93</td>\n",
       "      <td>0.00</td>\n",
       "      <td>0.09</td>\n",
       "    </tr>\n",
       "    <tr>\n",
       "      <th>RidgeClassifierCV</th>\n",
       "      <td>0.95</td>\n",
       "      <td>0.50</td>\n",
       "      <td>0.50</td>\n",
       "      <td>0.93</td>\n",
       "      <td>0.00</td>\n",
       "      <td>0.07</td>\n",
       "    </tr>\n",
       "    <tr>\n",
       "      <th>SVC</th>\n",
       "      <td>0.95</td>\n",
       "      <td>0.50</td>\n",
       "      <td>0.50</td>\n",
       "      <td>0.93</td>\n",
       "      <td>0.00</td>\n",
       "      <td>0.55</td>\n",
       "    </tr>\n",
       "    <tr>\n",
       "      <th>AdaBoostClassifier</th>\n",
       "      <td>0.95</td>\n",
       "      <td>0.50</td>\n",
       "      <td>0.50</td>\n",
       "      <td>0.93</td>\n",
       "      <td>0.00</td>\n",
       "      <td>0.33</td>\n",
       "    </tr>\n",
       "    <tr>\n",
       "      <th>LogisticRegression</th>\n",
       "      <td>0.95</td>\n",
       "      <td>0.50</td>\n",
       "      <td>0.50</td>\n",
       "      <td>0.93</td>\n",
       "      <td>0.00</td>\n",
       "      <td>0.09</td>\n",
       "    </tr>\n",
       "    <tr>\n",
       "      <th>DummyClassifier</th>\n",
       "      <td>0.95</td>\n",
       "      <td>0.50</td>\n",
       "      <td>0.50</td>\n",
       "      <td>0.93</td>\n",
       "      <td>0.00</td>\n",
       "      <td>0.06</td>\n",
       "    </tr>\n",
       "    <tr>\n",
       "      <th>LinearSVC</th>\n",
       "      <td>0.95</td>\n",
       "      <td>0.50</td>\n",
       "      <td>0.50</td>\n",
       "      <td>0.93</td>\n",
       "      <td>0.00</td>\n",
       "      <td>0.20</td>\n",
       "    </tr>\n",
       "    <tr>\n",
       "      <th>CalibratedClassifierCV</th>\n",
       "      <td>0.95</td>\n",
       "      <td>0.50</td>\n",
       "      <td>0.50</td>\n",
       "      <td>0.93</td>\n",
       "      <td>0.00</td>\n",
       "      <td>0.54</td>\n",
       "    </tr>\n",
       "    <tr>\n",
       "      <th>PassiveAggressiveClassifier</th>\n",
       "      <td>0.95</td>\n",
       "      <td>0.50</td>\n",
       "      <td>0.50</td>\n",
       "      <td>0.93</td>\n",
       "      <td>0.00</td>\n",
       "      <td>0.08</td>\n",
       "    </tr>\n",
       "  </tbody>\n",
       "</table>\n",
       "</div>"
      ],
      "text/plain": [
       "                               Accuracy  Balanced Accuracy  ROC AUC  F1 Score  \\\n",
       "Model                                                                           \n",
       "NearestCentroid                    0.67               0.77     0.77      0.76   \n",
       "GaussianNB                         0.83               0.74     0.74      0.87   \n",
       "BernoulliNB                        0.87               0.65     0.65      0.90   \n",
       "DecisionTreeClassifier             0.92               0.61     0.61      0.92   \n",
       "LabelSpreading                     0.93               0.58     0.58      0.93   \n",
       "LabelPropagation                   0.93               0.57     0.57      0.93   \n",
       "ExtraTreeClassifier                0.93               0.55     0.55      0.92   \n",
       "BaggingClassifier                  0.94               0.54     0.54      0.93   \n",
       "ExtraTreesClassifier               0.93               0.54     0.54      0.92   \n",
       "Perceptron                         0.93               0.54     0.54      0.92   \n",
       "LinearDiscriminantAnalysis         0.95               0.53     0.53      0.93   \n",
       "XGBClassifier                      0.94               0.52     0.52      0.92   \n",
       "QuadraticDiscriminantAnalysis      0.90               0.52     0.52      0.91   \n",
       "RandomForestClassifier             0.94               0.51     0.51      0.93   \n",
       "KNeighborsClassifier               0.95               0.51     0.51      0.93   \n",
       "LGBMClassifier                     0.95               0.51     0.51      0.93   \n",
       "SGDClassifier                      0.95               0.50     0.50      0.93   \n",
       "RidgeClassifier                    0.95               0.50     0.50      0.93   \n",
       "RidgeClassifierCV                  0.95               0.50     0.50      0.93   \n",
       "SVC                                0.95               0.50     0.50      0.93   \n",
       "AdaBoostClassifier                 0.95               0.50     0.50      0.93   \n",
       "LogisticRegression                 0.95               0.50     0.50      0.93   \n",
       "DummyClassifier                    0.95               0.50     0.50      0.93   \n",
       "LinearSVC                          0.95               0.50     0.50      0.93   \n",
       "CalibratedClassifierCV             0.95               0.50     0.50      0.93   \n",
       "PassiveAggressiveClassifier        0.95               0.50     0.50      0.93   \n",
       "\n",
       "                               recall_score  Time Taken  \n",
       "Model                                                    \n",
       "NearestCentroid                        0.88        0.04  \n",
       "GaussianNB                             0.64        0.05  \n",
       "BernoulliNB                            0.40        0.05  \n",
       "DecisionTreeClassifier                 0.26        0.06  \n",
       "LabelSpreading                         0.18        1.24  \n",
       "LabelPropagation                       0.18        0.69  \n",
       "ExtraTreeClassifier                    0.14        0.04  \n",
       "BaggingClassifier                      0.10        0.13  \n",
       "ExtraTreesClassifier                   0.10        0.44  \n",
       "Perceptron                             0.10        0.09  \n",
       "LinearDiscriminantAnalysis             0.06        0.06  \n",
       "XGBClassifier                          0.06        0.63  \n",
       "QuadraticDiscriminantAnalysis          0.10        0.12  \n",
       "RandomForestClassifier                 0.04        0.59  \n",
       "KNeighborsClassifier                   0.02        0.13  \n",
       "LGBMClassifier                         0.02        0.27  \n",
       "SGDClassifier                          0.00        0.06  \n",
       "RidgeClassifier                        0.00        0.09  \n",
       "RidgeClassifierCV                      0.00        0.07  \n",
       "SVC                                    0.00        0.55  \n",
       "AdaBoostClassifier                     0.00        0.33  \n",
       "LogisticRegression                     0.00        0.09  \n",
       "DummyClassifier                        0.00        0.06  \n",
       "LinearSVC                              0.00        0.20  \n",
       "CalibratedClassifierCV                 0.00        0.54  \n",
       "PassiveAggressiveClassifier            0.00        0.08  "
      ]
     },
     "execution_count": 1092,
     "metadata": {},
     "output_type": "execute_result"
    }
   ],
   "source": [
    "Models"
   ]
  },
  {
   "cell_type": "code",
   "execution_count": 4,
   "id": "32552c33",
   "metadata": {},
   "outputs": [],
   "source": [
    "from sklearn.neighbors import NearestCentroid"
   ]
  },
  {
   "cell_type": "code",
   "execution_count": 1107,
   "id": "93381ca2",
   "metadata": {},
   "outputs": [],
   "source": [
    "NC = make_pipeline(trans, smt , StandardScaler(), NearestCentroid())"
   ]
  },
  {
   "cell_type": "code",
   "execution_count": 1108,
   "id": "9ef15719",
   "metadata": {},
   "outputs": [
    {
     "data": {
      "text/html": [
       "<style>#sk-container-id-163 {color: black;background-color: white;}#sk-container-id-163 pre{padding: 0;}#sk-container-id-163 div.sk-toggleable {background-color: white;}#sk-container-id-163 label.sk-toggleable__label {cursor: pointer;display: block;width: 100%;margin-bottom: 0;padding: 0.3em;box-sizing: border-box;text-align: center;}#sk-container-id-163 label.sk-toggleable__label-arrow:before {content: \"▸\";float: left;margin-right: 0.25em;color: #696969;}#sk-container-id-163 label.sk-toggleable__label-arrow:hover:before {color: black;}#sk-container-id-163 div.sk-estimator:hover label.sk-toggleable__label-arrow:before {color: black;}#sk-container-id-163 div.sk-toggleable__content {max-height: 0;max-width: 0;overflow: hidden;text-align: left;background-color: #f0f8ff;}#sk-container-id-163 div.sk-toggleable__content pre {margin: 0.2em;color: black;border-radius: 0.25em;background-color: #f0f8ff;}#sk-container-id-163 input.sk-toggleable__control:checked~div.sk-toggleable__content {max-height: 200px;max-width: 100%;overflow: auto;}#sk-container-id-163 input.sk-toggleable__control:checked~label.sk-toggleable__label-arrow:before {content: \"▾\";}#sk-container-id-163 div.sk-estimator input.sk-toggleable__control:checked~label.sk-toggleable__label {background-color: #d4ebff;}#sk-container-id-163 div.sk-label input.sk-toggleable__control:checked~label.sk-toggleable__label {background-color: #d4ebff;}#sk-container-id-163 input.sk-hidden--visually {border: 0;clip: rect(1px 1px 1px 1px);clip: rect(1px, 1px, 1px, 1px);height: 1px;margin: -1px;overflow: hidden;padding: 0;position: absolute;width: 1px;}#sk-container-id-163 div.sk-estimator {font-family: monospace;background-color: #f0f8ff;border: 1px dotted black;border-radius: 0.25em;box-sizing: border-box;margin-bottom: 0.5em;}#sk-container-id-163 div.sk-estimator:hover {background-color: #d4ebff;}#sk-container-id-163 div.sk-parallel-item::after {content: \"\";width: 100%;border-bottom: 1px solid gray;flex-grow: 1;}#sk-container-id-163 div.sk-label:hover label.sk-toggleable__label {background-color: #d4ebff;}#sk-container-id-163 div.sk-serial::before {content: \"\";position: absolute;border-left: 1px solid gray;box-sizing: border-box;top: 0;bottom: 0;left: 50%;z-index: 0;}#sk-container-id-163 div.sk-serial {display: flex;flex-direction: column;align-items: center;background-color: white;padding-right: 0.2em;padding-left: 0.2em;position: relative;}#sk-container-id-163 div.sk-item {position: relative;z-index: 1;}#sk-container-id-163 div.sk-parallel {display: flex;align-items: stretch;justify-content: center;background-color: white;position: relative;}#sk-container-id-163 div.sk-item::before, #sk-container-id-163 div.sk-parallel-item::before {content: \"\";position: absolute;border-left: 1px solid gray;box-sizing: border-box;top: 0;bottom: 0;left: 50%;z-index: -1;}#sk-container-id-163 div.sk-parallel-item {display: flex;flex-direction: column;z-index: 1;position: relative;background-color: white;}#sk-container-id-163 div.sk-parallel-item:first-child::after {align-self: flex-end;width: 50%;}#sk-container-id-163 div.sk-parallel-item:last-child::after {align-self: flex-start;width: 50%;}#sk-container-id-163 div.sk-parallel-item:only-child::after {width: 0;}#sk-container-id-163 div.sk-dashed-wrapped {border: 1px dashed gray;margin: 0 0.4em 0.5em 0.4em;box-sizing: border-box;padding-bottom: 0.4em;background-color: white;}#sk-container-id-163 div.sk-label label {font-family: monospace;font-weight: bold;display: inline-block;line-height: 1.2em;}#sk-container-id-163 div.sk-label-container {text-align: center;}#sk-container-id-163 div.sk-container {/* jupyter's `normalize.less` sets `[hidden] { display: none; }` but bootstrap.min.css set `[hidden] { display: none !important; }` so we also need the `!important` here to be able to override the default hidden behavior on the sphinx rendered scikit-learn.org. See: https://github.com/scikit-learn/scikit-learn/issues/21755 */display: inline-block !important;position: relative;}#sk-container-id-163 div.sk-text-repr-fallback {display: none;}</style><div id=\"sk-container-id-163\" class=\"sk-top-container\"><div class=\"sk-text-repr-fallback\"><pre>Pipeline(steps=[(&#x27;columntransformer&#x27;,\n",
       "                 ColumnTransformer(remainder=&#x27;passthrough&#x27;,\n",
       "                                   transformers=[(&#x27;ohe&#x27;,\n",
       "                                                  OneHotEncoder(drop=&#x27;first&#x27;,\n",
       "                                                                sparse=False),\n",
       "                                                  [&#x27;gender&#x27;, &#x27;hypertension&#x27;,\n",
       "                                                   &#x27;heart_disease&#x27;,\n",
       "                                                   &#x27;ever_married&#x27;,\n",
       "                                                   &#x27;smoking_status&#x27;,\n",
       "                                                   &#x27;Residence_type&#x27;,\n",
       "                                                   &#x27;work_type&#x27;])])),\n",
       "                (&#x27;smotetomek&#x27;,\n",
       "                 SMOTETomek(tomek=TomekLinks(sampling_strategy=&#x27;majority&#x27;))),\n",
       "                (&#x27;standardscaler&#x27;, StandardScaler()),\n",
       "                (&#x27;nearestcentroid&#x27;, NearestCentroid())])</pre><b>In a Jupyter environment, please rerun this cell to show the HTML representation or trust the notebook. <br />On GitHub, the HTML representation is unable to render, please try loading this page with nbviewer.org.</b></div><div class=\"sk-container\" hidden><div class=\"sk-item sk-dashed-wrapped\"><div class=\"sk-label-container\"><div class=\"sk-label sk-toggleable\"><input class=\"sk-toggleable__control sk-hidden--visually\" id=\"sk-estimator-id-1886\" type=\"checkbox\" ><label for=\"sk-estimator-id-1886\" class=\"sk-toggleable__label sk-toggleable__label-arrow\">Pipeline</label><div class=\"sk-toggleable__content\"><pre>Pipeline(steps=[(&#x27;columntransformer&#x27;,\n",
       "                 ColumnTransformer(remainder=&#x27;passthrough&#x27;,\n",
       "                                   transformers=[(&#x27;ohe&#x27;,\n",
       "                                                  OneHotEncoder(drop=&#x27;first&#x27;,\n",
       "                                                                sparse=False),\n",
       "                                                  [&#x27;gender&#x27;, &#x27;hypertension&#x27;,\n",
       "                                                   &#x27;heart_disease&#x27;,\n",
       "                                                   &#x27;ever_married&#x27;,\n",
       "                                                   &#x27;smoking_status&#x27;,\n",
       "                                                   &#x27;Residence_type&#x27;,\n",
       "                                                   &#x27;work_type&#x27;])])),\n",
       "                (&#x27;smotetomek&#x27;,\n",
       "                 SMOTETomek(tomek=TomekLinks(sampling_strategy=&#x27;majority&#x27;))),\n",
       "                (&#x27;standardscaler&#x27;, StandardScaler()),\n",
       "                (&#x27;nearestcentroid&#x27;, NearestCentroid())])</pre></div></div></div><div class=\"sk-serial\"><div class=\"sk-item sk-dashed-wrapped\"><div class=\"sk-label-container\"><div class=\"sk-label sk-toggleable\"><input class=\"sk-toggleable__control sk-hidden--visually\" id=\"sk-estimator-id-1887\" type=\"checkbox\" ><label for=\"sk-estimator-id-1887\" class=\"sk-toggleable__label sk-toggleable__label-arrow\">columntransformer: ColumnTransformer</label><div class=\"sk-toggleable__content\"><pre>ColumnTransformer(remainder=&#x27;passthrough&#x27;,\n",
       "                  transformers=[(&#x27;ohe&#x27;,\n",
       "                                 OneHotEncoder(drop=&#x27;first&#x27;, sparse=False),\n",
       "                                 [&#x27;gender&#x27;, &#x27;hypertension&#x27;, &#x27;heart_disease&#x27;,\n",
       "                                  &#x27;ever_married&#x27;, &#x27;smoking_status&#x27;,\n",
       "                                  &#x27;Residence_type&#x27;, &#x27;work_type&#x27;])])</pre></div></div></div><div class=\"sk-parallel\"><div class=\"sk-parallel-item\"><div class=\"sk-item\"><div class=\"sk-label-container\"><div class=\"sk-label sk-toggleable\"><input class=\"sk-toggleable__control sk-hidden--visually\" id=\"sk-estimator-id-1888\" type=\"checkbox\" ><label for=\"sk-estimator-id-1888\" class=\"sk-toggleable__label sk-toggleable__label-arrow\">ohe</label><div class=\"sk-toggleable__content\"><pre>[&#x27;gender&#x27;, &#x27;hypertension&#x27;, &#x27;heart_disease&#x27;, &#x27;ever_married&#x27;, &#x27;smoking_status&#x27;, &#x27;Residence_type&#x27;, &#x27;work_type&#x27;]</pre></div></div></div><div class=\"sk-serial\"><div class=\"sk-item\"><div class=\"sk-estimator sk-toggleable\"><input class=\"sk-toggleable__control sk-hidden--visually\" id=\"sk-estimator-id-1889\" type=\"checkbox\" ><label for=\"sk-estimator-id-1889\" class=\"sk-toggleable__label sk-toggleable__label-arrow\">OneHotEncoder</label><div class=\"sk-toggleable__content\"><pre>OneHotEncoder(drop=&#x27;first&#x27;, sparse=False)</pre></div></div></div></div></div></div><div class=\"sk-parallel-item\"><div class=\"sk-item\"><div class=\"sk-label-container\"><div class=\"sk-label sk-toggleable\"><input class=\"sk-toggleable__control sk-hidden--visually\" id=\"sk-estimator-id-1890\" type=\"checkbox\" ><label for=\"sk-estimator-id-1890\" class=\"sk-toggleable__label sk-toggleable__label-arrow\">remainder</label><div class=\"sk-toggleable__content\"><pre>[&#x27;age&#x27;, &#x27;bmi_cat&#x27;, &#x27;glucose_cat&#x27;]</pre></div></div></div><div class=\"sk-serial\"><div class=\"sk-item\"><div class=\"sk-estimator sk-toggleable\"><input class=\"sk-toggleable__control sk-hidden--visually\" id=\"sk-estimator-id-1891\" type=\"checkbox\" ><label for=\"sk-estimator-id-1891\" class=\"sk-toggleable__label sk-toggleable__label-arrow\">passthrough</label><div class=\"sk-toggleable__content\"><pre>passthrough</pre></div></div></div></div></div></div></div></div><div class=\"sk-item sk-dashed-wrapped\"><div class=\"sk-label-container\"><div class=\"sk-label sk-toggleable\"><input class=\"sk-toggleable__control sk-hidden--visually\" id=\"sk-estimator-id-1892\" type=\"checkbox\" ><label for=\"sk-estimator-id-1892\" class=\"sk-toggleable__label sk-toggleable__label-arrow\">smotetomek: SMOTETomek</label><div class=\"sk-toggleable__content\"><pre>SMOTETomek(tomek=TomekLinks(sampling_strategy=&#x27;majority&#x27;))</pre></div></div></div><div class=\"sk-parallel\"><div class=\"sk-parallel-item\"><div class=\"sk-item\"><div class=\"sk-label-container\"><div class=\"sk-label sk-toggleable\"><input class=\"sk-toggleable__control sk-hidden--visually\" id=\"sk-estimator-id-1893\" type=\"checkbox\" ><label for=\"sk-estimator-id-1893\" class=\"sk-toggleable__label sk-toggleable__label-arrow\">tomek: TomekLinks</label><div class=\"sk-toggleable__content\"><pre>TomekLinks(sampling_strategy=&#x27;majority&#x27;)</pre></div></div></div><div class=\"sk-serial\"><div class=\"sk-item\"><div class=\"sk-estimator sk-toggleable\"><input class=\"sk-toggleable__control sk-hidden--visually\" id=\"sk-estimator-id-1894\" type=\"checkbox\" ><label for=\"sk-estimator-id-1894\" class=\"sk-toggleable__label sk-toggleable__label-arrow\">TomekLinks</label><div class=\"sk-toggleable__content\"><pre>TomekLinks(sampling_strategy=&#x27;majority&#x27;)</pre></div></div></div></div></div></div></div></div><div class=\"sk-item\"><div class=\"sk-estimator sk-toggleable\"><input class=\"sk-toggleable__control sk-hidden--visually\" id=\"sk-estimator-id-1895\" type=\"checkbox\" ><label for=\"sk-estimator-id-1895\" class=\"sk-toggleable__label sk-toggleable__label-arrow\">StandardScaler</label><div class=\"sk-toggleable__content\"><pre>StandardScaler()</pre></div></div></div><div class=\"sk-item\"><div class=\"sk-estimator sk-toggleable\"><input class=\"sk-toggleable__control sk-hidden--visually\" id=\"sk-estimator-id-1896\" type=\"checkbox\" ><label for=\"sk-estimator-id-1896\" class=\"sk-toggleable__label sk-toggleable__label-arrow\">NearestCentroid</label><div class=\"sk-toggleable__content\"><pre>NearestCentroid()</pre></div></div></div></div></div></div></div>"
      ],
      "text/plain": [
       "Pipeline(steps=[('columntransformer',\n",
       "                 ColumnTransformer(remainder='passthrough',\n",
       "                                   transformers=[('ohe',\n",
       "                                                  OneHotEncoder(drop='first',\n",
       "                                                                sparse=False),\n",
       "                                                  ['gender', 'hypertension',\n",
       "                                                   'heart_disease',\n",
       "                                                   'ever_married',\n",
       "                                                   'smoking_status',\n",
       "                                                   'Residence_type',\n",
       "                                                   'work_type'])])),\n",
       "                ('smotetomek',\n",
       "                 SMOTETomek(tomek=TomekLinks(sampling_strategy='majority'))),\n",
       "                ('standardscaler', StandardScaler()),\n",
       "                ('nearestcentroid', NearestCentroid())])"
      ]
     },
     "execution_count": 1108,
     "metadata": {},
     "output_type": "execute_result"
    }
   ],
   "source": [
    "NC"
   ]
  },
  {
   "cell_type": "code",
   "execution_count": 1109,
   "id": "63b9a993",
   "metadata": {},
   "outputs": [],
   "source": [
    "scores = cross_validate(estimator=PL , X = x2 , y = y2 , cv = StratifiedKFold(n_splits=5) , \n",
    "                        scoring=scoring  , return_train_score=True )"
   ]
  },
  {
   "cell_type": "code",
   "execution_count": 1111,
   "id": "d678e442",
   "metadata": {},
   "outputs": [
    {
     "name": "stdout",
     "output_type": "stream",
     "text": [
      "Train Accuracy : 0.6597358121330725 , Test Accuracy : 0.6567514677103719\n",
      "Train Recall : 0.8513919597989948 , Test Recall : 0.8471020408163266\n",
      "Train Precision : 0.11080461113129259 , Test Precision : 0.10944821659837115\n",
      "Train F1_Score : 0.19607873194791703 , Test F1_Score : 0.19382675781983194\n"
     ]
    }
   ],
   "source": [
    "print(f'train accuracy : {scores[\"train_accuracy\"].mean()} , test accuracy : {scores[\"test_accuracy\"].mean()}'.title())\n",
    "print(f'train recall : {scores[\"train_recall\"].mean()} , test recall : {scores[\"test_recall\"].mean()}'.title())\n",
    "print(f'train precision : {scores[\"train_precision\"].mean()} , test precision : {scores[\"test_precision\"].mean()}'.title())\n",
    "print(f'train f1_score : {scores[\"train_f1\"].mean()} , test f1_score : {scores[\"test_f1\"].mean()}'.title())"
   ]
  },
  {
   "cell_type": "code",
   "execution_count": null,
   "id": "f0a2414c",
   "metadata": {},
   "outputs": [],
   "source": []
  }
 ],
 "metadata": {
  "kernelspec": {
   "display_name": "Python 3 (ipykernel)",
   "language": "python",
   "name": "python3"
  },
  "language_info": {
   "codemirror_mode": {
    "name": "ipython",
    "version": 3
   },
   "file_extension": ".py",
   "mimetype": "text/x-python",
   "name": "python",
   "nbconvert_exporter": "python",
   "pygments_lexer": "ipython3",
   "version": "3.10.4"
  }
 },
 "nbformat": 4,
 "nbformat_minor": 5
}
